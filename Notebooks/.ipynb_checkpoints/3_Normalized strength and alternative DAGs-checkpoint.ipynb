{
 "cells": [
  {
   "cell_type": "code",
   "execution_count": 1,
   "metadata": {},
   "outputs": [],
   "source": [
    "import pandas as pd\n",
    "import sqlite3 as sq\n",
    "import numpy as np\n",
    "import matplotlib.pyplot as plt\n",
    "import seaborn as sns\n",
    "import warnings, re\n",
    "import nltk\n",
    "from IPython.display import Image\n",
    "import datetime\n",
    "from collections import Counter\n",
    "warnings.filterwarnings('ignore')\n",
    "%matplotlib inline\n",
    "pd.set_option('display.max_columns', 500)\n",
    "pd.set_option('display.max_rows', 20)\n",
    "from operator import itemgetter\n",
    "import itertools\n",
    "from sklearn import preprocessing\n",
    "from sklearn.linear_model import LogisticRegression\n",
    "from sklearn import preprocessing\n",
    "import networkx as nx\n",
    "from sklearn import metrics\n",
    "from sklearn.metrics import precision_recall_fscore_support\n",
    "from sklearn.preprocessing import StandardScaler\n",
    "from sklearn.tree import DecisionTreeClassifier\n",
    "from sklearn.ensemble import RandomForestClassifier\n",
    "import os\n",
    "import math\n",
    "from scipy.stats import linregress\n",
    "import seaborn as sns\n",
    "from tqdm.notebook import tqdm"
   ]
  },
  {
   "cell_type": "code",
   "execution_count": 2,
   "metadata": {},
   "outputs": [],
   "source": [
    "import statsmodels.formula.api as smf\n",
    "import time\n",
    "from scipy import stats\n",
    "from scipy.stats import chi2_contingency"
   ]
  },
  {
   "cell_type": "code",
   "execution_count": 3,
   "metadata": {},
   "outputs": [],
   "source": [
    "parentDirectory = '/Users/kristinagligoric/backup/camipro-situational/camipro-situational'\n",
    "\n",
    "DATA_DIR = parentDirectory +'/v2/v2_Data/'\n",
    "FIGURES_DIR = parentDirectory +'/Figures/'\n",
    "\n",
    "PRECOMPUTED = True"
   ]
  },
  {
   "cell_type": "code",
   "execution_count": 4,
   "metadata": {},
   "outputs": [],
   "source": [
    "df_choices = pd.read_pickle(DATA_DIR+\"20_outcomes_12_restaurants_situations\")\n",
    "#df_choices = df_choices.loc[df_choices['shop']!='Epicure'].reset_index()"
   ]
  },
  {
   "cell_type": "code",
   "execution_count": 5,
   "metadata": {},
   "outputs": [],
   "source": [
    "def determine_meal(x):\n",
    "    if x < datetime.time(11):\n",
    "        return 'BREAKFAST'\n",
    "    elif x < datetime.time(14,30):\n",
    "        return 'LUNCH'\n",
    "    else:\n",
    "        return 'AFTERNOON SNACK'"
   ]
  },
  {
   "cell_type": "code",
   "execution_count": 6,
   "metadata": {},
   "outputs": [],
   "source": [
    "df_choices['MEAL'] = df_choices['timestamp'].dt.time.apply(determine_meal)"
   ]
  },
  {
   "cell_type": "code",
   "execution_count": 7,
   "metadata": {},
   "outputs": [],
   "source": [
    "anchors = {\n",
    "    'BREAKFAST': ['coffee','tea'],\n",
    "    'LUNCH': ['meal'],\n",
    "    'AFTERNOON SNACK': ['coffee','tea']\n",
    "}\n",
    "\n",
    "times = {\n",
    "    'BREAKFAST': '06:00-11:00',\n",
    "    'LUNCH': '11:00-14.30',\n",
    "    'AFTERNOON SNACK': '14.30-20:00'\n",
    "}\n",
    "\n",
    "additions = {\n",
    "    'BREAKFAST': ['dessert', 'fruit', 'pastry'],\n",
    "    'LUNCH': ['condiment',\n",
    "             'dessert',\n",
    "             'fruit',\n",
    "             'pastry',\n",
    "             'salad',\n",
    "             'soft drink',\n",
    "             'soup'],\n",
    "    'AFTERNOON SNACK': ['dessert', 'fruit', 'pastry']\n",
    "}"
   ]
  },
  {
   "cell_type": "markdown",
   "metadata": {},
   "source": [
    "## 1. Calculate normalized frienship strength and find ATE in stata"
   ]
  },
  {
   "cell_type": "code",
   "execution_count": 8,
   "metadata": {},
   "outputs": [
    {
     "data": {
      "text/plain": [
       "11008"
      ]
     },
     "execution_count": 8,
     "metadata": {},
     "output_type": "execute_result"
    }
   ],
   "source": [
    "#number of ordered dyads before matching\n",
    "len(df_choices.groupby(['focal_ID','partner_ID']))"
   ]
  },
  {
   "cell_type": "code",
   "execution_count": 9,
   "metadata": {},
   "outputs": [
    {
     "data": {
      "text/plain": [
       "5504.0"
      ]
     },
     "execution_count": 9,
     "metadata": {},
     "output_type": "execute_result"
    }
   ],
   "source": [
    "#number of studied dyads after matching\n",
    "len(df_choices.groupby(['focal_ID','partner_ID'])) /2"
   ]
  },
  {
   "cell_type": "code",
   "execution_count": 10,
   "metadata": {},
   "outputs": [],
   "source": [
    "if PRECOMPUTED:\n",
    "    df_counts = pd.read_pickle('tmp/normalized_counnts.pickle')\n",
    "else:\n",
    "\n",
    "    checked = []\n",
    "\n",
    "    entries_normalized = []\n",
    "    for cnt, row in tqdm(df_choices.iterrows(), total=df_choices.shape[0]):\n",
    "        entry = {}\n",
    "\n",
    "        focal = row['focal_ID']\n",
    "        partner = row['partner_ID']\n",
    "\n",
    "        if [focal,partner] in checked:\n",
    "            continue\n",
    "        else:\n",
    "            entry['focal'] = focal\n",
    "            entry['partner'] = partner\n",
    "\n",
    "            entry['total_together'] = len(df_choices.loc[((df_choices['focal_ID']==focal) & (df_choices['partner_ID']==partner)) |\n",
    "                                    ((df_choices['focal_ID']==partner) & (df_choices['partner_ID']==focal))])\n",
    "\n",
    "            entry['focal_together'] = len(df_choices.loc[(df_choices['focal_ID']==focal) | (df_choices['partner_ID']==focal)])\n",
    "\n",
    "            entry['partner_together'] = len(df_choices.loc[(df_choices['focal_ID']==partner) | (df_choices['partner_ID']==partner)])\n",
    "\n",
    "\n",
    "            entries_normalized.append(entry)\n",
    "            checked.append([focal,partner])\n",
    "\n",
    "    df_counts = pd.DataFrame(entries_normalized)\n",
    "    \n",
    "    df_counts['focal_ratio'] = df_counts['total_together'] / df_counts['focal_together']\n",
    "    df_counts['partner_ratio'] = df_counts['total_together'] / df_counts['partner_together']\n",
    "\n",
    "    df_counts['ratio_together'] = (df_counts['total_together'] / \\\n",
    "        (df_counts['focal_together']  + df_counts['partner_together'] - df_counts['total_together']))\n",
    "    df_counts.to_pickle('tmp/normalized_counnts.pickle')\n"
   ]
  },
  {
   "cell_type": "code",
   "execution_count": null,
   "metadata": {},
   "outputs": [],
   "source": []
  },
  {
   "cell_type": "code",
   "execution_count": 11,
   "metadata": {},
   "outputs": [],
   "source": [
    "if PRECOMPUTED:\n",
    "    pass\n",
    "else:\n",
    "\n",
    "    #for different additions\n",
    "\n",
    "    list_viz = []\n",
    "\n",
    "    for meal in ['BREAKFAST', 'LUNCH', 'AFTERNOON SNACK']:\n",
    "        for addition in additions[meal]:\n",
    "\n",
    "            # covariates to match on:\n",
    "            covariates_categorical = ['partner_ID', 'shop', 'MEAL']\n",
    "            covariates_continuous = 'popularity_'+addition\n",
    "\n",
    "            #additional covariates: N, 'focal_ID' \n",
    "\n",
    "            print('\\n')\n",
    "            print(meal)\n",
    "            print(addition)\n",
    "\n",
    "            outcome = 'focal_'+addition\n",
    "            exposure = 'partner_'+addition\n",
    "\n",
    "\n",
    "            if meal == 'LUNCH':\n",
    "                treated = df_choices.loc[(df_choices['MEAL']==meal) & \\\n",
    "                                         (df_choices['partner_meal']) &\\\n",
    "                                         (df_choices['focal_meal'])].reset_index()\n",
    "            else:\n",
    "                treated = df_choices.loc[((df_choices['MEAL']==meal)) & \n",
    "                                        (df_choices['partner_coffee'] | df_choices['partner_tea']) & \n",
    "                                        (df_choices['focal_coffee'] | df_choices['focal_tea'] )].reset_index()\n",
    "\n",
    "\n",
    "            treated['focal_'+addition] = treated['focal_'+addition].astype(int)\n",
    "            treated['partner_'+addition] = treated['partner_'+addition].astype(int)\n",
    "\n",
    "            matching = set()\n",
    "\n",
    "            #control for categorical covariates\n",
    "            for partner,gr in tqdm(treated.groupby(covariates_categorical)):\n",
    "                treatment_df = gr[gr[exposure] == 1]\n",
    "                control_df = gr[gr[exposure] == 0]\n",
    "\n",
    "\n",
    "                if len(treatment_df)==0 or len(control_df)==0:\n",
    "                    continue\n",
    "                else:\n",
    "                    G = nx.Graph()\n",
    "                    for treatment_id, treated_row in treatment_df.iterrows():\n",
    "                        for control_id, control_row in control_df.iterrows():\n",
    "                            # add an edge only if continuous covariates match\n",
    "                            if np.abs(control_row['popularity_'+addition] - treated_row['popularity_'+addition]) < 0.1:\n",
    "                                # adds an edge\n",
    "                                G.add_weighted_edges_from([(control_id, treatment_id, 1)])\n",
    "\n",
    "                    #find optimal matching of situations\n",
    "                    matching.update(nx.max_weight_matching(G))\n",
    "\n",
    "            matched = [i[0] for i in list(matching)] + [i[1] for i in list(matching)]\n",
    "            balanced_df_all = treated.loc[treated.index.isin(matched)]\n",
    "\n",
    "\n",
    "            pos = balanced_df_all.loc[balanced_df_all[exposure] == 1] #treated\n",
    "            neg = balanced_df_all.loc[balanced_df_all[exposure] == 0] #control\n",
    "\n",
    "            print(len(pos))\n",
    "            pos['addition'] = addition\n",
    "            neg['addition'] = addition\n",
    "\n",
    "            pos[['focal_ID','partner_ID','MEAL','addition',exposure, outcome, 'delay', 'shop', 'timestamp',\n",
    "               'focal_p_student', 'partner_p_student', 'focal_gender',\n",
    "               'partner_gender', 'focal_age', 'partner_age', 'popularity_'+addition]].rename(columns = {exposure: 'exposure', outcome: 'outcome',\n",
    "                                                                                                       'popularity_'+addition: 'popularity'}).to_pickle('tmp/normalized_pos_' + addition +'_' +meal+ '.pkl')\n",
    "\n",
    "            neg[['focal_ID','partner_ID','MEAL','addition',exposure, outcome, 'delay', 'shop', 'timestamp',\n",
    "               'focal_p_student', 'partner_p_student', 'focal_gender',\n",
    "               'partner_gender', 'focal_age', 'partner_age', 'popularity_'+addition]].rename(columns = {exposure: 'exposure', outcome: 'outcome',\n",
    "                                                                                                       'popularity_'+addition: 'popularity'},).to_pickle('tmp/normalized_neg_' + addition +'_' +meal+'.pkl')\n",
    "    cnt = 0\n",
    "\n",
    "    check = 0\n",
    "\n",
    "    for meal in ['BREAKFAST','LUNCH','AFTERNOON SNACK']:\n",
    "        for addition in additions[meal]:\n",
    "            pos = pd.read_pickle('tmp/normalized_pos_' + addition +'_' +meal+'.pkl')\n",
    "            if cnt==0:\n",
    "                df = pos.copy(deep = True)\n",
    "            else:\n",
    "                df = pd.concat([df,pos])\n",
    "            cnt+=1\n",
    "            neg = pd.read_pickle('tmp/normalized_neg_' + addition +'_' +meal+'.pkl')\n",
    "            df = pd.concat([df,neg])\n",
    "\n",
    "            check+=len(pos) + len(neg)\n",
    "     \n",
    "    df.loc[df['exposure']==1]['popularity'].hist(range = [0,1], bins = 20,label = 'pos', alpha = 0.5)\n",
    "    df.loc[df['exposure']==0]['popularity'].hist(range = [0,1], bins = 20,label = 'pos', alpha = 0.5)\n",
    "\n",
    "    plt.xlabel('Popularity')\n",
    "    plt.ylabel('Number of situations')\n",
    "    \n",
    "    df.to_pickle('tmp/normalized_3_meals_matched_situations')"
   ]
  },
  {
   "cell_type": "code",
   "execution_count": 12,
   "metadata": {},
   "outputs": [],
   "source": [
    "df = pd.read_pickle('tmp/normalized_3_meals_matched_situations')"
   ]
  },
  {
   "cell_type": "code",
   "execution_count": 13,
   "metadata": {},
   "outputs": [
    {
     "name": "stdout",
     "output_type": "stream",
     "text": [
      "ATE = 14.22 %\n"
     ]
    },
    {
     "ename": "KeyboardInterrupt",
     "evalue": "",
     "output_type": "error",
     "traceback": [
      "\u001b[0;31m---------------------------------------------------------------------------\u001b[0m",
      "\u001b[0;31mKeyboardInterrupt\u001b[0m                         Traceback (most recent call last)",
      "\u001b[0;32m/var/folders/m5/8d669b8n0vl1_87nc6mbcytm0000gn/T/ipykernel_44452/918850982.py\u001b[0m in \u001b[0;36m<module>\u001b[0;34m\u001b[0m\n\u001b[1;32m      6\u001b[0m \u001b[0mys\u001b[0m \u001b[0;34m=\u001b[0m \u001b[0;34m[\u001b[0m\u001b[0;34m]\u001b[0m\u001b[0;34m\u001b[0m\u001b[0;34m\u001b[0m\u001b[0m\n\u001b[1;32m      7\u001b[0m \u001b[0;32mfor\u001b[0m \u001b[0miteration\u001b[0m \u001b[0;32min\u001b[0m \u001b[0mrange\u001b[0m\u001b[0;34m(\u001b[0m\u001b[0;36m1000\u001b[0m\u001b[0;34m)\u001b[0m\u001b[0;34m:\u001b[0m\u001b[0;34m\u001b[0m\u001b[0;34m\u001b[0m\u001b[0m\n\u001b[0;32m----> 8\u001b[0;31m     \u001b[0mpos_tmp\u001b[0m \u001b[0;34m=\u001b[0m \u001b[0mdf\u001b[0m\u001b[0;34m.\u001b[0m\u001b[0mloc\u001b[0m\u001b[0;34m[\u001b[0m\u001b[0mdf\u001b[0m\u001b[0;34m[\u001b[0m\u001b[0;34m'exposure'\u001b[0m\u001b[0;34m]\u001b[0m\u001b[0;34m==\u001b[0m\u001b[0;36m1\u001b[0m\u001b[0;34m]\u001b[0m\u001b[0;34m.\u001b[0m\u001b[0msample\u001b[0m\u001b[0;34m(\u001b[0m\u001b[0mround\u001b[0m\u001b[0;34m(\u001b[0m\u001b[0mlen\u001b[0m\u001b[0;34m(\u001b[0m\u001b[0mdf\u001b[0m\u001b[0;34m)\u001b[0m\u001b[0;34m/\u001b[0m\u001b[0;36m2\u001b[0m\u001b[0;34m)\u001b[0m\u001b[0;34m,\u001b[0m \u001b[0mreplace\u001b[0m \u001b[0;34m=\u001b[0m \u001b[0;32mTrue\u001b[0m\u001b[0;34m)\u001b[0m\u001b[0;34m[\u001b[0m\u001b[0;34m'outcome'\u001b[0m\u001b[0;34m]\u001b[0m\u001b[0;34m.\u001b[0m\u001b[0mvalue_counts\u001b[0m\u001b[0;34m(\u001b[0m\u001b[0mnormalize\u001b[0m \u001b[0;34m=\u001b[0m \u001b[0;32mTrue\u001b[0m\u001b[0;34m)\u001b[0m\u001b[0;34m[\u001b[0m\u001b[0;36m1\u001b[0m\u001b[0;34m]\u001b[0m\u001b[0;34m\u001b[0m\u001b[0;34m\u001b[0m\u001b[0m\n\u001b[0m\u001b[1;32m      9\u001b[0m     \u001b[0mneg_tmp\u001b[0m \u001b[0;34m=\u001b[0m \u001b[0mdf\u001b[0m\u001b[0;34m.\u001b[0m\u001b[0mloc\u001b[0m\u001b[0;34m[\u001b[0m\u001b[0mdf\u001b[0m\u001b[0;34m[\u001b[0m\u001b[0;34m'exposure'\u001b[0m\u001b[0;34m]\u001b[0m\u001b[0;34m==\u001b[0m\u001b[0;36m0\u001b[0m\u001b[0;34m]\u001b[0m\u001b[0;34m.\u001b[0m\u001b[0msample\u001b[0m\u001b[0;34m(\u001b[0m\u001b[0mround\u001b[0m\u001b[0;34m(\u001b[0m\u001b[0mlen\u001b[0m\u001b[0;34m(\u001b[0m\u001b[0mdf\u001b[0m\u001b[0;34m)\u001b[0m\u001b[0;34m/\u001b[0m\u001b[0;36m2\u001b[0m\u001b[0;34m)\u001b[0m\u001b[0;34m,\u001b[0m \u001b[0mreplace\u001b[0m \u001b[0;34m=\u001b[0m \u001b[0;32mTrue\u001b[0m\u001b[0;34m)\u001b[0m\u001b[0;34m[\u001b[0m\u001b[0;34m'outcome'\u001b[0m\u001b[0;34m]\u001b[0m\u001b[0;34m.\u001b[0m\u001b[0mvalue_counts\u001b[0m\u001b[0;34m(\u001b[0m\u001b[0mnormalize\u001b[0m \u001b[0;34m=\u001b[0m \u001b[0;32mTrue\u001b[0m\u001b[0;34m)\u001b[0m\u001b[0;34m[\u001b[0m\u001b[0;36m1\u001b[0m\u001b[0;34m]\u001b[0m\u001b[0;34m\u001b[0m\u001b[0;34m\u001b[0m\u001b[0m\n\u001b[1;32m     10\u001b[0m \u001b[0;34m\u001b[0m\u001b[0m\n",
      "\u001b[0;32m~/opt/anaconda3/lib/python3.9/site-packages/pandas/core/indexing.py\u001b[0m in \u001b[0;36m__getitem__\u001b[0;34m(self, key)\u001b[0m\n\u001b[1;32m    965\u001b[0m \u001b[0;34m\u001b[0m\u001b[0m\n\u001b[1;32m    966\u001b[0m             \u001b[0mmaybe_callable\u001b[0m \u001b[0;34m=\u001b[0m \u001b[0mcom\u001b[0m\u001b[0;34m.\u001b[0m\u001b[0mapply_if_callable\u001b[0m\u001b[0;34m(\u001b[0m\u001b[0mkey\u001b[0m\u001b[0;34m,\u001b[0m \u001b[0mself\u001b[0m\u001b[0;34m.\u001b[0m\u001b[0mobj\u001b[0m\u001b[0;34m)\u001b[0m\u001b[0;34m\u001b[0m\u001b[0;34m\u001b[0m\u001b[0m\n\u001b[0;32m--> 967\u001b[0;31m             \u001b[0;32mreturn\u001b[0m \u001b[0mself\u001b[0m\u001b[0;34m.\u001b[0m\u001b[0m_getitem_axis\u001b[0m\u001b[0;34m(\u001b[0m\u001b[0mmaybe_callable\u001b[0m\u001b[0;34m,\u001b[0m \u001b[0maxis\u001b[0m\u001b[0;34m=\u001b[0m\u001b[0maxis\u001b[0m\u001b[0;34m)\u001b[0m\u001b[0;34m\u001b[0m\u001b[0;34m\u001b[0m\u001b[0m\n\u001b[0m\u001b[1;32m    968\u001b[0m \u001b[0;34m\u001b[0m\u001b[0m\n\u001b[1;32m    969\u001b[0m     \u001b[0;32mdef\u001b[0m \u001b[0m_is_scalar_access\u001b[0m\u001b[0;34m(\u001b[0m\u001b[0mself\u001b[0m\u001b[0;34m,\u001b[0m \u001b[0mkey\u001b[0m\u001b[0;34m:\u001b[0m \u001b[0mtuple\u001b[0m\u001b[0;34m)\u001b[0m\u001b[0;34m:\u001b[0m\u001b[0;34m\u001b[0m\u001b[0;34m\u001b[0m\u001b[0m\n",
      "\u001b[0;32m~/opt/anaconda3/lib/python3.9/site-packages/pandas/core/indexing.py\u001b[0m in \u001b[0;36m_getitem_axis\u001b[0;34m(self, key, axis)\u001b[0m\n\u001b[1;32m   1183\u001b[0m             \u001b[0;32mreturn\u001b[0m \u001b[0mself\u001b[0m\u001b[0;34m.\u001b[0m\u001b[0m_get_slice_axis\u001b[0m\u001b[0;34m(\u001b[0m\u001b[0mkey\u001b[0m\u001b[0;34m,\u001b[0m \u001b[0maxis\u001b[0m\u001b[0;34m=\u001b[0m\u001b[0maxis\u001b[0m\u001b[0;34m)\u001b[0m\u001b[0;34m\u001b[0m\u001b[0;34m\u001b[0m\u001b[0m\n\u001b[1;32m   1184\u001b[0m         \u001b[0;32melif\u001b[0m \u001b[0mcom\u001b[0m\u001b[0;34m.\u001b[0m\u001b[0mis_bool_indexer\u001b[0m\u001b[0;34m(\u001b[0m\u001b[0mkey\u001b[0m\u001b[0;34m)\u001b[0m\u001b[0;34m:\u001b[0m\u001b[0;34m\u001b[0m\u001b[0;34m\u001b[0m\u001b[0m\n\u001b[0;32m-> 1185\u001b[0;31m             \u001b[0;32mreturn\u001b[0m \u001b[0mself\u001b[0m\u001b[0;34m.\u001b[0m\u001b[0m_getbool_axis\u001b[0m\u001b[0;34m(\u001b[0m\u001b[0mkey\u001b[0m\u001b[0;34m,\u001b[0m \u001b[0maxis\u001b[0m\u001b[0;34m=\u001b[0m\u001b[0maxis\u001b[0m\u001b[0;34m)\u001b[0m\u001b[0;34m\u001b[0m\u001b[0;34m\u001b[0m\u001b[0m\n\u001b[0m\u001b[1;32m   1186\u001b[0m         \u001b[0;32melif\u001b[0m \u001b[0mis_list_like_indexer\u001b[0m\u001b[0;34m(\u001b[0m\u001b[0mkey\u001b[0m\u001b[0;34m)\u001b[0m\u001b[0;34m:\u001b[0m\u001b[0;34m\u001b[0m\u001b[0;34m\u001b[0m\u001b[0m\n\u001b[1;32m   1187\u001b[0m \u001b[0;34m\u001b[0m\u001b[0m\n",
      "\u001b[0;32m~/opt/anaconda3/lib/python3.9/site-packages/pandas/core/indexing.py\u001b[0m in \u001b[0;36m_getbool_axis\u001b[0;34m(self, key, axis)\u001b[0m\n\u001b[1;32m    984\u001b[0m         \u001b[0mkey\u001b[0m \u001b[0;34m=\u001b[0m \u001b[0mcheck_bool_indexer\u001b[0m\u001b[0;34m(\u001b[0m\u001b[0mlabels\u001b[0m\u001b[0;34m,\u001b[0m \u001b[0mkey\u001b[0m\u001b[0;34m)\u001b[0m\u001b[0;34m\u001b[0m\u001b[0;34m\u001b[0m\u001b[0m\n\u001b[1;32m    985\u001b[0m         \u001b[0minds\u001b[0m \u001b[0;34m=\u001b[0m \u001b[0mkey\u001b[0m\u001b[0;34m.\u001b[0m\u001b[0mnonzero\u001b[0m\u001b[0;34m(\u001b[0m\u001b[0;34m)\u001b[0m\u001b[0;34m[\u001b[0m\u001b[0;36m0\u001b[0m\u001b[0;34m]\u001b[0m\u001b[0;34m\u001b[0m\u001b[0;34m\u001b[0m\u001b[0m\n\u001b[0;32m--> 986\u001b[0;31m         \u001b[0;32mreturn\u001b[0m \u001b[0mself\u001b[0m\u001b[0;34m.\u001b[0m\u001b[0mobj\u001b[0m\u001b[0;34m.\u001b[0m\u001b[0m_take_with_is_copy\u001b[0m\u001b[0;34m(\u001b[0m\u001b[0minds\u001b[0m\u001b[0;34m,\u001b[0m \u001b[0maxis\u001b[0m\u001b[0;34m=\u001b[0m\u001b[0maxis\u001b[0m\u001b[0;34m)\u001b[0m\u001b[0;34m\u001b[0m\u001b[0;34m\u001b[0m\u001b[0m\n\u001b[0m\u001b[1;32m    987\u001b[0m \u001b[0;34m\u001b[0m\u001b[0m\n\u001b[1;32m    988\u001b[0m \u001b[0;34m\u001b[0m\u001b[0m\n",
      "\u001b[0;32m~/opt/anaconda3/lib/python3.9/site-packages/pandas/core/generic.py\u001b[0m in \u001b[0;36m_take_with_is_copy\u001b[0;34m(self, indices, axis)\u001b[0m\n\u001b[1;32m   3714\u001b[0m         \u001b[0mSee\u001b[0m \u001b[0mthe\u001b[0m \u001b[0mdocstring\u001b[0m \u001b[0mof\u001b[0m\u001b[0;31m \u001b[0m\u001b[0;31m`\u001b[0m\u001b[0mtake\u001b[0m\u001b[0;31m`\u001b[0m \u001b[0;32mfor\u001b[0m \u001b[0mfull\u001b[0m \u001b[0mexplanation\u001b[0m \u001b[0mof\u001b[0m \u001b[0mthe\u001b[0m \u001b[0mparameters\u001b[0m\u001b[0;34m.\u001b[0m\u001b[0;34m\u001b[0m\u001b[0;34m\u001b[0m\u001b[0m\n\u001b[1;32m   3715\u001b[0m         \"\"\"\n\u001b[0;32m-> 3716\u001b[0;31m         \u001b[0mresult\u001b[0m \u001b[0;34m=\u001b[0m \u001b[0mself\u001b[0m\u001b[0;34m.\u001b[0m\u001b[0mtake\u001b[0m\u001b[0;34m(\u001b[0m\u001b[0mindices\u001b[0m\u001b[0;34m=\u001b[0m\u001b[0mindices\u001b[0m\u001b[0;34m,\u001b[0m \u001b[0maxis\u001b[0m\u001b[0;34m=\u001b[0m\u001b[0maxis\u001b[0m\u001b[0;34m)\u001b[0m\u001b[0;34m\u001b[0m\u001b[0;34m\u001b[0m\u001b[0m\n\u001b[0m\u001b[1;32m   3717\u001b[0m         \u001b[0;31m# Maybe set copy if we didn't actually change the index.\u001b[0m\u001b[0;34m\u001b[0m\u001b[0;34m\u001b[0m\u001b[0m\n\u001b[1;32m   3718\u001b[0m         \u001b[0;32mif\u001b[0m \u001b[0;32mnot\u001b[0m \u001b[0mresult\u001b[0m\u001b[0;34m.\u001b[0m\u001b[0m_get_axis\u001b[0m\u001b[0;34m(\u001b[0m\u001b[0maxis\u001b[0m\u001b[0;34m)\u001b[0m\u001b[0;34m.\u001b[0m\u001b[0mequals\u001b[0m\u001b[0;34m(\u001b[0m\u001b[0mself\u001b[0m\u001b[0;34m.\u001b[0m\u001b[0m_get_axis\u001b[0m\u001b[0;34m(\u001b[0m\u001b[0maxis\u001b[0m\u001b[0;34m)\u001b[0m\u001b[0;34m)\u001b[0m\u001b[0;34m:\u001b[0m\u001b[0;34m\u001b[0m\u001b[0;34m\u001b[0m\u001b[0m\n",
      "\u001b[0;32m~/opt/anaconda3/lib/python3.9/site-packages/pandas/core/generic.py\u001b[0m in \u001b[0;36mtake\u001b[0;34m(self, indices, axis, is_copy, **kwargs)\u001b[0m\n\u001b[1;32m   3701\u001b[0m         \u001b[0mself\u001b[0m\u001b[0;34m.\u001b[0m\u001b[0m_consolidate_inplace\u001b[0m\u001b[0;34m(\u001b[0m\u001b[0;34m)\u001b[0m\u001b[0;34m\u001b[0m\u001b[0;34m\u001b[0m\u001b[0m\n\u001b[1;32m   3702\u001b[0m \u001b[0;34m\u001b[0m\u001b[0m\n\u001b[0;32m-> 3703\u001b[0;31m         new_data = self._mgr.take(\n\u001b[0m\u001b[1;32m   3704\u001b[0m             \u001b[0mindices\u001b[0m\u001b[0;34m,\u001b[0m \u001b[0maxis\u001b[0m\u001b[0;34m=\u001b[0m\u001b[0mself\u001b[0m\u001b[0;34m.\u001b[0m\u001b[0m_get_block_manager_axis\u001b[0m\u001b[0;34m(\u001b[0m\u001b[0maxis\u001b[0m\u001b[0;34m)\u001b[0m\u001b[0;34m,\u001b[0m \u001b[0mverify\u001b[0m\u001b[0;34m=\u001b[0m\u001b[0;32mTrue\u001b[0m\u001b[0;34m\u001b[0m\u001b[0;34m\u001b[0m\u001b[0m\n\u001b[1;32m   3705\u001b[0m         )\n",
      "\u001b[0;32m~/opt/anaconda3/lib/python3.9/site-packages/pandas/core/internals/managers.py\u001b[0m in \u001b[0;36mtake\u001b[0;34m(self, indexer, axis, verify)\u001b[0m\n\u001b[1;32m    895\u001b[0m \u001b[0;34m\u001b[0m\u001b[0m\n\u001b[1;32m    896\u001b[0m         \u001b[0mnew_labels\u001b[0m \u001b[0;34m=\u001b[0m \u001b[0mself\u001b[0m\u001b[0;34m.\u001b[0m\u001b[0maxes\u001b[0m\u001b[0;34m[\u001b[0m\u001b[0maxis\u001b[0m\u001b[0;34m]\u001b[0m\u001b[0;34m.\u001b[0m\u001b[0mtake\u001b[0m\u001b[0;34m(\u001b[0m\u001b[0mindexer\u001b[0m\u001b[0;34m)\u001b[0m\u001b[0;34m\u001b[0m\u001b[0;34m\u001b[0m\u001b[0m\n\u001b[0;32m--> 897\u001b[0;31m         return self.reindex_indexer(\n\u001b[0m\u001b[1;32m    898\u001b[0m             \u001b[0mnew_axis\u001b[0m\u001b[0;34m=\u001b[0m\u001b[0mnew_labels\u001b[0m\u001b[0;34m,\u001b[0m\u001b[0;34m\u001b[0m\u001b[0;34m\u001b[0m\u001b[0m\n\u001b[1;32m    899\u001b[0m             \u001b[0mindexer\u001b[0m\u001b[0;34m=\u001b[0m\u001b[0mindexer\u001b[0m\u001b[0;34m,\u001b[0m\u001b[0;34m\u001b[0m\u001b[0;34m\u001b[0m\u001b[0m\n",
      "\u001b[0;32m~/opt/anaconda3/lib/python3.9/site-packages/pandas/core/internals/managers.py\u001b[0m in \u001b[0;36mreindex_indexer\u001b[0;34m(self, new_axis, indexer, axis, fill_value, allow_dups, copy, consolidate, only_slice, use_na_proxy)\u001b[0m\n\u001b[1;32m    687\u001b[0m             )\n\u001b[1;32m    688\u001b[0m         \u001b[0;32melse\u001b[0m\u001b[0;34m:\u001b[0m\u001b[0;34m\u001b[0m\u001b[0;34m\u001b[0m\u001b[0m\n\u001b[0;32m--> 689\u001b[0;31m             new_blocks = [\n\u001b[0m\u001b[1;32m    690\u001b[0m                 blk.take_nd(\n\u001b[1;32m    691\u001b[0m                     \u001b[0mindexer\u001b[0m\u001b[0;34m,\u001b[0m\u001b[0;34m\u001b[0m\u001b[0;34m\u001b[0m\u001b[0m\n",
      "\u001b[0;32m~/opt/anaconda3/lib/python3.9/site-packages/pandas/core/internals/managers.py\u001b[0m in \u001b[0;36m<listcomp>\u001b[0;34m(.0)\u001b[0m\n\u001b[1;32m    688\u001b[0m         \u001b[0;32melse\u001b[0m\u001b[0;34m:\u001b[0m\u001b[0;34m\u001b[0m\u001b[0;34m\u001b[0m\u001b[0m\n\u001b[1;32m    689\u001b[0m             new_blocks = [\n\u001b[0;32m--> 690\u001b[0;31m                 blk.take_nd(\n\u001b[0m\u001b[1;32m    691\u001b[0m                     \u001b[0mindexer\u001b[0m\u001b[0;34m,\u001b[0m\u001b[0;34m\u001b[0m\u001b[0;34m\u001b[0m\u001b[0m\n\u001b[1;32m    692\u001b[0m                     \u001b[0maxis\u001b[0m\u001b[0;34m=\u001b[0m\u001b[0;36m1\u001b[0m\u001b[0;34m,\u001b[0m\u001b[0;34m\u001b[0m\u001b[0;34m\u001b[0m\u001b[0m\n",
      "\u001b[0;32m~/opt/anaconda3/lib/python3.9/site-packages/pandas/core/internals/blocks.py\u001b[0m in \u001b[0;36mtake_nd\u001b[0;34m(self, indexer, axis, new_mgr_locs, fill_value)\u001b[0m\n\u001b[1;32m   1137\u001b[0m             \u001b[0mallow_fill\u001b[0m \u001b[0;34m=\u001b[0m \u001b[0;32mTrue\u001b[0m\u001b[0;34m\u001b[0m\u001b[0;34m\u001b[0m\u001b[0m\n\u001b[1;32m   1138\u001b[0m \u001b[0;34m\u001b[0m\u001b[0m\n\u001b[0;32m-> 1139\u001b[0;31m         new_values = algos.take_nd(\n\u001b[0m\u001b[1;32m   1140\u001b[0m             \u001b[0mvalues\u001b[0m\u001b[0;34m,\u001b[0m \u001b[0mindexer\u001b[0m\u001b[0;34m,\u001b[0m \u001b[0maxis\u001b[0m\u001b[0;34m=\u001b[0m\u001b[0maxis\u001b[0m\u001b[0;34m,\u001b[0m \u001b[0mallow_fill\u001b[0m\u001b[0;34m=\u001b[0m\u001b[0mallow_fill\u001b[0m\u001b[0;34m,\u001b[0m \u001b[0mfill_value\u001b[0m\u001b[0;34m=\u001b[0m\u001b[0mfill_value\u001b[0m\u001b[0;34m\u001b[0m\u001b[0;34m\u001b[0m\u001b[0m\n\u001b[1;32m   1141\u001b[0m         )\n",
      "\u001b[0;32m~/opt/anaconda3/lib/python3.9/site-packages/pandas/core/array_algos/take.py\u001b[0m in \u001b[0;36mtake_nd\u001b[0;34m(arr, indexer, axis, fill_value, allow_fill)\u001b[0m\n\u001b[1;32m    115\u001b[0m \u001b[0;34m\u001b[0m\u001b[0m\n\u001b[1;32m    116\u001b[0m     \u001b[0marr\u001b[0m \u001b[0;34m=\u001b[0m \u001b[0mnp\u001b[0m\u001b[0;34m.\u001b[0m\u001b[0masarray\u001b[0m\u001b[0;34m(\u001b[0m\u001b[0marr\u001b[0m\u001b[0;34m)\u001b[0m\u001b[0;34m\u001b[0m\u001b[0;34m\u001b[0m\u001b[0m\n\u001b[0;32m--> 117\u001b[0;31m     \u001b[0;32mreturn\u001b[0m \u001b[0m_take_nd_ndarray\u001b[0m\u001b[0;34m(\u001b[0m\u001b[0marr\u001b[0m\u001b[0;34m,\u001b[0m \u001b[0mindexer\u001b[0m\u001b[0;34m,\u001b[0m \u001b[0maxis\u001b[0m\u001b[0;34m,\u001b[0m \u001b[0mfill_value\u001b[0m\u001b[0;34m,\u001b[0m \u001b[0mallow_fill\u001b[0m\u001b[0;34m)\u001b[0m\u001b[0;34m\u001b[0m\u001b[0;34m\u001b[0m\u001b[0m\n\u001b[0m\u001b[1;32m    118\u001b[0m \u001b[0;34m\u001b[0m\u001b[0m\n\u001b[1;32m    119\u001b[0m \u001b[0;34m\u001b[0m\u001b[0m\n",
      "\u001b[0;32m~/opt/anaconda3/lib/python3.9/site-packages/pandas/core/array_algos/take.py\u001b[0m in \u001b[0;36m_take_nd_ndarray\u001b[0;34m(arr, indexer, axis, fill_value, allow_fill)\u001b[0m\n\u001b[1;32m    161\u001b[0m         \u001b[0marr\u001b[0m\u001b[0;34m.\u001b[0m\u001b[0mndim\u001b[0m\u001b[0;34m,\u001b[0m \u001b[0marr\u001b[0m\u001b[0;34m.\u001b[0m\u001b[0mdtype\u001b[0m\u001b[0;34m,\u001b[0m \u001b[0mout\u001b[0m\u001b[0;34m.\u001b[0m\u001b[0mdtype\u001b[0m\u001b[0;34m,\u001b[0m \u001b[0maxis\u001b[0m\u001b[0;34m=\u001b[0m\u001b[0maxis\u001b[0m\u001b[0;34m,\u001b[0m \u001b[0mmask_info\u001b[0m\u001b[0;34m=\u001b[0m\u001b[0mmask_info\u001b[0m\u001b[0;34m\u001b[0m\u001b[0;34m\u001b[0m\u001b[0m\n\u001b[1;32m    162\u001b[0m     )\n\u001b[0;32m--> 163\u001b[0;31m     \u001b[0mfunc\u001b[0m\u001b[0;34m(\u001b[0m\u001b[0marr\u001b[0m\u001b[0;34m,\u001b[0m \u001b[0mindexer\u001b[0m\u001b[0;34m,\u001b[0m \u001b[0mout\u001b[0m\u001b[0;34m,\u001b[0m \u001b[0mfill_value\u001b[0m\u001b[0;34m)\u001b[0m\u001b[0;34m\u001b[0m\u001b[0;34m\u001b[0m\u001b[0m\n\u001b[0m\u001b[1;32m    164\u001b[0m \u001b[0;34m\u001b[0m\u001b[0m\n\u001b[1;32m    165\u001b[0m     \u001b[0;32mif\u001b[0m \u001b[0mflip_order\u001b[0m\u001b[0;34m:\u001b[0m\u001b[0;34m\u001b[0m\u001b[0;34m\u001b[0m\u001b[0m\n",
      "\u001b[0;31mKeyboardInterrupt\u001b[0m: "
     ]
    }
   ],
   "source": [
    "treated_p = df.loc[df['exposure']==1]['outcome'].value_counts(normalize = True)[1]\n",
    "control_p = df.loc[df['exposure']==0]['outcome'].value_counts(normalize = True)[1]\n",
    "\n",
    "print('ATE =', round(100*(treated_p - control_p),2),'%')\n",
    "\n",
    "ys = []\n",
    "for iteration in range(1000):\n",
    "    pos_tmp = df.loc[df['exposure']==1].sample(round(len(df)/2), replace = True)['outcome'].value_counts(normalize = True)[1]\n",
    "    neg_tmp = df.loc[df['exposure']==0].sample(round(len(df)/2), replace = True)['outcome'].value_counts(normalize = True)[1]   \n",
    "\n",
    "    y_tmp = pos_tmp - neg_tmp\n",
    "\n",
    "    ys.append(y_tmp)\n",
    "\n",
    "print('lower_error = ', round(100*np.percentile(np.array(ys), 2.5),2),'%')\n",
    "print('upper_error = ', round(100*np.percentile(np.array(ys),97.5),2),'%')"
   ]
  },
  {
   "cell_type": "code",
   "execution_count": null,
   "metadata": {},
   "outputs": [],
   "source": [
    "def get_focal_ratio(x1,x2):\n",
    "    return df_counts.loc[(df_counts['focal'] == x1) & (df_counts['partner']==x2)].iloc[0]['focal_ratio']\n",
    "def get_partner_ratio(x1,x2):\n",
    "    return df_counts.loc[(df_counts['focal'] == x1) & (df_counts['partner']==x2)].iloc[0]['partner_ratio']"
   ]
  },
  {
   "cell_type": "code",
   "execution_count": null,
   "metadata": {},
   "outputs": [],
   "source": [
    "def get_ratio_together(x1,x2):\n",
    "    return df_counts.loc[(df_counts['focal'] == x1) & (df_counts['partner']==x2)].iloc[0]['ratio_together']"
   ]
  },
  {
   "cell_type": "code",
   "execution_count": 17,
   "metadata": {},
   "outputs": [
    {
     "ename": "KeyboardInterrupt",
     "evalue": "",
     "output_type": "error",
     "traceback": [
      "\u001b[0;31m---------------------------------------------------------------------------\u001b[0m",
      "\u001b[0;31mKeyboardInterrupt\u001b[0m                         Traceback (most recent call last)",
      "\u001b[0;32m/var/folders/m5/8d669b8n0vl1_87nc6mbcytm0000gn/T/ipykernel_18589/2439140555.py\u001b[0m in \u001b[0;36m<module>\u001b[0;34m\u001b[0m\n\u001b[0;32m----> 1\u001b[0;31m \u001b[0mdf\u001b[0m\u001b[0;34m[\u001b[0m\u001b[0;34m'focal_ratio'\u001b[0m\u001b[0;34m]\u001b[0m \u001b[0;34m=\u001b[0m \u001b[0mdf\u001b[0m\u001b[0;34m.\u001b[0m\u001b[0mapply\u001b[0m\u001b[0;34m(\u001b[0m\u001b[0;32mlambda\u001b[0m \u001b[0mx\u001b[0m\u001b[0;34m:\u001b[0m \u001b[0mget_focal_ratio\u001b[0m\u001b[0;34m(\u001b[0m\u001b[0mx\u001b[0m\u001b[0;34m.\u001b[0m\u001b[0mfocal_ID\u001b[0m\u001b[0;34m,\u001b[0m \u001b[0mx\u001b[0m\u001b[0;34m.\u001b[0m\u001b[0mpartner_ID\u001b[0m\u001b[0;34m)\u001b[0m\u001b[0;34m,\u001b[0m \u001b[0maxis\u001b[0m\u001b[0;34m=\u001b[0m\u001b[0;36m1\u001b[0m\u001b[0;34m)\u001b[0m\u001b[0;34m\u001b[0m\u001b[0;34m\u001b[0m\u001b[0m\n\u001b[0m\u001b[1;32m      2\u001b[0m \u001b[0mdf\u001b[0m\u001b[0;34m[\u001b[0m\u001b[0;34m'partner_ratio'\u001b[0m\u001b[0;34m]\u001b[0m \u001b[0;34m=\u001b[0m \u001b[0mdf\u001b[0m\u001b[0;34m.\u001b[0m\u001b[0mapply\u001b[0m\u001b[0;34m(\u001b[0m\u001b[0;32mlambda\u001b[0m \u001b[0mx\u001b[0m\u001b[0;34m:\u001b[0m \u001b[0mget_partner_ratio\u001b[0m\u001b[0;34m(\u001b[0m\u001b[0mx\u001b[0m\u001b[0;34m.\u001b[0m\u001b[0mfocal_ID\u001b[0m\u001b[0;34m,\u001b[0m \u001b[0mx\u001b[0m\u001b[0;34m.\u001b[0m\u001b[0mpartner_ID\u001b[0m\u001b[0;34m)\u001b[0m\u001b[0;34m,\u001b[0m \u001b[0maxis\u001b[0m\u001b[0;34m=\u001b[0m\u001b[0;36m1\u001b[0m\u001b[0;34m)\u001b[0m\u001b[0;34m\u001b[0m\u001b[0;34m\u001b[0m\u001b[0m\n",
      "\u001b[0;32m~/opt/anaconda3/lib/python3.9/site-packages/pandas/core/frame.py\u001b[0m in \u001b[0;36mapply\u001b[0;34m(self, func, axis, raw, result_type, args, **kwargs)\u001b[0m\n\u001b[1;32m   8846\u001b[0m             \u001b[0mkwargs\u001b[0m\u001b[0;34m=\u001b[0m\u001b[0mkwargs\u001b[0m\u001b[0;34m,\u001b[0m\u001b[0;34m\u001b[0m\u001b[0;34m\u001b[0m\u001b[0m\n\u001b[1;32m   8847\u001b[0m         )\n\u001b[0;32m-> 8848\u001b[0;31m         \u001b[0;32mreturn\u001b[0m \u001b[0mop\u001b[0m\u001b[0;34m.\u001b[0m\u001b[0mapply\u001b[0m\u001b[0;34m(\u001b[0m\u001b[0;34m)\u001b[0m\u001b[0;34m.\u001b[0m\u001b[0m__finalize__\u001b[0m\u001b[0;34m(\u001b[0m\u001b[0mself\u001b[0m\u001b[0;34m,\u001b[0m \u001b[0mmethod\u001b[0m\u001b[0;34m=\u001b[0m\u001b[0;34m\"apply\"\u001b[0m\u001b[0;34m)\u001b[0m\u001b[0;34m\u001b[0m\u001b[0;34m\u001b[0m\u001b[0m\n\u001b[0m\u001b[1;32m   8849\u001b[0m \u001b[0;34m\u001b[0m\u001b[0m\n\u001b[1;32m   8850\u001b[0m     def applymap(\n",
      "\u001b[0;32m~/opt/anaconda3/lib/python3.9/site-packages/pandas/core/apply.py\u001b[0m in \u001b[0;36mapply\u001b[0;34m(self)\u001b[0m\n\u001b[1;32m    731\u001b[0m             \u001b[0;32mreturn\u001b[0m \u001b[0mself\u001b[0m\u001b[0;34m.\u001b[0m\u001b[0mapply_raw\u001b[0m\u001b[0;34m(\u001b[0m\u001b[0;34m)\u001b[0m\u001b[0;34m\u001b[0m\u001b[0;34m\u001b[0m\u001b[0m\n\u001b[1;32m    732\u001b[0m \u001b[0;34m\u001b[0m\u001b[0m\n\u001b[0;32m--> 733\u001b[0;31m         \u001b[0;32mreturn\u001b[0m \u001b[0mself\u001b[0m\u001b[0;34m.\u001b[0m\u001b[0mapply_standard\u001b[0m\u001b[0;34m(\u001b[0m\u001b[0;34m)\u001b[0m\u001b[0;34m\u001b[0m\u001b[0;34m\u001b[0m\u001b[0m\n\u001b[0m\u001b[1;32m    734\u001b[0m \u001b[0;34m\u001b[0m\u001b[0m\n\u001b[1;32m    735\u001b[0m     \u001b[0;32mdef\u001b[0m \u001b[0magg\u001b[0m\u001b[0;34m(\u001b[0m\u001b[0mself\u001b[0m\u001b[0;34m)\u001b[0m\u001b[0;34m:\u001b[0m\u001b[0;34m\u001b[0m\u001b[0;34m\u001b[0m\u001b[0m\n",
      "\u001b[0;32m~/opt/anaconda3/lib/python3.9/site-packages/pandas/core/apply.py\u001b[0m in \u001b[0;36mapply_standard\u001b[0;34m(self)\u001b[0m\n\u001b[1;32m    855\u001b[0m \u001b[0;34m\u001b[0m\u001b[0m\n\u001b[1;32m    856\u001b[0m     \u001b[0;32mdef\u001b[0m \u001b[0mapply_standard\u001b[0m\u001b[0;34m(\u001b[0m\u001b[0mself\u001b[0m\u001b[0;34m)\u001b[0m\u001b[0;34m:\u001b[0m\u001b[0;34m\u001b[0m\u001b[0;34m\u001b[0m\u001b[0m\n\u001b[0;32m--> 857\u001b[0;31m         \u001b[0mresults\u001b[0m\u001b[0;34m,\u001b[0m \u001b[0mres_index\u001b[0m \u001b[0;34m=\u001b[0m \u001b[0mself\u001b[0m\u001b[0;34m.\u001b[0m\u001b[0mapply_series_generator\u001b[0m\u001b[0;34m(\u001b[0m\u001b[0;34m)\u001b[0m\u001b[0;34m\u001b[0m\u001b[0;34m\u001b[0m\u001b[0m\n\u001b[0m\u001b[1;32m    858\u001b[0m \u001b[0;34m\u001b[0m\u001b[0m\n\u001b[1;32m    859\u001b[0m         \u001b[0;31m# wrap results\u001b[0m\u001b[0;34m\u001b[0m\u001b[0;34m\u001b[0m\u001b[0m\n",
      "\u001b[0;32m~/opt/anaconda3/lib/python3.9/site-packages/pandas/core/apply.py\u001b[0m in \u001b[0;36mapply_series_generator\u001b[0;34m(self)\u001b[0m\n\u001b[1;32m    871\u001b[0m             \u001b[0;32mfor\u001b[0m \u001b[0mi\u001b[0m\u001b[0;34m,\u001b[0m \u001b[0mv\u001b[0m \u001b[0;32min\u001b[0m \u001b[0menumerate\u001b[0m\u001b[0;34m(\u001b[0m\u001b[0mseries_gen\u001b[0m\u001b[0;34m)\u001b[0m\u001b[0;34m:\u001b[0m\u001b[0;34m\u001b[0m\u001b[0;34m\u001b[0m\u001b[0m\n\u001b[1;32m    872\u001b[0m                 \u001b[0;31m# ignore SettingWithCopy here in case the user mutates\u001b[0m\u001b[0;34m\u001b[0m\u001b[0;34m\u001b[0m\u001b[0m\n\u001b[0;32m--> 873\u001b[0;31m                 \u001b[0mresults\u001b[0m\u001b[0;34m[\u001b[0m\u001b[0mi\u001b[0m\u001b[0;34m]\u001b[0m \u001b[0;34m=\u001b[0m \u001b[0mself\u001b[0m\u001b[0;34m.\u001b[0m\u001b[0mf\u001b[0m\u001b[0;34m(\u001b[0m\u001b[0mv\u001b[0m\u001b[0;34m)\u001b[0m\u001b[0;34m\u001b[0m\u001b[0;34m\u001b[0m\u001b[0m\n\u001b[0m\u001b[1;32m    874\u001b[0m                 \u001b[0;32mif\u001b[0m \u001b[0misinstance\u001b[0m\u001b[0;34m(\u001b[0m\u001b[0mresults\u001b[0m\u001b[0;34m[\u001b[0m\u001b[0mi\u001b[0m\u001b[0;34m]\u001b[0m\u001b[0;34m,\u001b[0m \u001b[0mABCSeries\u001b[0m\u001b[0;34m)\u001b[0m\u001b[0;34m:\u001b[0m\u001b[0;34m\u001b[0m\u001b[0;34m\u001b[0m\u001b[0m\n\u001b[1;32m    875\u001b[0m                     \u001b[0;31m# If we have a view on v, we need to make a copy because\u001b[0m\u001b[0;34m\u001b[0m\u001b[0;34m\u001b[0m\u001b[0m\n",
      "\u001b[0;32m/var/folders/m5/8d669b8n0vl1_87nc6mbcytm0000gn/T/ipykernel_18589/2439140555.py\u001b[0m in \u001b[0;36m<lambda>\u001b[0;34m(x)\u001b[0m\n\u001b[0;32m----> 1\u001b[0;31m \u001b[0mdf\u001b[0m\u001b[0;34m[\u001b[0m\u001b[0;34m'focal_ratio'\u001b[0m\u001b[0;34m]\u001b[0m \u001b[0;34m=\u001b[0m \u001b[0mdf\u001b[0m\u001b[0;34m.\u001b[0m\u001b[0mapply\u001b[0m\u001b[0;34m(\u001b[0m\u001b[0;32mlambda\u001b[0m \u001b[0mx\u001b[0m\u001b[0;34m:\u001b[0m \u001b[0mget_focal_ratio\u001b[0m\u001b[0;34m(\u001b[0m\u001b[0mx\u001b[0m\u001b[0;34m.\u001b[0m\u001b[0mfocal_ID\u001b[0m\u001b[0;34m,\u001b[0m \u001b[0mx\u001b[0m\u001b[0;34m.\u001b[0m\u001b[0mpartner_ID\u001b[0m\u001b[0;34m)\u001b[0m\u001b[0;34m,\u001b[0m \u001b[0maxis\u001b[0m\u001b[0;34m=\u001b[0m\u001b[0;36m1\u001b[0m\u001b[0;34m)\u001b[0m\u001b[0;34m\u001b[0m\u001b[0;34m\u001b[0m\u001b[0m\n\u001b[0m\u001b[1;32m      2\u001b[0m \u001b[0mdf\u001b[0m\u001b[0;34m[\u001b[0m\u001b[0;34m'partner_ratio'\u001b[0m\u001b[0;34m]\u001b[0m \u001b[0;34m=\u001b[0m \u001b[0mdf\u001b[0m\u001b[0;34m.\u001b[0m\u001b[0mapply\u001b[0m\u001b[0;34m(\u001b[0m\u001b[0;32mlambda\u001b[0m \u001b[0mx\u001b[0m\u001b[0;34m:\u001b[0m \u001b[0mget_partner_ratio\u001b[0m\u001b[0;34m(\u001b[0m\u001b[0mx\u001b[0m\u001b[0;34m.\u001b[0m\u001b[0mfocal_ID\u001b[0m\u001b[0;34m,\u001b[0m \u001b[0mx\u001b[0m\u001b[0;34m.\u001b[0m\u001b[0mpartner_ID\u001b[0m\u001b[0;34m)\u001b[0m\u001b[0;34m,\u001b[0m \u001b[0maxis\u001b[0m\u001b[0;34m=\u001b[0m\u001b[0;36m1\u001b[0m\u001b[0;34m)\u001b[0m\u001b[0;34m\u001b[0m\u001b[0;34m\u001b[0m\u001b[0m\n",
      "\u001b[0;32m/var/folders/m5/8d669b8n0vl1_87nc6mbcytm0000gn/T/ipykernel_18589/4160505359.py\u001b[0m in \u001b[0;36mget_focal_ratio\u001b[0;34m(x1, x2)\u001b[0m\n\u001b[1;32m      1\u001b[0m \u001b[0;32mdef\u001b[0m \u001b[0mget_focal_ratio\u001b[0m\u001b[0;34m(\u001b[0m\u001b[0mx1\u001b[0m\u001b[0;34m,\u001b[0m\u001b[0mx2\u001b[0m\u001b[0;34m)\u001b[0m\u001b[0;34m:\u001b[0m\u001b[0;34m\u001b[0m\u001b[0;34m\u001b[0m\u001b[0m\n\u001b[0;32m----> 2\u001b[0;31m     \u001b[0;32mreturn\u001b[0m \u001b[0mdf_counts\u001b[0m\u001b[0;34m.\u001b[0m\u001b[0mloc\u001b[0m\u001b[0;34m[\u001b[0m\u001b[0;34m(\u001b[0m\u001b[0mdf_counts\u001b[0m\u001b[0;34m[\u001b[0m\u001b[0;34m'focal'\u001b[0m\u001b[0;34m]\u001b[0m \u001b[0;34m==\u001b[0m \u001b[0mx1\u001b[0m\u001b[0;34m)\u001b[0m \u001b[0;34m&\u001b[0m \u001b[0;34m(\u001b[0m\u001b[0mdf_counts\u001b[0m\u001b[0;34m[\u001b[0m\u001b[0;34m'partner'\u001b[0m\u001b[0;34m]\u001b[0m\u001b[0;34m==\u001b[0m\u001b[0mx2\u001b[0m\u001b[0;34m)\u001b[0m\u001b[0;34m]\u001b[0m\u001b[0;34m.\u001b[0m\u001b[0miloc\u001b[0m\u001b[0;34m[\u001b[0m\u001b[0;36m0\u001b[0m\u001b[0;34m]\u001b[0m\u001b[0;34m[\u001b[0m\u001b[0;34m'focal_ratio'\u001b[0m\u001b[0;34m]\u001b[0m\u001b[0;34m\u001b[0m\u001b[0;34m\u001b[0m\u001b[0m\n\u001b[0m\u001b[1;32m      3\u001b[0m \u001b[0;32mdef\u001b[0m \u001b[0mget_partner_ratio\u001b[0m\u001b[0;34m(\u001b[0m\u001b[0mx1\u001b[0m\u001b[0;34m,\u001b[0m\u001b[0mx2\u001b[0m\u001b[0;34m)\u001b[0m\u001b[0;34m:\u001b[0m\u001b[0;34m\u001b[0m\u001b[0;34m\u001b[0m\u001b[0m\n\u001b[1;32m      4\u001b[0m     \u001b[0;32mreturn\u001b[0m \u001b[0mdf_counts\u001b[0m\u001b[0;34m.\u001b[0m\u001b[0mloc\u001b[0m\u001b[0;34m[\u001b[0m\u001b[0;34m(\u001b[0m\u001b[0mdf_counts\u001b[0m\u001b[0;34m[\u001b[0m\u001b[0;34m'focal'\u001b[0m\u001b[0;34m]\u001b[0m \u001b[0;34m==\u001b[0m \u001b[0mx1\u001b[0m\u001b[0;34m)\u001b[0m \u001b[0;34m&\u001b[0m \u001b[0;34m(\u001b[0m\u001b[0mdf_counts\u001b[0m\u001b[0;34m[\u001b[0m\u001b[0;34m'partner'\u001b[0m\u001b[0;34m]\u001b[0m\u001b[0;34m==\u001b[0m\u001b[0mx2\u001b[0m\u001b[0;34m)\u001b[0m\u001b[0;34m]\u001b[0m\u001b[0;34m.\u001b[0m\u001b[0miloc\u001b[0m\u001b[0;34m[\u001b[0m\u001b[0;36m0\u001b[0m\u001b[0;34m]\u001b[0m\u001b[0;34m[\u001b[0m\u001b[0;34m'partner_ratio'\u001b[0m\u001b[0;34m]\u001b[0m\u001b[0;34m\u001b[0m\u001b[0;34m\u001b[0m\u001b[0m\n",
      "\u001b[0;32m~/opt/anaconda3/lib/python3.9/site-packages/pandas/core/ops/common.py\u001b[0m in \u001b[0;36mnew_method\u001b[0;34m(self, other)\u001b[0m\n\u001b[1;32m     68\u001b[0m         \u001b[0mother\u001b[0m \u001b[0;34m=\u001b[0m \u001b[0mitem_from_zerodim\u001b[0m\u001b[0;34m(\u001b[0m\u001b[0mother\u001b[0m\u001b[0;34m)\u001b[0m\u001b[0;34m\u001b[0m\u001b[0;34m\u001b[0m\u001b[0m\n\u001b[1;32m     69\u001b[0m \u001b[0;34m\u001b[0m\u001b[0m\n\u001b[0;32m---> 70\u001b[0;31m         \u001b[0;32mreturn\u001b[0m \u001b[0mmethod\u001b[0m\u001b[0;34m(\u001b[0m\u001b[0mself\u001b[0m\u001b[0;34m,\u001b[0m \u001b[0mother\u001b[0m\u001b[0;34m)\u001b[0m\u001b[0;34m\u001b[0m\u001b[0;34m\u001b[0m\u001b[0m\n\u001b[0m\u001b[1;32m     71\u001b[0m \u001b[0;34m\u001b[0m\u001b[0m\n\u001b[1;32m     72\u001b[0m     \u001b[0;32mreturn\u001b[0m \u001b[0mnew_method\u001b[0m\u001b[0;34m\u001b[0m\u001b[0;34m\u001b[0m\u001b[0m\n",
      "\u001b[0;32m~/opt/anaconda3/lib/python3.9/site-packages/pandas/core/arraylike.py\u001b[0m in \u001b[0;36m__eq__\u001b[0;34m(self, other)\u001b[0m\n\u001b[1;32m     38\u001b[0m     \u001b[0;34m@\u001b[0m\u001b[0munpack_zerodim_and_defer\u001b[0m\u001b[0;34m(\u001b[0m\u001b[0;34m\"__eq__\"\u001b[0m\u001b[0;34m)\u001b[0m\u001b[0;34m\u001b[0m\u001b[0;34m\u001b[0m\u001b[0m\n\u001b[1;32m     39\u001b[0m     \u001b[0;32mdef\u001b[0m \u001b[0m__eq__\u001b[0m\u001b[0;34m(\u001b[0m\u001b[0mself\u001b[0m\u001b[0;34m,\u001b[0m \u001b[0mother\u001b[0m\u001b[0;34m)\u001b[0m\u001b[0;34m:\u001b[0m\u001b[0;34m\u001b[0m\u001b[0;34m\u001b[0m\u001b[0m\n\u001b[0;32m---> 40\u001b[0;31m         \u001b[0;32mreturn\u001b[0m \u001b[0mself\u001b[0m\u001b[0;34m.\u001b[0m\u001b[0m_cmp_method\u001b[0m\u001b[0;34m(\u001b[0m\u001b[0mother\u001b[0m\u001b[0;34m,\u001b[0m \u001b[0moperator\u001b[0m\u001b[0;34m.\u001b[0m\u001b[0meq\u001b[0m\u001b[0;34m)\u001b[0m\u001b[0;34m\u001b[0m\u001b[0;34m\u001b[0m\u001b[0m\n\u001b[0m\u001b[1;32m     41\u001b[0m \u001b[0;34m\u001b[0m\u001b[0m\n\u001b[1;32m     42\u001b[0m     \u001b[0;34m@\u001b[0m\u001b[0munpack_zerodim_and_defer\u001b[0m\u001b[0;34m(\u001b[0m\u001b[0;34m\"__ne__\"\u001b[0m\u001b[0;34m)\u001b[0m\u001b[0;34m\u001b[0m\u001b[0;34m\u001b[0m\u001b[0m\n",
      "\u001b[0;32m~/opt/anaconda3/lib/python3.9/site-packages/pandas/core/series.py\u001b[0m in \u001b[0;36m_cmp_method\u001b[0;34m(self, other, op)\u001b[0m\n\u001b[1;32m   5623\u001b[0m             \u001b[0mres_values\u001b[0m \u001b[0;34m=\u001b[0m \u001b[0mops\u001b[0m\u001b[0;34m.\u001b[0m\u001b[0mcomparison_op\u001b[0m\u001b[0;34m(\u001b[0m\u001b[0mlvalues\u001b[0m\u001b[0;34m,\u001b[0m \u001b[0mrvalues\u001b[0m\u001b[0;34m,\u001b[0m \u001b[0mop\u001b[0m\u001b[0;34m)\u001b[0m\u001b[0;34m\u001b[0m\u001b[0;34m\u001b[0m\u001b[0m\n\u001b[1;32m   5624\u001b[0m \u001b[0;34m\u001b[0m\u001b[0m\n\u001b[0;32m-> 5625\u001b[0;31m         \u001b[0;32mreturn\u001b[0m \u001b[0mself\u001b[0m\u001b[0;34m.\u001b[0m\u001b[0m_construct_result\u001b[0m\u001b[0;34m(\u001b[0m\u001b[0mres_values\u001b[0m\u001b[0;34m,\u001b[0m \u001b[0mname\u001b[0m\u001b[0;34m=\u001b[0m\u001b[0mres_name\u001b[0m\u001b[0;34m)\u001b[0m\u001b[0;34m\u001b[0m\u001b[0;34m\u001b[0m\u001b[0m\n\u001b[0m\u001b[1;32m   5626\u001b[0m \u001b[0;34m\u001b[0m\u001b[0m\n\u001b[1;32m   5627\u001b[0m     \u001b[0;32mdef\u001b[0m \u001b[0m_logical_method\u001b[0m\u001b[0;34m(\u001b[0m\u001b[0mself\u001b[0m\u001b[0;34m,\u001b[0m \u001b[0mother\u001b[0m\u001b[0;34m,\u001b[0m \u001b[0mop\u001b[0m\u001b[0;34m)\u001b[0m\u001b[0;34m:\u001b[0m\u001b[0;34m\u001b[0m\u001b[0;34m\u001b[0m\u001b[0m\n",
      "\u001b[0;32m~/opt/anaconda3/lib/python3.9/site-packages/pandas/core/series.py\u001b[0m in \u001b[0;36m_construct_result\u001b[0;34m(self, result, name)\u001b[0m\n\u001b[1;32m   3015\u001b[0m         \u001b[0;31m# We do not pass dtype to ensure that the Series constructor\u001b[0m\u001b[0;34m\u001b[0m\u001b[0;34m\u001b[0m\u001b[0m\n\u001b[1;32m   3016\u001b[0m         \u001b[0;31m#  does inference in the case where `result` has object-dtype.\u001b[0m\u001b[0;34m\u001b[0m\u001b[0;34m\u001b[0m\u001b[0m\n\u001b[0;32m-> 3017\u001b[0;31m         \u001b[0mout\u001b[0m \u001b[0;34m=\u001b[0m \u001b[0mself\u001b[0m\u001b[0;34m.\u001b[0m\u001b[0m_constructor\u001b[0m\u001b[0;34m(\u001b[0m\u001b[0mresult\u001b[0m\u001b[0;34m,\u001b[0m \u001b[0mindex\u001b[0m\u001b[0;34m=\u001b[0m\u001b[0mself\u001b[0m\u001b[0;34m.\u001b[0m\u001b[0mindex\u001b[0m\u001b[0;34m)\u001b[0m\u001b[0;34m\u001b[0m\u001b[0;34m\u001b[0m\u001b[0m\n\u001b[0m\u001b[1;32m   3018\u001b[0m         \u001b[0mout\u001b[0m \u001b[0;34m=\u001b[0m \u001b[0mout\u001b[0m\u001b[0;34m.\u001b[0m\u001b[0m__finalize__\u001b[0m\u001b[0;34m(\u001b[0m\u001b[0mself\u001b[0m\u001b[0;34m)\u001b[0m\u001b[0;34m\u001b[0m\u001b[0;34m\u001b[0m\u001b[0m\n\u001b[1;32m   3019\u001b[0m \u001b[0;34m\u001b[0m\u001b[0m\n",
      "\u001b[0;32m~/opt/anaconda3/lib/python3.9/site-packages/pandas/core/series.py\u001b[0m in \u001b[0;36m__init__\u001b[0;34m(self, data, index, dtype, name, copy, fastpath)\u001b[0m\n\u001b[1;32m    457\u001b[0m                     \u001b[0mdata\u001b[0m \u001b[0;34m=\u001b[0m \u001b[0mSingleArrayManager\u001b[0m\u001b[0;34m.\u001b[0m\u001b[0mfrom_array\u001b[0m\u001b[0;34m(\u001b[0m\u001b[0mdata\u001b[0m\u001b[0;34m,\u001b[0m \u001b[0mindex\u001b[0m\u001b[0;34m)\u001b[0m\u001b[0;34m\u001b[0m\u001b[0;34m\u001b[0m\u001b[0m\n\u001b[1;32m    458\u001b[0m \u001b[0;34m\u001b[0m\u001b[0m\n\u001b[0;32m--> 459\u001b[0;31m         \u001b[0mNDFrame\u001b[0m\u001b[0;34m.\u001b[0m\u001b[0m__init__\u001b[0m\u001b[0;34m(\u001b[0m\u001b[0mself\u001b[0m\u001b[0;34m,\u001b[0m \u001b[0mdata\u001b[0m\u001b[0;34m)\u001b[0m\u001b[0;34m\u001b[0m\u001b[0;34m\u001b[0m\u001b[0m\n\u001b[0m\u001b[1;32m    460\u001b[0m         \u001b[0mself\u001b[0m\u001b[0;34m.\u001b[0m\u001b[0mname\u001b[0m \u001b[0;34m=\u001b[0m \u001b[0mname\u001b[0m\u001b[0;34m\u001b[0m\u001b[0;34m\u001b[0m\u001b[0m\n\u001b[1;32m    461\u001b[0m         \u001b[0mself\u001b[0m\u001b[0;34m.\u001b[0m\u001b[0m_set_axis\u001b[0m\u001b[0;34m(\u001b[0m\u001b[0;36m0\u001b[0m\u001b[0;34m,\u001b[0m \u001b[0mindex\u001b[0m\u001b[0;34m,\u001b[0m \u001b[0mfastpath\u001b[0m\u001b[0;34m=\u001b[0m\u001b[0;32mTrue\u001b[0m\u001b[0;34m)\u001b[0m\u001b[0;34m\u001b[0m\u001b[0;34m\u001b[0m\u001b[0m\n",
      "\u001b[0;32m~/opt/anaconda3/lib/python3.9/site-packages/pandas/core/generic.py\u001b[0m in \u001b[0;36m__init__\u001b[0;34m(self, data, copy, attrs)\u001b[0m\n\u001b[1;32m    246\u001b[0m \u001b[0;34m\u001b[0m\u001b[0m\n\u001b[1;32m    247\u001b[0m         \u001b[0mobject\u001b[0m\u001b[0;34m.\u001b[0m\u001b[0m__setattr__\u001b[0m\u001b[0;34m(\u001b[0m\u001b[0mself\u001b[0m\u001b[0;34m,\u001b[0m \u001b[0;34m\"_is_copy\"\u001b[0m\u001b[0;34m,\u001b[0m \u001b[0;32mNone\u001b[0m\u001b[0;34m)\u001b[0m\u001b[0;34m\u001b[0m\u001b[0;34m\u001b[0m\u001b[0m\n\u001b[0;32m--> 248\u001b[0;31m         \u001b[0mobject\u001b[0m\u001b[0;34m.\u001b[0m\u001b[0m__setattr__\u001b[0m\u001b[0;34m(\u001b[0m\u001b[0mself\u001b[0m\u001b[0;34m,\u001b[0m \u001b[0;34m\"_mgr\"\u001b[0m\u001b[0;34m,\u001b[0m \u001b[0mdata\u001b[0m\u001b[0;34m)\u001b[0m\u001b[0;34m\u001b[0m\u001b[0;34m\u001b[0m\u001b[0m\n\u001b[0m\u001b[1;32m    249\u001b[0m         \u001b[0mobject\u001b[0m\u001b[0;34m.\u001b[0m\u001b[0m__setattr__\u001b[0m\u001b[0;34m(\u001b[0m\u001b[0mself\u001b[0m\u001b[0;34m,\u001b[0m \u001b[0;34m\"_item_cache\"\u001b[0m\u001b[0;34m,\u001b[0m \u001b[0;34m{\u001b[0m\u001b[0;34m}\u001b[0m\u001b[0;34m)\u001b[0m\u001b[0;34m\u001b[0m\u001b[0;34m\u001b[0m\u001b[0m\n\u001b[1;32m    250\u001b[0m         \u001b[0;32mif\u001b[0m \u001b[0mattrs\u001b[0m \u001b[0;32mis\u001b[0m \u001b[0;32mNone\u001b[0m\u001b[0;34m:\u001b[0m\u001b[0;34m\u001b[0m\u001b[0;34m\u001b[0m\u001b[0m\n",
      "\u001b[0;31mKeyboardInterrupt\u001b[0m: "
     ]
    }
   ],
   "source": [
    "df['focal_ratio'] = df.apply(lambda x: get_focal_ratio(x.focal_ID, x.partner_ID), axis=1)\n",
    "df['partner_ratio'] = df.apply(lambda x: get_partner_ratio(x.focal_ID, x.partner_ID), axis=1)"
   ]
  },
  {
   "cell_type": "code",
   "execution_count": null,
   "metadata": {},
   "outputs": [],
   "source": [
    "df['together_ratio'] = df.apply(lambda x: get_ratio_together(x.focal_ID, x.partner_ID), axis=1)"
   ]
  },
  {
   "cell_type": "code",
   "execution_count": 18,
   "metadata": {},
   "outputs": [
    {
     "data": {
      "image/png": "[encoded data removed]",
      "text/plain": [
       "<Figure size 432x576 with 1 Axes>"
      ]
     },
     "metadata": {
      "needs_background": "light"
     },
     "output_type": "display_data"
    }
   ],
   "source": [
    "plt.subplots(1,1,figsize= (6,8))\n",
    "\n",
    "df['focal_ratio'].hist(bins = 10, width = 0.08, density = True, alpha = 0.5)\n",
    "plt.grid(False)"
   ]
  },
  {
   "cell_type": "code",
   "execution_count": 19,
   "metadata": {},
   "outputs": [
    {
     "data": {
      "image/png": "[encoded data removed]",
      "text/plain": [
       "<Figure size 432x576 with 1 Axes>"
      ]
     },
     "metadata": {
      "needs_background": "light"
     },
     "output_type": "display_data"
    }
   ],
   "source": [
    "plt.subplots(1,1,figsize= (6,8))\n",
    "\n",
    "df['partner_ratio'].hist(bins = 10, width = 0.08, density = True, alpha = 0.5)\n",
    "plt.grid(False)"
   ]
  },
  {
   "cell_type": "code",
   "execution_count": 20,
   "metadata": {},
   "outputs": [
    {
     "data": {
      "image/png": "[encoded data removed]",
      "text/plain": [
       "<Figure size 432x576 with 1 Axes>"
      ]
     },
     "metadata": {
      "needs_background": "light"
     },
     "output_type": "display_data"
    }
   ],
   "source": [
    "plt.subplots(1,1,figsize= (6,8))\n",
    "\n",
    "df['together_ratio'].hist(bins = 5, width = 0.18, density = True, alpha = 0.5)\n",
    "plt.grid(False)"
   ]
  },
  {
   "cell_type": "markdown",
   "metadata": {},
   "source": [
    "### 1.1 Partner"
   ]
  },
  {
   "cell_type": "code",
   "execution_count": 21,
   "metadata": {},
   "outputs": [],
   "source": [
    "bins = np.arange(0,1.1,0.1)\n",
    "\n",
    "list_viz_overall = []\n",
    "\n",
    "for i in range(len(bins)-1):\n",
    "    t = df.loc[((df['partner_ratio'] > bins[i]) & ( df['partner_ratio'] <= bins[i+1]))]\n",
    "\n",
    "    try:\n",
    "        treated_p = t.loc[t['exposure']==1]['outcome'].value_counts(normalize = True)[1]\n",
    "    except:\n",
    "        treated_p = 0\n",
    "\n",
    "    try:\n",
    "        control_p = t.loc[t['exposure']==0]['outcome'].value_counts(normalize = True)[1]\n",
    "    except:\n",
    "        control_p = 0\n",
    "\n",
    "    entry = {}\n",
    "\n",
    "    entry['treated_p'] = treated_p\n",
    "    entry['control_p'] = control_p\n",
    "\n",
    "    entry['ATE'] = treated_p - control_p\n",
    "\n",
    "    ys = []\n",
    "    for iteration in range(1000):\n",
    "        try:\n",
    "            pos_tmp = t.loc[t['exposure']==1].sample(len(t.loc[t['exposure']==1]), replace = True)['outcome'].value_counts(normalize = True)[1]   \n",
    "        except KeyError as e:\n",
    "            pos_tmp = 0\n",
    "\n",
    "        try:\n",
    "            neg_tmp = t.loc[t['exposure']==0].sample(len(t.loc[t['exposure']==1]), replace = True)['outcome'].value_counts(normalize = True)[1]\n",
    "        except KeyError as e:\n",
    "            neg_tmp = 0\n",
    "\n",
    "        y_tmp = pos_tmp - neg_tmp\n",
    "\n",
    "        ys.append(y_tmp)\n",
    "\n",
    "    entry['lower_error'] = (np.percentile(np.array(ys), 2.5))\n",
    "    entry['upper_error'] = (np.percentile(np.array(ys),97.5))\n",
    "\n",
    "    entry['bin'] = i\n",
    "\n",
    "    list_viz_overall.append(entry)"
   ]
  },
  {
   "cell_type": "code",
   "execution_count": 22,
   "metadata": {},
   "outputs": [],
   "source": [
    "gr = pd.DataFrame(list_viz_overall)"
   ]
  },
  {
   "cell_type": "code",
   "execution_count": 23,
   "metadata": {},
   "outputs": [
    {
     "data": {
      "text/plain": [
       "(0.05, 0.3)"
      ]
     },
     "execution_count": 23,
     "metadata": {},
     "output_type": "execute_result"
    },
    {
     "data": {
      "image/png": "[encoded data removed]",
      "text/plain": [
       "<Figure size 432x576 with 1 Axes>"
      ]
     },
     "metadata": {
      "needs_background": "light"
     },
     "output_type": "display_data"
    }
   ],
   "source": [
    "plt.subplots(1,1,figsize= (6,8))\n",
    "\n",
    "\n",
    "gr = pd.DataFrame(list_viz_overall)\n",
    "\n",
    "plt.plot(gr['bin'],gr['ATE'], linestyle = '-.', marker = 'o', markersize= 3)\n",
    "plt.fill_between(gr['bin'], gr['lower_error'], gr['upper_error'], alpha = 0.3)\n",
    "\n",
    "plt.xticks(gr['bin'], bins[:-1]);\n",
    "\n",
    "plt.xlabel('Partner, #times eats with focal / #times eats together with someone');\n",
    "#plt.ylim([0,0.5])\n",
    "\n",
    "\n",
    "\n",
    "\n",
    "plt.xticks(np.array(gr['bin'])-0.5, [round(i,3) for i in bins]);\n",
    "\n",
    "plt.ylabel('RD')\n",
    "plt.ylim([0.05, 0.3])"
   ]
  },
  {
   "cell_type": "markdown",
   "metadata": {},
   "source": [
    "### 1.2 Focal"
   ]
  },
  {
   "cell_type": "code",
   "execution_count": 24,
   "metadata": {},
   "outputs": [],
   "source": [
    "bins = np.arange(0,1.1,0.1)\n",
    "\n",
    "list_viz_overall = []\n",
    "\n",
    "for i in range(len(bins)-1):\n",
    "    t = df.loc[((df['focal_ratio'] > bins[i]) & ( df['focal_ratio'] <= bins[i+1]))]\n",
    "\n",
    "    try:\n",
    "        treated_p = t.loc[t['exposure']==1]['outcome'].value_counts(normalize = True)[1]\n",
    "    except:\n",
    "        treated_p = 0\n",
    "\n",
    "    try:\n",
    "        control_p = t.loc[t['exposure']==0]['outcome'].value_counts(normalize = True)[1]\n",
    "    except:\n",
    "        control_p = 0\n",
    "\n",
    "    entry = {}\n",
    "\n",
    "    entry['treated_p'] = treated_p\n",
    "    entry['control_p'] = control_p\n",
    "\n",
    "    entry['ATE'] = treated_p - control_p\n",
    "\n",
    "    ys = []\n",
    "    for iteration in range(1000):\n",
    "        try:\n",
    "            pos_tmp = t.loc[t['exposure']==1].sample(len(t.loc[t['exposure']==1]), replace = True)['outcome'].value_counts(normalize = True)[1]   \n",
    "        except KeyError as e:\n",
    "            pos_tmp = 0\n",
    "\n",
    "        try:\n",
    "            neg_tmp = t.loc[t['exposure']==0].sample(len(t.loc[t['exposure']==1]), replace = True)['outcome'].value_counts(normalize = True)[1]\n",
    "        except KeyError as e:\n",
    "            neg_tmp = 0\n",
    "\n",
    "        y_tmp = pos_tmp - neg_tmp\n",
    "\n",
    "        ys.append(y_tmp)\n",
    "\n",
    "    entry['lower_error'] = (np.percentile(np.array(ys), 2.5))\n",
    "    entry['upper_error'] = (np.percentile(np.array(ys),97.5))\n",
    "\n",
    "    entry['bin'] = i\n",
    "\n",
    "    list_viz_overall.append(entry)"
   ]
  },
  {
   "cell_type": "code",
   "execution_count": 25,
   "metadata": {},
   "outputs": [],
   "source": [
    "gr = pd.DataFrame(list_viz_overall)"
   ]
  },
  {
   "cell_type": "code",
   "execution_count": 26,
   "metadata": {},
   "outputs": [
    {
     "data": {
      "text/plain": [
       "(0.05, 0.3)"
      ]
     },
     "execution_count": 26,
     "metadata": {},
     "output_type": "execute_result"
    },
    {
     "data": {
      "image/png": "[encoded data removed]",
      "text/plain": [
       "<Figure size 432x576 with 1 Axes>"
      ]
     },
     "metadata": {
      "needs_background": "light"
     },
     "output_type": "display_data"
    }
   ],
   "source": [
    "plt.subplots(1,1,figsize= (6,8))\n",
    "\n",
    "\n",
    "gr = pd.DataFrame(list_viz_overall)\n",
    "\n",
    "plt.plot(gr['bin'],gr['ATE'], linestyle = '-.', marker = 'o', markersize= 3)\n",
    "plt.fill_between(gr['bin'], gr['lower_error'], gr['upper_error'], alpha = 0.3)\n",
    "\n",
    "plt.xticks(gr['bin'], bins[:-1]);\n",
    "\n",
    "plt.xlabel('Focal, #times eats with focal / #times eats together with someone');\n",
    "#plt.ylim([0,0.5])\n",
    "\n",
    "\n",
    "plt.xticks(np.array(gr['bin'])-0.5, [round(i,3) for i in bins]);\n",
    "\n",
    "plt.ylabel('RD')\n",
    "plt.ylim([0.05, 0.3])"
   ]
  },
  {
   "cell_type": "code",
   "execution_count": 27,
   "metadata": {},
   "outputs": [],
   "source": [
    "## even in situations when they usally go with others so would be less likely to coordinate\n",
    "## we see an effect"
   ]
  },
  {
   "cell_type": "markdown",
   "metadata": {},
   "source": [
    "### 1.3 Ratio together\n",
    "### Out of all instances when eithe rone of them is observed to eat with someone, in what fraction do they eat together"
   ]
  },
  {
   "cell_type": "code",
   "execution_count": 28,
   "metadata": {},
   "outputs": [],
   "source": [
    "bins = np.arange(0,1.2,0.2)\n",
    "\n",
    "list_viz_overall = []\n",
    "\n",
    "for i in range(len(bins)-1):\n",
    "    t = df.loc[((df['together_ratio'] > bins[i]) & ( df['together_ratio'] <= bins[i+1]))]\n",
    "\n",
    "    try:\n",
    "        treated_p = t.loc[t['exposure']==1]['outcome'].value_counts(normalize = True)[1]\n",
    "    except:\n",
    "        treated_p = 0\n",
    "\n",
    "    try:\n",
    "        control_p = t.loc[t['exposure']==0]['outcome'].value_counts(normalize = True)[1]\n",
    "    except:\n",
    "        control_p = 0\n",
    "\n",
    "    entry = {}\n",
    "\n",
    "    entry['treated_p'] = treated_p\n",
    "    entry['control_p'] = control_p\n",
    "\n",
    "    entry['ATE'] = treated_p - control_p\n",
    "\n",
    "    ys = []\n",
    "    for iteration in range(1000):\n",
    "        try:\n",
    "            pos_tmp = t.loc[t['exposure']==1].sample(len(t.loc[t['exposure']==1]), replace = True)['outcome'].value_counts(normalize = True)[1]   \n",
    "        except KeyError as e:\n",
    "            pos_tmp = 0\n",
    "\n",
    "        try:\n",
    "            neg_tmp = t.loc[t['exposure']==0].sample(len(t.loc[t['exposure']==1]), replace = True)['outcome'].value_counts(normalize = True)[1]\n",
    "        except KeyError as e:\n",
    "            neg_tmp = 0\n",
    "\n",
    "        y_tmp = pos_tmp - neg_tmp\n",
    "\n",
    "        ys.append(y_tmp)\n",
    "\n",
    "    entry['lower_error'] = (np.percentile(np.array(ys), 2.5))\n",
    "    entry['upper_error'] = (np.percentile(np.array(ys),97.5))\n",
    "\n",
    "    entry['bin'] = i\n",
    "\n",
    "    list_viz_overall.append(entry)"
   ]
  },
  {
   "cell_type": "code",
   "execution_count": 29,
   "metadata": {},
   "outputs": [],
   "source": [
    "gr = pd.DataFrame(list_viz_overall)"
   ]
  },
  {
   "cell_type": "code",
   "execution_count": 30,
   "metadata": {},
   "outputs": [
    {
     "data": {
      "text/plain": [
       "Text(0, 0.5, 'RD')"
      ]
     },
     "execution_count": 30,
     "metadata": {},
     "output_type": "execute_result"
    },
    {
     "data": {
      "image/png": "[encoded data removed]",
      "text/plain": [
       "<Figure size 432x576 with 1 Axes>"
      ]
     },
     "metadata": {
      "needs_background": "light"
     },
     "output_type": "display_data"
    }
   ],
   "source": [
    "plt.subplots(1,1,figsize= (6,8))\n",
    "\n",
    "\n",
    "gr = pd.DataFrame(list_viz_overall)\n",
    "\n",
    "plt.plot(gr['bin'],gr['ATE'], linestyle = '-.', marker = 'o', markersize= 3)\n",
    "plt.fill_between(gr['bin'], gr['lower_error'], gr['upper_error'], alpha = 0.3)\n",
    "\n",
    "plt.xticks(gr['bin'], bins[:-1]);\n",
    "\n",
    "plt.xlabel('#times eat together / #times either person in \\nthe pair eats together with someone');\n",
    "#plt.ylim([0,0.5])\n",
    "\n",
    "\n",
    "\n",
    "plt.xticks(np.array(gr['bin'])-0.5, [round(i,3) for i in bins]);\n",
    "\n",
    "plt.ylabel('RD')\n",
    "#plt.ylim([0.05, 0.3])"
   ]
  },
  {
   "cell_type": "markdown",
   "metadata": {},
   "source": [
    "## 2. Alternative DAG"
   ]
  },
  {
   "cell_type": "markdown",
   "metadata": {},
   "source": [
    "### X_a, X_b"
   ]
  },
  {
   "cell_type": "code",
   "execution_count": 14,
   "metadata": {},
   "outputs": [],
   "source": [
    "if PRECOMPUTED:\n",
    "    pass\n",
    "else:\n",
    "    #for different additions\n",
    "\n",
    "    list_viz = []\n",
    "\n",
    "    for meal in ['BREAKFAST', 'LUNCH', 'AFTERNOON SNACK']:\n",
    "        for addition in additions[meal]:\n",
    "\n",
    "            # covariates to match on:\n",
    "            covariates_categorical = ['partner_ID', 'focal_ID','shop', 'MEAL']\n",
    "            covariates_continuous = 'popularity_'+addition\n",
    "\n",
    "            #additional covariates: N, 'focal_ID' \n",
    "\n",
    "            print('\\n')\n",
    "            print(meal)\n",
    "            print(addition)\n",
    "\n",
    "            outcome = 'focal_'+addition\n",
    "            exposure = 'partner_'+addition\n",
    "\n",
    "\n",
    "            if meal == 'LUNCH':\n",
    "                treated = df_choices.loc[(df_choices['MEAL']==meal) & \\\n",
    "                                         (df_choices['partner_meal']) &\\\n",
    "                                         (df_choices['focal_meal'])].reset_index()\n",
    "            else:\n",
    "                treated = df_choices.loc[((df_choices['MEAL']==meal)) & \n",
    "                                        (df_choices['partner_coffee'] | df_choices['partner_tea']) & \n",
    "                                        (df_choices['focal_coffee'] | df_choices['focal_tea'] )].reset_index()\n",
    "\n",
    "\n",
    "            treated['focal_'+addition] = treated['focal_'+addition].astype(int)\n",
    "            treated['partner_'+addition] = treated['partner_'+addition].astype(int)\n",
    "\n",
    "            matching = set()\n",
    "\n",
    "            #control for categorical covariates\n",
    "            for partner,gr in tqdm(treated.groupby(covariates_categorical)):\n",
    "                treatment_df = gr[gr[exposure] == 1]\n",
    "                control_df = gr[gr[exposure] == 0]\n",
    "\n",
    "\n",
    "                if len(treatment_df)==0 or len(control_df)==0:\n",
    "                    continue\n",
    "                else:\n",
    "                    G = nx.Graph()\n",
    "                    for treatment_id, treated_row in treatment_df.iterrows():\n",
    "                        for control_id, control_row in control_df.iterrows():\n",
    "                            # add an edge only if continuous covariates match\n",
    "                            if np.abs(control_row['popularity_'+addition] - treated_row['popularity_'+addition]) < 0.1:\n",
    "                                # adds an edge\n",
    "                                G.add_weighted_edges_from([(control_id, treatment_id, 1)])\n",
    "\n",
    "                    #find optimal matching of situations\n",
    "                    matching.update(nx.max_weight_matching(G))\n",
    "\n",
    "            matched = [i[0] for i in list(matching)] + [i[1] for i in list(matching)]\n",
    "            balanced_df_all = treated.loc[treated.index.isin(matched)]\n",
    "\n",
    "\n",
    "            pos = balanced_df_all.loc[balanced_df_all[exposure] == 1] #treated\n",
    "            neg = balanced_df_all.loc[balanced_df_all[exposure] == 0] #control\n",
    "\n",
    "            print(len(pos))\n",
    "            pos['addition'] = addition\n",
    "            neg['addition'] = addition\n",
    "\n",
    "            pos[['focal_ID','partner_ID','MEAL','addition',exposure, outcome, 'delay', 'shop', 'timestamp',\n",
    "               'focal_p_student', 'partner_p_student', 'focal_gender',\n",
    "               'partner_gender', 'focal_age', 'partner_age', 'popularity_'+addition]].rename(columns = {exposure: 'exposure', outcome: 'outcome',\n",
    "                                                                                                       'popularity_'+addition: 'popularity'}).to_pickle('tmp/alternative_pos_' + addition +'_' +meal+ '.pkl')\n",
    "\n",
    "            neg[['focal_ID','partner_ID','MEAL','addition',exposure, outcome, 'delay', 'shop', 'timestamp',\n",
    "               'focal_p_student', 'partner_p_student', 'focal_gender',\n",
    "               'partner_gender', 'focal_age', 'partner_age', 'popularity_'+addition]].rename(columns = {exposure: 'exposure', outcome: 'outcome',\n",
    "                                                                                                       'popularity_'+addition: 'popularity'},).to_pickle('tmp/alternative_neg_' + addition +'_' +meal+'.pkl')\n",
    "\n",
    "    cnt = 0\n",
    "\n",
    "    check = 0\n",
    "\n",
    "    for meal in ['BREAKFAST','LUNCH','AFTERNOON SNACK']:\n",
    "        for addition in additions[meal]:\n",
    "            pos = pd.read_pickle('tmp/alternative_pos_' + addition +'_' +meal+'.pkl')\n",
    "            if cnt==0:\n",
    "                df = pos.copy(deep = True)\n",
    "            else:\n",
    "                df = pd.concat([df,pos])\n",
    "            cnt+=1\n",
    "            neg = pd.read_pickle('tmp/alternative_neg_' + addition +'_' +meal+'.pkl')\n",
    "            df = pd.concat([df,neg])\n",
    "\n",
    "            check+=len(pos) + len(neg)\n",
    "\n",
    "    df.to_pickle('tmp/alternnative_3_meals_matched_situations')"
   ]
  },
  {
   "cell_type": "code",
   "execution_count": 15,
   "metadata": {},
   "outputs": [],
   "source": [
    "df = pd.read_pickle('tmp/alternnative_3_meals_matched_situations')"
   ]
  },
  {
   "cell_type": "markdown",
   "metadata": {},
   "source": [
    "## Main analysis"
   ]
  },
  {
   "cell_type": "code",
   "execution_count": 16,
   "metadata": {},
   "outputs": [
    {
     "name": "stdout",
     "output_type": "stream",
     "text": [
      "ATE = 13.35 %\n"
     ]
    },
    {
     "ename": "KeyboardInterrupt",
     "evalue": "",
     "output_type": "error",
     "traceback": [
      "\u001b[0;31m---------------------------------------------------------------------------\u001b[0m",
      "\u001b[0;31mKeyboardInterrupt\u001b[0m                         Traceback (most recent call last)",
      "\u001b[0;32m/var/folders/m5/8d669b8n0vl1_87nc6mbcytm0000gn/T/ipykernel_44452/918850982.py\u001b[0m in \u001b[0;36m<module>\u001b[0;34m\u001b[0m\n\u001b[1;32m      6\u001b[0m \u001b[0mys\u001b[0m \u001b[0;34m=\u001b[0m \u001b[0;34m[\u001b[0m\u001b[0;34m]\u001b[0m\u001b[0;34m\u001b[0m\u001b[0;34m\u001b[0m\u001b[0m\n\u001b[1;32m      7\u001b[0m \u001b[0;32mfor\u001b[0m \u001b[0miteration\u001b[0m \u001b[0;32min\u001b[0m \u001b[0mrange\u001b[0m\u001b[0;34m(\u001b[0m\u001b[0;36m1000\u001b[0m\u001b[0;34m)\u001b[0m\u001b[0;34m:\u001b[0m\u001b[0;34m\u001b[0m\u001b[0;34m\u001b[0m\u001b[0m\n\u001b[0;32m----> 8\u001b[0;31m     \u001b[0mpos_tmp\u001b[0m \u001b[0;34m=\u001b[0m \u001b[0mdf\u001b[0m\u001b[0;34m.\u001b[0m\u001b[0mloc\u001b[0m\u001b[0;34m[\u001b[0m\u001b[0mdf\u001b[0m\u001b[0;34m[\u001b[0m\u001b[0;34m'exposure'\u001b[0m\u001b[0;34m]\u001b[0m\u001b[0;34m==\u001b[0m\u001b[0;36m1\u001b[0m\u001b[0;34m]\u001b[0m\u001b[0;34m.\u001b[0m\u001b[0msample\u001b[0m\u001b[0;34m(\u001b[0m\u001b[0mround\u001b[0m\u001b[0;34m(\u001b[0m\u001b[0mlen\u001b[0m\u001b[0;34m(\u001b[0m\u001b[0mdf\u001b[0m\u001b[0;34m)\u001b[0m\u001b[0;34m/\u001b[0m\u001b[0;36m2\u001b[0m\u001b[0;34m)\u001b[0m\u001b[0;34m,\u001b[0m \u001b[0mreplace\u001b[0m \u001b[0;34m=\u001b[0m \u001b[0;32mTrue\u001b[0m\u001b[0;34m)\u001b[0m\u001b[0;34m[\u001b[0m\u001b[0;34m'outcome'\u001b[0m\u001b[0;34m]\u001b[0m\u001b[0;34m.\u001b[0m\u001b[0mvalue_counts\u001b[0m\u001b[0;34m(\u001b[0m\u001b[0mnormalize\u001b[0m \u001b[0;34m=\u001b[0m \u001b[0;32mTrue\u001b[0m\u001b[0;34m)\u001b[0m\u001b[0;34m[\u001b[0m\u001b[0;36m1\u001b[0m\u001b[0;34m]\u001b[0m\u001b[0;34m\u001b[0m\u001b[0;34m\u001b[0m\u001b[0m\n\u001b[0m\u001b[1;32m      9\u001b[0m     \u001b[0mneg_tmp\u001b[0m \u001b[0;34m=\u001b[0m \u001b[0mdf\u001b[0m\u001b[0;34m.\u001b[0m\u001b[0mloc\u001b[0m\u001b[0;34m[\u001b[0m\u001b[0mdf\u001b[0m\u001b[0;34m[\u001b[0m\u001b[0;34m'exposure'\u001b[0m\u001b[0;34m]\u001b[0m\u001b[0;34m==\u001b[0m\u001b[0;36m0\u001b[0m\u001b[0;34m]\u001b[0m\u001b[0;34m.\u001b[0m\u001b[0msample\u001b[0m\u001b[0;34m(\u001b[0m\u001b[0mround\u001b[0m\u001b[0;34m(\u001b[0m\u001b[0mlen\u001b[0m\u001b[0;34m(\u001b[0m\u001b[0mdf\u001b[0m\u001b[0;34m)\u001b[0m\u001b[0;34m/\u001b[0m\u001b[0;36m2\u001b[0m\u001b[0;34m)\u001b[0m\u001b[0;34m,\u001b[0m \u001b[0mreplace\u001b[0m \u001b[0;34m=\u001b[0m \u001b[0;32mTrue\u001b[0m\u001b[0;34m)\u001b[0m\u001b[0;34m[\u001b[0m\u001b[0;34m'outcome'\u001b[0m\u001b[0;34m]\u001b[0m\u001b[0;34m.\u001b[0m\u001b[0mvalue_counts\u001b[0m\u001b[0;34m(\u001b[0m\u001b[0mnormalize\u001b[0m \u001b[0;34m=\u001b[0m \u001b[0;32mTrue\u001b[0m\u001b[0;34m)\u001b[0m\u001b[0;34m[\u001b[0m\u001b[0;36m1\u001b[0m\u001b[0;34m]\u001b[0m\u001b[0;34m\u001b[0m\u001b[0;34m\u001b[0m\u001b[0m\n\u001b[1;32m     10\u001b[0m \u001b[0;34m\u001b[0m\u001b[0m\n",
      "\u001b[0;32m~/opt/anaconda3/lib/python3.9/site-packages/pandas/core/base.py\u001b[0m in \u001b[0;36mvalue_counts\u001b[0;34m(self, normalize, sort, ascending, bins, dropna)\u001b[0m\n\u001b[1;32m    968\u001b[0m         \u001b[0mdtype\u001b[0m\u001b[0;34m:\u001b[0m \u001b[0mint64\u001b[0m\u001b[0;34m\u001b[0m\u001b[0;34m\u001b[0m\u001b[0m\n\u001b[1;32m    969\u001b[0m         \"\"\"\n\u001b[0;32m--> 970\u001b[0;31m         return value_counts(\n\u001b[0m\u001b[1;32m    971\u001b[0m             \u001b[0mself\u001b[0m\u001b[0;34m,\u001b[0m\u001b[0;34m\u001b[0m\u001b[0;34m\u001b[0m\u001b[0m\n\u001b[1;32m    972\u001b[0m             \u001b[0msort\u001b[0m\u001b[0;34m=\u001b[0m\u001b[0msort\u001b[0m\u001b[0;34m,\u001b[0m\u001b[0;34m\u001b[0m\u001b[0;34m\u001b[0m\u001b[0m\n",
      "\u001b[0;32m~/opt/anaconda3/lib/python3.9/site-packages/pandas/core/algorithms.py\u001b[0m in \u001b[0;36mvalue_counts\u001b[0;34m(values, sort, ascending, normalize, bins, dropna)\u001b[0m\n\u001b[1;32m    867\u001b[0m \u001b[0;34m\u001b[0m\u001b[0m\n\u001b[1;32m    868\u001b[0m         \u001b[0;32melse\u001b[0m\u001b[0;34m:\u001b[0m\u001b[0;34m\u001b[0m\u001b[0;34m\u001b[0m\u001b[0m\n\u001b[0;32m--> 869\u001b[0;31m             \u001b[0mkeys\u001b[0m\u001b[0;34m,\u001b[0m \u001b[0mcounts\u001b[0m \u001b[0;34m=\u001b[0m \u001b[0mvalue_counts_arraylike\u001b[0m\u001b[0;34m(\u001b[0m\u001b[0mvalues\u001b[0m\u001b[0;34m,\u001b[0m \u001b[0mdropna\u001b[0m\u001b[0;34m)\u001b[0m\u001b[0;34m\u001b[0m\u001b[0;34m\u001b[0m\u001b[0m\n\u001b[0m\u001b[1;32m    870\u001b[0m \u001b[0;34m\u001b[0m\u001b[0m\n\u001b[1;32m    871\u001b[0m             \u001b[0mresult\u001b[0m \u001b[0;34m=\u001b[0m \u001b[0mSeries\u001b[0m\u001b[0;34m(\u001b[0m\u001b[0mcounts\u001b[0m\u001b[0;34m,\u001b[0m \u001b[0mindex\u001b[0m\u001b[0;34m=\u001b[0m\u001b[0mkeys\u001b[0m\u001b[0;34m,\u001b[0m \u001b[0mname\u001b[0m\u001b[0;34m=\u001b[0m\u001b[0mname\u001b[0m\u001b[0;34m)\u001b[0m\u001b[0;34m\u001b[0m\u001b[0;34m\u001b[0m\u001b[0m\n",
      "\u001b[0;32m~/opt/anaconda3/lib/python3.9/site-packages/pandas/core/algorithms.py\u001b[0m in \u001b[0;36mvalue_counts_arraylike\u001b[0;34m(values, dropna)\u001b[0m\n\u001b[1;32m    897\u001b[0m     \u001b[0mvalues\u001b[0m \u001b[0;34m=\u001b[0m \u001b[0m_ensure_data\u001b[0m\u001b[0;34m(\u001b[0m\u001b[0mvalues\u001b[0m\u001b[0;34m)\u001b[0m\u001b[0;34m\u001b[0m\u001b[0;34m\u001b[0m\u001b[0m\n\u001b[1;32m    898\u001b[0m \u001b[0;34m\u001b[0m\u001b[0m\n\u001b[0;32m--> 899\u001b[0;31m     \u001b[0mkeys\u001b[0m\u001b[0;34m,\u001b[0m \u001b[0mcounts\u001b[0m \u001b[0;34m=\u001b[0m \u001b[0mhtable\u001b[0m\u001b[0;34m.\u001b[0m\u001b[0mvalue_count\u001b[0m\u001b[0;34m(\u001b[0m\u001b[0mvalues\u001b[0m\u001b[0;34m,\u001b[0m \u001b[0mdropna\u001b[0m\u001b[0;34m)\u001b[0m\u001b[0;34m\u001b[0m\u001b[0;34m\u001b[0m\u001b[0m\n\u001b[0m\u001b[1;32m    900\u001b[0m \u001b[0;34m\u001b[0m\u001b[0m\n\u001b[1;32m    901\u001b[0m     \u001b[0;32mif\u001b[0m \u001b[0mneeds_i8_conversion\u001b[0m\u001b[0;34m(\u001b[0m\u001b[0moriginal\u001b[0m\u001b[0;34m.\u001b[0m\u001b[0mdtype\u001b[0m\u001b[0;34m)\u001b[0m\u001b[0;34m:\u001b[0m\u001b[0;34m\u001b[0m\u001b[0;34m\u001b[0m\u001b[0m\n",
      "\u001b[0;31mKeyboardInterrupt\u001b[0m: "
     ]
    }
   ],
   "source": [
    "treated_p = df.loc[df['exposure']==1]['outcome'].value_counts(normalize = True)[1]\n",
    "control_p = df.loc[df['exposure']==0]['outcome'].value_counts(normalize = True)[1]\n",
    "\n",
    "print('ATE =', round(100*(treated_p - control_p),2),'%')\n",
    "\n",
    "ys = []\n",
    "for iteration in range(1000):\n",
    "    pos_tmp = df.loc[df['exposure']==1].sample(round(len(df)/2), replace = True)['outcome'].value_counts(normalize = True)[1]\n",
    "    neg_tmp = df.loc[df['exposure']==0].sample(round(len(df)/2), replace = True)['outcome'].value_counts(normalize = True)[1]   \n",
    "\n",
    "    y_tmp = pos_tmp - neg_tmp\n",
    "\n",
    "    ys.append(y_tmp)\n",
    "\n",
    "print('lower_error = ', round(100*np.percentile(np.array(ys), 2.5),2),'%')\n",
    "print('upper_error = ', round(100*np.percentile(np.array(ys),97.5),2),'%')"
   ]
  },
  {
   "cell_type": "code",
   "execution_count": 17,
   "metadata": {},
   "outputs": [
    {
     "name": "stdout",
     "output_type": "stream",
     "text": [
      "RR = 1.76\n"
     ]
    },
    {
     "ename": "KeyboardInterrupt",
     "evalue": "",
     "output_type": "error",
     "traceback": [
      "\u001b[0;31m---------------------------------------------------------------------------\u001b[0m",
      "\u001b[0;31mKeyboardInterrupt\u001b[0m                         Traceback (most recent call last)",
      "\u001b[0;32m/var/folders/m5/8d669b8n0vl1_87nc6mbcytm0000gn/T/ipykernel_44452/2573486573.py\u001b[0m in \u001b[0;36m<module>\u001b[0;34m\u001b[0m\n\u001b[1;32m      6\u001b[0m \u001b[0mys\u001b[0m \u001b[0;34m=\u001b[0m \u001b[0;34m[\u001b[0m\u001b[0;34m]\u001b[0m\u001b[0;34m\u001b[0m\u001b[0;34m\u001b[0m\u001b[0m\n\u001b[1;32m      7\u001b[0m \u001b[0;32mfor\u001b[0m \u001b[0miteration\u001b[0m \u001b[0;32min\u001b[0m \u001b[0mrange\u001b[0m\u001b[0;34m(\u001b[0m\u001b[0;36m1000\u001b[0m\u001b[0;34m)\u001b[0m\u001b[0;34m:\u001b[0m\u001b[0;34m\u001b[0m\u001b[0;34m\u001b[0m\u001b[0m\n\u001b[0;32m----> 8\u001b[0;31m     \u001b[0mpos_tmp\u001b[0m \u001b[0;34m=\u001b[0m \u001b[0mdf\u001b[0m\u001b[0;34m.\u001b[0m\u001b[0mloc\u001b[0m\u001b[0;34m[\u001b[0m\u001b[0mdf\u001b[0m\u001b[0;34m[\u001b[0m\u001b[0;34m'exposure'\u001b[0m\u001b[0;34m]\u001b[0m\u001b[0;34m==\u001b[0m\u001b[0;36m1\u001b[0m\u001b[0;34m]\u001b[0m\u001b[0;34m.\u001b[0m\u001b[0msample\u001b[0m\u001b[0;34m(\u001b[0m\u001b[0mround\u001b[0m\u001b[0;34m(\u001b[0m\u001b[0mlen\u001b[0m\u001b[0;34m(\u001b[0m\u001b[0mdf\u001b[0m\u001b[0;34m)\u001b[0m\u001b[0;34m/\u001b[0m\u001b[0;36m2\u001b[0m\u001b[0;34m)\u001b[0m\u001b[0;34m,\u001b[0m \u001b[0mreplace\u001b[0m \u001b[0;34m=\u001b[0m \u001b[0;32mTrue\u001b[0m\u001b[0;34m)\u001b[0m\u001b[0;34m[\u001b[0m\u001b[0;34m'outcome'\u001b[0m\u001b[0;34m]\u001b[0m\u001b[0;34m.\u001b[0m\u001b[0mvalue_counts\u001b[0m\u001b[0;34m(\u001b[0m\u001b[0mnormalize\u001b[0m \u001b[0;34m=\u001b[0m \u001b[0;32mTrue\u001b[0m\u001b[0;34m)\u001b[0m\u001b[0;34m[\u001b[0m\u001b[0;36m1\u001b[0m\u001b[0;34m]\u001b[0m\u001b[0;34m\u001b[0m\u001b[0;34m\u001b[0m\u001b[0m\n\u001b[0m\u001b[1;32m      9\u001b[0m     \u001b[0mneg_tmp\u001b[0m \u001b[0;34m=\u001b[0m \u001b[0mdf\u001b[0m\u001b[0;34m.\u001b[0m\u001b[0mloc\u001b[0m\u001b[0;34m[\u001b[0m\u001b[0mdf\u001b[0m\u001b[0;34m[\u001b[0m\u001b[0;34m'exposure'\u001b[0m\u001b[0;34m]\u001b[0m\u001b[0;34m==\u001b[0m\u001b[0;36m0\u001b[0m\u001b[0;34m]\u001b[0m\u001b[0;34m.\u001b[0m\u001b[0msample\u001b[0m\u001b[0;34m(\u001b[0m\u001b[0mround\u001b[0m\u001b[0;34m(\u001b[0m\u001b[0mlen\u001b[0m\u001b[0;34m(\u001b[0m\u001b[0mdf\u001b[0m\u001b[0;34m)\u001b[0m\u001b[0;34m/\u001b[0m\u001b[0;36m2\u001b[0m\u001b[0;34m)\u001b[0m\u001b[0;34m,\u001b[0m \u001b[0mreplace\u001b[0m \u001b[0;34m=\u001b[0m \u001b[0;32mTrue\u001b[0m\u001b[0;34m)\u001b[0m\u001b[0;34m[\u001b[0m\u001b[0;34m'outcome'\u001b[0m\u001b[0;34m]\u001b[0m\u001b[0;34m.\u001b[0m\u001b[0mvalue_counts\u001b[0m\u001b[0;34m(\u001b[0m\u001b[0mnormalize\u001b[0m \u001b[0;34m=\u001b[0m \u001b[0;32mTrue\u001b[0m\u001b[0;34m)\u001b[0m\u001b[0;34m[\u001b[0m\u001b[0;36m1\u001b[0m\u001b[0;34m]\u001b[0m\u001b[0;34m\u001b[0m\u001b[0;34m\u001b[0m\u001b[0m\n\u001b[1;32m     10\u001b[0m \u001b[0;34m\u001b[0m\u001b[0m\n",
      "\u001b[0;32m~/opt/anaconda3/lib/python3.9/site-packages/pandas/core/base.py\u001b[0m in \u001b[0;36mvalue_counts\u001b[0;34m(self, normalize, sort, ascending, bins, dropna)\u001b[0m\n\u001b[1;32m    968\u001b[0m         \u001b[0mdtype\u001b[0m\u001b[0;34m:\u001b[0m \u001b[0mint64\u001b[0m\u001b[0;34m\u001b[0m\u001b[0;34m\u001b[0m\u001b[0m\n\u001b[1;32m    969\u001b[0m         \"\"\"\n\u001b[0;32m--> 970\u001b[0;31m         return value_counts(\n\u001b[0m\u001b[1;32m    971\u001b[0m             \u001b[0mself\u001b[0m\u001b[0;34m,\u001b[0m\u001b[0;34m\u001b[0m\u001b[0;34m\u001b[0m\u001b[0m\n\u001b[1;32m    972\u001b[0m             \u001b[0msort\u001b[0m\u001b[0;34m=\u001b[0m\u001b[0msort\u001b[0m\u001b[0;34m,\u001b[0m\u001b[0;34m\u001b[0m\u001b[0;34m\u001b[0m\u001b[0m\n",
      "\u001b[0;32m~/opt/anaconda3/lib/python3.9/site-packages/pandas/core/algorithms.py\u001b[0m in \u001b[0;36mvalue_counts\u001b[0;34m(values, sort, ascending, normalize, bins, dropna)\u001b[0m\n\u001b[1;32m    867\u001b[0m \u001b[0;34m\u001b[0m\u001b[0m\n\u001b[1;32m    868\u001b[0m         \u001b[0;32melse\u001b[0m\u001b[0;34m:\u001b[0m\u001b[0;34m\u001b[0m\u001b[0;34m\u001b[0m\u001b[0m\n\u001b[0;32m--> 869\u001b[0;31m             \u001b[0mkeys\u001b[0m\u001b[0;34m,\u001b[0m \u001b[0mcounts\u001b[0m \u001b[0;34m=\u001b[0m \u001b[0mvalue_counts_arraylike\u001b[0m\u001b[0;34m(\u001b[0m\u001b[0mvalues\u001b[0m\u001b[0;34m,\u001b[0m \u001b[0mdropna\u001b[0m\u001b[0;34m)\u001b[0m\u001b[0;34m\u001b[0m\u001b[0;34m\u001b[0m\u001b[0m\n\u001b[0m\u001b[1;32m    870\u001b[0m \u001b[0;34m\u001b[0m\u001b[0m\n\u001b[1;32m    871\u001b[0m             \u001b[0mresult\u001b[0m \u001b[0;34m=\u001b[0m \u001b[0mSeries\u001b[0m\u001b[0;34m(\u001b[0m\u001b[0mcounts\u001b[0m\u001b[0;34m,\u001b[0m \u001b[0mindex\u001b[0m\u001b[0;34m=\u001b[0m\u001b[0mkeys\u001b[0m\u001b[0;34m,\u001b[0m \u001b[0mname\u001b[0m\u001b[0;34m=\u001b[0m\u001b[0mname\u001b[0m\u001b[0;34m)\u001b[0m\u001b[0;34m\u001b[0m\u001b[0;34m\u001b[0m\u001b[0m\n",
      "\u001b[0;32m~/opt/anaconda3/lib/python3.9/site-packages/pandas/core/algorithms.py\u001b[0m in \u001b[0;36mvalue_counts_arraylike\u001b[0;34m(values, dropna)\u001b[0m\n\u001b[1;32m    897\u001b[0m     \u001b[0mvalues\u001b[0m \u001b[0;34m=\u001b[0m \u001b[0m_ensure_data\u001b[0m\u001b[0;34m(\u001b[0m\u001b[0mvalues\u001b[0m\u001b[0;34m)\u001b[0m\u001b[0;34m\u001b[0m\u001b[0;34m\u001b[0m\u001b[0m\n\u001b[1;32m    898\u001b[0m \u001b[0;34m\u001b[0m\u001b[0m\n\u001b[0;32m--> 899\u001b[0;31m     \u001b[0mkeys\u001b[0m\u001b[0;34m,\u001b[0m \u001b[0mcounts\u001b[0m \u001b[0;34m=\u001b[0m \u001b[0mhtable\u001b[0m\u001b[0;34m.\u001b[0m\u001b[0mvalue_count\u001b[0m\u001b[0;34m(\u001b[0m\u001b[0mvalues\u001b[0m\u001b[0;34m,\u001b[0m \u001b[0mdropna\u001b[0m\u001b[0;34m)\u001b[0m\u001b[0;34m\u001b[0m\u001b[0;34m\u001b[0m\u001b[0m\n\u001b[0m\u001b[1;32m    900\u001b[0m \u001b[0;34m\u001b[0m\u001b[0m\n\u001b[1;32m    901\u001b[0m     \u001b[0;32mif\u001b[0m \u001b[0mneeds_i8_conversion\u001b[0m\u001b[0;34m(\u001b[0m\u001b[0moriginal\u001b[0m\u001b[0;34m.\u001b[0m\u001b[0mdtype\u001b[0m\u001b[0;34m)\u001b[0m\u001b[0;34m:\u001b[0m\u001b[0;34m\u001b[0m\u001b[0;34m\u001b[0m\u001b[0m\n",
      "\u001b[0;31mKeyboardInterrupt\u001b[0m: "
     ]
    }
   ],
   "source": [
    "treated_p = df.loc[df['exposure']==1]['outcome'].value_counts(normalize = True)[1]\n",
    "control_p = df.loc[df['exposure']==0]['outcome'].value_counts(normalize = True)[1]\n",
    "\n",
    "print('RR =', round((treated_p /control_p),2),)\n",
    "\n",
    "ys = []\n",
    "for iteration in range(1000):\n",
    "    pos_tmp = df.loc[df['exposure']==1].sample(round(len(df)/2), replace = True)['outcome'].value_counts(normalize = True)[1]\n",
    "    neg_tmp = df.loc[df['exposure']==0].sample(round(len(df)/2), replace = True)['outcome'].value_counts(normalize = True)[1]   \n",
    "\n",
    "    y_tmp = pos_tmp/neg_tmp\n",
    "\n",
    "    ys.append(y_tmp)\n",
    "\n",
    "print('lower_error = ', round(np.percentile(np.array(ys), 2.5),2))\n",
    "print('upper_error = ', round(np.percentile(np.array(ys),97.5),2))"
   ]
  },
  {
   "cell_type": "code",
   "execution_count": 18,
   "metadata": {},
   "outputs": [
    {
     "name": "stdout",
     "output_type": "stream",
     "text": [
      "BREAKFAST dessert ATE = 4.96 %\n",
      "BREAKFAST dessert lower 2.48 %\n",
      "BREAKFAST dessert upper 7.64 %\n",
      "BREAKFAST fruit ATE = 6.59 %\n",
      "BREAKFAST fruit lower 4.05 %\n",
      "BREAKFAST fruit upper 9.29 %\n",
      "BREAKFAST pastry ATE = 10.16 %\n",
      "BREAKFAST pastry lower 8.59 %\n",
      "BREAKFAST pastry upper 11.73 %\n",
      "LUNCH condiment ATE = 23.7 %\n",
      "LUNCH condiment lower 21.87 %\n",
      "LUNCH condiment upper 25.5 %\n",
      "LUNCH dessert ATE = 12.47 %\n",
      "LUNCH dessert lower 10.38 %\n",
      "LUNCH dessert upper 14.62 %\n",
      "LUNCH fruit ATE = 13.71 %\n",
      "LUNCH fruit lower 12.46 %\n",
      "LUNCH fruit upper 14.87 %\n",
      "LUNCH pastry ATE = 10.94 %\n",
      "LUNCH pastry lower 9.38 %\n",
      "LUNCH pastry upper 12.38 %\n",
      "LUNCH salad ATE = 11.6 %\n",
      "LUNCH salad lower 9.91 %\n",
      "LUNCH salad upper 13.4 %\n",
      "LUNCH soft drink ATE = 9.08 %\n",
      "LUNCH soft drink lower 7.68 %\n",
      "LUNCH soft drink upper 10.62 %\n",
      "LUNCH soup ATE = 16.68 %\n",
      "LUNCH soup lower 15.47 %\n",
      "LUNCH soup upper 17.91 %\n",
      "AFTERNOON SNACK dessert ATE = 7.44 %\n",
      "AFTERNOON SNACK dessert lower 3.81 %\n",
      "AFTERNOON SNACK dessert upper 10.9 %\n",
      "AFTERNOON SNACK fruit ATE = 7.69 %\n",
      "AFTERNOON SNACK fruit lower 1.92 %\n",
      "AFTERNOON SNACK fruit upper 13.46 %\n",
      "AFTERNOON SNACK pastry ATE = 19.28 %\n",
      "AFTERNOON SNACK pastry lower 16.23 %\n",
      "AFTERNOON SNACK pastry upper 22.57 %\n"
     ]
    }
   ],
   "source": [
    "list_viz = []\n",
    "\n",
    "for meal in ['BREAKFAST', 'LUNCH', 'AFTERNOON SNACK']:\n",
    "    for addition in additions[meal]:\n",
    "        df_tmp = df.loc[(df['MEAL']==meal) & (df['addition']==addition)]\n",
    "\n",
    "        try:\n",
    "            treated_p = df_tmp.loc[df_tmp['exposure']==1]['outcome'].value_counts(normalize = True)[1]\n",
    "            control_p = df_tmp.loc[df_tmp['exposure']==0]['outcome'].value_counts(normalize = True)[1]\n",
    "        except:\n",
    "            print(meal, addition)\n",
    "            continue\n",
    "        \n",
    "        print(meal, addition,  'ATE =', round(100*(treated_p - control_p),2),'%')\n",
    "\n",
    "        entry = {}\n",
    "\n",
    "        entry['ATE'] = treated_p - control_p\n",
    "        \n",
    "        entry['RR'] = treated_p/control_p\n",
    "\n",
    "        ys = []\n",
    "        ys_rr = []\n",
    "        for iteration in range(1000):\n",
    "            try:\n",
    "                pos_tmp = df_tmp.loc[df_tmp['exposure']==1].sample(len(df_tmp.loc[df_tmp['exposure']==1]), replace = True)['outcome'].value_counts(normalize = True)[1]\n",
    "                neg_tmp = df_tmp.loc[df_tmp['exposure']==0].sample(len(df_tmp.loc[df_tmp['exposure']==1]), replace = True)['outcome'].value_counts(normalize = True)[1]   \n",
    "            except:\n",
    "                continue\n",
    "            y_tmp = pos_tmp - neg_tmp\n",
    "\n",
    "            ys.append(y_tmp)\n",
    "            ys_rr.append(pos_tmp/neg_tmp)\n",
    "\n",
    "        entry['lower_error'] = (np.percentile(np.array(ys), 2.5))\n",
    "        entry['upper_error'] = (np.percentile(np.array(ys),97.5))\n",
    "\n",
    "        entry['lower_error_rr'] = (np.percentile(np.array(ys_rr), 2.5))\n",
    "        entry['upper_error_rr'] = (np.percentile(np.array(ys_rr),97.5))\n",
    "\n",
    "        entry['meal'] = meal\n",
    "        entry['addition'] = addition\n",
    "        \n",
    "        print(meal, addition,  'lower', round(100*((np.percentile(np.array(ys), 2.5))),2),'%')\n",
    "        print(meal, addition,  'upper', round(100*((np.percentile(np.array(ys), 97.5))),2),'%')\n",
    "\n",
    "        list_viz.append(entry)"
   ]
  },
  {
   "cell_type": "code",
   "execution_count": 19,
   "metadata": {},
   "outputs": [],
   "source": [
    "df_plot = pd.DataFrame(list_viz)"
   ]
  },
  {
   "cell_type": "code",
   "execution_count": 20,
   "metadata": {},
   "outputs": [],
   "source": [
    "randomized = pd.read_pickle('tmp/randomized_estimates')\n",
    "reverse = pd.read_pickle('tmp/reversed_estimates')"
   ]
  },
  {
   "cell_type": "code",
   "execution_count": 21,
   "metadata": {},
   "outputs": [
    {
     "data": {
      "image/png": "[encoded data removed]",
      "text/plain": [
       "<Figure size 800x600 with 3 Axes>"
      ]
     },
     "metadata": {},
     "output_type": "display_data"
    }
   ],
   "source": [
    "plt.figure(figsize = (8,6))\n",
    "\n",
    "for cnt,meal in enumerate(['LUNCH', 'BREAKFAST','AFTERNOON SNACK']):\n",
    "    if cnt==0:\n",
    "        sbplt = plt.subplot(2,2,(1,3))\n",
    "        sbplt.set_ylim([-0.5,6.5])\n",
    "    if cnt==1:\n",
    "        sbplt = plt.subplot(2,2,2)\n",
    "        sbplt.set_ylim([-0.5,2.5])\n",
    "    if cnt==2:\n",
    "        sbplt = plt.subplot(2,2,4)\n",
    "        sbplt.set_ylim([-0.5,2.5])\n",
    "        \n",
    "    types = []\n",
    "\n",
    "    c = 0\n",
    "    \n",
    "    if meal =='LUNCH':\n",
    "        color= 'tab:blue'\n",
    "    else:\n",
    "        color = 'tab:orange'\n",
    "        \n",
    "    for cnt,row in (df_plot.loc[df_plot['meal']==meal]).sort_values(by = 'ATE', ascending = True).reset_index().iterrows():\n",
    "        sbplt.hlines(cnt, -1,4, color = 'gray', linestyle = '--')\n",
    "        \n",
    "        sbplt.errorbar([row['ATE']],[c], xerr = (np.array([row['ATE'] - row['lower_error']]), \n",
    "                     np.array([row['upper_error']- row['ATE']])),\n",
    "                     fmt = '|', markersize= 8,color = color, linewidth = 3)\n",
    "        \n",
    "        baseline = randomized.loc[(randomized['meal']==meal) & (randomized['addition']==row['addition'])].iloc[0]\n",
    "        \n",
    "\n",
    "        \n",
    "        r = reverse.loc[(randomized['meal']==meal) & (reverse['addition']==row['addition'])].iloc[0]\n",
    "        \n",
    "        '''\n",
    "        if meal=='BREAKFAST' and cnt==0:\n",
    "            sbplt.errorbar([r['ATE']],[c-0], xerr = (np.array([r['ATE'] - r['lower_error']]), \n",
    "                     np.array([r['upper_error']- r['ATE']])),\n",
    "                     fmt = '|', markersize= 8,color = 'gray', linewidth = 3, label = 'Reversed\\n queues')\n",
    "            sbplt.legend(loc = 'upper right')\n",
    "        else:\n",
    "            sbplt.errorbar([r['ATE']],[c-0], xerr = (np.array([r['ATE'] - r['lower_error']]), \n",
    "                     np.array([r['upper_error']- r['ATE']])),\n",
    "                     fmt = '|', markersize= 8,color = 'gray', linewidth = 3)\n",
    "        \n",
    "        '''\n",
    "        types.append(row['addition'])\n",
    "        \n",
    "        c+=1\n",
    "        \n",
    "    sbplt.set_yticks(np.array(range(len(additions[meal]))))\n",
    "    sbplt.set_yticklabels([i.replace('_',' ').capitalize() for i in types], fontsize = 14)\n",
    "\n",
    "    sbplt.set_xlim([-0.1,0.35])\n",
    "    \n",
    "\n",
    "    sbplt.vlines(0,-1,7, linestyle = '--', color = 'black')\n",
    "\n",
    "    if meal!='BREAKFAST':\n",
    "        sbplt.set_xlabel('Risk difference (RD)', fontsize =14)\n",
    "    \n",
    "\n",
    "        \n",
    "    if meal =='AFTERNOON SNACK':\n",
    "        sbplt.set_title('AFTERNOON/EVENING SNACK'.lower().capitalize()+'\\n('+times[meal]+')' , fontsize = 14)\n",
    "    else:\n",
    "        sbplt.set_title(meal.lower().capitalize()+'\\n('+times[meal]+')',  fontsize = 14)\n",
    "    \n",
    "    if meal == 'LUNCH':\n",
    "        sbplt.set_ylabel('Food item', fontsize = 14)\n",
    "   \n",
    "plt.tight_layout()\n",
    "\n",
    "plt.text(x = -0.62, y = -1.7, s='Anchor: meal or vegetarian meal', fontsize= 16, color = 'tab:blue') \n",
    "plt.text(x = -0.07, y = -1.7, s='Anchor: coffee or tea', fontsize= 16, color = 'tab:orange') \n",
    "\n",
    "\n",
    "plt.savefig(FIGURES_DIR+'fig2_alternative.pdf', bbox_inches='tight')"
   ]
  },
  {
   "cell_type": "code",
   "execution_count": null,
   "metadata": {},
   "outputs": [],
   "source": []
  },
  {
   "cell_type": "code",
   "execution_count": 34,
   "metadata": {},
   "outputs": [],
   "source": [
    "df['together_ratio'] = df.apply(lambda x: get_ratio_together(x.focal_ID, x.partner_ID), axis=1)"
   ]
  },
  {
   "cell_type": "code",
   "execution_count": 35,
   "metadata": {},
   "outputs": [],
   "source": [
    "bins = np.arange(0,1.2,0.2)\n",
    "\n",
    "list_viz_overall = []\n",
    "\n",
    "for i in range(len(bins)-1):\n",
    "    t = df.loc[((df['together_ratio'] > bins[i]) & ( df['together_ratio'] <= bins[i+1]))]\n",
    "\n",
    "    try:\n",
    "        treated_p = t.loc[t['exposure']==1]['outcome'].value_counts(normalize = True)[1]\n",
    "    except:\n",
    "        treated_p = 0\n",
    "\n",
    "    try:\n",
    "        control_p = t.loc[t['exposure']==0]['outcome'].value_counts(normalize = True)[1]\n",
    "    except:\n",
    "        control_p = 0\n",
    "\n",
    "    entry = {}\n",
    "\n",
    "    entry['treated_p'] = treated_p\n",
    "    entry['control_p'] = control_p\n",
    "\n",
    "    entry['ATE'] = treated_p - control_p\n",
    "\n",
    "    entry['RTE'] = treated_p/control_p\n",
    "    ys = []\n",
    "    ys_r = []\n",
    "    for iteration in range(1000):\n",
    "        try:\n",
    "            pos_tmp = t.loc[t['exposure']==1].sample(len(t.loc[t['exposure']==1]), replace = True)['outcome'].value_counts(normalize = True)[1]   \n",
    "        except KeyError as e:\n",
    "            pos_tmp = 0\n",
    "\n",
    "        try:\n",
    "            neg_tmp = t.loc[t['exposure']==0].sample(len(t.loc[t['exposure']==1]), replace = True)['outcome'].value_counts(normalize = True)[1]\n",
    "        except KeyError as e:\n",
    "            neg_tmp = 0\n",
    "\n",
    "        y_tmp = pos_tmp - neg_tmp\n",
    "        \n",
    "        ys_r.append(pos_tmp/neg_tmp)\n",
    "        ys.append(y_tmp)\n",
    "\n",
    "    entry['lower_error'] = (np.percentile(np.array(ys), 2.5))\n",
    "    entry['upper_error'] = (np.percentile(np.array(ys),97.5))\n",
    "\n",
    "    entry['lower_error_r'] = (np.percentile(np.array(ys_r), 2.5))\n",
    "    entry['upper_error_r'] = (np.percentile(np.array(ys_r),97.5))\n",
    "    \n",
    "    entry['bin'] = i\n",
    "\n",
    "    list_viz_overall.append(entry)"
   ]
  },
  {
   "cell_type": "code",
   "execution_count": 36,
   "metadata": {},
   "outputs": [],
   "source": [
    "gr = pd.DataFrame(list_viz_overall)"
   ]
  },
  {
   "cell_type": "code",
   "execution_count": 37,
   "metadata": {},
   "outputs": [
    {
     "data": {
      "image/png": "[encoded data removed]",
      "text/plain": [
       "<Figure size 432x288 with 1 Axes>"
      ]
     },
     "metadata": {
      "needs_background": "light"
     },
     "output_type": "display_data"
    }
   ],
   "source": [
    "n, bins, pathces = plt.hist(df['together_ratio'], range = [0,1],bins = 5)\n",
    "plt.close()\n",
    "\n",
    "fig, ax1 = plt.subplots(1,1,figsize= (6,4))\n",
    "ax1.bar(np.array(bins[:-1])+0.1, n/sum(n), color = 'gray', width = 0.18,  alpha = 0.5)\n",
    "ax1.set_ylim(0,0.5)\n",
    "\n",
    "\n",
    "ax1.set_ylabel('Frequency', rotation = 90,  fontsize= 14)  # we already handled the x-label with ax1\n",
    "ax1.tick_params(axis='y')\n",
    "\n",
    "plt.xticks([0,0.2,0.4,0.6,0.8,1])\n",
    "plt.grid(False)\n",
    "\n",
    "gr = pd.DataFrame(list_viz_overall)\n",
    "\n",
    "\n",
    "\n",
    "plt.xticks(np.array([0,0.2,0.4,0.6,0.8,1]));\n",
    "\n",
    "\n",
    "#plt.ylim([0,0.5])\n",
    "\n",
    "\n",
    "\n",
    "\n",
    "ax1.set_xlabel('#times eat together / #times together with someone', fontsize= 14);\n",
    "\n",
    "fig.tight_layout() \n",
    "#plt.xticks(np.array(gr['bin'])-0.5, [round(i,3) for i in bins]);\n",
    "\n",
    "\n",
    "#plt.ylim([0.05, 0.3])\n",
    "\n",
    "\n",
    "plt.savefig(FIGURES_DIR+'fig21.pdf', bbox_inches='tight')"
   ]
  },
  {
   "cell_type": "code",
   "execution_count": 38,
   "metadata": {},
   "outputs": [
    {
     "data": {
      "image/png": "[encoded data removed]",
      "text/plain": [
       "<Figure size 432x288 with 1 Axes>"
      ]
     },
     "metadata": {
      "needs_background": "light"
     },
     "output_type": "display_data"
    }
   ],
   "source": [
    "n, bins, pathces = plt.hist(df['together_ratio'], range = [0,1],bins = 5)\n",
    "plt.close()\n",
    "\n",
    "fig, ax1 = plt.subplots(1,1,figsize= (6,4))\n",
    "\n",
    "plt.xticks([0,0.2,0.4,0.6,0.8,1])\n",
    "plt.grid(False)\n",
    "\n",
    "gr = pd.DataFrame(list_viz_overall)\n",
    "\n",
    "\n",
    "ax2 = ax1\n",
    "\n",
    "ax2.plot(0.1+np.array([0,0.2,0.4,0.6,0.8]),gr['ATE'], linestyle = '-.', marker = 'o', markersize= 3)\n",
    "ax2.fill_between(0.1+np.array([0,0.2,0.4,0.6,0.8]), gr['lower_error'], gr['upper_error'], alpha = 0.3)\n",
    "ax2.set_ylim(0,0.25)\n",
    "plt.xticks(np.array([0,0.2,0.4,0.6,0.8,1]));\n",
    "\n",
    "\n",
    "#plt.ylim([0,0.5])\n",
    "\n",
    "ax2.set_ylabel('RD',  rotation = 90,  fontsize= 14)  # we already handled the x-label with ax1\n",
    "ax2.tick_params(axis='y')\n",
    "\n",
    "\n",
    "ax2.set_xlabel('#times eat together / #times together with someone',  fontsize= 14);\n",
    "\n",
    "fig.tight_layout() \n",
    "#plt.xticks(np.array(gr['bin'])-0.5, [round(i,3) for i in bins]);\n",
    "\n",
    "\n",
    "#plt.ylim([0.05, 0.3])\n",
    "\n",
    "\n",
    "plt.savefig(FIGURES_DIR+'fig22.pdf', bbox_inches='tight')"
   ]
  },
  {
   "cell_type": "code",
   "execution_count": 39,
   "metadata": {},
   "outputs": [
    {
     "data": {
      "image/png": "[encoded data removed]",
      "text/plain": [
       "<Figure size 432x288 with 1 Axes>"
      ]
     },
     "metadata": {
      "needs_background": "light"
     },
     "output_type": "display_data"
    }
   ],
   "source": [
    "n, bins, pathces = plt.hist(df['together_ratio'], range = [0,1],bins = 5)\n",
    "plt.close()\n",
    "\n",
    "fig, ax1 = plt.subplots(1,1,figsize= (6,4))\n",
    "ax1.bar(np.array(bins[:-1])+0.1, n/sum(n), color = 'gray', width = 0.18,  alpha = 0.5)\n",
    "ax1.set_ylim(0,0.5)\n",
    "\n",
    "\n",
    "ax1.set_ylabel('Frequency', rotation = 90,  fontsize= 14)  # we already handled the x-label with ax1\n",
    "ax1.tick_params(axis='y')\n",
    "\n",
    "plt.xticks([0,0.2,0.4,0.6,0.8,1])\n",
    "plt.grid(False)\n",
    "\n",
    "gr = pd.DataFrame(list_viz_overall)\n",
    "\n",
    "\n",
    "plt.xticks(np.array([0,0.2,0.4,0.6,0.8,1]));\n",
    "\n",
    "\n",
    "#plt.ylim([0,0.5])\n",
    "\n",
    "\n",
    "ax1.set_xlabel('#times eat together / #times together with someone',  fontsize= 14);\n",
    "\n",
    "fig.tight_layout() \n",
    "#plt.xticks(np.array(gr['bin'])-0.5, [round(i,3) for i in bins]);\n",
    "\n",
    "\n",
    "#plt.ylim([0.05, 0.3])\n",
    "\n",
    "\n",
    "plt.savefig(FIGURES_DIR+'fig23.pdf', bbox_inches='tight')"
   ]
  },
  {
   "cell_type": "code",
   "execution_count": 40,
   "metadata": {},
   "outputs": [
    {
     "data": {
      "image/png": "[encoded data removed]",
      "text/plain": [
       "<Figure size 432x288 with 1 Axes>"
      ]
     },
     "metadata": {
      "needs_background": "light"
     },
     "output_type": "display_data"
    }
   ],
   "source": [
    "n, bins, pathces = plt.hist(df['together_ratio'], range = [0,1],bins = 5)\n",
    "plt.close()\n",
    "\n",
    "fig, ax1 = plt.subplots(1,1,figsize= (6,4))\n",
    "\n",
    "\n",
    "plt.xticks([0,0.2,0.4,0.6,0.8,1])\n",
    "plt.grid(False)\n",
    "\n",
    "gr = pd.DataFrame(list_viz_overall)\n",
    "\n",
    "\n",
    "ax2 = ax1 \n",
    "\n",
    "ax2.plot(0.1+np.array([0,0.2,0.4,0.6,0.8]),gr['RTE'], linestyle = '-.', marker = 'o', markersize= 3)\n",
    "ax2.fill_between(0.1+np.array([0,0.2,0.4,0.6,0.8]), gr['lower_error_r'], gr['upper_error_r'], alpha = 0.3)\n",
    "ax2.set_ylim(1,2.6)\n",
    "plt.xticks(np.array([0,0.2,0.4,0.6,0.8,1]));\n",
    "\n",
    "\n",
    "#plt.ylim([0,0.5])\n",
    "\n",
    "ax2.set_ylabel('RR', rotation = 90,  fontsize= 14)  # we already handled the x-label with ax1\n",
    "ax2.tick_params(axis='y')\n",
    "\n",
    "\n",
    "ax2.set_xlabel('#times eat together / #times together with someone',  fontsize= 14);\n",
    "\n",
    "fig.tight_layout() \n",
    "#plt.xticks(np.array(gr['bin'])-0.5, [round(i,3) for i in bins]);\n",
    "\n",
    "\n",
    "#plt.ylim([0.05, 0.3])\n",
    "\n",
    "\n",
    "plt.savefig(FIGURES_DIR+'fig24.pdf', bbox_inches='tight')"
   ]
  },
  {
   "cell_type": "code",
   "execution_count": 41,
   "metadata": {},
   "outputs": [],
   "source": [
    "## controlling for X_a, X_b, S_a,b still significant; at minumum + 10% !!!! or 1.5X more likely"
   ]
  },
  {
   "cell_type": "code",
   "execution_count": 42,
   "metadata": {},
   "outputs": [
    {
     "data": {
      "text/html": [
       "<div>\n",
       "<style scoped>\n",
       "    .dataframe tbody tr th:only-of-type {\n",
       "        vertical-align: middle;\n",
       "    }\n",
       "\n",
       "    .dataframe tbody tr th {\n",
       "        vertical-align: top;\n",
       "    }\n",
       "\n",
       "    .dataframe thead th {\n",
       "        text-align: right;\n",
       "    }\n",
       "</style>\n",
       "<table border=\"1\" class=\"dataframe\">\n",
       "  <thead>\n",
       "    <tr style=\"text-align: right;\">\n",
       "      <th></th>\n",
       "      <th>treated_p</th>\n",
       "      <th>control_p</th>\n",
       "      <th>ATE</th>\n",
       "      <th>RTE</th>\n",
       "      <th>lower_error</th>\n",
       "      <th>upper_error</th>\n",
       "      <th>lower_error_r</th>\n",
       "      <th>upper_error_r</th>\n",
       "      <th>bin</th>\n",
       "    </tr>\n",
       "  </thead>\n",
       "  <tbody>\n",
       "    <tr>\n",
       "      <th>0</th>\n",
       "      <td>0.292281</td>\n",
       "      <td>0.191525</td>\n",
       "      <td>0.100756</td>\n",
       "      <td>1.526073</td>\n",
       "      <td>0.091813</td>\n",
       "      <td>0.110303</td>\n",
       "      <td>1.467526</td>\n",
       "      <td>1.588494</td>\n",
       "      <td>0</td>\n",
       "    </tr>\n",
       "    <tr>\n",
       "      <th>1</th>\n",
       "      <td>0.305704</td>\n",
       "      <td>0.169034</td>\n",
       "      <td>0.136671</td>\n",
       "      <td>1.808540</td>\n",
       "      <td>0.126343</td>\n",
       "      <td>0.146607</td>\n",
       "      <td>1.725401</td>\n",
       "      <td>1.890462</td>\n",
       "      <td>1</td>\n",
       "    </tr>\n",
       "    <tr>\n",
       "      <th>2</th>\n",
       "      <td>0.336026</td>\n",
       "      <td>0.177896</td>\n",
       "      <td>0.158130</td>\n",
       "      <td>1.888889</td>\n",
       "      <td>0.142828</td>\n",
       "      <td>0.174467</td>\n",
       "      <td>1.771432</td>\n",
       "      <td>2.020056</td>\n",
       "      <td>2</td>\n",
       "    </tr>\n",
       "    <tr>\n",
       "      <th>3</th>\n",
       "      <td>0.318529</td>\n",
       "      <td>0.147564</td>\n",
       "      <td>0.170965</td>\n",
       "      <td>2.158576</td>\n",
       "      <td>0.145654</td>\n",
       "      <td>0.196275</td>\n",
       "      <td>1.915904</td>\n",
       "      <td>2.468093</td>\n",
       "      <td>3</td>\n",
       "    </tr>\n",
       "    <tr>\n",
       "      <th>4</th>\n",
       "      <td>0.332846</td>\n",
       "      <td>0.145203</td>\n",
       "      <td>0.187642</td>\n",
       "      <td>2.292273</td>\n",
       "      <td>0.173496</td>\n",
       "      <td>0.203577</td>\n",
       "      <td>2.146363</td>\n",
       "      <td>2.467783</td>\n",
       "      <td>4</td>\n",
       "    </tr>\n",
       "  </tbody>\n",
       "</table>\n",
       "</div>"
      ],
      "text/plain": [
       "   treated_p  control_p       ATE       RTE  lower_error  upper_error  \\\n",
       "0   0.292281   0.191525  0.100756  1.526073     0.091813     0.110303   \n",
       "1   0.305704   0.169034  0.136671  1.808540     0.126343     0.146607   \n",
       "2   0.336026   0.177896  0.158130  1.888889     0.142828     0.174467   \n",
       "3   0.318529   0.147564  0.170965  2.158576     0.145654     0.196275   \n",
       "4   0.332846   0.145203  0.187642  2.292273     0.173496     0.203577   \n",
       "\n",
       "   lower_error_r  upper_error_r  bin  \n",
       "0       1.467526       1.588494    0  \n",
       "1       1.725401       1.890462    1  \n",
       "2       1.771432       2.020056    2  \n",
       "3       1.915904       2.468093    3  \n",
       "4       2.146363       2.467783    4  "
      ]
     },
     "execution_count": 42,
     "metadata": {},
     "output_type": "execute_result"
    }
   ],
   "source": [
    "gr"
   ]
  },
  {
   "cell_type": "code",
   "execution_count": null,
   "metadata": {},
   "outputs": [],
   "source": []
  },
  {
   "cell_type": "code",
   "execution_count": null,
   "metadata": {},
   "outputs": [],
   "source": []
  }
 ],
 "metadata": {
  "kernelspec": {
   "display_name": "Python 3 (ipykernel)",
   "language": "python",
   "name": "python3"
  },
  "language_info": {
   "codemirror_mode": {
    "name": "ipython",
    "version": 3
   },
   "file_extension": ".py",
   "mimetype": "text/x-python",
   "name": "python",
   "nbconvert_exporter": "python",
   "pygments_lexer": "ipython3",
   "version": "3.9.13"
  }
 },
 "nbformat": 4,
 "nbformat_minor": 4
}
