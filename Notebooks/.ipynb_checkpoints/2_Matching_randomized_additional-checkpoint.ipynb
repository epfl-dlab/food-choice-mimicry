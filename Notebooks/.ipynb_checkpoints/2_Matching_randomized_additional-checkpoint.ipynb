{
 "cells": [
  {
   "cell_type": "code",
   "execution_count": 1,
   "metadata": {},
   "outputs": [],
   "source": [
    "import pandas as pd\n",
    "import sqlite3 as sq\n",
    "import numpy as np\n",
    "import matplotlib.pyplot as plt\n",
    "import seaborn as sns\n",
    "import warnings, re\n",
    "import nltk\n",
    "from IPython.display import Image\n",
    "import datetime\n",
    "from collections import Counter\n",
    "warnings.filterwarnings('ignore')\n",
    "%matplotlib inline\n",
    "pd.set_option('display.max_columns', 500)\n",
    "pd.set_option('display.max_rows', 20)\n",
    "from operator import itemgetter\n",
    "import itertools\n",
    "from sklearn import preprocessing\n",
    "from sklearn.linear_model import LogisticRegression\n",
    "from sklearn import preprocessing\n",
    "import networkx as nx\n",
    "from sklearn import metrics\n",
    "from sklearn.metrics import precision_recall_fscore_support\n",
    "from sklearn.preprocessing import StandardScaler\n",
    "from sklearn.tree import DecisionTreeClassifier\n",
    "from sklearn.ensemble import RandomForestClassifier\n",
    "import os\n",
    "import math\n",
    "from scipy.stats import linregress\n",
    "import seaborn as sns\n",
    "from tqdm.notebook import tqdm"
   ]
  },
  {
   "cell_type": "code",
   "execution_count": 2,
   "metadata": {},
   "outputs": [],
   "source": [
    "import statsmodels.formula.api as smf\n",
    "import time\n",
    "from scipy import stats"
   ]
  },
  {
   "cell_type": "code",
   "execution_count": 3,
   "metadata": {},
   "outputs": [],
   "source": [
    "parentDirectory = '/Users/kristinagligoric/backup/camipro-situational/camipro-situational'\n",
    "DATA_DIR = parentDirectory +'/v2/v2_Data/'\n",
    "FIGURES_DIR = parentDirectory +'/v2/v2_Figures/'"
   ]
  },
  {
   "cell_type": "markdown",
   "metadata": {},
   "source": [
    "### Load queues -- 509220 situations"
   ]
  },
  {
   "cell_type": "code",
   "execution_count": 4,
   "metadata": {},
   "outputs": [],
   "source": [
    "df_choices = pd.read_pickle(DATA_DIR+\"20_outcomes_12_restaurants_situations_control\")\n",
    "#df_choices = df_choices.loc[df_choices['shop']!='Epicure'].reset_index()"
   ]
  },
  {
   "cell_type": "code",
   "execution_count": 5,
   "metadata": {},
   "outputs": [
    {
     "data": {
      "text/plain": [
       "509220"
      ]
     },
     "execution_count": 5,
     "metadata": {},
     "output_type": "execute_result"
    }
   ],
   "source": [
    "len(df_choices)"
   ]
  },
  {
   "cell_type": "code",
   "execution_count": 6,
   "metadata": {},
   "outputs": [],
   "source": [
    "def determine_meal(x):\n",
    "    if x < datetime.time(11):\n",
    "        return 'BREAKFAST'\n",
    "    elif x < datetime.time(14,30):\n",
    "        return 'LUNCH'\n",
    "    else:\n",
    "        return 'AFTERNOON SNACK'"
   ]
  },
  {
   "cell_type": "code",
   "execution_count": null,
   "metadata": {},
   "outputs": [],
   "source": []
  },
  {
   "cell_type": "code",
   "execution_count": 9,
   "metadata": {},
   "outputs": [],
   "source": [
    "df_choices['MEAL'] = df_choices['timestamp'].dt.time.apply(determine_meal)"
   ]
  },
  {
   "cell_type": "code",
   "execution_count": 10,
   "metadata": {},
   "outputs": [],
   "source": [
    "anchors = {\n",
    "    'BREAKFAST': ['coffee','tea'],\n",
    "    'LUNCH': ['meal'],\n",
    "    'AFTERNOON SNACK': ['coffee','tea']\n",
    "}\n",
    "\n",
    "times = {\n",
    "    'BREAKFAST': '06:00-11:00',\n",
    "    'LUNCH': '11:00-14.30',\n",
    "    'AFTERNOON SNACK': '14.30-20:00'\n",
    "}\n",
    "\n",
    "additions = {\n",
    "    'BREAKFAST': ['dessert', 'fruit', 'pastry'],\n",
    "    'LUNCH': ['condiment',\n",
    "             'dessert',\n",
    "             'fruit',\n",
    "             'pastry',\n",
    "             'salad',\n",
    "             'soft drink',\n",
    "             'soup'],\n",
    "    'AFTERNOON SNACK': ['dessert', 'fruit', 'pastry']\n",
    "}"
   ]
  },
  {
   "cell_type": "markdown",
   "metadata": {},
   "source": [
    "### Number of situations lunch + both have a meal"
   ]
  },
  {
   "cell_type": "code",
   "execution_count": 11,
   "metadata": {},
   "outputs": [
    {
     "data": {
      "text/plain": [
       "168871"
      ]
     },
     "execution_count": 11,
     "metadata": {},
     "output_type": "execute_result"
    }
   ],
   "source": [
    "len(df_choices.loc[(df_choices['MEAL']=='LUNCH') & (df_choices['partner_meal']) & (df_choices['focal_meal'])])"
   ]
  },
  {
   "cell_type": "markdown",
   "metadata": {},
   "source": [
    "### Number of situations breakfast/snack + both have coffee/tea"
   ]
  },
  {
   "cell_type": "code",
   "execution_count": 12,
   "metadata": {},
   "outputs": [
    {
     "data": {
      "text/plain": [
       "45425"
      ]
     },
     "execution_count": 12,
     "metadata": {},
     "output_type": "execute_result"
    }
   ],
   "source": [
    "len(df_choices.loc[(~(df_choices['MEAL']=='LUNCH')) & \n",
    "                   (df_choices['partner_coffee'] | df_choices['partner_tea']) & \n",
    "                   (df_choices['focal_coffee'] | df_choices['focal_tea'] )])"
   ]
  },
  {
   "cell_type": "markdown",
   "metadata": {},
   "source": [
    "## STEP 1 : Matching and covariate balance check"
   ]
  },
  {
   "cell_type": "code",
   "execution_count": 13,
   "metadata": {},
   "outputs": [],
   "source": [
    "def SMD(treated_vec, control_vec):\n",
    "    pos_mean = np.nanmean(treated_vec)\n",
    "    neg_mean = np.nanmean(control_vec)\n",
    "\n",
    "    pos_std = np.std(treated_vec)\n",
    "    neg_std = np.std(control_vec)\n",
    "    smd = (pos_mean - neg_mean) / np.sqrt((pos_std ** 2 + neg_std ** 2) / 2)\n",
    "    \n",
    "    return round(abs(smd), 4)"
   ]
  },
  {
   "cell_type": "code",
   "execution_count": 14,
   "metadata": {},
   "outputs": [],
   "source": [
    "## TODO: check how much SMD was before matching"
   ]
  },
  {
   "cell_type": "code",
   "execution_count": 14,
   "metadata": {},
   "outputs": [
    {
     "name": "stdout",
     "output_type": "stream",
     "text": [
      "\n",
      "\n",
      "BREAKFAST\n",
      "dessert\n"
     ]
    },
    {
     "data": {
      "application/vnd.jupyter.widget-view+json": {
       "model_id": "383a7a787da0437fbb57eba539032d31",
       "version_major": 2,
       "version_minor": 0
      },
      "text/plain": [
       "HBox(children=(FloatProgress(value=0.0, max=4463.0), HTML(value='')))"
      ]
     },
     "metadata": {},
     "output_type": "display_data"
    },
    {
     "name": "stdout",
     "output_type": "stream",
     "text": [
      "\n",
      "1518\n",
      "\n",
      "\n",
      "BREAKFAST\n",
      "fruit\n"
     ]
    },
    {
     "data": {
      "application/vnd.jupyter.widget-view+json": {
       "model_id": "24cfd6e47f5d4b1fa7654a49cbb99678",
       "version_major": 2,
       "version_minor": 0
      },
      "text/plain": [
       "HBox(children=(FloatProgress(value=0.0, max=4463.0), HTML(value='')))"
      ]
     },
     "metadata": {},
     "output_type": "display_data"
    },
    {
     "name": "stdout",
     "output_type": "stream",
     "text": [
      "\n",
      "458\n",
      "\n",
      "\n",
      "BREAKFAST\n",
      "pastry\n"
     ]
    },
    {
     "data": {
      "application/vnd.jupyter.widget-view+json": {
       "model_id": "f7742a2a4f5640f8a6abd03a26d7fd14",
       "version_major": 2,
       "version_minor": 0
      },
      "text/plain": [
       "HBox(children=(FloatProgress(value=0.0, max=4463.0), HTML(value='')))"
      ]
     },
     "metadata": {},
     "output_type": "display_data"
    },
    {
     "name": "stdout",
     "output_type": "stream",
     "text": [
      "\n",
      "6496\n",
      "\n",
      "\n",
      "LUNCH\n",
      "condiment\n"
     ]
    },
    {
     "data": {
      "application/vnd.jupyter.widget-view+json": {
       "model_id": "0052877d98234eaea30d84ba6cd2e0bd",
       "version_major": 2,
       "version_minor": 0
      },
      "text/plain": [
       "HBox(children=(FloatProgress(value=0.0, max=21045.0), HTML(value='')))"
      ]
     },
     "metadata": {},
     "output_type": "display_data"
    },
    {
     "name": "stdout",
     "output_type": "stream",
     "text": [
      "\n",
      "2586\n",
      "\n",
      "\n",
      "LUNCH\n",
      "dessert\n"
     ]
    },
    {
     "data": {
      "application/vnd.jupyter.widget-view+json": {
       "model_id": "0f364c8b003c41c2a0130ac7a9c6ea07",
       "version_major": 2,
       "version_minor": 0
      },
      "text/plain": [
       "HBox(children=(FloatProgress(value=0.0, max=21045.0), HTML(value='')))"
      ]
     },
     "metadata": {},
     "output_type": "display_data"
    },
    {
     "name": "stdout",
     "output_type": "stream",
     "text": [
      "\n",
      "2645\n",
      "\n",
      "\n",
      "LUNCH\n",
      "fruit\n"
     ]
    },
    {
     "data": {
      "application/vnd.jupyter.widget-view+json": {
       "model_id": "27b0d9695f5543bd930b952d720cf2db",
       "version_major": 2,
       "version_minor": 0
      },
      "text/plain": [
       "HBox(children=(FloatProgress(value=0.0, max=21045.0), HTML(value='')))"
      ]
     },
     "metadata": {},
     "output_type": "display_data"
    },
    {
     "name": "stdout",
     "output_type": "stream",
     "text": [
      "\n",
      "15290\n",
      "\n",
      "\n",
      "LUNCH\n",
      "pastry\n"
     ]
    },
    {
     "data": {
      "application/vnd.jupyter.widget-view+json": {
       "model_id": "4b328952db304abcbe8c15100bc3c570",
       "version_major": 2,
       "version_minor": 0
      },
      "text/plain": [
       "HBox(children=(FloatProgress(value=0.0, max=21045.0), HTML(value='')))"
      ]
     },
     "metadata": {},
     "output_type": "display_data"
    },
    {
     "name": "stdout",
     "output_type": "stream",
     "text": [
      "\n",
      "3815\n",
      "\n",
      "\n",
      "LUNCH\n",
      "salad\n"
     ]
    },
    {
     "data": {
      "application/vnd.jupyter.widget-view+json": {
       "model_id": "a867fa9a1fde4fbb886735a3e1782bcd",
       "version_major": 2,
       "version_minor": 0
      },
      "text/plain": [
       "HBox(children=(FloatProgress(value=0.0, max=21045.0), HTML(value='')))"
      ]
     },
     "metadata": {},
     "output_type": "display_data"
    },
    {
     "name": "stdout",
     "output_type": "stream",
     "text": [
      "\n",
      "3600\n",
      "\n",
      "\n",
      "LUNCH\n",
      "soft drink\n"
     ]
    },
    {
     "data": {
      "application/vnd.jupyter.widget-view+json": {
       "model_id": "162f2b8dff7f46d8b300dd5be3306453",
       "version_major": 2,
       "version_minor": 0
      },
      "text/plain": [
       "HBox(children=(FloatProgress(value=0.0, max=21045.0), HTML(value='')))"
      ]
     },
     "metadata": {},
     "output_type": "display_data"
    },
    {
     "name": "stdout",
     "output_type": "stream",
     "text": [
      "\n",
      "7122\n",
      "\n",
      "\n",
      "LUNCH\n",
      "soup\n"
     ]
    },
    {
     "data": {
      "application/vnd.jupyter.widget-view+json": {
       "model_id": "89e9a4557ed64eedb851169e4f2baf39",
       "version_major": 2,
       "version_minor": 0
      },
      "text/plain": [
       "HBox(children=(FloatProgress(value=0.0, max=21045.0), HTML(value='')))"
      ]
     },
     "metadata": {},
     "output_type": "display_data"
    },
    {
     "name": "stdout",
     "output_type": "stream",
     "text": [
      "\n",
      "18077\n",
      "\n",
      "\n",
      "AFTERNOON SNACK\n",
      "dessert\n"
     ]
    },
    {
     "data": {
      "application/vnd.jupyter.widget-view+json": {
       "model_id": "9d13a299c05844ccab8be91596a57f9f",
       "version_major": 2,
       "version_minor": 0
      },
      "text/plain": [
       "HBox(children=(FloatProgress(value=0.0, max=3813.0), HTML(value='')))"
      ]
     },
     "metadata": {},
     "output_type": "display_data"
    },
    {
     "name": "stdout",
     "output_type": "stream",
     "text": [
      "\n",
      "486\n",
      "\n",
      "\n",
      "AFTERNOON SNACK\n",
      "fruit\n"
     ]
    },
    {
     "data": {
      "application/vnd.jupyter.widget-view+json": {
       "model_id": "9aa6232e6e02403292b7f62e33cf14e0",
       "version_major": 2,
       "version_minor": 0
      },
      "text/plain": [
       "HBox(children=(FloatProgress(value=0.0, max=3813.0), HTML(value='')))"
      ]
     },
     "metadata": {},
     "output_type": "display_data"
    },
    {
     "name": "stdout",
     "output_type": "stream",
     "text": [
      "\n",
      "146\n",
      "\n",
      "\n",
      "AFTERNOON SNACK\n",
      "pastry\n"
     ]
    },
    {
     "data": {
      "application/vnd.jupyter.widget-view+json": {
       "model_id": "1d571b87d0174528ae4cce8489bd8099",
       "version_major": 2,
       "version_minor": 0
      },
      "text/plain": [
       "HBox(children=(FloatProgress(value=0.0, max=3813.0), HTML(value='')))"
      ]
     },
     "metadata": {},
     "output_type": "display_data"
    },
    {
     "name": "stdout",
     "output_type": "stream",
     "text": [
      "\n",
      "2002\n"
     ]
    }
   ],
   "source": [
    "#for different additions\n",
    "\n",
    "list_viz = []\n",
    "\n",
    "for meal in ['BREAKFAST', 'LUNCH', 'AFTERNOON SNACK']:\n",
    "    for addition in additions[meal]:\n",
    "\n",
    "        # covariates to match on:\n",
    "        covariates_categorical = ['partner_ID', 'shop', 'MEAL']\n",
    "        covariates_continuous = 'popularity_'+addition\n",
    "\n",
    "        #additional covariates: N, 'focal_ID' \n",
    "        \n",
    "        print('\\n')\n",
    "        print(meal)\n",
    "        print(addition)\n",
    "\n",
    "        outcome = 'focal_'+addition\n",
    "        exposure = 'partner_'+addition\n",
    "\n",
    "        \n",
    "        if meal == 'LUNCH':\n",
    "            treated = df_choices.loc[(df_choices['MEAL']==meal) & \\\n",
    "                                     (df_choices['partner_meal']) &\\\n",
    "                                     (df_choices['focal_meal'])].reset_index()\n",
    "        else:\n",
    "            treated = df_choices.loc[((df_choices['MEAL']==meal)) & \n",
    "                                    (df_choices['partner_coffee'] | df_choices['partner_tea']) & \n",
    "                                    (df_choices['focal_coffee'] | df_choices['focal_tea'] )].reset_index()\n",
    "        \n",
    "        \n",
    "        treated['focal_'+addition] = treated['focal_'+addition].astype(int)\n",
    "        treated['partner_'+addition] = treated['partner_'+addition].astype(int)\n",
    "\n",
    "        matching = set()\n",
    "\n",
    "        #control for categorical covariates\n",
    "        for partner,gr in tqdm(treated.groupby(covariates_categorical)):\n",
    "            treatment_df = gr[gr[exposure] == 1]\n",
    "            control_df = gr[gr[exposure] == 0]\n",
    "\n",
    "\n",
    "            if len(treatment_df)==0 or len(control_df)==0:\n",
    "                continue\n",
    "            else:\n",
    "                G = nx.Graph()\n",
    "                for treatment_id, treated_row in treatment_df.iterrows():\n",
    "                    for control_id, control_row in control_df.iterrows():\n",
    "                        # add an edge only if continuous covariates match\n",
    "                        if np.abs(control_row['popularity_'+addition] - treated_row['popularity_'+addition]) < 0.1:\n",
    "                            # adds an edge\n",
    "                            G.add_weighted_edges_from([(control_id, treatment_id, 1)])\n",
    "\n",
    "                #find optimal matching of situations\n",
    "                matching.update(nx.max_weight_matching(G))\n",
    "\n",
    "        matched = [i[0] for i in list(matching)] + [i[1] for i in list(matching)]\n",
    "        balanced_df_all = treated.loc[treated.index.isin(matched)]\n",
    "\n",
    "\n",
    "        pos = balanced_df_all.loc[balanced_df_all[exposure] == 1] #treated\n",
    "        neg = balanced_df_all.loc[balanced_df_all[exposure] == 0] #control\n",
    "\n",
    "        print(len(pos))\n",
    "        pos['addition'] = addition\n",
    "        neg['addition'] = addition\n",
    "\n",
    "        pos[['MEAL','addition',exposure, outcome, 'delay', 'shop', 'timestamp',\n",
    "           'focal_p_student', 'partner_p_student', 'focal_gender',\n",
    "           'partner_gender', 'focal_age', 'partner_age', 'popularity_'+addition]].rename(columns = {exposure: 'exposure', outcome: 'outcome',\n",
    "                                                                                                   'popularity_'+addition: 'popularity'}).to_pickle('tmp/randomized_pos_' + addition +'_' +meal+ '.pkl')\n",
    "\n",
    "        neg[['MEAL','addition',exposure, outcome, 'delay', 'shop', 'timestamp',\n",
    "           'focal_p_student', 'partner_p_student', 'focal_gender',\n",
    "           'partner_gender', 'focal_age', 'partner_age', 'popularity_'+addition]].rename(columns = {exposure: 'exposure', outcome: 'outcome',\n",
    "                                                                                                   'popularity_'+addition: 'popularity'},).to_pickle('tmp/randomized_neg_' + addition +'_' +meal+'.pkl')\n",
    "\n",
    "\n",
    "    "
   ]
  },
  {
   "cell_type": "code",
   "execution_count": 15,
   "metadata": {},
   "outputs": [],
   "source": [
    "cnt = 0\n",
    "\n",
    "check = 0\n",
    "\n",
    "for meal in ['BREAKFAST','LUNCH','AFTERNOON SNACK']:\n",
    "    for addition in additions[meal]:\n",
    "        pos = pd.read_pickle('tmp/randomized_pos_' + addition +'_' +meal+'.pkl')\n",
    "        if cnt==0:\n",
    "            df = pos.copy(deep = True)\n",
    "        else:\n",
    "            df = pd.concat([df,pos])\n",
    "        cnt+=1\n",
    "        neg = pd.read_pickle('tmp/randomized_neg_' + addition +'_' +meal+'.pkl')\n",
    "        df = pd.concat([df,neg])\n",
    "\n",
    "        check+=len(pos) + len(neg)"
   ]
  },
  {
   "cell_type": "code",
   "execution_count": 16,
   "metadata": {},
   "outputs": [
    {
     "data": {
      "text/plain": [
       "Text(0, 0.5, 'Number of situations')"
      ]
     },
     "execution_count": 16,
     "metadata": {},
     "output_type": "execute_result"
    },
    {
     "data": {
      "image/png": "[encoded data removed]",
      "text/plain": [
       "<Figure size 640x480 with 1 Axes>"
      ]
     },
     "metadata": {},
     "output_type": "display_data"
    }
   ],
   "source": [
    "df.loc[df['exposure']==1]['popularity'].hist(range = [0,1], bins = 20,label = 'pos', alpha = 0.5)\n",
    "df.loc[df['exposure']==0]['popularity'].hist(range = [0,1], bins = 20,label = 'pos', alpha = 0.5)\n",
    "\n",
    "plt.xlabel('Popularity')\n",
    "plt.ylabel('Number of situations')"
   ]
  },
  {
   "cell_type": "code",
   "execution_count": 17,
   "metadata": {},
   "outputs": [
    {
     "data": {
      "text/plain": [
       "128482"
      ]
     },
     "execution_count": 17,
     "metadata": {},
     "output_type": "execute_result"
    }
   ],
   "source": [
    "len(df)"
   ]
  },
  {
   "cell_type": "code",
   "execution_count": 18,
   "metadata": {},
   "outputs": [
    {
     "data": {
      "text/plain": [
       "0.0686"
      ]
     },
     "execution_count": 18,
     "metadata": {},
     "output_type": "execute_result"
    }
   ],
   "source": [
    "SMD(df.loc[df['exposure']==1]['popularity'].values,df.loc[df['exposure']==0]['popularity'].values)"
   ]
  },
  {
   "cell_type": "code",
   "execution_count": 19,
   "metadata": {},
   "outputs": [],
   "source": [
    "df.to_pickle('tmp/3_meals_matched_situations_randomized')"
   ]
  },
  {
   "cell_type": "markdown",
   "metadata": {},
   "source": [
    "## Analyses of the outcome"
   ]
  },
  {
   "cell_type": "code",
   "execution_count": 20,
   "metadata": {},
   "outputs": [],
   "source": [
    "df = pd.read_pickle('tmp/3_meals_matched_situations_randomized')"
   ]
  },
  {
   "cell_type": "markdown",
   "metadata": {},
   "source": [
    "### a) Overall"
   ]
  },
  {
   "cell_type": "code",
   "execution_count": 21,
   "metadata": {},
   "outputs": [
    {
     "name": "stdout",
     "output_type": "stream",
     "text": [
      "ATE = 1.07 %\n",
      "lower_error =  0.7 %\n",
      "upper_error =  1.43 %\n",
      "RTE =  1.07\n",
      "lower_error =  1.05\n",
      "upper_error =  1.1\n"
     ]
    }
   ],
   "source": [
    "treated_p = df.loc[df['exposure']==1]['outcome'].value_counts(normalize = True)[1]\n",
    "control_p = df.loc[df['exposure']==0]['outcome'].value_counts(normalize = True)[1]\n",
    "\n",
    "print('ATE =', round(100*(treated_p - control_p),2),'%')\n",
    "\n",
    "ys = []\n",
    "ys_r = []\n",
    "for iteration in range(1000):\n",
    "    pos_tmp = df.loc[df['exposure']==1].sample(round(len(df)/2), replace = True)['outcome'].value_counts(normalize = True)[1]\n",
    "    neg_tmp = df.loc[df['exposure']==0].sample(round(len(df)/2), replace = True)['outcome'].value_counts(normalize = True)[1]   \n",
    "\n",
    "    y_tmp = pos_tmp - neg_tmp\n",
    "\n",
    "    ys.append(y_tmp)\n",
    "    ys_r.append(pos_tmp/neg_tmp)\n",
    "\n",
    "print('lower_error = ', round(100*np.percentile(np.array(ys), 2.5),2),'%')\n",
    "print('upper_error = ', round(100*np.percentile(np.array(ys),97.5),2),'%')\n",
    "\n",
    "print('RTE = ',round((treated_p/control_p),2))\n",
    "print('lower_error = ', round(np.percentile(np.array(ys_r), 2.5),2))\n",
    "print('upper_error = ', round(np.percentile(np.array(ys_r),97.5),2))"
   ]
  },
  {
   "cell_type": "code",
   "execution_count": 22,
   "metadata": {},
   "outputs": [],
   "source": [
    "pd.crosstab(df['exposure'],df['outcome'], margins = True).to_pickle('tmp/contingency_randomized')"
   ]
  },
  {
   "cell_type": "code",
   "execution_count": 23,
   "metadata": {},
   "outputs": [],
   "source": [
    "entry = {}\n",
    "entry['ATE'] = treated_p - control_p\n",
    "entry['lower_error'] = np.percentile(np.array(ys), 2.5)\n",
    "entry['upper_error'] = np.percentile(np.array(ys), 97.5)\n",
    "pd.DataFrame([entry]).to_pickle('tmp/ate_randomized')"
   ]
  },
  {
   "cell_type": "markdown",
   "metadata": {},
   "source": [
    "### b.1) Per food type"
   ]
  },
  {
   "cell_type": "code",
   "execution_count": 24,
   "metadata": {},
   "outputs": [
    {
     "name": "stdout",
     "output_type": "stream",
     "text": [
      "condiment ATE = 3.25 %\n",
      "dessert ATE = 0.37 %\n",
      "fruit ATE = 1.81 %\n",
      "pastry ATE = 0.96 %\n",
      "salad ATE = 0.94 %\n",
      "soft drink ATE = -0.06 %\n",
      "soup ATE = 0.84 %\n"
     ]
    }
   ],
   "source": [
    "list_viz = []\n",
    "\n",
    "for addition in additions['LUNCH']:\n",
    "    df_tmp = df.loc[(df['addition'] == addition)]\n",
    "    \n",
    "    treated_p = df_tmp.loc[df_tmp['exposure']==1]['outcome'].value_counts(normalize = True)[1]\n",
    "    control_p = df_tmp.loc[df_tmp['exposure']==0]['outcome'].value_counts(normalize = True)[1]\n",
    "\n",
    "    print(addition, 'ATE =', round(100*(treated_p - control_p),2),'%')\n",
    "    \n",
    "    entry = {}\n",
    "\n",
    "    entry['treated_p'] = treated_p\n",
    "    entry['control_p'] = control_p\n",
    "\n",
    "    entry['ATE'] = treated_p - control_p\n",
    "    \n",
    "    ys = []\n",
    "    for iteration in range(1000):\n",
    "        pos_tmp = df_tmp.loc[df_tmp['exposure']==1].sample(len(df_tmp.loc[df_tmp['exposure']==1]), replace = True)['outcome'].value_counts(normalize = True)[1]\n",
    "        neg_tmp = df_tmp.loc[df_tmp['exposure']==0].sample(len(df_tmp.loc[df_tmp['exposure']==1]), replace = True)['outcome'].value_counts(normalize = True)[1]   \n",
    "\n",
    "        y_tmp = pos_tmp - neg_tmp\n",
    "\n",
    "        ys.append(y_tmp)\n",
    "\n",
    "    entry['lower_error'] = (np.percentile(np.array(ys), 2.5))\n",
    "    entry['upper_error'] = (np.percentile(np.array(ys),97.5))\n",
    "\n",
    "    entry['matched_pairs_of_situations'] = len(df_tmp)/2\n",
    "    \n",
    "    list_viz.append(entry)\n",
    "    \n"
   ]
  },
  {
   "cell_type": "code",
   "execution_count": 25,
   "metadata": {},
   "outputs": [
    {
     "data": {
      "text/html": [
       "<div>\n",
       "<style scoped>\n",
       "    .dataframe tbody tr th:only-of-type {\n",
       "        vertical-align: middle;\n",
       "    }\n",
       "\n",
       "    .dataframe tbody tr th {\n",
       "        vertical-align: top;\n",
       "    }\n",
       "\n",
       "    .dataframe thead th {\n",
       "        text-align: right;\n",
       "    }\n",
       "</style>\n",
       "<table border=\"1\" class=\"dataframe\">\n",
       "  <thead>\n",
       "    <tr style=\"text-align: right;\">\n",
       "      <th></th>\n",
       "      <th>treated_p</th>\n",
       "      <th>control_p</th>\n",
       "      <th>ATE</th>\n",
       "      <th>lower_error</th>\n",
       "      <th>upper_error</th>\n",
       "      <th>matched_pairs_of_situations</th>\n",
       "      <th>type</th>\n",
       "    </tr>\n",
       "  </thead>\n",
       "  <tbody>\n",
       "    <tr>\n",
       "      <th>0</th>\n",
       "      <td>0.058005</td>\n",
       "      <td>0.025522</td>\n",
       "      <td>0.032483</td>\n",
       "      <td>0.022428</td>\n",
       "      <td>0.042923</td>\n",
       "      <td>2586.0</td>\n",
       "      <td>condiment</td>\n",
       "    </tr>\n",
       "    <tr>\n",
       "      <th>2</th>\n",
       "      <td>0.174405</td>\n",
       "      <td>0.156285</td>\n",
       "      <td>0.018120</td>\n",
       "      <td>0.009560</td>\n",
       "      <td>0.026051</td>\n",
       "      <td>15894.0</td>\n",
       "      <td>fruit</td>\n",
       "    </tr>\n",
       "    <tr>\n",
       "      <th>3</th>\n",
       "      <td>0.249086</td>\n",
       "      <td>0.239503</td>\n",
       "      <td>0.009583</td>\n",
       "      <td>-0.000812</td>\n",
       "      <td>0.020635</td>\n",
       "      <td>12313.0</td>\n",
       "      <td>pastry</td>\n",
       "    </tr>\n",
       "    <tr>\n",
       "      <th>4</th>\n",
       "      <td>0.026944</td>\n",
       "      <td>0.017500</td>\n",
       "      <td>0.009444</td>\n",
       "      <td>0.003056</td>\n",
       "      <td>0.016667</td>\n",
       "      <td>3600.0</td>\n",
       "      <td>salad</td>\n",
       "    </tr>\n",
       "    <tr>\n",
       "      <th>6</th>\n",
       "      <td>0.186978</td>\n",
       "      <td>0.178625</td>\n",
       "      <td>0.008353</td>\n",
       "      <td>0.000166</td>\n",
       "      <td>0.016872</td>\n",
       "      <td>18077.0</td>\n",
       "      <td>soup</td>\n",
       "    </tr>\n",
       "    <tr>\n",
       "      <th>1</th>\n",
       "      <td>0.036352</td>\n",
       "      <td>0.032695</td>\n",
       "      <td>0.003657</td>\n",
       "      <td>-0.003877</td>\n",
       "      <td>0.011831</td>\n",
       "      <td>4649.0</td>\n",
       "      <td>dessert</td>\n",
       "    </tr>\n",
       "    <tr>\n",
       "      <th>5</th>\n",
       "      <td>0.032856</td>\n",
       "      <td>0.033418</td>\n",
       "      <td>-0.000562</td>\n",
       "      <td>-0.005901</td>\n",
       "      <td>0.005202</td>\n",
       "      <td>7122.0</td>\n",
       "      <td>soft drink</td>\n",
       "    </tr>\n",
       "  </tbody>\n",
       "</table>\n",
       "</div>"
      ],
      "text/plain": [
       "   treated_p  control_p       ATE  lower_error  upper_error  \\\n",
       "0   0.058005   0.025522  0.032483     0.022428     0.042923   \n",
       "2   0.174405   0.156285  0.018120     0.009560     0.026051   \n",
       "3   0.249086   0.239503  0.009583    -0.000812     0.020635   \n",
       "4   0.026944   0.017500  0.009444     0.003056     0.016667   \n",
       "6   0.186978   0.178625  0.008353     0.000166     0.016872   \n",
       "1   0.036352   0.032695  0.003657    -0.003877     0.011831   \n",
       "5   0.032856   0.033418 -0.000562    -0.005901     0.005202   \n",
       "\n",
       "   matched_pairs_of_situations        type  \n",
       "0                       2586.0   condiment  \n",
       "2                      15894.0       fruit  \n",
       "3                      12313.0      pastry  \n",
       "4                       3600.0       salad  \n",
       "6                      18077.0        soup  \n",
       "1                       4649.0     dessert  \n",
       "5                       7122.0  soft drink  "
      ]
     },
     "execution_count": 25,
     "metadata": {},
     "output_type": "execute_result"
    }
   ],
   "source": [
    "df_plot = pd.DataFrame(list_viz)\n",
    "df_plot['type'] = additions['LUNCH']\n",
    "df_plot.sort_values(by = 'ATE', ascending = False)"
   ]
  },
  {
   "cell_type": "code",
   "execution_count": 26,
   "metadata": {},
   "outputs": [
    {
     "data": {
      "text/plain": [
       "Text(0, 0.5, 'Food item')"
      ]
     },
     "execution_count": 26,
     "metadata": {},
     "output_type": "execute_result"
    },
    {
     "data": {
      "image/png": "[encoded data removed]",
      "text/plain": [
       "<Figure size 288x576 with 1 Axes>"
      ]
     },
     "metadata": {
      "needs_background": "light"
     },
     "output_type": "display_data"
    }
   ],
   "source": [
    "fix, axes = plt.subplots(1,1, figsize = (4,8))\n",
    "\n",
    "types = []\n",
    "\n",
    "c = 0\n",
    "for cnt,row in df_plot.sort_values(by = 'ATE', ascending = False).iterrows():\n",
    "    plt.hlines(11-cnt, -1,4, color = 'gray', linestyle = '--')\n",
    "    plt.errorbar([row['ATE']],[11-c], xerr = (np.array([row['ATE'] - row['lower_error']]), np.array([row['upper_error']- row['ATE']])),\n",
    "                 fmt = '|', markersize= 8,color = 'tab:blue', linewidth = 3)\n",
    "    types.append(row['type'])\n",
    "    c+=1\n",
    "plt.yticks(11-np.array(range(len(additions['LUNCH']))), [i.replace('_',' ').capitalize() for i in types]);\n",
    "\n",
    "plt.xlim([-0.1,0.3])\n",
    "\n",
    "plt.vlines(0,4.5,11.5, linestyle = '--')\n",
    "\n",
    "plt.xlabel('Δp', fontsize =12)\n",
    "plt.ylabel('Food item')\n"
   ]
  },
  {
   "cell_type": "markdown",
   "metadata": {},
   "source": [
    "### b.2) per meal"
   ]
  },
  {
   "cell_type": "code",
   "execution_count": 27,
   "metadata": {},
   "outputs": [
    {
     "name": "stdout",
     "output_type": "stream",
     "text": [
      "BREAKFAST ATE = 1.39 %\n",
      "LUNCH ATE = 1.07 %\n",
      "AFTERNOON SNACK ATE = 0.04 %\n"
     ]
    }
   ],
   "source": [
    "list_viz = []\n",
    "\n",
    "for meal in additions.keys():\n",
    "    df_tmp = df.loc[(df['MEAL']==meal)]\n",
    "    \n",
    "    treated_p = df_tmp.loc[df_tmp['exposure']==1]['outcome'].value_counts(normalize = True)[1]\n",
    "    control_p = df_tmp.loc[df_tmp['exposure']==0]['outcome'].value_counts(normalize = True)[1]\n",
    "\n",
    "    print(meal, 'ATE =', round(100*(treated_p - control_p),2),'%')\n",
    "    \n",
    "    entry = {}\n",
    "\n",
    "    entry['treated_p'] = treated_p\n",
    "    entry['control_p'] = control_p\n",
    "\n",
    "    entry['ATE'] = treated_p - control_p\n",
    "    \n",
    "    ys = []\n",
    "    for iteration in range(1000):\n",
    "        pos_tmp = df_tmp.loc[df_tmp['exposure']==1].sample(len(df_tmp.loc[df_tmp['exposure']==1]), replace = True)['outcome'].value_counts(normalize = True)[1]\n",
    "        neg_tmp = df_tmp.loc[df_tmp['exposure']==0].sample(len(df_tmp.loc[df_tmp['exposure']==1]), replace = True)['outcome'].value_counts(normalize = True)[1]   \n",
    "\n",
    "        y_tmp = pos_tmp - neg_tmp\n",
    "\n",
    "        ys.append(y_tmp)\n",
    "\n",
    "    entry['lower_error'] = (np.percentile(np.array(ys), 2.5))\n",
    "    entry['upper_error'] = (np.percentile(np.array(ys),97.5))\n",
    "\n",
    "    entry['matched_pairs_of_situations'] = len(df_tmp)/2\n",
    "    \n",
    "    entry['meal'] = meal\n",
    "    \n",
    "    list_viz.append(entry)\n",
    "    "
   ]
  },
  {
   "cell_type": "code",
   "execution_count": 28,
   "metadata": {},
   "outputs": [],
   "source": [
    "# interesting: most affected time of day/type of meal\" afternoon snack"
   ]
  },
  {
   "cell_type": "markdown",
   "metadata": {},
   "source": [
    "### b.3) per meal x food type"
   ]
  },
  {
   "cell_type": "code",
   "execution_count": 29,
   "metadata": {},
   "outputs": [
    {
     "name": "stdout",
     "output_type": "stream",
     "text": [
      "BREAKFAST dessert ATE = 0.99 %\n",
      "BREAKFAST fruit ATE = 0.87 %\n",
      "BREAKFAST pastry ATE = 1.52 %\n",
      "LUNCH condiment ATE = 3.25 %\n",
      "LUNCH dessert ATE = 0.11 %\n",
      "LUNCH fruit ATE = 1.86 %\n",
      "LUNCH pastry ATE = 0.45 %\n",
      "LUNCH salad ATE = 0.94 %\n",
      "LUNCH soft drink ATE = -0.06 %\n",
      "LUNCH soup ATE = 0.84 %\n",
      "AFTERNOON SNACK dessert ATE = -0.21 %\n",
      "AFTERNOON SNACK fruit ATE = 0.0 %\n",
      "AFTERNOON SNACK pastry ATE = 0.1 %\n"
     ]
    }
   ],
   "source": [
    "list_viz = []\n",
    "\n",
    "for meal in ['BREAKFAST', 'LUNCH', 'AFTERNOON SNACK']:\n",
    "    for addition in additions[meal]:\n",
    "        df_tmp = df.loc[(df['MEAL']==meal) & (df['addition']==addition)]\n",
    "\n",
    "        try:\n",
    "            treated_p = df_tmp.loc[df_tmp['exposure']==1]['outcome'].value_counts(normalize = True)[1]\n",
    "            control_p = df_tmp.loc[df_tmp['exposure']==0]['outcome'].value_counts(normalize = True)[1]\n",
    "        except:\n",
    "            print(meal, addition)\n",
    "            continue\n",
    "        \n",
    "        print(meal, addition,  'ATE =', round(100*(treated_p - control_p),2),'%')\n",
    "\n",
    "        entry = {}\n",
    "\n",
    "        entry['ATE'] = treated_p - control_p\n",
    "        \n",
    "        entry['RR'] = treated_p/control_p\n",
    "\n",
    "        ys = []\n",
    "        ys_rr = []\n",
    "        for iteration in range(1000):\n",
    "            try:\n",
    "                pos_tmp = df_tmp.loc[df_tmp['exposure']==1].sample(len(df_tmp.loc[df_tmp['exposure']==1]), replace = True)['outcome'].value_counts(normalize = True)[1]\n",
    "                neg_tmp = df_tmp.loc[df_tmp['exposure']==0].sample(len(df_tmp.loc[df_tmp['exposure']==1]), replace = True)['outcome'].value_counts(normalize = True)[1]   \n",
    "            except:\n",
    "                continue\n",
    "            y_tmp = pos_tmp - neg_tmp\n",
    "\n",
    "            ys.append(y_tmp)\n",
    "            ys_rr.append(pos_tmp/neg_tmp)\n",
    "\n",
    "        entry['lower_error'] = (np.percentile(np.array(ys), 2.5))\n",
    "        entry['upper_error'] = (np.percentile(np.array(ys),97.5))\n",
    "\n",
    "        entry['lower_error_rr'] = (np.percentile(np.array(ys_rr), 2.5))\n",
    "        entry['upper_error_rr'] = (np.percentile(np.array(ys_rr),97.5))\n",
    "\n",
    "        entry['meal'] = meal\n",
    "        entry['addition'] = addition\n",
    "\n",
    "        list_viz.append(entry)"
   ]
  },
  {
   "cell_type": "code",
   "execution_count": 30,
   "metadata": {},
   "outputs": [],
   "source": [
    "df_plot = pd.DataFrame(list_viz)"
   ]
  },
  {
   "cell_type": "code",
   "execution_count": 31,
   "metadata": {},
   "outputs": [
    {
     "data": {
      "text/plain": [
       "array(['condiment', 'dessert', 'fruit', 'pastry', 'salad', 'soft drink',\n",
       "       'soup'], dtype=object)"
      ]
     },
     "execution_count": 31,
     "metadata": {},
     "output_type": "execute_result"
    }
   ],
   "source": [
    "df_plot.loc[df_plot['meal']=='LUNCH']['addition'].values"
   ]
  },
  {
   "cell_type": "code",
   "execution_count": 32,
   "metadata": {},
   "outputs": [
    {
     "data": {
      "text/plain": [
       "Text(-0.05, -1.7, 'Anchor: coffee or tea')"
      ]
     },
     "execution_count": 32,
     "metadata": {},
     "output_type": "execute_result"
    },
    {
     "data": {
      "image/png": "[encoded data removed]",
      "text/plain": [
       "<Figure size 576x432 with 3 Axes>"
      ]
     },
     "metadata": {
      "needs_background": "light"
     },
     "output_type": "display_data"
    }
   ],
   "source": [
    "plt.figure(figsize = (8,6))\n",
    "\n",
    "for cnt,meal in enumerate(['LUNCH', 'BREAKFAST','AFTERNOON SNACK']):\n",
    "    if cnt==0:\n",
    "        sbplt = plt.subplot(2,2,(1,3))\n",
    "        sbplt.set_ylim([-0.5,6.5])\n",
    "    if cnt==1:\n",
    "        sbplt = plt.subplot(2,2,2)\n",
    "        sbplt.set_ylim([-0.5,2.5])\n",
    "    if cnt==2:\n",
    "        sbplt = plt.subplot(2,2,4)\n",
    "        sbplt.set_ylim([-0.5,2.5])\n",
    "        \n",
    "    types = []\n",
    "\n",
    "    c = 0\n",
    "    \n",
    "    if meal =='LUNCH':\n",
    "        color= 'tab:blue'\n",
    "    else:\n",
    "        color = 'tab:orange'\n",
    "        \n",
    "    for cnt,row in (df_plot.loc[df_plot['meal']==meal]).sort_values(by = 'ATE', ascending = True).reset_index().iterrows():\n",
    "        sbplt.hlines(cnt, -1,4, color = 'gray', linestyle = '--')\n",
    "        sbplt.errorbar([row['ATE']],[c], xerr = (np.array([row['ATE'] - row['lower_error']]), \n",
    "                     np.array([row['upper_error']- row['ATE']])),\n",
    "                     fmt = '|', markersize= 8,color = color, linewidth = 3)\n",
    "        types.append(row['addition'])\n",
    "        c+=1\n",
    "        \n",
    "    sbplt.set_yticks(np.array(range(len(additions[meal]))))\n",
    "    sbplt.set_yticklabels([i.replace('_',' ').capitalize() for i in types])\n",
    "\n",
    "    sbplt.set_xlim([-0.1,0.3])\n",
    "    \n",
    "\n",
    "    sbplt.vlines(0,-1,7, linestyle = '--')\n",
    "\n",
    "    if meal!='BREAKFAST':\n",
    "        sbplt.set_xlabel('Δp', fontsize =12)\n",
    "    \n",
    "\n",
    "        \n",
    "    if meal =='AFTERNOON SNACK':\n",
    "        sbplt.set_title('AFTERNOON/EVENING SNACK'.lower().capitalize()+'\\n('+times[meal]+')')\n",
    "    else:\n",
    "        sbplt.set_title(meal.lower().capitalize()+'\\n('+times[meal]+')')\n",
    "    \n",
    "    if meal == 'LUNCH':\n",
    "        sbplt.set_ylabel('Food item')\n",
    "   \n",
    "plt.tight_layout()\n",
    "\n",
    "plt.text(x = -0.52, y = -1.7, s='Anchor: meal', fontsize= 14, color = 'tab:blue') \n",
    "plt.text(x = -0.05, y = -1.7, s='Anchor: coffee or tea', fontsize= 14, color = 'tab:orange') \n",
    "\n"
   ]
  },
  {
   "cell_type": "code",
   "execution_count": 33,
   "metadata": {},
   "outputs": [],
   "source": [
    "df_plot.to_pickle('tmp/randomized_estimates')"
   ]
  },
  {
   "cell_type": "code",
   "execution_count": 34,
   "metadata": {},
   "outputs": [
    {
     "name": "stdout",
     "output_type": "stream",
     "text": [
      "student ATE = 1.18 %\n",
      "staff ATE = 0.91 %\n"
     ]
    }
   ],
   "source": [
    "df['partner_student'] = df['partner_p_student'].apply(lambda x: 'student' if x>=0.5 else \"staff\")\n",
    "df['focal_student'] = df['focal_p_student'].apply(lambda x: 'student' if x>=0.5 else \"staff\")\n",
    "\n",
    "list_viz = []\n",
    "\n",
    "for status in ['student', 'staff']:\n",
    "    df_tmp = df.loc[df['partner_student'] == status]\n",
    "    \n",
    "    treated_p = df_tmp.loc[df_tmp['exposure']==1]['outcome'].value_counts(normalize = True)[1]\n",
    "    control_p = df_tmp.loc[df_tmp['exposure']==0]['outcome'].value_counts(normalize = True)[1]\n",
    "\n",
    "    print(status, 'ATE =', round(100*(treated_p - control_p),2),'%')\n",
    "    \n",
    "    entry = {}\n",
    "\n",
    "    entry['treated_p'] = treated_p\n",
    "    entry['control_p'] = control_p\n",
    "\n",
    "    entry['ATE'] = treated_p - control_p\n",
    "    \n",
    "    ys = []\n",
    "    for iteration in range(1000):\n",
    "        pos_tmp = df_tmp.loc[df_tmp['exposure']==1].sample(len(df_tmp.loc[df_tmp['exposure']==1]), replace = True)['outcome'].value_counts(normalize = True)[1]\n",
    "        neg_tmp = df_tmp.loc[df_tmp['exposure']==0].sample(len(df_tmp.loc[df_tmp['exposure']==1]), replace = True)['outcome'].value_counts(normalize = True)[1]   \n",
    "\n",
    "        y_tmp = pos_tmp - neg_tmp\n",
    "\n",
    "        ys.append(y_tmp)\n",
    "\n",
    "    entry['lower_error'] = (np.percentile(np.array(ys), 2.5))\n",
    "    entry['upper_error'] = (np.percentile(np.array(ys),97.5))\n",
    "    \n",
    "    entry['status'] = status\n",
    "    list_viz.append(entry)\n",
    "    \n",
    "    \n"
   ]
  },
  {
   "cell_type": "code",
   "execution_count": 35,
   "metadata": {},
   "outputs": [],
   "source": [
    "df_plot = pd.DataFrame(list_viz)\n",
    "\n",
    "df_plot.to_pickle('tmp/student_partner_randomized')"
   ]
  },
  {
   "cell_type": "code",
   "execution_count": 36,
   "metadata": {},
   "outputs": [
    {
     "name": "stdout",
     "output_type": "stream",
     "text": [
      "student ATE = 1.26 %\n",
      "staff ATE = 0.8 %\n"
     ]
    }
   ],
   "source": [
    "list_viz = []\n",
    "\n",
    "for status in ['student', 'staff']:\n",
    "    df_tmp = df.loc[df['focal_student'] == status]\n",
    "    \n",
    "    treated_p = df_tmp.loc[df_tmp['exposure']==1]['outcome'].value_counts(normalize = True)[1]\n",
    "    control_p = df_tmp.loc[df_tmp['exposure']==0]['outcome'].value_counts(normalize = True)[1]\n",
    "\n",
    "    print(status, 'ATE =', round(100*(treated_p - control_p),2),'%')\n",
    "    \n",
    "    entry = {}\n",
    "\n",
    "    entry['treated_p'] = treated_p\n",
    "    entry['control_p'] = control_p\n",
    "\n",
    "    entry['ATE'] = treated_p - control_p\n",
    "    \n",
    "    ys = []\n",
    "    for iteration in range(1000):\n",
    "        pos_tmp = df_tmp.loc[df_tmp['exposure']==1].sample(len(df_tmp.loc[df_tmp['exposure']==1]), replace = True)['outcome'].value_counts(normalize = True)[1]\n",
    "        neg_tmp = df_tmp.loc[df_tmp['exposure']==0].sample(len(df_tmp.loc[df_tmp['exposure']==1]), replace = True)['outcome'].value_counts(normalize = True)[1]   \n",
    "\n",
    "        y_tmp = pos_tmp - neg_tmp\n",
    "\n",
    "        ys.append(y_tmp)\n",
    "\n",
    "    entry['lower_error'] = (np.percentile(np.array(ys), 2.5))\n",
    "    entry['upper_error'] = (np.percentile(np.array(ys),97.5))\n",
    "    \n",
    "    entry['status'] = status\n",
    "    list_viz.append(entry)"
   ]
  },
  {
   "cell_type": "code",
   "execution_count": 37,
   "metadata": {},
   "outputs": [],
   "source": [
    "df_plot = pd.DataFrame(list_viz)\n",
    "\n",
    "df_plot.to_pickle('tmp/student_focal_randomized')"
   ]
  },
  {
   "cell_type": "code",
   "execution_count": 38,
   "metadata": {},
   "outputs": [
    {
     "name": "stdout",
     "output_type": "stream",
     "text": [
      "staff ATE = 1.28 %\n",
      "staff ATE = 1.14 %\n",
      "staff ATE = 0.63 %\n",
      "staff ATE = 0.85 %\n"
     ]
    }
   ],
   "source": [
    "list_viz = []\n",
    "\n",
    "for status1 in ['student', 'staff']:\n",
    "    for status2 in ['student', 'staff']:\n",
    "        df_tmp = df.loc[(df['focal_student'] == status1) & (df['partner_student'] == status2)]\n",
    "\n",
    "        treated_p = df_tmp.loc[df_tmp['exposure']==1]['outcome'].value_counts(normalize = True)[1]\n",
    "        control_p = df_tmp.loc[df_tmp['exposure']==0]['outcome'].value_counts(normalize = True)[1]\n",
    "\n",
    "        print(status, 'ATE =', round(100*(treated_p - control_p),2),'%')\n",
    "\n",
    "        entry = {}\n",
    "\n",
    "        entry['treated_p'] = treated_p\n",
    "        entry['control_p'] = control_p\n",
    "\n",
    "        entry['ATE'] = treated_p - control_p\n",
    "\n",
    "        ys = []\n",
    "        for iteration in range(1000):\n",
    "            pos_tmp = df_tmp.loc[df_tmp['exposure']==1].sample(len(df_tmp.loc[df_tmp['exposure']==1]), replace = True)['outcome'].value_counts(normalize = True)[1]\n",
    "            neg_tmp = df_tmp.loc[df_tmp['exposure']==0].sample(len(df_tmp.loc[df_tmp['exposure']==1]), replace = True)['outcome'].value_counts(normalize = True)[1]   \n",
    "\n",
    "            y_tmp = pos_tmp - neg_tmp\n",
    "\n",
    "            ys.append(y_tmp)\n",
    "\n",
    "        entry['lower_error'] = (np.percentile(np.array(ys), 2.5))\n",
    "        entry['upper_error'] = (np.percentile(np.array(ys),97.5))\n",
    "\n",
    "        entry['status'] = status1 + 'X' + status2\n",
    "        list_viz.append(entry)"
   ]
  },
  {
   "cell_type": "code",
   "execution_count": 39,
   "metadata": {},
   "outputs": [],
   "source": [
    "df_plot = pd.DataFrame(list_viz)\n",
    "\n",
    "df_plot.to_pickle('tmp/student_coss_randomized')"
   ]
  },
  {
   "cell_type": "code",
   "execution_count": 40,
   "metadata": {},
   "outputs": [
    {
     "name": "stdout",
     "output_type": "stream",
     "text": [
      "male ATE = -0.54 %\n",
      "female ATE = 1.44 %\n"
     ]
    }
   ],
   "source": [
    "list_viz = []\n",
    "\n",
    "for gender in ['male', 'female']:\n",
    "    df_tmp = df.loc[df['partner_gender'] == gender]\n",
    "    \n",
    "    treated_p = df_tmp.loc[df_tmp['exposure']==1]['outcome'].value_counts(normalize = True)[1]\n",
    "    control_p = df_tmp.loc[df_tmp['exposure']==0]['outcome'].value_counts(normalize = True)[1]\n",
    "\n",
    "    print(gender, 'ATE =', round(100*(treated_p - control_p),2),'%')\n",
    "    \n",
    "    entry = {}\n",
    "\n",
    "    entry['treated_p'] = treated_p\n",
    "    entry['control_p'] = control_p\n",
    "\n",
    "    entry['ATE'] = treated_p - control_p\n",
    "    \n",
    "    ys = []\n",
    "    for iteration in range(1000):\n",
    "        pos_tmp = df_tmp.loc[df_tmp['exposure']==1].sample(len(df_tmp.loc[df_tmp['exposure']==1]), replace = True)['outcome'].value_counts(normalize = True)[1]\n",
    "        neg_tmp = df_tmp.loc[df_tmp['exposure']==0].sample(len(df_tmp.loc[df_tmp['exposure']==1]), replace = True)['outcome'].value_counts(normalize = True)[1]   \n",
    "\n",
    "        y_tmp = pos_tmp - neg_tmp\n",
    "\n",
    "        ys.append(y_tmp)\n",
    "\n",
    "    entry['lower_error'] = (np.percentile(np.array(ys), 2.5))\n",
    "    entry['upper_error'] = (np.percentile(np.array(ys),97.5))\n",
    "    \n",
    "    entry['gender'] = gender\n",
    "    list_viz.append(entry)"
   ]
  },
  {
   "cell_type": "code",
   "execution_count": 41,
   "metadata": {},
   "outputs": [],
   "source": [
    "df_plot = pd.DataFrame(list_viz)\n",
    "\n",
    "df_plot.to_pickle('tmp/gender_partner_randomized')"
   ]
  },
  {
   "cell_type": "code",
   "execution_count": 42,
   "metadata": {},
   "outputs": [
    {
     "name": "stdout",
     "output_type": "stream",
     "text": [
      "male ATE = 3.66 %\n",
      "female ATE = 2.8 %\n"
     ]
    }
   ],
   "source": [
    "list_viz = []\n",
    "\n",
    "for gender in ['male', 'female']:\n",
    "    df_tmp = df.loc[df['focal_gender'] == gender]\n",
    "    \n",
    "    treated_p = df_tmp.loc[df_tmp['exposure']==1]['outcome'].value_counts(normalize = True)[1]\n",
    "    control_p = df_tmp.loc[df_tmp['exposure']==0]['outcome'].value_counts(normalize = True)[1]\n",
    "\n",
    "    print(gender, 'ATE =', round(100*(treated_p - control_p),2),'%')\n",
    "    \n",
    "    entry = {}\n",
    "\n",
    "    entry['treated_p'] = treated_p\n",
    "    entry['control_p'] = control_p\n",
    "\n",
    "    entry['ATE'] = treated_p - control_p\n",
    "    \n",
    "    ys = []\n",
    "    for iteration in range(1000):\n",
    "        pos_tmp = df_tmp.loc[df_tmp['exposure']==1].sample(len(df_tmp.loc[df_tmp['exposure']==1]), replace = True)['outcome'].value_counts(normalize = True)[1]\n",
    "        neg_tmp = df_tmp.loc[df_tmp['exposure']==0].sample(len(df_tmp.loc[df_tmp['exposure']==1]), replace = True)['outcome'].value_counts(normalize = True)[1]   \n",
    "\n",
    "        y_tmp = pos_tmp - neg_tmp\n",
    "\n",
    "        ys.append(y_tmp)\n",
    "\n",
    "    entry['lower_error'] = (np.percentile(np.array(ys), 2.5))\n",
    "    entry['upper_error'] = (np.percentile(np.array(ys),97.5))\n",
    "    \n",
    "    entry['gender'] = gender\n",
    "    list_viz.append(entry)"
   ]
  },
  {
   "cell_type": "code",
   "execution_count": 43,
   "metadata": {},
   "outputs": [],
   "source": [
    "df_plot = pd.DataFrame(list_viz)\n",
    "\n",
    "df_plot.to_pickle('tmp/gender_focal_randomized')"
   ]
  },
  {
   "cell_type": "code",
   "execution_count": 44,
   "metadata": {},
   "outputs": [],
   "source": [
    "df['partner_age'] = df['partner_age'].replace('unknown',np.nan).astype(float)\n",
    "df['focal_age'] = df['focal_age'].replace('unknown',np.nan).astype(float)"
   ]
  },
  {
   "cell_type": "code",
   "execution_count": 45,
   "metadata": {},
   "outputs": [],
   "source": [
    "# four parts: Q1, Q2, Q3 = 21, 26, 36\n",
    "\n",
    "# three parts: 22, 32\n",
    "\n",
    "def bin_age_quarters(x):\n",
    "    if x<=21:\n",
    "        return \"<=21\"\n",
    "    elif x<=26:\n",
    "        return \"22-26\"\n",
    "    elif x<=36:\n",
    "        return \"27-36\"\n",
    "    elif x>36:\n",
    "        return \">36\"\n",
    "    else:\n",
    "        return np.nan\n",
    "\n",
    "\n",
    "def bin_age_thirds(x):\n",
    "    if x<=22:\n",
    "        return \"<=22\"\n",
    "    elif x<=32:\n",
    "        return \"23-32\"\n",
    "    elif x>32:\n",
    "        return \">32\"\n",
    "    else:\n",
    "        return np.nan\n",
    "    \n",
    "def bin_age_half(x):\n",
    "    if x<=26:\n",
    "        return \"<=26\"\n",
    "    elif x>26:\n",
    "        return \">26\"\n",
    "    else:\n",
    "        return np.nan"
   ]
  },
  {
   "cell_type": "code",
   "execution_count": 46,
   "metadata": {},
   "outputs": [],
   "source": [
    "df['focal_age_binned'] = (df['timestamp'].apply(lambda x: x.year) - \\\n",
    "        df['focal_age']).apply(bin_age_thirds)\n",
    "df['partner_age_binned'] = (df['timestamp'].apply(lambda x: x.year) - \\\n",
    "        df['partner_age']).apply(bin_age_thirds)"
   ]
  },
  {
   "cell_type": "code",
   "execution_count": 47,
   "metadata": {},
   "outputs": [
    {
     "name": "stdout",
     "output_type": "stream",
     "text": [
      "<=22 ATE = -0.19 %\n",
      "23-32 ATE = -0.86 %\n",
      ">32 ATE = 2.02 %\n"
     ]
    }
   ],
   "source": [
    "list_viz = []\n",
    "\n",
    "for age in ['<=22', '23-32', '>32']:\n",
    "    df_tmp = df.loc[df['partner_age_binned'] == age]\n",
    "    \n",
    "    treated_p = df_tmp.loc[df_tmp['exposure']==1]['outcome'].value_counts(normalize = True)[1]\n",
    "    control_p = df_tmp.loc[df_tmp['exposure']==0]['outcome'].value_counts(normalize = True)[1]\n",
    "\n",
    "    print(age, 'ATE =', round(100*(treated_p - control_p),2),'%')\n",
    "    \n",
    "    entry = {}\n",
    "\n",
    "    entry['treated_p'] = treated_p\n",
    "    entry['control_p'] = control_p\n",
    "\n",
    "    entry['ATE'] = treated_p - control_p\n",
    "    \n",
    "    ys = []\n",
    "    for iteration in range(1000):\n",
    "        pos_tmp = df_tmp.loc[df_tmp['exposure']==1].sample(len(df_tmp.loc[df_tmp['exposure']==1]), replace = True)['outcome'].value_counts(normalize = True)[1]\n",
    "        neg_tmp = df_tmp.loc[df_tmp['exposure']==0].sample(len(df_tmp.loc[df_tmp['exposure']==1]), replace = True)['outcome'].value_counts(normalize = True)[1]   \n",
    "\n",
    "        y_tmp = pos_tmp - neg_tmp\n",
    "\n",
    "        ys.append(y_tmp)\n",
    "\n",
    "    entry['lower_error'] = (np.percentile(np.array(ys), 2.5))\n",
    "    entry['upper_error'] = (np.percentile(np.array(ys),97.5))\n",
    "    \n",
    "    entry['age'] = age\n",
    "    list_viz.append(entry)"
   ]
  },
  {
   "cell_type": "code",
   "execution_count": 48,
   "metadata": {},
   "outputs": [],
   "source": [
    "df_plot = pd.DataFrame(list_viz)\n",
    "df_plot.to_pickle('tmp/partner_age_randomized')"
   ]
  },
  {
   "cell_type": "code",
   "execution_count": 49,
   "metadata": {},
   "outputs": [
    {
     "name": "stdout",
     "output_type": "stream",
     "text": [
      "<=22 ATE = 3.29 %\n",
      "23-32 ATE = 4.1 %\n",
      ">32 ATE = 2.81 %\n"
     ]
    }
   ],
   "source": [
    "list_viz = []\n",
    "\n",
    "for age in ['<=22', '23-32', '>32']:\n",
    "    df_tmp = df.loc[df['focal_age_binned'] == age]\n",
    "    \n",
    "    treated_p = df_tmp.loc[df_tmp['exposure']==1]['outcome'].value_counts(normalize = True)[1]\n",
    "    control_p = df_tmp.loc[df_tmp['exposure']==0]['outcome'].value_counts(normalize = True)[1]\n",
    "\n",
    "    print(age, 'ATE =', round(100*(treated_p - control_p),2),'%')\n",
    "    \n",
    "    entry = {}\n",
    "\n",
    "    entry['treated_p'] = treated_p\n",
    "    entry['control_p'] = control_p\n",
    "\n",
    "    entry['ATE'] = treated_p - control_p\n",
    "    \n",
    "    ys = []\n",
    "    for iteration in range(1000):\n",
    "        pos_tmp = df_tmp.loc[df_tmp['exposure']==1].sample(len(df_tmp.loc[df_tmp['exposure']==1]), replace = True)['outcome'].value_counts(normalize = True)[1]\n",
    "        neg_tmp = df_tmp.loc[df_tmp['exposure']==0].sample(len(df_tmp.loc[df_tmp['exposure']==1]), replace = True)['outcome'].value_counts(normalize = True)[1]   \n",
    "\n",
    "        y_tmp = pos_tmp - neg_tmp\n",
    "\n",
    "        ys.append(y_tmp)\n",
    "\n",
    "    entry['lower_error'] = (np.percentile(np.array(ys), 2.5))\n",
    "    entry['upper_error'] = (np.percentile(np.array(ys),97.5))\n",
    "    \n",
    "    entry['age'] = age\n",
    "    list_viz.append(entry)"
   ]
  },
  {
   "cell_type": "code",
   "execution_count": 50,
   "metadata": {},
   "outputs": [],
   "source": [
    "df_plot = pd.DataFrame(list_viz)\n",
    "df_plot.to_pickle('tmp/focal_age_randomized')"
   ]
  },
  {
   "cell_type": "code",
   "execution_count": 22,
   "metadata": {},
   "outputs": [],
   "source": [
    "df_condiments = df.loc[df['addition']=='pastry']"
   ]
  },
  {
   "cell_type": "code",
   "execution_count": 23,
   "metadata": {},
   "outputs": [
    {
     "name": "stdout",
     "output_type": "stream",
     "text": [
      "Esplanade\n",
      "ATE = 0.18 %\n",
      "Cafeteria ELA\n",
      "ATE = 1.47 %\n",
      "Atlantide\n",
      "ATE = 4.01 %\n",
      "Arcadie\n",
      "ATE = 0.17 %\n",
      "Ornithorynque\n",
      "ATE = 1.83 %\n",
      "Corbusier\n",
      "ATE = -3.66 %\n",
      "Le Klee by Takinoa\n",
      "ATE = 2.82 %\n",
      "Cafeteria BC\n",
      "ATE = 1.03 %\n",
      "Epicure\n",
      "ATE = 0.0 %\n",
      "Puur\n",
      "ATE = -4.14 %\n",
      "Vinci\n",
      "ATE = 0.6 %\n",
      "Parmentier\n",
      "ATE = 0.24 %\n"
     ]
    }
   ],
   "source": [
    "list_viz = []\n",
    "\n",
    "for shop in df_condiments['shop'].unique():\n",
    "    \n",
    "    print(shop)\n",
    "    df_tmp = df_condiments.loc[df_condiments['shop'] == shop]\n",
    "\n",
    "    try:\n",
    "        treated_p = df_tmp.loc[df_tmp['exposure']==1]['outcome'].value_counts(normalize = True)[1]\n",
    "        control_p = df_tmp.loc[df_tmp['exposure']==0]['outcome'].value_counts(normalize = True)[1]\n",
    "    except KeyError as e:\n",
    "        continue\n",
    "        print('skipping', shop, ', no instances')\n",
    "        \n",
    "    print('ATE =', round(100*(treated_p - control_p),2),'%')\n",
    "    \n",
    "    entry = {}\n",
    "\n",
    "    entry['treated_p'] = treated_p\n",
    "    entry['control_p'] = control_p\n",
    "\n",
    "    entry['ATE'] = treated_p - control_p\n",
    "    \n",
    "    ys = []\n",
    "    for iteration in range(1000):\n",
    "        try:\n",
    "            pos_tmp = df_tmp.loc[df_tmp['exposure']==1].sample(len(df_tmp.loc[df_tmp['exposure']==1]), replace = True)['outcome'].value_counts(normalize = True)[1]   \n",
    "        except KeyError as e:\n",
    "            pos_tmp = 0\n",
    "        \n",
    "        try:\n",
    "            neg_tmp = df_tmp.loc[df_tmp['exposure']==0].sample(len(df_tmp.loc[df_tmp['exposure']==1]), replace = True)['outcome'].value_counts(normalize = True)[1]\n",
    "        except KeyError as e:\n",
    "            neg_tmp = 0\n",
    "       \n",
    "        y_tmp = pos_tmp - neg_tmp\n",
    "\n",
    "        ys.append(y_tmp)\n",
    "\n",
    "    entry['lower_error'] = (np.percentile(np.array(ys), 2.5))\n",
    "    entry['upper_error'] = (np.percentile(np.array(ys),97.5))\n",
    "\n",
    "    entry['matched_pairs_of_situations'] = len(df_tmp)/2\n",
    "    entry['SHOP'] = shop\n",
    "    \n",
    "    list_viz.append(entry)\n",
    "    \n"
   ]
  },
  {
   "cell_type": "code",
   "execution_count": 24,
   "metadata": {},
   "outputs": [],
   "source": [
    "df_plot = pd.DataFrame(list_viz)\n",
    "df_plot.to_pickle('tmp/shops_randomized_pastry')"
   ]
  },
  {
   "cell_type": "code",
   "execution_count": 53,
   "metadata": {},
   "outputs": [],
   "source": [
    "def status_a4c_staff(x):\n",
    "    if x==1:\n",
    "        return 'student'\n",
    "    if x==0:\n",
    "        return 'staff'\n",
    "    else:\n",
    "        return 'unknown'"
   ]
  },
  {
   "cell_type": "code",
   "execution_count": 54,
   "metadata": {},
   "outputs": [],
   "source": [
    "df['a4c_partner_student'] = df['partner_p_student'].apply(lambda x: status_a4c_staff(x))\n",
    "df['a4c_focal_student'] = df['focal_p_student'].apply(lambda x: status_a4c_staff(x))"
   ]
  },
  {
   "cell_type": "code",
   "execution_count": 55,
   "metadata": {},
   "outputs": [
    {
     "name": "stdout",
     "output_type": "stream",
     "text": [
      "student ATE = -0.32 %\n",
      "staff ATE = 1.39 %\n"
     ]
    }
   ],
   "source": [
    "list_viz = []\n",
    "\n",
    "for status in ['student', 'staff']:\n",
    "    df_tmp = df.loc[df['a4c_partner_student'] == status]\n",
    "    \n",
    "    treated_p = df_tmp.loc[df_tmp['exposure']==1]['outcome'].value_counts(normalize = True)[1]\n",
    "    control_p = df_tmp.loc[df_tmp['exposure']==0]['outcome'].value_counts(normalize = True)[1]\n",
    "\n",
    "    print(status, 'ATE =', round(100*(treated_p - control_p),2),'%')\n",
    "    \n",
    "    entry = {}\n",
    "\n",
    "    entry['treated_p'] = treated_p\n",
    "    entry['control_p'] = control_p\n",
    "\n",
    "    entry['ATE'] = treated_p - control_p\n",
    "    \n",
    "    ys = []\n",
    "    for iteration in range(1000):\n",
    "        pos_tmp = df_tmp.loc[df_tmp['exposure']==1].sample(len(df_tmp.loc[df_tmp['exposure']==1]), replace = True)['outcome'].value_counts(normalize = True)[1]\n",
    "        neg_tmp = df_tmp.loc[df_tmp['exposure']==0].sample(len(df_tmp.loc[df_tmp['exposure']==1]), replace = True)['outcome'].value_counts(normalize = True)[1]   \n",
    "\n",
    "        y_tmp = pos_tmp - neg_tmp\n",
    "\n",
    "        ys.append(y_tmp)\n",
    "\n",
    "    entry['lower_error'] = (np.percentile(np.array(ys), 2.5))\n",
    "    entry['upper_error'] = (np.percentile(np.array(ys),97.5))\n",
    "    \n",
    "    entry['status'] = status\n",
    "    list_viz.append(entry)"
   ]
  },
  {
   "cell_type": "code",
   "execution_count": 56,
   "metadata": {},
   "outputs": [],
   "source": [
    "df_plot = pd.DataFrame(list_viz)\n",
    "df_plot.to_pickle('tmp/a4c_student_partner_randomized')"
   ]
  },
  {
   "cell_type": "code",
   "execution_count": 57,
   "metadata": {},
   "outputs": [
    {
     "name": "stdout",
     "output_type": "stream",
     "text": [
      "student ATE = 2.56 %\n",
      "staff ATE = 4.23 %\n"
     ]
    }
   ],
   "source": [
    "list_viz = []\n",
    "\n",
    "for status in ['student', 'staff']:\n",
    "    df_tmp = df.loc[df['a4c_focal_student'] == status]\n",
    "    \n",
    "    treated_p = df_tmp.loc[df_tmp['exposure']==1]['outcome'].value_counts(normalize = True)[1]\n",
    "    control_p = df_tmp.loc[df_tmp['exposure']==0]['outcome'].value_counts(normalize = True)[1]\n",
    "\n",
    "    print(status, 'ATE =', round(100*(treated_p - control_p),2),'%')\n",
    "    \n",
    "    entry = {}\n",
    "\n",
    "    entry['treated_p'] = treated_p\n",
    "    entry['control_p'] = control_p\n",
    "\n",
    "    entry['ATE'] = treated_p - control_p\n",
    "    \n",
    "    ys = []\n",
    "    for iteration in range(1000):\n",
    "        pos_tmp = df_tmp.loc[df_tmp['exposure']==1].sample(len(df_tmp.loc[df_tmp['exposure']==1]), replace = True)['outcome'].value_counts(normalize = True)[1]\n",
    "        neg_tmp = df_tmp.loc[df_tmp['exposure']==0].sample(len(df_tmp.loc[df_tmp['exposure']==1]), replace = True)['outcome'].value_counts(normalize = True)[1]   \n",
    "\n",
    "        y_tmp = pos_tmp - neg_tmp\n",
    "\n",
    "        ys.append(y_tmp)\n",
    "\n",
    "    entry['lower_error'] = (np.percentile(np.array(ys), 2.5))\n",
    "    entry['upper_error'] = (np.percentile(np.array(ys),97.5))\n",
    "    \n",
    "    entry['status'] = status\n",
    "    list_viz.append(entry)"
   ]
  },
  {
   "cell_type": "code",
   "execution_count": 58,
   "metadata": {},
   "outputs": [],
   "source": [
    "df_plot = pd.DataFrame(list_viz)\n",
    "df_plot.to_pickle('tmp/a4c_student_focal_randomized')"
   ]
  },
  {
   "cell_type": "code",
   "execution_count": 59,
   "metadata": {},
   "outputs": [
    {
     "name": "stdout",
     "output_type": "stream",
     "text": [
      "\n",
      "\n",
      "LUNCH\n",
      "veg_meal\n"
     ]
    },
    {
     "data": {
      "application/vnd.jupyter.widget-view+json": {
       "model_id": "e92bb132809b464b8a92579a95a1b701",
       "version_major": 2,
       "version_minor": 0
      },
      "text/plain": [
       "HBox(children=(FloatProgress(value=0.0, max=21045.0), HTML(value='')))"
      ]
     },
     "metadata": {},
     "output_type": "display_data"
    },
    {
     "name": "stdout",
     "output_type": "stream",
     "text": [
      "\n",
      "17082\n"
     ]
    }
   ],
   "source": [
    "#for different additions\n",
    "\n",
    "list_viz = []\n",
    "\n",
    "for meal in ['LUNCH']:\n",
    "    for addition in ['veg_meal']:\n",
    "\n",
    "        # covariates to match on:\n",
    "        covariates_categorical = ['partner_ID', 'shop', 'MEAL']\n",
    "        covariates_continuous = 'popularity_'+addition\n",
    "\n",
    "        #additional covariates: N, 'focal_ID' \n",
    "        \n",
    "        print('\\n')\n",
    "        print(meal)\n",
    "        print(addition)\n",
    "\n",
    "        outcome = 'focal_'+addition\n",
    "        exposure = 'partner_'+addition\n",
    "\n",
    "        \n",
    "\n",
    "        treated = df_choices.loc[(df_choices['MEAL']==meal) & \\\n",
    "                                     (df_choices['partner_meal']) &\\\n",
    "                                     (df_choices['focal_meal'])].reset_index()\n",
    "\n",
    "        treated['focal_'+addition] = treated['focal_'+addition].astype(int)\n",
    "        treated['partner_'+addition] = treated['partner_'+addition].astype(int)\n",
    "\n",
    "        matching = set()\n",
    "\n",
    "        #control for categorical covariates\n",
    "        for partner,gr in tqdm(treated.groupby(covariates_categorical)):\n",
    "            treatment_df = gr[gr[exposure] == 1]\n",
    "            control_df = gr[gr[exposure] == 0]\n",
    "\n",
    "\n",
    "            if len(treatment_df)==0 or len(control_df)==0:\n",
    "                continue\n",
    "            else:\n",
    "                G = nx.Graph()\n",
    "                for treatment_id, treated_row in treatment_df.iterrows():\n",
    "                    for control_id, control_row in control_df.iterrows():\n",
    "                        # add an edge only if continuous covariates match\n",
    "                        if np.abs(control_row['popularity_'+addition] - treated_row['popularity_'+addition]) < 0.1:\n",
    "                            # adds an edge\n",
    "                            G.add_weighted_edges_from([(control_id, treatment_id, 1)])\n",
    "\n",
    "                #find optimal matching of situations\n",
    "                matching.update(nx.max_weight_matching(G))\n",
    "\n",
    "        matched = [i[0] for i in list(matching)] + [i[1] for i in list(matching)]\n",
    "        balanced_df_all = treated.loc[treated.index.isin(matched)]\n",
    "\n",
    "\n",
    "        pos = balanced_df_all.loc[balanced_df_all[exposure] == 1] #treated\n",
    "        neg = balanced_df_all.loc[balanced_df_all[exposure] == 0] #control\n",
    "\n",
    "        print(len(pos))\n",
    "        pos['addition'] = addition\n",
    "        neg['addition'] = addition\n",
    "\n",
    "        pos[['MEAL','addition',exposure, outcome, 'delay', 'shop', 'timestamp',\n",
    "           'focal_p_student', 'partner_p_student', 'focal_gender',\n",
    "           'partner_gender', 'focal_age', 'partner_age', 'popularity_'+addition]].rename(columns = {exposure: 'exposure', outcome: 'outcome',\n",
    "                                                                                                   'popularity_'+addition: 'popularity'}).to_pickle('tmp/rand_veg_pos_' + addition +'_' +meal+ '.pkl')\n",
    "\n",
    "        neg[['MEAL','addition',exposure, outcome, 'delay', 'shop', 'timestamp',\n",
    "           'focal_p_student', 'partner_p_student', 'focal_gender',\n",
    "           'partner_gender', 'focal_age', 'partner_age', 'popularity_'+addition]].rename(columns = {exposure: 'exposure', outcome: 'outcome',\n",
    "                                                                                                   'popularity_'+addition: 'popularity'},).to_pickle('tmp/rand_veg_neg_' + addition +'_' +meal+'.pkl')\n",
    "\n"
   ]
  },
  {
   "cell_type": "code",
   "execution_count": 60,
   "metadata": {},
   "outputs": [],
   "source": [
    "cnt = 0\n",
    "\n",
    "check = 0\n",
    "\n",
    "for meal in ['LUNCH']:\n",
    "    for addition in ['veg_meal']:\n",
    "        pos = pd.read_pickle('tmp/rand_veg_pos_' + addition +'_' +meal+'.pkl')\n",
    "        if cnt==0:\n",
    "            df = pos.copy(deep = True)\n",
    "        else:\n",
    "            df = pd.concat([df,pos])\n",
    "        cnt+=1\n",
    "        neg = pd.read_pickle('tmp/rand_veg_neg_' + addition +'_' +meal+'.pkl')\n",
    "        df = pd.concat([df,neg])\n",
    "\n",
    "        check+=len(pos) + len(neg)"
   ]
  },
  {
   "cell_type": "code",
   "execution_count": 61,
   "metadata": {},
   "outputs": [],
   "source": [
    "df.to_pickle('tmp/rand_veg_meal_matched_situations')"
   ]
  },
  {
   "cell_type": "code",
   "execution_count": 62,
   "metadata": {},
   "outputs": [],
   "source": [
    "df = pd.read_pickle('tmp/rand_veg_meal_matched_situations')"
   ]
  },
  {
   "cell_type": "code",
   "execution_count": 63,
   "metadata": {},
   "outputs": [],
   "source": [
    "list_viz = []"
   ]
  },
  {
   "cell_type": "code",
   "execution_count": 64,
   "metadata": {},
   "outputs": [
    {
     "name": "stdout",
     "output_type": "stream",
     "text": [
      "ATE = 4.14 %\n",
      "ATE NOT = -4.14 %\n",
      "lower_error =  3.3 %\n",
      "upper_error =  4.95 %\n"
     ]
    }
   ],
   "source": [
    "treated_p = df.loc[df['exposure']==1]['outcome'].value_counts(normalize = True)[1]\n",
    "control_p = df.loc[df['exposure']==0]['outcome'].value_counts(normalize = True)[1]\n",
    "\n",
    "print('ATE =', round(100*(treated_p - control_p),2),'%')\n",
    "\n",
    "\n",
    "treated_p_not = df.loc[df['exposure']==1]['outcome'].value_counts(normalize = True)[0]\n",
    "control_p_not = df.loc[df['exposure']==0]['outcome'].value_counts(normalize = True)[0]\n",
    "\n",
    "print('ATE NOT =', round(100*(treated_p_not - control_p_not),2),'%')\n",
    "\n",
    "\n",
    "\n",
    "ys = []\n",
    "\n",
    "for iteration in range(1000):\n",
    "    pos_tmp = df.loc[df['exposure']==1].sample(round(len(df)/2), replace = True)['outcome'].value_counts(normalize = True)[1]\n",
    "    neg_tmp = df.loc[df['exposure']==0].sample(round(len(df)/2), replace = True)['outcome'].value_counts(normalize = True)[1]   \n",
    "\n",
    "    y_tmp = pos_tmp - neg_tmp\n",
    "\n",
    "    ys.append(y_tmp)\n",
    "    \n",
    "    \n",
    "\n",
    "print('lower_error = ', round(100*np.percentile(np.array(ys), 2.5),2),'%')\n",
    "print('upper_error = ', round(100*np.percentile(np.array(ys),97.5),2),'%')\n",
    "\n",
    "\n",
    "entry = {}\n",
    "\n",
    "\n",
    "entry['ATE'] = treated_p - control_p\n",
    "\n",
    "\n",
    "entry['lower_error'] = (np.percentile(np.array(ys), 2.5))\n",
    "entry['upper_error'] = (np.percentile(np.array(ys),97.5))\n",
    "\n",
    "entry['type'] = 'veg_meal'\n",
    "list_viz.append(entry)"
   ]
  },
  {
   "cell_type": "code",
   "execution_count": 65,
   "metadata": {},
   "outputs": [
    {
     "name": "stdout",
     "output_type": "stream",
     "text": [
      "\n",
      "\n",
      "BREAKFAST\n",
      "coffee\n"
     ]
    },
    {
     "data": {
      "application/vnd.jupyter.widget-view+json": {
       "model_id": "32fbebd006bf452db1ad729cd5a390c6",
       "version_major": 2,
       "version_minor": 0
      },
      "text/plain": [
       "HBox(children=(FloatProgress(value=0.0, max=4463.0), HTML(value='')))"
      ]
     },
     "metadata": {},
     "output_type": "display_data"
    },
    {
     "name": "stdout",
     "output_type": "stream",
     "text": [
      "\n",
      "2990\n",
      "\n",
      "\n",
      "AFTERNOON SNACK\n",
      "coffee\n"
     ]
    },
    {
     "data": {
      "application/vnd.jupyter.widget-view+json": {
       "model_id": "33d37851257a42babe45e718762a4b79",
       "version_major": 2,
       "version_minor": 0
      },
      "text/plain": [
       "HBox(children=(FloatProgress(value=0.0, max=3813.0), HTML(value='')))"
      ]
     },
     "metadata": {},
     "output_type": "display_data"
    },
    {
     "name": "stdout",
     "output_type": "stream",
     "text": [
      "\n",
      "953\n"
     ]
    }
   ],
   "source": [
    "#for different additions\n",
    "\n",
    "#list_viz = []\n",
    "\n",
    "for meal in ['BREAKFAST', 'AFTERNOON SNACK']:\n",
    "    for addition in ['coffee']:\n",
    "\n",
    "        # covariates to match on:\n",
    "        covariates_categorical = ['partner_ID', 'shop', 'MEAL']\n",
    "        covariates_continuous = 'popularity_'+addition\n",
    "\n",
    "        #additional covariates: N, 'focal_ID' \n",
    "        \n",
    "        print('\\n')\n",
    "        print(meal)\n",
    "        print(addition)\n",
    "\n",
    "        outcome = 'focal_'+addition\n",
    "        exposure = 'partner_'+addition\n",
    "\n",
    "        \n",
    "\n",
    "        treated = df_choices.loc[((df_choices['MEAL']==meal)) & \n",
    "                                    (df_choices['partner_coffee'] | df_choices['partner_tea']) & \n",
    "                                    (df_choices['focal_coffee'] | df_choices['focal_tea'] )].reset_index()\n",
    "\n",
    "        treated['focal_'+addition] = treated['focal_'+addition].astype(int)\n",
    "        treated['partner_'+addition] = treated['partner_'+addition].astype(int)\n",
    "\n",
    "        matching = set()\n",
    "\n",
    "        #control for categorical covariates\n",
    "        for partner,gr in tqdm(treated.groupby(covariates_categorical)):\n",
    "            treatment_df = gr[gr[exposure] == 1]\n",
    "            control_df = gr[gr[exposure] == 0]\n",
    "\n",
    "\n",
    "            if len(treatment_df)==0 or len(control_df)==0:\n",
    "                continue\n",
    "            else:\n",
    "                G = nx.Graph()\n",
    "                for treatment_id, treated_row in treatment_df.iterrows():\n",
    "                    for control_id, control_row in control_df.iterrows():\n",
    "                        # add an edge only if continuous covariates match\n",
    "                        if np.abs(control_row['popularity_'+addition] - treated_row['popularity_'+addition]) < 0.1:\n",
    "                            # adds an edge\n",
    "                            G.add_weighted_edges_from([(control_id, treatment_id, 1)])\n",
    "\n",
    "                #find optimal matching of situations\n",
    "                matching.update(nx.max_weight_matching(G))\n",
    "\n",
    "        matched = [i[0] for i in list(matching)] + [i[1] for i in list(matching)]\n",
    "        balanced_df_all = treated.loc[treated.index.isin(matched)]\n",
    "\n",
    "\n",
    "        pos = balanced_df_all.loc[balanced_df_all[exposure] == 1] #treated\n",
    "        neg = balanced_df_all.loc[balanced_df_all[exposure] == 0] #control\n",
    "\n",
    "        print(len(pos))\n",
    "        pos['addition'] = addition\n",
    "        neg['addition'] = addition\n",
    "\n",
    "        pos[['MEAL','addition',exposure, outcome, 'delay', 'shop', 'timestamp',\n",
    "           'focal_p_student', 'partner_p_student', 'focal_gender',\n",
    "           'partner_gender', 'focal_age', 'partner_age', 'popularity_'+addition]].rename(columns = {exposure: 'exposure', outcome: 'outcome',\n",
    "                                                                                                   'popularity_'+addition: 'popularity'}).to_pickle('tmp/rand_coffee_pos_' + addition +'_' +meal+ '.pkl')\n",
    "\n",
    "        neg[['MEAL','addition',exposure, outcome, 'delay', 'shop', 'timestamp',\n",
    "           'focal_p_student', 'partner_p_student', 'focal_gender',\n",
    "           'partner_gender', 'focal_age', 'partner_age', 'popularity_'+addition]].rename(columns = {exposure: 'exposure', outcome: 'outcome',\n",
    "                                                                                                   'popularity_'+addition: 'popularity'},).to_pickle('tmp/rand_coffee_neg_' + addition +'_' +meal+'.pkl')\n",
    "\n"
   ]
  },
  {
   "cell_type": "code",
   "execution_count": 66,
   "metadata": {},
   "outputs": [],
   "source": [
    "cnt = 0\n",
    "\n",
    "check = 0\n",
    "\n",
    "for meal in ['BREAKFAST', 'AFTERNOON SNACK']:\n",
    "    for addition in ['coffee']:\n",
    "        pos = pd.read_pickle('tmp/rand_coffee_pos_' + addition +'_' +meal+'.pkl')\n",
    "        if cnt==0:\n",
    "            df = pos.copy(deep = True)\n",
    "        else:\n",
    "            df = pd.concat([df,pos])\n",
    "        cnt+=1\n",
    "        neg = pd.read_pickle('tmp/rand_coffee_neg_' + addition +'_' +meal+'.pkl')\n",
    "        df = pd.concat([df,neg])\n",
    "\n",
    "        check+=len(pos) + len(neg)"
   ]
  },
  {
   "cell_type": "code",
   "execution_count": 67,
   "metadata": {},
   "outputs": [],
   "source": [
    "df.to_pickle('tmp/rand_coffee_meal_matched_situations')"
   ]
  },
  {
   "cell_type": "code",
   "execution_count": 68,
   "metadata": {},
   "outputs": [],
   "source": [
    "df = pd.read_pickle('tmp/rand_coffee_meal_matched_situations')"
   ]
  },
  {
   "cell_type": "code",
   "execution_count": 69,
   "metadata": {},
   "outputs": [
    {
     "name": "stdout",
     "output_type": "stream",
     "text": [
      "ATE = -0.1 %\n",
      "ATE NOT = 0.1 %\n",
      "lower_error =  -1.9 %\n",
      "upper_error =  1.45 %\n"
     ]
    }
   ],
   "source": [
    "treated_p = df.loc[df['exposure']==1]['outcome'].value_counts(normalize = True)[1]\n",
    "control_p = df.loc[df['exposure']==0]['outcome'].value_counts(normalize = True)[1]\n",
    "\n",
    "print('ATE =', round(100*(treated_p - control_p),2),'%')\n",
    "\n",
    "\n",
    "treated_p_not = df.loc[df['exposure']==1]['outcome'].value_counts(normalize = True)[0]\n",
    "control_p_not = df.loc[df['exposure']==0]['outcome'].value_counts(normalize = True)[0]\n",
    "\n",
    "print('ATE NOT =', round(100*(treated_p_not - control_p_not),2),'%')\n",
    "\n",
    "\n",
    "\n",
    "ys = []\n",
    "\n",
    "for iteration in range(1000):\n",
    "    pos_tmp = df.loc[df['exposure']==1].sample(round(len(df)/2), replace = True)['outcome'].value_counts(normalize = True)[1]\n",
    "    neg_tmp = df.loc[df['exposure']==0].sample(round(len(df)/2), replace = True)['outcome'].value_counts(normalize = True)[1]   \n",
    "\n",
    "    y_tmp = pos_tmp - neg_tmp\n",
    "\n",
    "    ys.append(y_tmp)\n",
    "    \n",
    "    \n",
    "\n",
    "print('lower_error = ', round(100*np.percentile(np.array(ys), 2.5),2),'%')\n",
    "print('upper_error = ', round(100*np.percentile(np.array(ys),97.5),2),'%')\n",
    "\n",
    "\n",
    "\n",
    "\n",
    "entry = {}\n",
    "\n",
    "\n",
    "entry['ATE'] = treated_p - control_p\n",
    "\n",
    "\n",
    "entry['lower_error'] = (np.percentile(np.array(ys), 2.5))\n",
    "entry['upper_error'] = (np.percentile(np.array(ys),97.5))\n",
    "\n",
    "entry['type'] = 'coffee'\n",
    "list_viz.append(entry)"
   ]
  },
  {
   "cell_type": "code",
   "execution_count": 70,
   "metadata": {},
   "outputs": [],
   "source": [
    "pd.DataFrame(list_viz).to_pickle('tmp/anchors_randomized')"
   ]
  },
  {
   "cell_type": "code",
   "execution_count": 79,
   "metadata": {},
   "outputs": [
    {
     "data": {
      "text/html": [
       "<div>\n",
       "<style scoped>\n",
       "    .dataframe tbody tr th:only-of-type {\n",
       "        vertical-align: middle;\n",
       "    }\n",
       "\n",
       "    .dataframe tbody tr th {\n",
       "        vertical-align: top;\n",
       "    }\n",
       "\n",
       "    .dataframe thead th {\n",
       "        text-align: right;\n",
       "    }\n",
       "</style>\n",
       "<table border=\"1\" class=\"dataframe\">\n",
       "  <thead>\n",
       "    <tr style=\"text-align: right;\">\n",
       "      <th></th>\n",
       "      <th>ATE</th>\n",
       "      <th>lower_error</th>\n",
       "      <th>upper_error</th>\n",
       "      <th>type</th>\n",
       "    </tr>\n",
       "  </thead>\n",
       "  <tbody>\n",
       "    <tr>\n",
       "      <th>0</th>\n",
       "      <td>0.041389</td>\n",
       "      <td>0.032957</td>\n",
       "      <td>0.049526</td>\n",
       "      <td>veg_meal</td>\n",
       "    </tr>\n",
       "    <tr>\n",
       "      <th>1</th>\n",
       "      <td>-0.001014</td>\n",
       "      <td>-0.019027</td>\n",
       "      <td>0.014462</td>\n",
       "      <td>coffee</td>\n",
       "    </tr>\n",
       "  </tbody>\n",
       "</table>\n",
       "</div>"
      ],
      "text/plain": [
       "        ATE  lower_error  upper_error      type\n",
       "0  0.041389     0.032957     0.049526  veg_meal\n",
       "1 -0.001014    -0.019027     0.014462    coffee"
      ]
     },
     "execution_count": 79,
     "metadata": {},
     "output_type": "execute_result"
    }
   ],
   "source": [
    "pd.read_pickle('tmp/anchors_randomized')"
   ]
  },
  {
   "cell_type": "code",
   "execution_count": 71,
   "metadata": {},
   "outputs": [],
   "source": [
    "#student not student per type"
   ]
  },
  {
   "cell_type": "code",
   "execution_count": 72,
   "metadata": {},
   "outputs": [],
   "source": [
    "df = pd.read_pickle('tmp/3_meals_matched_situations_randomized')"
   ]
  },
  {
   "cell_type": "code",
   "execution_count": 73,
   "metadata": {},
   "outputs": [],
   "source": [
    "df['partner_student'] = df['partner_p_student'].apply(lambda x: 'student' if x>=0.5 else \"staff\")\n",
    "df['focal_student'] = df['focal_p_student'].apply(lambda x: 'student' if x>=0.5 else \"staff\")"
   ]
  },
  {
   "cell_type": "code",
   "execution_count": 74,
   "metadata": {},
   "outputs": [
    {
     "name": "stdout",
     "output_type": "stream",
     "text": [
      "65526\n",
      "62956\n"
     ]
    }
   ],
   "source": [
    "list_viz = []\n",
    "\n",
    "for c in [True, False]:\n",
    "    df_tmp = df.loc[((df['focal_student'] == 'student') & (df['partner_student'] == 'student'))==c]\n",
    "    print(len(df_tmp))"
   ]
  },
  {
   "cell_type": "code",
   "execution_count": 75,
   "metadata": {},
   "outputs": [
    {
     "name": "stdout",
     "output_type": "stream",
     "text": [
      "True BREAKFAST dessert ATE = 0.71 %\n",
      "True BREAKFAST fruit ATE = -1.28 %\n",
      "True BREAKFAST pastry ATE = 3.36 %\n",
      "True LUNCH condiment ATE = 4.36 %\n",
      "True LUNCH dessert ATE = 0.03 %\n",
      "True LUNCH fruit ATE = 2.19 %\n",
      "True LUNCH pastry ATE = 0.8 %\n",
      "True LUNCH salad ATE = 0.76 %\n",
      "True LUNCH soft drink ATE = 0.12 %\n",
      "True LUNCH soup ATE = 0.64 %\n",
      "True AFTERNOON SNACK dessert ATE = 0.69 %\n",
      "True AFTERNOON SNACK fruit ATE = -0.03 %\n",
      "True AFTERNOON SNACK pastry ATE = 1.5 %\n",
      "False BREAKFAST dessert ATE = 1.05 %\n",
      "False BREAKFAST fruit ATE = 1.4 %\n",
      "False BREAKFAST pastry ATE = 1.12 %\n",
      "False LUNCH condiment ATE = 1.57 %\n",
      "False LUNCH dessert ATE = 0.13 %\n",
      "False LUNCH fruit ATE = 1.37 %\n",
      "False LUNCH pastry ATE = 0.01 %\n",
      "False LUNCH salad ATE = 1.18 %\n",
      "False LUNCH soft drink ATE = -0.28 %\n",
      "False LUNCH soup ATE = 1.09 %\n",
      "False AFTERNOON SNACK dessert ATE = -0.75 %\n",
      "False AFTERNOON SNACK fruit ATE = 0.03 %\n",
      "False AFTERNOON SNACK pastry ATE = -0.99 %\n"
     ]
    }
   ],
   "source": [
    "list_viz = []\n",
    "\n",
    "for c in [True, False]:\n",
    "    df_t = df.loc[((df['focal_student'] == 'student') & (df['partner_student'] == 'student'))==c]\n",
    "        \n",
    "    for meal in ['BREAKFAST', 'LUNCH', 'AFTERNOON SNACK']:\n",
    "        for addition in additions[meal]:\n",
    "            df_tmp = df_t.loc[(df_t['MEAL']==meal) & (df_t['addition']==addition)]\n",
    "\n",
    "            try:\n",
    "                treated_p = df_tmp.loc[df_tmp['exposure']==1]['outcome'].value_counts(normalize = True)[1]\n",
    "                control_p = df_tmp.loc[df_tmp['exposure']==0]['outcome'].value_counts(normalize = True)[1]\n",
    "            except:\n",
    "                print('no data:',meal, addition)\n",
    "                continue\n",
    "\n",
    "            print(c, meal, addition,  'ATE =', round(100*(treated_p - control_p),2),'%')\n",
    "\n",
    "            entry = {}\n",
    "            \n",
    "            entry['contingency'] = pd.crosstab(df_tmp['exposure'],df_tmp['outcome'], margins = False)\n",
    "            entry['ATE'] = treated_p - control_p\n",
    "\n",
    "            entry['RR'] = treated_p/control_p\n",
    "\n",
    "            ys = []\n",
    "            ys_rr = []\n",
    "            for iteration in range(1000):\n",
    "                try:\n",
    "                    pos_tmp = df_tmp.loc[df_tmp['exposure']==1].sample(len(df_tmp.loc[df_tmp['exposure']==1]), replace = True)['outcome'].value_counts(normalize = True)[1]\n",
    "                    neg_tmp = df_tmp.loc[df_tmp['exposure']==0].sample(len(df_tmp.loc[df_tmp['exposure']==1]), replace = True)['outcome'].value_counts(normalize = True)[1]   \n",
    "                except:\n",
    "                    continue\n",
    "                y_tmp = pos_tmp - neg_tmp\n",
    "\n",
    "                ys.append(y_tmp)\n",
    "                ys_rr.append(pos_tmp/neg_tmp)\n",
    "\n",
    "            entry['lower_error'] = (np.percentile(np.array(ys), 2.5))\n",
    "            entry['upper_error'] = (np.percentile(np.array(ys),97.5))\n",
    "\n",
    "            entry['lower_error_rr'] = (np.percentile(np.array(ys_rr), 2.5))\n",
    "            entry['upper_error_rr'] = (np.percentile(np.array(ys_rr),97.5))\n",
    "\n",
    "            entry['meal'] = meal\n",
    "            entry['addition'] = addition\n",
    "            entry['type'] = c\n",
    "\n",
    "            list_viz.append(entry)   \n"
   ]
  },
  {
   "cell_type": "code",
   "execution_count": 76,
   "metadata": {},
   "outputs": [],
   "source": [
    "df_plot = pd.DataFrame(list_viz)"
   ]
  },
  {
   "cell_type": "code",
   "execution_count": 77,
   "metadata": {},
   "outputs": [],
   "source": [
    "df_plot.to_pickle('tmp/randomized_estimates_status_x_foods')"
   ]
  },
  {
   "cell_type": "code",
   "execution_count": 78,
   "metadata": {},
   "outputs": [
    {
     "data": {
      "text/html": [
       "<div>\n",
       "<style scoped>\n",
       "    .dataframe tbody tr th:only-of-type {\n",
       "        vertical-align: middle;\n",
       "    }\n",
       "\n",
       "    .dataframe tbody tr th {\n",
       "        vertical-align: top;\n",
       "    }\n",
       "\n",
       "    .dataframe thead th {\n",
       "        text-align: right;\n",
       "    }\n",
       "</style>\n",
       "<table border=\"1\" class=\"dataframe\">\n",
       "  <thead>\n",
       "    <tr style=\"text-align: right;\">\n",
       "      <th></th>\n",
       "      <th>contingency</th>\n",
       "      <th>ATE</th>\n",
       "      <th>RR</th>\n",
       "      <th>lower_error</th>\n",
       "      <th>upper_error</th>\n",
       "      <th>lower_error_rr</th>\n",
       "      <th>upper_error_rr</th>\n",
       "      <th>meal</th>\n",
       "      <th>addition</th>\n",
       "      <th>type</th>\n",
       "    </tr>\n",
       "  </thead>\n",
       "  <tbody>\n",
       "    <tr>\n",
       "      <th>0</th>\n",
       "      <td>outcome     0  1\n",
       "exposure        \n",
       "0         28...</td>\n",
       "      <td>0.007066</td>\n",
       "      <td>2.020979</td>\n",
       "      <td>-0.006993</td>\n",
       "      <td>0.020979</td>\n",
       "      <td>0.333333</td>\n",
       "      <td>7.000000</td>\n",
       "      <td>BREAKFAST</td>\n",
       "      <td>dessert</td>\n",
       "      <td>True</td>\n",
       "    </tr>\n",
       "    <tr>\n",
       "      <th>1</th>\n",
       "      <td>outcome    0  1\n",
       "exposure       \n",
       "0         84  ...</td>\n",
       "      <td>-0.012839</td>\n",
       "      <td>0.447917</td>\n",
       "      <td>-0.052083</td>\n",
       "      <td>0.020833</td>\n",
       "      <td>0.200000</td>\n",
       "      <td>3.000000</td>\n",
       "      <td>BREAKFAST</td>\n",
       "      <td>fruit</td>\n",
       "      <td>True</td>\n",
       "    </tr>\n",
       "    <tr>\n",
       "      <th>2</th>\n",
       "      <td>outcome     0    1\n",
       "exposure          \n",
       "0       ...</td>\n",
       "      <td>0.033575</td>\n",
       "      <td>1.087120</td>\n",
       "      <td>-0.007759</td>\n",
       "      <td>0.073276</td>\n",
       "      <td>0.981012</td>\n",
       "      <td>1.198138</td>\n",
       "      <td>BREAKFAST</td>\n",
       "      <td>pastry</td>\n",
       "      <td>True</td>\n",
       "    </tr>\n",
       "    <tr>\n",
       "      <th>3</th>\n",
       "      <td>outcome      0    1\n",
       "exposure           \n",
       "0     ...</td>\n",
       "      <td>0.043628</td>\n",
       "      <td>2.455862</td>\n",
       "      <td>0.029051</td>\n",
       "      <td>0.058748</td>\n",
       "      <td>1.826864</td>\n",
       "      <td>3.515508</td>\n",
       "      <td>LUNCH</td>\n",
       "      <td>condiment</td>\n",
       "      <td>True</td>\n",
       "    </tr>\n",
       "    <tr>\n",
       "      <th>4</th>\n",
       "      <td>outcome      0   1\n",
       "exposure          \n",
       "0       ...</td>\n",
       "      <td>0.000307</td>\n",
       "      <td>1.016047</td>\n",
       "      <td>-0.010135</td>\n",
       "      <td>0.011824</td>\n",
       "      <td>0.583173</td>\n",
       "      <td>1.823775</td>\n",
       "      <td>LUNCH</td>\n",
       "      <td>dessert</td>\n",
       "      <td>True</td>\n",
       "    </tr>\n",
       "    <tr>\n",
       "      <th>...</th>\n",
       "      <td>...</td>\n",
       "      <td>...</td>\n",
       "      <td>...</td>\n",
       "      <td>...</td>\n",
       "      <td>...</td>\n",
       "      <td>...</td>\n",
       "      <td>...</td>\n",
       "      <td>...</td>\n",
       "      <td>...</td>\n",
       "      <td>...</td>\n",
       "    </tr>\n",
       "    <tr>\n",
       "      <th>21</th>\n",
       "      <td>outcome      0    1\n",
       "exposure           \n",
       "0     ...</td>\n",
       "      <td>-0.002811</td>\n",
       "      <td>0.931719</td>\n",
       "      <td>-0.011825</td>\n",
       "      <td>0.007031</td>\n",
       "      <td>0.737913</td>\n",
       "      <td>1.196880</td>\n",
       "      <td>LUNCH</td>\n",
       "      <td>soft drink</td>\n",
       "      <td>False</td>\n",
       "    </tr>\n",
       "    <tr>\n",
       "      <th>22</th>\n",
       "      <td>outcome      0     1\n",
       "exposure            \n",
       "0   ...</td>\n",
       "      <td>0.010860</td>\n",
       "      <td>1.049485</td>\n",
       "      <td>-0.003493</td>\n",
       "      <td>0.023139</td>\n",
       "      <td>0.984550</td>\n",
       "      <td>1.110028</td>\n",
       "      <td>LUNCH</td>\n",
       "      <td>soup</td>\n",
       "      <td>False</td>\n",
       "    </tr>\n",
       "    <tr>\n",
       "      <th>23</th>\n",
       "      <td>outcome     0   1\n",
       "exposure         \n",
       "0         ...</td>\n",
       "      <td>-0.007545</td>\n",
       "      <td>0.853814</td>\n",
       "      <td>-0.040678</td>\n",
       "      <td>0.027119</td>\n",
       "      <td>0.416544</td>\n",
       "      <td>1.778333</td>\n",
       "      <td>AFTERNOON SNACK</td>\n",
       "      <td>dessert</td>\n",
       "      <td>False</td>\n",
       "    </tr>\n",
       "    <tr>\n",
       "      <th>24</th>\n",
       "      <td>outcome    0  1\n",
       "exposure       \n",
       "0         83  ...</td>\n",
       "      <td>0.000280</td>\n",
       "      <td>1.011905</td>\n",
       "      <td>-0.047619</td>\n",
       "      <td>0.035714</td>\n",
       "      <td>0.200000</td>\n",
       "      <td>4.000000</td>\n",
       "      <td>AFTERNOON SNACK</td>\n",
       "      <td>fruit</td>\n",
       "      <td>False</td>\n",
       "    </tr>\n",
       "    <tr>\n",
       "      <th>25</th>\n",
       "      <td>outcome      0    1\n",
       "exposure           \n",
       "0     ...</td>\n",
       "      <td>-0.009860</td>\n",
       "      <td>0.934593</td>\n",
       "      <td>-0.037801</td>\n",
       "      <td>0.019759</td>\n",
       "      <td>0.770812</td>\n",
       "      <td>1.142900</td>\n",
       "      <td>AFTERNOON SNACK</td>\n",
       "      <td>pastry</td>\n",
       "      <td>False</td>\n",
       "    </tr>\n",
       "  </tbody>\n",
       "</table>\n",
       "<p>26 rows × 10 columns</p>\n",
       "</div>"
      ],
      "text/plain": [
       "                                          contingency       ATE        RR  \\\n",
       "0   outcome     0  1\n",
       "exposure        \n",
       "0         28...  0.007066  2.020979   \n",
       "1   outcome    0  1\n",
       "exposure       \n",
       "0         84  ... -0.012839  0.447917   \n",
       "2   outcome     0    1\n",
       "exposure          \n",
       "0       ...  0.033575  1.087120   \n",
       "3   outcome      0    1\n",
       "exposure           \n",
       "0     ...  0.043628  2.455862   \n",
       "4   outcome      0   1\n",
       "exposure          \n",
       "0       ...  0.000307  1.016047   \n",
       "..                                                ...       ...       ...   \n",
       "21  outcome      0    1\n",
       "exposure           \n",
       "0     ... -0.002811  0.931719   \n",
       "22  outcome      0     1\n",
       "exposure            \n",
       "0   ...  0.010860  1.049485   \n",
       "23  outcome     0   1\n",
       "exposure         \n",
       "0         ... -0.007545  0.853814   \n",
       "24  outcome    0  1\n",
       "exposure       \n",
       "0         83  ...  0.000280  1.011905   \n",
       "25  outcome      0    1\n",
       "exposure           \n",
       "0     ... -0.009860  0.934593   \n",
       "\n",
       "    lower_error  upper_error  lower_error_rr  upper_error_rr             meal  \\\n",
       "0     -0.006993     0.020979        0.333333        7.000000        BREAKFAST   \n",
       "1     -0.052083     0.020833        0.200000        3.000000        BREAKFAST   \n",
       "2     -0.007759     0.073276        0.981012        1.198138        BREAKFAST   \n",
       "3      0.029051     0.058748        1.826864        3.515508            LUNCH   \n",
       "4     -0.010135     0.011824        0.583173        1.823775            LUNCH   \n",
       "..          ...          ...             ...             ...              ...   \n",
       "21    -0.011825     0.007031        0.737913        1.196880            LUNCH   \n",
       "22    -0.003493     0.023139        0.984550        1.110028            LUNCH   \n",
       "23    -0.040678     0.027119        0.416544        1.778333  AFTERNOON SNACK   \n",
       "24    -0.047619     0.035714        0.200000        4.000000  AFTERNOON SNACK   \n",
       "25    -0.037801     0.019759        0.770812        1.142900  AFTERNOON SNACK   \n",
       "\n",
       "      addition   type  \n",
       "0      dessert   True  \n",
       "1        fruit   True  \n",
       "2       pastry   True  \n",
       "3    condiment   True  \n",
       "4      dessert   True  \n",
       "..         ...    ...  \n",
       "21  soft drink  False  \n",
       "22        soup  False  \n",
       "23     dessert  False  \n",
       "24       fruit  False  \n",
       "25      pastry  False  \n",
       "\n",
       "[26 rows x 10 columns]"
      ]
     },
     "execution_count": 78,
     "metadata": {},
     "output_type": "execute_result"
    }
   ],
   "source": [
    "df_plot"
   ]
  },
  {
   "cell_type": "code",
   "execution_count": 80,
   "metadata": {},
   "outputs": [],
   "source": [
    "#male vs female per type"
   ]
  },
  {
   "cell_type": "code",
   "execution_count": 81,
   "metadata": {},
   "outputs": [],
   "source": [
    "df = pd.read_pickle('tmp/3_meals_matched_situations_randomized')"
   ]
  },
  {
   "cell_type": "code",
   "execution_count": 85,
   "metadata": {},
   "outputs": [
    {
     "data": {
      "text/plain": [
       "unknown    124653\n",
       "female       1962\n",
       "male         1867\n",
       "Name: focal_gender, dtype: int64"
      ]
     },
     "execution_count": 85,
     "metadata": {},
     "output_type": "execute_result"
    }
   ],
   "source": [
    "df['focal_gender'].value_counts()"
   ]
  },
  {
   "cell_type": "code",
   "execution_count": 86,
   "metadata": {},
   "outputs": [
    {
     "name": "stdout",
     "output_type": "stream",
     "text": [
      "no data: BREAKFAST dessert\n",
      "no data: BREAKFAST fruit\n",
      "female BREAKFAST pastry ATE = -1.92 %\n",
      "no data: LUNCH condiment\n",
      "no data: LUNCH dessert\n",
      "female LUNCH fruit ATE = 1.79 %\n",
      "no data: LUNCH pastry\n",
      "no data: LUNCH salad\n",
      "no data: LUNCH soft drink\n",
      "female LUNCH soup ATE = -1.02 %\n",
      "no data: AFTERNOON SNACK dessert\n",
      "no data: AFTERNOON SNACK fruit\n",
      "no data: AFTERNOON SNACK pastry\n",
      "no data: BREAKFAST dessert\n",
      "no data: BREAKFAST fruit\n",
      "male BREAKFAST pastry ATE = 20.83 %\n",
      "no data: LUNCH condiment\n",
      "no data: LUNCH dessert\n",
      "male LUNCH fruit ATE = 10.18 %\n",
      "no data: LUNCH pastry\n",
      "no data: LUNCH salad\n",
      "no data: LUNCH soft drink\n",
      "male LUNCH soup ATE = -12.88 %\n",
      "no data: AFTERNOON SNACK dessert\n",
      "no data: AFTERNOON SNACK fruit\n",
      "no data: AFTERNOON SNACK pastry\n"
     ]
    }
   ],
   "source": [
    "list_viz = []\n",
    "\n",
    "for c in ['female','male']:\n",
    "    df_t = df.loc[((df['focal_gender'] == c) & (df['partner_gender'] == c))]\n",
    "        \n",
    "    for meal in ['BREAKFAST', 'LUNCH', 'AFTERNOON SNACK']:\n",
    "        for addition in additions[meal]:\n",
    "            df_tmp = df_t.loc[(df_t['MEAL']==meal) & (df_t['addition']==addition)]\n",
    "\n",
    "            try:\n",
    "                treated_p = df_tmp.loc[df_tmp['exposure']==1]['outcome'].value_counts(normalize = True)[1]\n",
    "                control_p = df_tmp.loc[df_tmp['exposure']==0]['outcome'].value_counts(normalize = True)[1]\n",
    "            except:\n",
    "                print('no data:',meal, addition)\n",
    "                continue\n",
    "\n",
    "            print(c, meal, addition,  'ATE =', round(100*(treated_p - control_p),2),'%')\n",
    "\n",
    "            entry = {}\n",
    "            \n",
    "            entry['contingency'] = pd.crosstab(df_tmp['exposure'],df_tmp['outcome'], margins = False)\n",
    "            entry['ATE'] = treated_p - control_p\n",
    "\n",
    "            entry['RR'] = treated_p/control_p\n",
    "\n",
    "            ys = []\n",
    "            ys_rr = []\n",
    "            for iteration in range(1000):\n",
    "                try:\n",
    "                    pos_tmp = df_tmp.loc[df_tmp['exposure']==1].sample(len(df_tmp.loc[df_tmp['exposure']==1]), replace = True)['outcome'].value_counts(normalize = True)[1]\n",
    "                    neg_tmp = df_tmp.loc[df_tmp['exposure']==0].sample(len(df_tmp.loc[df_tmp['exposure']==1]), replace = True)['outcome'].value_counts(normalize = True)[1]   \n",
    "                except:\n",
    "                    continue\n",
    "                y_tmp = pos_tmp - neg_tmp\n",
    "\n",
    "                ys.append(y_tmp)\n",
    "                ys_rr.append(pos_tmp/neg_tmp)\n",
    "\n",
    "            entry['lower_error'] = (np.percentile(np.array(ys), 2.5))\n",
    "            entry['upper_error'] = (np.percentile(np.array(ys),97.5))\n",
    "\n",
    "            entry['lower_error_rr'] = (np.percentile(np.array(ys_rr), 2.5))\n",
    "            entry['upper_error_rr'] = (np.percentile(np.array(ys_rr),97.5))\n",
    "\n",
    "            entry['meal'] = meal\n",
    "            entry['addition'] = addition\n",
    "            entry['type'] = c\n",
    "\n",
    "            list_viz.append(entry)   "
   ]
  },
  {
   "cell_type": "code",
   "execution_count": null,
   "metadata": {},
   "outputs": [],
   "source": [
    "df_plot = pd.DataFrame(list_viz)"
   ]
  },
  {
   "cell_type": "code",
   "execution_count": null,
   "metadata": {},
   "outputs": [],
   "source": [
    "df_plot"
   ]
  },
  {
   "cell_type": "code",
   "execution_count": null,
   "metadata": {},
   "outputs": [],
   "source": [
    "df_plot.to_pickle('tmp/randomized_estimates_gender_x_foods')"
   ]
  }
 ],
 "metadata": {
  "kernelspec": {
   "display_name": "Python 3 (ipykernel)",
   "language": "python",
   "name": "python3"
  },
  "language_info": {
   "codemirror_mode": {
    "name": "ipython",
    "version": 3
   },
   "file_extension": ".py",
   "mimetype": "text/x-python",
   "name": "python",
   "nbconvert_exporter": "python",
   "pygments_lexer": "ipython3",
   "version": "3.9.13"
  }
 },
 "nbformat": 4,
 "nbformat_minor": 4
}
