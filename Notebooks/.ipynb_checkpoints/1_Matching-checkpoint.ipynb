{
 "cells": [
  {
   "cell_type": "code",
   "execution_count": 1,
   "metadata": {},
   "outputs": [],
   "source": [
    "import pandas as pd\n",
    "import sqlite3 as sq\n",
    "import numpy as np\n",
    "import matplotlib.pyplot as plt\n",
    "import seaborn as sns\n",
    "import warnings, re\n",
    "import nltk\n",
    "from IPython.display import Image\n",
    "import datetime\n",
    "from collections import Counter\n",
    "warnings.filterwarnings('ignore')\n",
    "%matplotlib inline\n",
    "pd.set_option('display.max_columns', 500)\n",
    "pd.set_option('display.max_rows', 20)\n",
    "from operator import itemgetter\n",
    "import itertools\n",
    "from sklearn import preprocessing\n",
    "from sklearn.linear_model import LogisticRegression\n",
    "from sklearn import preprocessing\n",
    "import networkx as nx\n",
    "from sklearn import metrics\n",
    "from sklearn.metrics import precision_recall_fscore_support\n",
    "from sklearn.preprocessing import StandardScaler\n",
    "from sklearn.tree import DecisionTreeClassifier\n",
    "from sklearn.ensemble import RandomForestClassifier\n",
    "import os\n",
    "import math\n",
    "from scipy.stats import linregress\n",
    "import seaborn as sns\n",
    "from tqdm.notebook import tqdm"
   ]
  },
  {
   "cell_type": "code",
   "execution_count": 2,
   "metadata": {},
   "outputs": [],
   "source": [
    "import statsmodels.formula.api as smf\n",
    "import time\n",
    "from scipy import stats\n",
    "from scipy.stats import chi2_contingency"
   ]
  },
  {
   "cell_type": "code",
   "execution_count": 3,
   "metadata": {},
   "outputs": [],
   "source": [
    "parentDirectory = '/dlabdata1/gligoric/camipro-situational'\n",
    "DATA_DIR = parentDirectory +'/v2_Data/'\n",
    "FIGURES_DIR = parentDirectory +'/v2_Figures/'"
   ]
  },
  {
   "cell_type": "code",
   "execution_count": 4,
   "metadata": {},
   "outputs": [],
   "source": [
    "RUN_MODE_MATCHED = True"
   ]
  },
  {
   "cell_type": "markdown",
   "metadata": {},
   "source": [
    "### Load queues -- 509220 situations"
   ]
  },
  {
   "cell_type": "code",
   "execution_count": 5,
   "metadata": {},
   "outputs": [],
   "source": [
    "df_choices = pd.read_pickle(DATA_DIR+\"20_outcomes_12_restaurants_situations\")\n",
    "df_choices = df_choices.loc[df_choices['shop']!='Epicure'].reset_index()"
   ]
  },
  {
   "cell_type": "code",
   "execution_count": 6,
   "metadata": {},
   "outputs": [
    {
     "data": {
      "text/plain": [
       "505541"
      ]
     },
     "execution_count": 6,
     "metadata": {},
     "output_type": "execute_result"
    }
   ],
   "source": [
    "len(df_choices)"
   ]
  },
  {
   "cell_type": "code",
   "execution_count": 7,
   "metadata": {},
   "outputs": [],
   "source": [
    "def determine_meal(x):\n",
    "    if x < datetime.time(11):\n",
    "        return 'BREAKFAST'\n",
    "    elif x < datetime.time(14,30):\n",
    "        return 'LUNCH'\n",
    "    else:\n",
    "        return 'AFTERNOON SNACK'"
   ]
  },
  {
   "cell_type": "code",
   "execution_count": 8,
   "metadata": {},
   "outputs": [
    {
     "data": {
      "image/png": "[encoded data removed]",
      "text/plain": [
       "<Figure size 576x288 with 1 Axes>"
      ]
     },
     "metadata": {
      "needs_background": "light"
     },
     "output_type": "display_data"
    }
   ],
   "source": [
    "plt.subplots(1,1,figsize= (8,4))\n",
    "\n",
    "grid = [6,8,10,12,14,16,18,20]\n",
    "\n",
    "plt.axvspan(0, 11, alpha=0.2, color='tab:blue', label = 'Breakfast / morning \\nsnack')\n",
    "plt.axvspan(11, 14.5, alpha=0.2, color='tab:green', label = 'Lunch')\n",
    "plt.axvspan(14.5, 24, alpha=0.2, color='tab:red',label = 'Dinner / evening \\nsnack')\n",
    "plt.hist(df_choices['timestamp'].dt.hour + df_choices['timestamp'].dt.minute / 60, bins = 24*10, normed = True);\n",
    "plt.xlabel('Hour in the day')\n",
    "plt.ylabel('Fraction of situations')\n",
    "plt.xticks(grid, [str(i)+':00' for i in grid]);\n",
    "\n",
    "plt.vlines(11,0,1, label= '11:00', linestyle = 'dotted')\n",
    "plt.vlines(14.5,0,1, label= '14:30', linestyle = 'dashed')\n",
    "plt.legend()\n",
    "plt.xlim([6,20])\n",
    "plt.ylim([0,0.5])\n",
    "\n",
    "plt.savefig('figures/fig1.pdf', bbox_inches='tight')"
   ]
  },
  {
   "cell_type": "code",
   "execution_count": 9,
   "metadata": {},
   "outputs": [],
   "source": [
    "df_choices['MEAL'] = df_choices['timestamp'].dt.time.apply(determine_meal)"
   ]
  },
  {
   "cell_type": "code",
   "execution_count": 10,
   "metadata": {},
   "outputs": [],
   "source": [
    "anchors = {\n",
    "    'BREAKFAST': ['coffee','tea'],\n",
    "    'LUNCH': ['meal'],\n",
    "    'AFTERNOON SNACK': ['coffee','tea']\n",
    "}\n",
    "\n",
    "times = {\n",
    "    'BREAKFAST': '06:00-11:00',\n",
    "    'LUNCH': '11:00-14.30',\n",
    "    'AFTERNOON SNACK': '14.30-20:00'\n",
    "}\n",
    "\n",
    "additions = {\n",
    "    'BREAKFAST': ['dessert', 'fruit', 'pastry'],\n",
    "    'LUNCH': ['condiment',\n",
    "             'dessert',\n",
    "             'fruit',\n",
    "             'pastry',\n",
    "             'salad',\n",
    "             'soft drink',\n",
    "             'soup'],\n",
    "    'AFTERNOON SNACK': ['dessert', 'fruit', 'pastry']\n",
    "}"
   ]
  },
  {
   "cell_type": "markdown",
   "metadata": {},
   "source": [
    "### Number of situations lunch + both have a meal"
   ]
  },
  {
   "cell_type": "code",
   "execution_count": 11,
   "metadata": {},
   "outputs": [
    {
     "data": {
      "text/plain": [
       "222648"
      ]
     },
     "execution_count": 11,
     "metadata": {},
     "output_type": "execute_result"
    }
   ],
   "source": [
    "len(df_choices.loc[(df_choices['MEAL']=='LUNCH') & (df_choices['partner_meal']) & (df_choices['focal_meal'])])"
   ]
  },
  {
   "cell_type": "markdown",
   "metadata": {},
   "source": [
    "### Number of situations breakfast/snack + both have coffee/tea"
   ]
  },
  {
   "cell_type": "code",
   "execution_count": 12,
   "metadata": {},
   "outputs": [
    {
     "data": {
      "text/plain": [
       "67149"
      ]
     },
     "execution_count": 12,
     "metadata": {},
     "output_type": "execute_result"
    }
   ],
   "source": [
    "len(df_choices.loc[(~(df_choices['MEAL']=='LUNCH')) & \n",
    "                   (df_choices['partner_coffee'] | df_choices['partner_tea']) & \n",
    "                   (df_choices['focal_coffee'] | df_choices['focal_tea'] )])"
   ]
  },
  {
   "cell_type": "markdown",
   "metadata": {},
   "source": [
    "## STEP 1 : Matching and covariate balance check"
   ]
  },
  {
   "cell_type": "code",
   "execution_count": 13,
   "metadata": {},
   "outputs": [],
   "source": [
    "def SMD(treated_vec, control_vec):\n",
    "    pos_mean = np.nanmean(treated_vec)\n",
    "    neg_mean = np.nanmean(control_vec)\n",
    "\n",
    "    pos_std = np.std(treated_vec)\n",
    "    neg_std = np.std(control_vec)\n",
    "    smd = (pos_mean - neg_mean) / np.sqrt((pos_std ** 2 + neg_std ** 2) / 2)\n",
    "    \n",
    "    return round(abs(smd), 4)"
   ]
  },
  {
   "cell_type": "code",
   "execution_count": 14,
   "metadata": {},
   "outputs": [],
   "source": [
    "## TODO: check how much SMD was before matching"
   ]
  },
  {
   "cell_type": "code",
   "execution_count": 15,
   "metadata": {},
   "outputs": [],
   "source": [
    "if RUN_MODE_MATCHED:\n",
    "    pass\n",
    "else:\n",
    "\n",
    "    #for different additions\n",
    "\n",
    "    list_viz = []\n",
    "\n",
    "    for meal in ['BREAKFAST', 'LUNCH', 'AFTERNOON SNACK']:\n",
    "        for addition in additions[meal]:\n",
    "\n",
    "            # covariates to match on:\n",
    "            covariates_categorical = ['partner_ID', 'shop', 'MEAL']\n",
    "            covariates_continuous = 'popularity_'+addition\n",
    "\n",
    "            #additional covariates: N, 'focal_ID' \n",
    "\n",
    "            print('\\n')\n",
    "            print(meal)\n",
    "            print(addition)\n",
    "\n",
    "            outcome = 'focal_'+addition\n",
    "            exposure = 'partner_'+addition\n",
    "\n",
    "\n",
    "            if meal == 'LUNCH':\n",
    "                treated = df_choices.loc[(df_choices['MEAL']==meal) & \\\n",
    "                                         (df_choices['partner_meal']) &\\\n",
    "                                         (df_choices['focal_meal'])].reset_index()\n",
    "            else:\n",
    "                treated = df_choices.loc[((df_choices['MEAL']==meal)) & \n",
    "                                        (df_choices['partner_coffee'] | df_choices['partner_tea']) & \n",
    "                                        (df_choices['focal_coffee'] | df_choices['focal_tea'] )].reset_index()\n",
    "\n",
    "\n",
    "            treated['focal_'+addition] = treated['focal_'+addition].astype(int)\n",
    "            treated['partner_'+addition] = treated['partner_'+addition].astype(int)\n",
    "\n",
    "            matching = set()\n",
    "\n",
    "            #control for categorical covariates\n",
    "            for partner,gr in tqdm(treated.groupby(covariates_categorical)):\n",
    "                treatment_df = gr[gr[exposure] == 1]\n",
    "                control_df = gr[gr[exposure] == 0]\n",
    "\n",
    "\n",
    "                if len(treatment_df)==0 or len(control_df)==0:\n",
    "                    continue\n",
    "                else:\n",
    "                    G = nx.Graph()\n",
    "                    for treatment_id, treated_row in treatment_df.iterrows():\n",
    "                        for control_id, control_row in control_df.iterrows():\n",
    "                            # add an edge only if continuous covariates match\n",
    "                            if np.abs(control_row['popularity_'+addition] - treated_row['popularity_'+addition]) < 0.1:\n",
    "                                # adds an edge\n",
    "                                G.add_weighted_edges_from([(control_id, treatment_id, 1)])\n",
    "\n",
    "                    #find optimal matching of situations\n",
    "                    matching.update(nx.max_weight_matching(G))\n",
    "\n",
    "            matched = [i[0] for i in list(matching)] + [i[1] for i in list(matching)]\n",
    "            balanced_df_all = treated.loc[treated.index.isin(matched)]\n",
    "\n",
    "\n",
    "            pos = balanced_df_all.loc[balanced_df_all[exposure] == 1] #treated\n",
    "            neg = balanced_df_all.loc[balanced_df_all[exposure] == 0] #control\n",
    "\n",
    "            print(len(pos))\n",
    "            pos['addition'] = addition\n",
    "            neg['addition'] = addition\n",
    "\n",
    "            pos[['MEAL','addition',exposure, outcome, 'delay', 'shop', 'timestamp',\n",
    "               'focal_p_student', 'partner_p_student', 'focal_gender',\n",
    "               'partner_gender', 'focal_age', 'partner_age', 'popularity_'+addition]].rename(columns = {exposure: 'exposure', outcome: 'outcome',\n",
    "                                                                                                       'popularity_'+addition: 'popularity'}).to_pickle('tmp/pos_' + addition +'_' +meal+ '.pkl')\n",
    "\n",
    "            neg[['MEAL','addition',exposure, outcome, 'delay', 'shop', 'timestamp',\n",
    "               'focal_p_student', 'partner_p_student', 'focal_gender',\n",
    "               'partner_gender', 'focal_age', 'partner_age', 'popularity_'+addition]].rename(columns = {exposure: 'exposure', outcome: 'outcome',\n",
    "                                                                                                           'popularity_'+addition: 'popularity'},).to_pickle('tmp/neg_' + addition +'_' +meal+'.pkl')\n",
    "    cnt = 0\n",
    "\n",
    "    check = 0\n",
    "\n",
    "    for meal in ['BREAKFAST','LUNCH','AFTERNOON SNACK']:\n",
    "        for addition in additions[meal]:\n",
    "            pos = pd.read_pickle('tmp/pos_' + addition +'_' +meal+'.pkl')\n",
    "            if cnt==0:\n",
    "                df = pos.copy(deep = True)\n",
    "            else:\n",
    "                df = pd.concat([df,pos])\n",
    "            cnt+=1\n",
    "            neg = pd.read_pickle('tmp/neg_' + addition +'_' +meal+'.pkl')\n",
    "            df = pd.concat([df,neg])\n",
    "\n",
    "            check+=len(pos) + len(neg)\n",
    "    df.to_pickle('3_meals_matched_situations')"
   ]
  },
  {
   "cell_type": "markdown",
   "metadata": {},
   "source": [
    "## STEP2: Analyses"
   ]
  },
  {
   "cell_type": "code",
   "execution_count": 16,
   "metadata": {},
   "outputs": [],
   "source": [
    "df = pd.read_pickle('3_meals_matched_situations')"
   ]
  },
  {
   "cell_type": "code",
   "execution_count": 17,
   "metadata": {},
   "outputs": [
    {
     "data": {
      "text/plain": [
       "Text(0, 0.5, 'Number of situations')"
      ]
     },
     "execution_count": 17,
     "metadata": {},
     "output_type": "execute_result"
    },
    {
     "data": {
      "image/png": "[encoded data removed]",
      "text/plain": [
       "<Figure size 432x288 with 1 Axes>"
      ]
     },
     "metadata": {
      "needs_background": "light"
     },
     "output_type": "display_data"
    }
   ],
   "source": [
    "df.loc[df['exposure']==1]['popularity'].hist(range = [0,1], bins = 20,label = 'pos', alpha = 0.5)\n",
    "df.loc[df['exposure']==0]['popularity'].hist(range = [0,1], bins = 20,label = 'pos', alpha = 0.5)\n",
    "\n",
    "plt.xlabel('Popularity')\n",
    "plt.ylabel('Number of situations')"
   ]
  },
  {
   "cell_type": "code",
   "execution_count": 18,
   "metadata": {},
   "outputs": [
    {
     "data": {
      "text/plain": [
       "96822"
      ]
     },
     "execution_count": 18,
     "metadata": {},
     "output_type": "execute_result"
    }
   ],
   "source": [
    "len(df)"
   ]
  },
  {
   "cell_type": "code",
   "execution_count": 19,
   "metadata": {},
   "outputs": [
    {
     "data": {
      "text/plain": [
       "0.0793"
      ]
     },
     "execution_count": 19,
     "metadata": {},
     "output_type": "execute_result"
    }
   ],
   "source": [
    "SMD(df.loc[df['exposure']==1]['popularity'].values,df.loc[df['exposure']==0]['popularity'].values)"
   ]
  },
  {
   "cell_type": "markdown",
   "metadata": {},
   "source": [
    "### a) Overall"
   ]
  },
  {
   "cell_type": "code",
   "execution_count": 20,
   "metadata": {},
   "outputs": [
    {
     "name": "stdout",
     "output_type": "stream",
     "text": [
      "ATE = 14.24 %\n",
      "ATE NOT = -14.24 %\n",
      "lower_error =  13.74 %\n",
      "upper_error =  14.78 %\n"
     ]
    }
   ],
   "source": [
    "treated_p = df.loc[df['exposure']==1]['outcome'].value_counts(normalize = True)[1]\n",
    "control_p = df.loc[df['exposure']==0]['outcome'].value_counts(normalize = True)[1]\n",
    "\n",
    "print('ATE =', round(100*(treated_p - control_p),2),'%')\n",
    "\n",
    "\n",
    "treated_p_not = df.loc[df['exposure']==1]['outcome'].value_counts(normalize = True)[0]\n",
    "control_p_not = df.loc[df['exposure']==0]['outcome'].value_counts(normalize = True)[0]\n",
    "\n",
    "print('ATE NOT =', round(100*(treated_p_not - control_p_not),2),'%')\n",
    "\n",
    "\n",
    "\n",
    "ys = []\n",
    "\n",
    "for iteration in range(1000):\n",
    "    pos_tmp = df.loc[df['exposure']==1].sample(round(len(df)/2), replace = True)['outcome'].value_counts(normalize = True)[1]\n",
    "    neg_tmp = df.loc[df['exposure']==0].sample(round(len(df)/2), replace = True)['outcome'].value_counts(normalize = True)[1]   \n",
    "\n",
    "    y_tmp = pos_tmp - neg_tmp\n",
    "\n",
    "    ys.append(y_tmp)\n",
    "    \n",
    "    \n",
    "\n",
    "print('lower_error = ', round(100*np.percentile(np.array(ys), 2.5),2),'%')\n",
    "print('upper_error = ', round(100*np.percentile(np.array(ys),97.5),2),'%')"
   ]
  },
  {
   "cell_type": "code",
   "execution_count": 21,
   "metadata": {},
   "outputs": [
    {
     "data": {
      "text/html": [
       "<div>\n",
       "<style scoped>\n",
       "    .dataframe tbody tr th:only-of-type {\n",
       "        vertical-align: middle;\n",
       "    }\n",
       "\n",
       "    .dataframe tbody tr th {\n",
       "        vertical-align: top;\n",
       "    }\n",
       "\n",
       "    .dataframe thead th {\n",
       "        text-align: right;\n",
       "    }\n",
       "</style>\n",
       "<table border=\"1\" class=\"dataframe\">\n",
       "  <thead>\n",
       "    <tr style=\"text-align: right;\">\n",
       "      <th>outcome</th>\n",
       "      <th>0</th>\n",
       "      <th>1</th>\n",
       "      <th>All</th>\n",
       "    </tr>\n",
       "    <tr>\n",
       "      <th>exposure</th>\n",
       "      <th></th>\n",
       "      <th></th>\n",
       "      <th></th>\n",
       "    </tr>\n",
       "  </thead>\n",
       "  <tbody>\n",
       "    <tr>\n",
       "      <th>0</th>\n",
       "      <td>40164</td>\n",
       "      <td>8247</td>\n",
       "      <td>48411</td>\n",
       "    </tr>\n",
       "    <tr>\n",
       "      <th>1</th>\n",
       "      <td>33271</td>\n",
       "      <td>15140</td>\n",
       "      <td>48411</td>\n",
       "    </tr>\n",
       "    <tr>\n",
       "      <th>All</th>\n",
       "      <td>73435</td>\n",
       "      <td>23387</td>\n",
       "      <td>96822</td>\n",
       "    </tr>\n",
       "  </tbody>\n",
       "</table>\n",
       "</div>"
      ],
      "text/plain": [
       "outcome       0      1    All\n",
       "exposure                     \n",
       "0         40164   8247  48411\n",
       "1         33271  15140  48411\n",
       "All       73435  23387  96822"
      ]
     },
     "execution_count": 21,
     "metadata": {},
     "output_type": "execute_result"
    }
   ],
   "source": [
    "pd.crosstab(df['exposure'],df['outcome'], margins = True)"
   ]
  },
  {
   "cell_type": "code",
   "execution_count": 22,
   "metadata": {},
   "outputs": [],
   "source": [
    "entry = {}\n",
    "entry['ATE'] = treated_p - control_p\n",
    "entry['lower_error'] = np.percentile(np.array(ys), 2.5)\n",
    "entry['upper_error'] = np.percentile(np.array(ys), 97.5)\n",
    "pd.DataFrame([entry]).to_pickle('ate')"
   ]
  },
  {
   "cell_type": "code",
   "execution_count": 23,
   "metadata": {},
   "outputs": [],
   "source": [
    "t1 = pd.read_pickle('contingency_randomized')\n",
    "t2 = pd.read_pickle('contingency_reversed')\n",
    "t3 = pd.crosstab(df['exposure'],df['outcome'], margins = True)"
   ]
  },
  {
   "cell_type": "code",
   "execution_count": 24,
   "metadata": {},
   "outputs": [
    {
     "name": "stdout",
     "output_type": "stream",
     "text": [
      "1.0748773841961852 1.047039179088094 1.1034557389368003\n",
      "1.8109214218896166 1.7692114737711553 1.8536147006035644\n",
      "1.8358190857281433 1.7928543224724232 1.8798134757965286\n"
     ]
    }
   ],
   "source": [
    "from scipy.stats.contingency import relative_risk\n",
    "\n",
    "list_r = []\n",
    "for cnt,t in enumerate([t1,t2,t3]):\n",
    "    entry = {}\n",
    "    entry['type'] = ['Regular','Reversed','Randomized'][cnt]\n",
    "    result = relative_risk(t.values[1,1], t.values[1,0]+t.values[1,1],  \n",
    "                       t.values[0,1], t.values[0,0]+t.values[0,1])\n",
    "    print(result.relative_risk, result.confidence_interval(confidence_level=0.95)[0], \n",
    "      result.confidence_interval(confidence_level=0.95)[1])\n",
    "    \n",
    "    entry['RTE'] = result.relative_risk\n",
    "    entry['lower_error'] = result.confidence_interval(confidence_level=0.95)[0]\n",
    "    entry['upper_error'] = result.confidence_interval(confidence_level=0.95)[1]\n",
    "    list_r.append(entry)"
   ]
  },
  {
   "cell_type": "code",
   "execution_count": 25,
   "metadata": {},
   "outputs": [],
   "source": [
    "a1 = pd.read_pickle('ate_randomized')\n",
    "a2 = pd.read_pickle('ate_reversed')\n",
    "a3 = pd.read_pickle('ate')"
   ]
  },
  {
   "cell_type": "code",
   "execution_count": 26,
   "metadata": {},
   "outputs": [],
   "source": [
    "a1['type'] = 'randomized'\n",
    "a2['type'] = 'reversed'\n",
    "a3['type'] = 'regular'"
   ]
  },
  {
   "cell_type": "code",
   "execution_count": 27,
   "metadata": {},
   "outputs": [],
   "source": [
    "df_plt = pd.concat([a1,a2,a3])"
   ]
  },
  {
   "cell_type": "code",
   "execution_count": 28,
   "metadata": {},
   "outputs": [
    {
     "data": {
      "text/plain": [
       "Text(0, 0.5, 'Food item')"
      ]
     },
     "execution_count": 28,
     "metadata": {},
     "output_type": "execute_result"
    },
    {
     "data": {
      "image/png": "[encoded data removed]",
      "text/plain": [
       "<Figure size 288x216 with 1 Axes>"
      ]
     },
     "metadata": {
      "needs_background": "light"
     },
     "output_type": "display_data"
    }
   ],
   "source": [
    "fix, axes = plt.subplots(1,1, figsize = (4,3))\n",
    "\n",
    "types = []\n",
    "\n",
    "c = 0\n",
    "for cnt,row in df_plt.sort_values(by = 'ATE', ascending = False).iterrows():\n",
    "    plt.hlines(3-c, -1,4, color = 'gray', linestyle = '--')\n",
    "    plt.errorbar([row['ATE']],[3-c], xerr = (np.array([row['ATE'] - row['lower_error']]), \n",
    "                                             np.array([row['upper_error']- row['ATE']])),\n",
    "                 fmt = '|', markersize= 8,color = 'tab:blue', linewidth = 3)\n",
    "    types.append(row['type'])\n",
    "    c+=1\n",
    "plt.yticks(3-np.array(range(len(additions['LUNCH']))), [i.replace('_',' ').capitalize() for i in types]);\n",
    "\n",
    "plt.xlim([-0.05,0.19])\n",
    "\n",
    "plt.vlines(0,0.5,3.5, linestyle = '--')\n",
    "\n",
    "plt.xlabel('RD', fontsize =12)\n",
    "plt.ylabel('Food item')\n"
   ]
  },
  {
   "cell_type": "code",
   "execution_count": 29,
   "metadata": {},
   "outputs": [
    {
     "data": {
      "text/plain": [
       "Text(0, 0.5, 'Food item')"
      ]
     },
     "execution_count": 29,
     "metadata": {},
     "output_type": "execute_result"
    },
    {
     "data": {
      "image/png": "[encoded data removed]",
      "text/plain": [
       "<Figure size 288x216 with 1 Axes>"
      ]
     },
     "metadata": {
      "needs_background": "light"
     },
     "output_type": "display_data"
    }
   ],
   "source": [
    "df_plt = pd.DataFrame(list_r)\n",
    "fix, axes = plt.subplots(1,1, figsize = (4,3))\n",
    "\n",
    "types = []\n",
    "\n",
    "c = 0\n",
    "for cnt,row in df_plt.sort_values(by = 'RTE', ascending = False).iterrows():\n",
    "    plt.hlines(3-c, -1,4, color = 'gray', linestyle = '--')\n",
    "    plt.errorbar([row['RTE']],[3-c], xerr = (np.array([row['RTE'] - row['lower_error']]), \n",
    "                                             np.array([row['upper_error']- row['RTE']])),\n",
    "                 fmt = '|', markersize= 8,color = 'tab:blue', linewidth = 3)\n",
    "    types.append(row['type'])\n",
    "    c+=1\n",
    "plt.yticks(3-np.array(range(len(additions['LUNCH']))), [i for i in [i.replace('_',' ').capitalize() for i in types]]);\n",
    "\n",
    "plt.xlim([1,1.9])\n",
    "\n",
    "plt.vlines(0,0.5,3.5, linestyle = '--')\n",
    "\n",
    "plt.xlabel('RR', fontsize =12)\n",
    "plt.ylabel('Food item')"
   ]
  },
  {
   "cell_type": "code",
   "execution_count": 30,
   "metadata": {},
   "outputs": [
    {
     "name": "stdout",
     "output_type": "stream",
     "text": [
      "ATE = 14.24 %\n",
      "lower_error =  13.69 %\n",
      "upper_error =  14.8 %\n"
     ]
    }
   ],
   "source": [
    "treated_p = df.loc[df['exposure']==1]['outcome'].value_counts(normalize = True)[1]\n",
    "control_p = df.loc[df['exposure']==0]['outcome'].value_counts(normalize = True)[1]\n",
    "\n",
    "print('ATE =', round(100*(treated_p - control_p),2),'%')\n",
    "\n",
    "ys = []\n",
    "for iteration in range(1000):\n",
    "    pos_tmp = df.loc[df['exposure']==1].sample(round(len(df)/2), replace = True)['outcome'].value_counts(normalize = True)[1]\n",
    "    neg_tmp = df.loc[df['exposure']==0].sample(round(len(df)/2), replace = True)['outcome'].value_counts(normalize = True)[1]   \n",
    "\n",
    "    y_tmp = pos_tmp - neg_tmp\n",
    "\n",
    "    ys.append(y_tmp)\n",
    "\n",
    "print('lower_error = ', round(100*np.percentile(np.array(ys), 2.5),2),'%')\n",
    "print('upper_error = ', round(100*np.percentile(np.array(ys),97.5),2),'%')\n",
    "\n"
   ]
  },
  {
   "cell_type": "markdown",
   "metadata": {},
   "source": [
    "### b.1) Per food type"
   ]
  },
  {
   "cell_type": "code",
   "execution_count": 31,
   "metadata": {},
   "outputs": [
    {
     "name": "stdout",
     "output_type": "stream",
     "text": [
      "condiment ATE = 23.94 %\n",
      "dessert ATE = 10.68 %\n",
      "fruit ATE = 14.33 %\n",
      "pastry ATE = 11.7 %\n",
      "salad ATE = 12.92 %\n",
      "soft drink ATE = 10.06 %\n",
      "soup ATE = 18.49 %\n"
     ]
    }
   ],
   "source": [
    "list_viz = []\n",
    "\n",
    "for addition in additions['LUNCH']:\n",
    "    df_tmp = df.loc[(df['addition'] == addition)]\n",
    "    \n",
    "    treated_p = df_tmp.loc[df_tmp['exposure']==1]['outcome'].value_counts(normalize = True)[1]\n",
    "    control_p = df_tmp.loc[df_tmp['exposure']==0]['outcome'].value_counts(normalize = True)[1]\n",
    "\n",
    "    print(addition, 'ATE =', round(100*(treated_p - control_p),2),'%')\n",
    "    \n",
    "    entry = {}\n",
    "\n",
    "    entry['treated_p'] = treated_p\n",
    "    entry['control_p'] = control_p\n",
    "\n",
    "    entry['ATE'] = treated_p - control_p\n",
    "    \n",
    "    ys = []\n",
    "    for iteration in range(1000):\n",
    "        pos_tmp = df_tmp.loc[df_tmp['exposure']==1].sample(len(df_tmp.loc[df_tmp['exposure']==1]), replace = True)['outcome'].value_counts(normalize = True)[1]\n",
    "        neg_tmp = df_tmp.loc[df_tmp['exposure']==0].sample(len(df_tmp.loc[df_tmp['exposure']==1]), replace = True)['outcome'].value_counts(normalize = True)[1]   \n",
    "\n",
    "        y_tmp = pos_tmp - neg_tmp\n",
    "\n",
    "        ys.append(y_tmp)\n",
    "\n",
    "    entry['lower_error'] = (np.percentile(np.array(ys), 2.5))\n",
    "    entry['upper_error'] = (np.percentile(np.array(ys),97.5))\n",
    "\n",
    "    entry['matched_pairs_of_situations'] = len(df_tmp)/2\n",
    "    \n",
    "    list_viz.append(entry)\n",
    "    \n"
   ]
  },
  {
   "cell_type": "code",
   "execution_count": 32,
   "metadata": {},
   "outputs": [
    {
     "data": {
      "text/html": [
       "<div>\n",
       "<style scoped>\n",
       "    .dataframe tbody tr th:only-of-type {\n",
       "        vertical-align: middle;\n",
       "    }\n",
       "\n",
       "    .dataframe tbody tr th {\n",
       "        vertical-align: top;\n",
       "    }\n",
       "\n",
       "    .dataframe thead th {\n",
       "        text-align: right;\n",
       "    }\n",
       "</style>\n",
       "<table border=\"1\" class=\"dataframe\">\n",
       "  <thead>\n",
       "    <tr style=\"text-align: right;\">\n",
       "      <th></th>\n",
       "      <th>treated_p</th>\n",
       "      <th>control_p</th>\n",
       "      <th>ATE</th>\n",
       "      <th>lower_error</th>\n",
       "      <th>upper_error</th>\n",
       "      <th>matched_pairs_of_situations</th>\n",
       "      <th>type</th>\n",
       "    </tr>\n",
       "  </thead>\n",
       "  <tbody>\n",
       "    <tr>\n",
       "      <th>0</th>\n",
       "      <td>0.278454</td>\n",
       "      <td>0.039012</td>\n",
       "      <td>0.239442</td>\n",
       "      <td>0.220830</td>\n",
       "      <td>0.258053</td>\n",
       "      <td>2794.0</td>\n",
       "      <td>condiment</td>\n",
       "    </tr>\n",
       "    <tr>\n",
       "      <th>6</th>\n",
       "      <td>0.378073</td>\n",
       "      <td>0.193205</td>\n",
       "      <td>0.184869</td>\n",
       "      <td>0.171890</td>\n",
       "      <td>0.196795</td>\n",
       "      <td>9477.0</td>\n",
       "      <td>soup</td>\n",
       "    </tr>\n",
       "    <tr>\n",
       "      <th>2</th>\n",
       "      <td>0.324122</td>\n",
       "      <td>0.180815</td>\n",
       "      <td>0.143308</td>\n",
       "      <td>0.132682</td>\n",
       "      <td>0.153514</td>\n",
       "      <td>12051.0</td>\n",
       "      <td>fruit</td>\n",
       "    </tr>\n",
       "    <tr>\n",
       "      <th>4</th>\n",
       "      <td>0.188636</td>\n",
       "      <td>0.059470</td>\n",
       "      <td>0.129167</td>\n",
       "      <td>0.112869</td>\n",
       "      <td>0.145833</td>\n",
       "      <td>2640.0</td>\n",
       "      <td>salad</td>\n",
       "    </tr>\n",
       "    <tr>\n",
       "      <th>3</th>\n",
       "      <td>0.361576</td>\n",
       "      <td>0.244587</td>\n",
       "      <td>0.116989</td>\n",
       "      <td>0.106522</td>\n",
       "      <td>0.127392</td>\n",
       "      <td>13856.0</td>\n",
       "      <td>pastry</td>\n",
       "    </tr>\n",
       "    <tr>\n",
       "      <th>1</th>\n",
       "      <td>0.165970</td>\n",
       "      <td>0.059183</td>\n",
       "      <td>0.106787</td>\n",
       "      <td>0.091018</td>\n",
       "      <td>0.121912</td>\n",
       "      <td>3109.0</td>\n",
       "      <td>dessert</td>\n",
       "    </tr>\n",
       "    <tr>\n",
       "      <th>5</th>\n",
       "      <td>0.189340</td>\n",
       "      <td>0.088760</td>\n",
       "      <td>0.100580</td>\n",
       "      <td>0.085861</td>\n",
       "      <td>0.114853</td>\n",
       "      <td>4484.0</td>\n",
       "      <td>soft drink</td>\n",
       "    </tr>\n",
       "  </tbody>\n",
       "</table>\n",
       "</div>"
      ],
      "text/plain": [
       "   treated_p  control_p       ATE  lower_error  upper_error  \\\n",
       "0   0.278454   0.039012  0.239442     0.220830     0.258053   \n",
       "6   0.378073   0.193205  0.184869     0.171890     0.196795   \n",
       "2   0.324122   0.180815  0.143308     0.132682     0.153514   \n",
       "4   0.188636   0.059470  0.129167     0.112869     0.145833   \n",
       "3   0.361576   0.244587  0.116989     0.106522     0.127392   \n",
       "1   0.165970   0.059183  0.106787     0.091018     0.121912   \n",
       "5   0.189340   0.088760  0.100580     0.085861     0.114853   \n",
       "\n",
       "   matched_pairs_of_situations        type  \n",
       "0                       2794.0   condiment  \n",
       "6                       9477.0        soup  \n",
       "2                      12051.0       fruit  \n",
       "4                       2640.0       salad  \n",
       "3                      13856.0      pastry  \n",
       "1                       3109.0     dessert  \n",
       "5                       4484.0  soft drink  "
      ]
     },
     "execution_count": 32,
     "metadata": {},
     "output_type": "execute_result"
    }
   ],
   "source": [
    "df_plot = pd.DataFrame(list_viz)\n",
    "df_plot['type'] = additions['LUNCH']\n",
    "df_plot.sort_values(by = 'ATE', ascending = False)"
   ]
  },
  {
   "cell_type": "code",
   "execution_count": 33,
   "metadata": {},
   "outputs": [
    {
     "data": {
      "text/plain": [
       "Text(0, 0.5, 'Food item')"
      ]
     },
     "execution_count": 33,
     "metadata": {},
     "output_type": "execute_result"
    },
    {
     "data": {
      "image/png": "[encoded data removed]",
      "text/plain": [
       "<Figure size 288x576 with 1 Axes>"
      ]
     },
     "metadata": {
      "needs_background": "light"
     },
     "output_type": "display_data"
    }
   ],
   "source": [
    "fix, axes = plt.subplots(1,1, figsize = (4,8))\n",
    "\n",
    "types = []\n",
    "\n",
    "c = 0\n",
    "for cnt,row in df_plot.sort_values(by = 'ATE', ascending = False).iterrows():\n",
    "    plt.hlines(11-cnt, -1,4, color = 'gray', linestyle = '--')\n",
    "    plt.errorbar([row['ATE']],[11-c], xerr = (np.array([row['ATE'] - row['lower_error']]), np.array([row['upper_error']- row['ATE']])),\n",
    "                 fmt = '|', markersize= 8,color = 'tab:blue', linewidth = 3)\n",
    "    types.append(row['type'])\n",
    "    c+=1\n",
    "plt.yticks(11-np.array(range(len(additions['LUNCH']))), [i.replace('_',' ').capitalize() for i in types]);\n",
    "\n",
    "plt.xlim([-0.1,0.3])\n",
    "\n",
    "plt.vlines(0,4.5,11.5, linestyle = '--')\n",
    "\n",
    "plt.xlabel('RD', fontsize =12)\n",
    "plt.ylabel('Food item')\n"
   ]
  },
  {
   "cell_type": "markdown",
   "metadata": {},
   "source": [
    "### b.2) per meal"
   ]
  },
  {
   "cell_type": "code",
   "execution_count": 34,
   "metadata": {},
   "outputs": [
    {
     "name": "stdout",
     "output_type": "stream",
     "text": [
      "BREAKFAST ATE = 9.39 %\n",
      "LUNCH ATE = 15.33 %\n",
      "AFTERNOON SNACK ATE = 16.72 %\n"
     ]
    }
   ],
   "source": [
    "list_viz = []\n",
    "\n",
    "for meal in additions.keys():\n",
    "    df_tmp = df.loc[(df['MEAL']==meal)]\n",
    "    \n",
    "    treated_p = df_tmp.loc[df_tmp['exposure']==1]['outcome'].value_counts(normalize = True)[1]\n",
    "    control_p = df_tmp.loc[df_tmp['exposure']==0]['outcome'].value_counts(normalize = True)[1]\n",
    "\n",
    "    print(meal, 'ATE =', round(100*(treated_p - control_p),2),'%')\n",
    "    \n",
    "    entry = {}\n",
    "\n",
    "    entry['treated_p'] = treated_p\n",
    "    entry['control_p'] = control_p\n",
    "\n",
    "    entry['ATE'] = treated_p - control_p\n",
    "    \n",
    "    ys = []\n",
    "    for iteration in range(1000):\n",
    "        pos_tmp = df_tmp.loc[df_tmp['exposure']==1].sample(len(df_tmp.loc[df_tmp['exposure']==1]), replace = True)['outcome'].value_counts(normalize = True)[1]\n",
    "        neg_tmp = df_tmp.loc[df_tmp['exposure']==0].sample(len(df_tmp.loc[df_tmp['exposure']==1]), replace = True)['outcome'].value_counts(normalize = True)[1]   \n",
    "\n",
    "        y_tmp = pos_tmp - neg_tmp\n",
    "\n",
    "        ys.append(y_tmp)\n",
    "\n",
    "    entry['lower_error'] = (np.percentile(np.array(ys), 2.5))\n",
    "    entry['upper_error'] = (np.percentile(np.array(ys),97.5))\n",
    "\n",
    "    entry['matched_pairs_of_situations'] = len(df_tmp)/2\n",
    "    \n",
    "    entry['meal'] = meal\n",
    "    \n",
    "    list_viz.append(entry)\n",
    "    "
   ]
  },
  {
   "cell_type": "code",
   "execution_count": 35,
   "metadata": {},
   "outputs": [],
   "source": [
    "# interesting: most affected time of day/type of meal\" afternoon snack"
   ]
  },
  {
   "cell_type": "markdown",
   "metadata": {},
   "source": [
    "### b.3) per meal x food type"
   ]
  },
  {
   "cell_type": "code",
   "execution_count": 36,
   "metadata": {},
   "outputs": [
    {
     "name": "stdout",
     "output_type": "stream",
     "text": [
      "BREAKFAST dessert ATE = 5.5 %\n",
      "BREAKFAST fruit ATE = 7.25 %\n",
      "BREAKFAST pastry ATE = 9.78 %\n",
      "LUNCH condiment ATE = 23.94 %\n",
      "LUNCH dessert ATE = 12.91 %\n",
      "LUNCH fruit ATE = 14.83 %\n",
      "LUNCH pastry ATE = 11.6 %\n",
      "LUNCH salad ATE = 12.92 %\n",
      "LUNCH soft drink ATE = 10.06 %\n",
      "LUNCH soup ATE = 18.49 %\n",
      "AFTERNOON SNACK dessert ATE = 7.78 %\n",
      "AFTERNOON SNACK fruit ATE = 8.58 %\n",
      "AFTERNOON SNACK pastry ATE = 21.06 %\n"
     ]
    }
   ],
   "source": [
    "list_viz = []\n",
    "\n",
    "for meal in ['BREAKFAST', 'LUNCH', 'AFTERNOON SNACK']:\n",
    "    for addition in additions[meal]:\n",
    "        df_tmp = df.loc[(df['MEAL']==meal) & (df['addition']==addition)]\n",
    "\n",
    "        try:\n",
    "            treated_p = df_tmp.loc[df_tmp['exposure']==1]['outcome'].value_counts(normalize = True)[1]\n",
    "            control_p = df_tmp.loc[df_tmp['exposure']==0]['outcome'].value_counts(normalize = True)[1]\n",
    "        except:\n",
    "            print(meal, addition)\n",
    "            continue\n",
    "        \n",
    "        print(meal, addition,  'ATE =', round(100*(treated_p - control_p),2),'%')\n",
    "\n",
    "        entry = {}\n",
    "\n",
    "        entry['ATE'] = treated_p - control_p\n",
    "        \n",
    "        entry['RR'] = treated_p/control_p\n",
    "\n",
    "        ys = []\n",
    "        ys_rr = []\n",
    "        for iteration in range(1000):\n",
    "            try:\n",
    "                pos_tmp = df_tmp.loc[df_tmp['exposure']==1].sample(len(df_tmp.loc[df_tmp['exposure']==1]), replace = True)['outcome'].value_counts(normalize = True)[1]\n",
    "                neg_tmp = df_tmp.loc[df_tmp['exposure']==0].sample(len(df_tmp.loc[df_tmp['exposure']==1]), replace = True)['outcome'].value_counts(normalize = True)[1]   \n",
    "            except:\n",
    "                continue\n",
    "            y_tmp = pos_tmp - neg_tmp\n",
    "\n",
    "            ys.append(y_tmp)\n",
    "            ys_rr.append(pos_tmp/neg_tmp)\n",
    "\n",
    "        entry['lower_error'] = (np.percentile(np.array(ys), 2.5))\n",
    "        entry['upper_error'] = (np.percentile(np.array(ys),97.5))\n",
    "\n",
    "        entry['lower_error_rr'] = (np.percentile(np.array(ys_rr), 2.5))\n",
    "        entry['upper_error_rr'] = (np.percentile(np.array(ys_rr),97.5))\n",
    "\n",
    "        entry['meal'] = meal\n",
    "        entry['addition'] = addition\n",
    "\n",
    "        list_viz.append(entry)"
   ]
  },
  {
   "cell_type": "code",
   "execution_count": 37,
   "metadata": {},
   "outputs": [],
   "source": [
    "df_plot = pd.DataFrame(list_viz)"
   ]
  },
  {
   "cell_type": "code",
   "execution_count": 38,
   "metadata": {},
   "outputs": [],
   "source": [
    "randomized = pd.read_pickle('randomized_estimates')\n",
    "reverse = pd.read_pickle('reversed_estimates')"
   ]
  },
  {
   "cell_type": "code",
   "execution_count": 39,
   "metadata": {},
   "outputs": [
    {
     "data": {
      "image/png": "[encoded data removed]",
      "text/plain": [
       "<Figure size 576x432 with 3 Axes>"
      ]
     },
     "metadata": {
      "needs_background": "light"
     },
     "output_type": "display_data"
    }
   ],
   "source": [
    "plt.figure(figsize = (8,6))\n",
    "\n",
    "for cnt,meal in enumerate(['LUNCH', 'BREAKFAST','AFTERNOON SNACK']):\n",
    "    if cnt==0:\n",
    "        sbplt = plt.subplot(2,2,(1,3))\n",
    "        sbplt.set_ylim([-0.5,6.5])\n",
    "    if cnt==1:\n",
    "        sbplt = plt.subplot(2,2,2)\n",
    "        sbplt.set_ylim([-0.5,2.5])\n",
    "    if cnt==2:\n",
    "        sbplt = plt.subplot(2,2,4)\n",
    "        sbplt.set_ylim([-0.5,2.5])\n",
    "        \n",
    "    types = []\n",
    "\n",
    "    c = 0\n",
    "    \n",
    "    if meal =='LUNCH':\n",
    "        color= 'tab:blue'\n",
    "    else:\n",
    "        color = 'tab:orange'\n",
    "        \n",
    "    for cnt,row in (df_plot.loc[df_plot['meal']==meal]).sort_values(by = 'ATE', ascending = True).reset_index().iterrows():\n",
    "        sbplt.hlines(cnt, -1,4, color = 'gray', linestyle = '--')\n",
    "        \n",
    "        sbplt.errorbar([row['ATE']],[c+0.1], xerr = (np.array([row['ATE'] - row['lower_error']]), \n",
    "                     np.array([row['upper_error']- row['ATE']])),\n",
    "                     fmt = '|', markersize= 8,color = color, linewidth = 3)\n",
    "        \n",
    "        baseline = randomized.loc[(randomized['meal']==meal) & (randomized['addition']==row['addition'])].iloc[0]\n",
    "        \n",
    "        if meal=='BREAKFAST' and cnt==0:\n",
    "            sbplt.errorbar([baseline['ATE']],[c-0.1], xerr = (np.array([baseline['ATE'] - baseline['lower_error']]), \n",
    "                     np.array([baseline['upper_error']- baseline['ATE']])),\n",
    "                     fmt = '|', markersize= 8,color = 'black', linewidth = 3, label = 'Randomized\\n queues')\n",
    "            sbplt.legend(loc = 'upper right')\n",
    "        else:\n",
    "            sbplt.errorbar([baseline['ATE']],[c-0.1], xerr = (np.array([baseline['ATE'] - baseline['lower_error']]), \n",
    "                     np.array([baseline['upper_error']- baseline['ATE']])),\n",
    "                     fmt = '|', markersize= 8,color = 'black', linewidth = 3)\n",
    "        \n",
    "        r = reverse.loc[(randomized['meal']==meal) & (reverse['addition']==row['addition'])].iloc[0]\n",
    "        \n",
    "        '''\n",
    "        if meal=='BREAKFAST' and cnt==0:\n",
    "            sbplt.errorbar([r['ATE']],[c-0], xerr = (np.array([r['ATE'] - r['lower_error']]), \n",
    "                     np.array([r['upper_error']- r['ATE']])),\n",
    "                     fmt = '|', markersize= 8,color = 'gray', linewidth = 3, label = 'Reversed\\n queues')\n",
    "            sbplt.legend(loc = 'upper right')\n",
    "        else:\n",
    "            sbplt.errorbar([r['ATE']],[c-0], xerr = (np.array([r['ATE'] - r['lower_error']]), \n",
    "                     np.array([r['upper_error']- r['ATE']])),\n",
    "                     fmt = '|', markersize= 8,color = 'gray', linewidth = 3)\n",
    "        \n",
    "        '''\n",
    "        types.append(row['addition'])\n",
    "        \n",
    "        c+=1\n",
    "        \n",
    "    sbplt.set_yticks(np.array(range(len(additions[meal]))))\n",
    "    sbplt.set_yticklabels([i.replace('_',' ').capitalize() for i in types])\n",
    "\n",
    "    sbplt.set_xlim([-0.1,0.35])\n",
    "    \n",
    "\n",
    "    sbplt.vlines(0,-1,7, linestyle = '--')\n",
    "\n",
    "    if meal!='BREAKFAST':\n",
    "        sbplt.set_xlabel('Risk diference (RD)', fontsize =12)\n",
    "    \n",
    "\n",
    "        \n",
    "    if meal =='AFTERNOON SNACK':\n",
    "        sbplt.set_title('AFTERNOON/EVENING SNACK'.lower().capitalize()+'\\n('+times[meal]+')')\n",
    "    else:\n",
    "        sbplt.set_title(meal.lower().capitalize()+'\\n('+times[meal]+')')\n",
    "    \n",
    "    if meal == 'LUNCH':\n",
    "        sbplt.set_ylabel('Food item')\n",
    "   \n",
    "plt.tight_layout()\n",
    "\n",
    "plt.text(x = -0.57, y = -1.7, s='Anchor: meal', fontsize= 14, color = 'tab:blue') \n",
    "plt.text(x = -0.05, y = -1.7, s='Anchor: coffee or tea', fontsize= 14, color = 'tab:orange') \n",
    "\n",
    "\n",
    "plt.savefig('figures/fig2.pdf', bbox_inches='tight')"
   ]
  },
  {
   "cell_type": "markdown",
   "metadata": {},
   "source": [
    "### Relative version"
   ]
  },
  {
   "cell_type": "code",
   "execution_count": 40,
   "metadata": {},
   "outputs": [
    {
     "data": {
      "image/png": "[encoded data removed]",
      "text/plain": [
       "<Figure size 576x432 with 3 Axes>"
      ]
     },
     "metadata": {
      "needs_background": "light"
     },
     "output_type": "display_data"
    }
   ],
   "source": [
    "plt.figure(figsize = (8,6))\n",
    "\n",
    "for cnt,meal in enumerate(['LUNCH', 'BREAKFAST','AFTERNOON SNACK']):\n",
    "    if cnt==0:\n",
    "        sbplt = plt.subplot(2,2,(1,3))\n",
    "        sbplt.set_ylim([-0.5,6.5])\n",
    "    if cnt==1:\n",
    "        sbplt = plt.subplot(2,2,2)\n",
    "        sbplt.set_ylim([-0.5,2.5])\n",
    "    if cnt==2:\n",
    "        sbplt = plt.subplot(2,2,4)\n",
    "        sbplt.set_ylim([-0.5,2.5])\n",
    "        \n",
    "    types = []\n",
    "\n",
    "    c = 0\n",
    "    \n",
    "    if meal =='LUNCH':\n",
    "        color= 'tab:blue'\n",
    "    else:\n",
    "        color = 'tab:orange'\n",
    "        \n",
    "    for cnt,row in (df_plot.loc[df_plot['meal']==meal]).sort_values(by = 'ATE', ascending = True).reset_index().iterrows():\n",
    "        sbplt.hlines(cnt, -1,10, color = 'gray', linestyle = '--')\n",
    "        \n",
    "        sbplt.errorbar([row['RR']],[c+0.1], xerr = (np.array([row['RR'] - row['lower_error_rr']]), \n",
    "                     np.array([row['upper_error_rr']- row['RR']])),\n",
    "                     fmt = '|', markersize= 8,color = color, linewidth = 3)\n",
    "        \n",
    "        baseline = randomized.loc[(randomized['meal']==meal) & (randomized['addition']==row['addition'])].iloc[0]\n",
    "        \n",
    "        if meal=='BREAKFAST' and cnt==0:\n",
    "            sbplt.errorbar([baseline['RR']],[c-0.1], xerr = (np.array([baseline['RR'] - baseline['lower_error_rr']]), \n",
    "                     np.array([baseline['upper_error_rr']- baseline['RR']])),\n",
    "                     fmt = '|', markersize= 8,color = 'black', linewidth = 3, label = 'Randomized\\n queues')\n",
    "            sbplt.legend(loc = 'upper right')\n",
    "        else:\n",
    "            sbplt.errorbar([baseline['RR']],[c-0.1], xerr = (np.array([baseline['RR'] - baseline['lower_error_rr']]), \n",
    "                     np.array([baseline['upper_error_rr']- baseline['RR']])),\n",
    "                     fmt = '|', markersize= 8,color = 'black', linewidth = 3)\n",
    "        \n",
    "        '''\n",
    "        r = reverse.loc[(randomized['meal']==meal) & (reverse['addition']==row['addition'])].iloc[0]\n",
    "        \n",
    "        if meal=='BREAKFAST' and cnt==0:\n",
    "            sbplt.errorbar([r['RR']],[c-0], xerr = (np.array([r['RR'] - r['lower_error_rr']]), \n",
    "                     np.array([r['upper_error_rr']- r['RR']])),\n",
    "                     fmt = '|', markersize= 8,color = 'gray', linewidth = 3, label = 'Reversed\\n queues')\n",
    "            sbplt.legend(loc = 'upper right')\n",
    "        else:\n",
    "            sbplt.errorbar([r['RR']],[c-0], xerr = (np.array([r['RR'] - r['lower_error_rr']]), \n",
    "                     np.array([r['upper_error_rr']- r['RR']])),\n",
    "                     fmt = '|', markersize= 8,color = 'gray', linewidth = 3)\n",
    "        '''\n",
    "        types.append(row['addition'])\n",
    "        c+=1\n",
    "        \n",
    "    sbplt.set_yticks(np.array(range(len(additions[meal]))))\n",
    "    sbplt.set_yticklabels([i.replace('_',' ').capitalize() for i in types])\n",
    "\n",
    "    sbplt.set_xlim([-1,9])\n",
    "    \n",
    "\n",
    "    #sbplt.vlines(0,-1,7, linestyle = '--')\n",
    "    sbplt.vlines(1,-1,len(types)+2, linestyle = '--')\n",
    "    if meal!='BREAKFAST':\n",
    "        sbplt.set_xlabel('Relative risk (RR)', fontsize =12)\n",
    "    \n",
    "\n",
    "        \n",
    "    if meal =='AFTERNOON SNACK':\n",
    "        sbplt.set_title('AFTERNOON/EVENING SNACK'.lower().capitalize()+'\\n('+times[meal]+')')\n",
    "    else:\n",
    "        sbplt.set_title(meal.lower().capitalize()+'\\n('+times[meal]+')')\n",
    "    \n",
    "    if meal == 'LUNCH':\n",
    "        sbplt.set_ylabel('Food item')\n",
    "   \n",
    "plt.tight_layout()\n",
    "\n",
    "plt.text(x = -11, y = -1.7, s='Anchor: meal', fontsize= 14, color = 'tab:blue') \n",
    "plt.text(x = 0.5, y = -1.7, s='Anchor: coffee or tea', fontsize= 14, color = 'tab:orange') \n",
    "\n",
    "plt.savefig('figures/fig3.pdf', bbox_inches='tight')\n"
   ]
  },
  {
   "cell_type": "code",
   "execution_count": 41,
   "metadata": {},
   "outputs": [],
   "source": [
    "## same additions, with same anchor, more mimycry in the afternoon"
   ]
  },
  {
   "cell_type": "markdown",
   "metadata": {},
   "source": [
    "### Sensitivity analysis per food type"
   ]
  },
  {
   "cell_type": "code",
   "execution_count": 42,
   "metadata": {},
   "outputs": [],
   "source": [
    "for meal in ['BREAKFAST', 'LUNCH', 'AFTERNOON SNACK']:\n",
    "    for addition in additions[meal]:\n",
    "        pos = pd.read_pickle('tmp/pos_' + addition +'_' +meal+'.pkl')\n",
    "        neg = pd.read_pickle('tmp/neg_' + addition +'_' +meal+'.pkl')\n",
    "\n",
    "        tmp_df = pd.DataFrame()\n",
    "        tmp_df['treated'] = pos['outcome'].values\n",
    "        tmp_df['control'] = neg['outcome'].values\n",
    "\n",
    "        tmp_df.to_csv('tmp/table_'+meal+addition+'.csv',index=False)\n"
   ]
  },
  {
   "cell_type": "code",
   "execution_count": 43,
   "metadata": {},
   "outputs": [],
   "source": [
    "def amplify(l,G):\n",
    "    return (l*G - 1)/(l - G)"
   ]
  },
  {
   "cell_type": "code",
   "execution_count": 44,
   "metadata": {},
   "outputs": [
    {
     "data": {
      "text/plain": [
       "1.6144578313253009"
      ]
     },
     "execution_count": 44,
     "metadata": {},
     "output_type": "execute_result"
    }
   ],
   "source": [
    "amplify(l = 2, G = 1.17)"
   ]
  },
  {
   "cell_type": "code",
   "execution_count": 45,
   "metadata": {},
   "outputs": [
    {
     "data": {
      "text/plain": [
       "['condiment', 'dessert', 'fruit', 'pastry', 'salad', 'soft drink', 'soup']"
      ]
     },
     "execution_count": 45,
     "metadata": {},
     "output_type": "execute_result"
    }
   ],
   "source": [
    "additions['LUNCH']"
   ]
  },
  {
   "cell_type": "code",
   "execution_count": 46,
   "metadata": {},
   "outputs": [],
   "source": [
    "gammas = {'condiment': 7.22,\n",
    "    'dessert': 2.61,\n",
    "    'fruit': 1.98,\n",
    "    'pastry': 2.62,\n",
    "    'salad': 2.89,\n",
    "    'soft_drink': 2.03,\n",
    "    'soup': 2.28}"
   ]
  },
  {
   "cell_type": "code",
   "execution_count": 47,
   "metadata": {},
   "outputs": [],
   "source": [
    "sorted_values = dict(sorted(gammas.items(), key=lambda item: item[1], reverse = True)).keys()"
   ]
  },
  {
   "cell_type": "code",
   "execution_count": 48,
   "metadata": {},
   "outputs": [],
   "source": [
    "import matplotlib.patches as mpatches"
   ]
  },
  {
   "cell_type": "code",
   "execution_count": 49,
   "metadata": {},
   "outputs": [
    {
     "data": {
      "image/png": "[encoded data removed]",
      "text/plain": [
       "<Figure size 504x511.2 with 9 Axes>"
      ]
     },
     "metadata": {
      "needs_background": "light"
     },
     "output_type": "display_data"
    }
   ],
   "source": [
    "import matplotlib\n",
    "matplotlib.rcParams['pdf.fonttype'] = 42\n",
    "matplotlib.rcParams['ps.fonttype'] = 42\n",
    "\n",
    "fig, ax = plt.subplots(3,3,figsize= (7,7.1))\n",
    "\n",
    "for i,addition in enumerate(sorted_values):\n",
    "    sbplt = ax[ int(i/3), i%3]\n",
    "    \n",
    "    \n",
    "    sbplt.set_title(addition.replace(\"_\",\" \").capitalize(), fontsize= 14)\n",
    "    \n",
    "    x = np.linspace(gammas[addition]+0.01, 20, 100)\n",
    "    y = [amplify(i, gammas[addition]) for i in x]\n",
    "    sbplt.plot(x,y, color = 'black')\n",
    "    \n",
    "    sbplt.hlines(gammas[addition], 0, 20, linestyle = '--', label = 'Γ='+str(gammas[addition]), color = 'gray')\n",
    "    sbplt.vlines(gammas[addition], 0, 20, linestyle = '--', color = 'gray')\n",
    "    sbplt.grid(True, color = 'lightgray')\n",
    "    \n",
    "    sbplt.set_xlim([0,20])\n",
    "    sbplt.set_ylim([0,20])\n",
    "    \n",
    "    sbplt.set_xlabel('Λ')\n",
    "    sbplt.set_ylabel('Δ', rotation = 0)\n",
    "\n",
    "    sbplt.set_xticks([0,5,10,15,20])\n",
    "    sbplt.set_yticks([0,5,10,15,20])\n",
    "    \n",
    "    #sbplt.text(1.3,1.5,'max p > 0.05', color = 'teal')\n",
    "    #sbplt.text(15,15,'max p < 0.05', color = 'brown')\n",
    "    \n",
    "    sbplt.fill_between(x, y, 20, alpha = 0.2,color = 'lightsalmon')\n",
    "\n",
    "    sbplt.fill_between(x, y, color = 'lightblue', alpha = 0.3)\n",
    "    sbplt.fill_between([0,gammas[addition]+0.01],[20,20], color = 'lightblue', alpha = 0.3)\n",
    "    sbplt.legend(loc = 'upper right', fontsize= 12)\n",
    "    \n",
    "sbplt = ax[2, 2]\n",
    "\n",
    "sbplt.set_xticks([])\n",
    "sbplt.set_yticks([])\n",
    "\n",
    "sbplt.spines[\"right\"].set_visible(False)\n",
    "sbplt.spines[\"left\"].set_visible(False)\n",
    "sbplt.spines[\"top\"].set_visible(False)\n",
    "sbplt.spines[\"bottom\"].set_visible(False)\n",
    "\n",
    "\n",
    "sbplt = ax[2, 1]\n",
    "\n",
    "sbplt.set_xticks([])\n",
    "sbplt.set_yticks([])\n",
    "\n",
    "sbplt.spines[\"right\"].set_visible(False)\n",
    "sbplt.spines[\"left\"].set_visible(False)\n",
    "sbplt.spines[\"top\"].set_visible(False)\n",
    "sbplt.spines[\"bottom\"].set_visible(False)\n",
    "\n",
    "red_patch = mpatches.Patch(alpha = 0.3, color = 'lightsalmon', label='max p > 0.05')\n",
    "blue_patch = mpatches.Patch(alpha = 0.3, color = 'lightblue', label='max p < 0.05')\n",
    "\n",
    "plt.tight_layout()\n",
    "\n",
    "fig.legend(handles=[red_patch, blue_patch], bbox_to_anchor = (0.75,0.23), fontsize= 13)\n",
    "\n",
    "\n",
    "plt.savefig('figures/fig4.pdf', bbox_inches='tight')"
   ]
  },
  {
   "cell_type": "code",
   "execution_count": 50,
   "metadata": {},
   "outputs": [],
   "source": [
    "gammas_breakfast = {'dessert': 3.31,\n",
    "    'fruit': 3.38,\n",
    "    'pastry': 1.43}\n",
    "\n",
    "gammas_snack = {'dessert': 1.74,\n",
    "    'fruit': 1.49,\n",
    "    'pastry': 2.68}\n",
    "\n",
    "sorted_values_br = dict(sorted(gammas_breakfast.items(), key=lambda item: item[1], reverse = True)).keys()\n",
    "sorted_values_sn = dict(sorted(gammas_snack.items(), key=lambda item: item[1], reverse = True)).keys()"
   ]
  },
  {
   "cell_type": "code",
   "execution_count": 51,
   "metadata": {},
   "outputs": [
    {
     "data": {
      "image/png": "[encoded data removed]",
      "text/plain": [
       "<Figure size 180x511.2 with 3 Axes>"
      ]
     },
     "metadata": {
      "needs_background": "light"
     },
     "output_type": "display_data"
    }
   ],
   "source": [
    "import matplotlib\n",
    "matplotlib.rcParams['pdf.fonttype'] = 42\n",
    "matplotlib.rcParams['ps.fonttype'] = 42\n",
    "\n",
    "fig, ax = plt.subplots(3,1,figsize= (2.5,7.1))\n",
    "\n",
    "for i,addition in enumerate(sorted_values_br):\n",
    "    sbplt = ax[i]\n",
    "    \n",
    "    sbplt.set_title(addition.replace(\"_\",\" \").capitalize(), fontsize= 14)\n",
    "    \n",
    "    x = np.linspace(gammas_breakfast[addition]+0.01, 20, 100)\n",
    "    y = [amplify(i, gammas_breakfast[addition]) for i in x]\n",
    "    sbplt.plot(x,y, color = 'black')\n",
    "    \n",
    "    sbplt.hlines(gammas_breakfast[addition], 0, 20, linestyle = '--', label = 'Γ='+str(gammas_breakfast[addition]), color = 'gray')\n",
    "    sbplt.vlines(gammas_breakfast[addition], 0, 20, linestyle = '--', color = 'gray')\n",
    "    sbplt.grid(True, color = 'lightgray')\n",
    "    \n",
    "    sbplt.set_xlim([0,20])\n",
    "    sbplt.set_ylim([0,20])\n",
    "    \n",
    "    sbplt.set_xlabel('Λ')\n",
    "    sbplt.set_ylabel('Δ', rotation = 0)\n",
    "\n",
    "    sbplt.set_xticks([0,5,10,15,20])\n",
    "    sbplt.set_yticks([0,5,10,15,20])\n",
    "    \n",
    "    #sbplt.text(1.3,1.5,'max p > 0.05', color = 'teal')\n",
    "    #sbplt.text(15,15,'max p < 0.05', color = 'brown')\n",
    "    \n",
    "    sbplt.fill_between(x, y, 20, alpha = 0.2,color = 'lightsalmon')\n",
    "\n",
    "    sbplt.fill_between(x, y, color = 'lightblue', alpha = 0.3)\n",
    "    sbplt.fill_between([0,gammas_breakfast[addition]+0.01],[20,20], color = 'lightblue', alpha = 0.3)\n",
    "    sbplt.legend(loc = 'upper right', fontsize= 12)\n",
    "\n",
    "\n",
    "plt.tight_layout()\n",
    "\n",
    "plt.savefig('figures/fig5.pdf', bbox_inches='tight')"
   ]
  },
  {
   "cell_type": "code",
   "execution_count": 52,
   "metadata": {},
   "outputs": [
    {
     "data": {
      "image/png": "[encoded data removed]",
      "text/plain": [
       "<Figure size 180x511.2 with 3 Axes>"
      ]
     },
     "metadata": {
      "needs_background": "light"
     },
     "output_type": "display_data"
    }
   ],
   "source": [
    "matplotlib.rcParams['pdf.fonttype'] = 42\n",
    "matplotlib.rcParams['ps.fonttype'] = 42\n",
    "\n",
    "fig, ax = plt.subplots(3,1, figsize= (2.5, 7.1))\n",
    "\n",
    "for i,addition in enumerate(sorted_values_sn):\n",
    "    sbplt = ax[i]\n",
    "    \n",
    "    sbplt.set_title(addition.replace(\"_\",\" \").capitalize(), fontsize= 14)\n",
    "    \n",
    "    x = np.linspace(gammas_snack[addition]+0.01, 20, 100)\n",
    "    y = [amplify(i, gammas_snack[addition]) for i in x]\n",
    "    sbplt.plot(x,y, color = 'black')\n",
    "    \n",
    "    sbplt.hlines(gammas_snack[addition], 0, 20, linestyle = '--', label = 'Γ='+str(gammas_snack[addition]), color = 'gray')\n",
    "    sbplt.vlines(gammas_snack[addition], 0, 20, linestyle = '--', color = 'gray')\n",
    "    sbplt.grid(True, color = 'lightgray')\n",
    "    \n",
    "    sbplt.set_xlim([0,20])\n",
    "    sbplt.set_ylim([0,20])\n",
    "    \n",
    "    sbplt.set_xlabel('Λ')\n",
    "    sbplt.set_ylabel('Δ', rotation = 0)\n",
    "\n",
    "    sbplt.set_xticks([0,5,10,15,20])\n",
    "    sbplt.set_yticks([0,5,10,15,20])\n",
    "    \n",
    "    #sbplt.text(1.3,1.5,'max p > 0.05', color = 'teal')\n",
    "    #sbplt.text(15,15,'max p < 0.05', color = 'brown')\n",
    "    \n",
    "    sbplt.fill_between(x, y, 20, alpha = 0.2,color = 'lightsalmon')\n",
    "\n",
    "    sbplt.fill_between(x, y, color = 'lightblue', alpha = 0.3)\n",
    "    sbplt.fill_between([0,gammas_snack[addition]+0.01],[20,20], color = 'lightblue', alpha = 0.3)\n",
    "    sbplt.legend(loc = 'upper right', fontsize= 12)\n",
    "\n",
    "\n",
    "plt.tight_layout()\n",
    "\n",
    "plt.savefig('figures/fig6.pdf', bbox_inches='tight')"
   ]
  },
  {
   "cell_type": "markdown",
   "metadata": {},
   "source": [
    "### c) Per shop"
   ]
  },
  {
   "cell_type": "code",
   "execution_count": 53,
   "metadata": {},
   "outputs": [
    {
     "name": "stdout",
     "output_type": "stream",
     "text": [
      "Cafeteria ELA\n",
      "ATE = 8.21 %\n",
      "Arcadie\n",
      "ATE = 18.57 %\n",
      "Atlantide\n",
      "ATE = 7.33 %\n",
      "Ornithorynque\n",
      "ATE = 13.05 %\n",
      "Cafeteria BC\n",
      "ATE = 12.44 %\n",
      "Corbusier\n",
      "ATE = 22.74 %\n",
      "Esplanade\n",
      "ATE = 20.51 %\n",
      "Le Klee by Takinoa\n",
      "ATE = 17.18 %\n",
      "Puur\n",
      "ATE = 14.31 %\n",
      "Parmentier\n",
      "ATE = 14.5 %\n",
      "Vinci\n",
      "ATE = 13.45 %\n"
     ]
    }
   ],
   "source": [
    "list_viz = []\n",
    "\n",
    "for shop in df['shop'].unique():\n",
    "    \n",
    "    print(shop)\n",
    "    df_tmp = df.loc[df['shop'] == shop]\n",
    "\n",
    "    try:\n",
    "        treated_p = df_tmp.loc[df_tmp['exposure']==1]['outcome'].value_counts(normalize = True)[1]\n",
    "        control_p = df_tmp.loc[df_tmp['exposure']==0]['outcome'].value_counts(normalize = True)[1]\n",
    "    except KeyError as e:\n",
    "        continue\n",
    "        print('skipping', shop, ', no instances')\n",
    "        \n",
    "    print('ATE =', round(100*(treated_p - control_p),2),'%')\n",
    "    \n",
    "    entry = {}\n",
    "\n",
    "    entry['treated_p'] = treated_p\n",
    "    entry['control_p'] = control_p\n",
    "\n",
    "    entry['ATE'] = treated_p - control_p\n",
    "    \n",
    "    ys = []\n",
    "    for iteration in range(1000):\n",
    "        try:\n",
    "            pos_tmp = df_tmp.loc[df_tmp['exposure']==1].sample(len(df_tmp.loc[df_tmp['exposure']==1]), replace = True)['outcome'].value_counts(normalize = True)[1]   \n",
    "        except KeyError as e:\n",
    "            pos_tmp = 0\n",
    "        \n",
    "        try:\n",
    "            neg_tmp = df_tmp.loc[df_tmp['exposure']==0].sample(len(df_tmp.loc[df_tmp['exposure']==1]), replace = True)['outcome'].value_counts(normalize = True)[1]\n",
    "        except KeyError as e:\n",
    "            neg_tmp = 0\n",
    "       \n",
    "        y_tmp = pos_tmp - neg_tmp\n",
    "\n",
    "        ys.append(y_tmp)\n",
    "\n",
    "    entry['lower_error'] = (np.percentile(np.array(ys), 2.5))\n",
    "    entry['upper_error'] = (np.percentile(np.array(ys),97.5))\n",
    "\n",
    "    entry['matched_pairs_of_situations'] = len(df_tmp)/2\n",
    "    entry['SHOP'] = shop\n",
    "    \n",
    "    list_viz.append(entry)\n",
    "    \n"
   ]
  },
  {
   "cell_type": "code",
   "execution_count": 54,
   "metadata": {},
   "outputs": [],
   "source": [
    "df_plot = pd.DataFrame(list_viz)"
   ]
  },
  {
   "cell_type": "code",
   "execution_count": 55,
   "metadata": {},
   "outputs": [],
   "source": [
    "df_plot['RTE'] = df_plot['treated_p']/ df_plot['control_p']"
   ]
  },
  {
   "cell_type": "code",
   "execution_count": 56,
   "metadata": {},
   "outputs": [
    {
     "data": {
      "text/html": [
       "<div>\n",
       "<style scoped>\n",
       "    .dataframe tbody tr th:only-of-type {\n",
       "        vertical-align: middle;\n",
       "    }\n",
       "\n",
       "    .dataframe tbody tr th {\n",
       "        vertical-align: top;\n",
       "    }\n",
       "\n",
       "    .dataframe thead th {\n",
       "        text-align: right;\n",
       "    }\n",
       "</style>\n",
       "<table border=\"1\" class=\"dataframe\">\n",
       "  <thead>\n",
       "    <tr style=\"text-align: right;\">\n",
       "      <th></th>\n",
       "      <th>treated_p</th>\n",
       "      <th>control_p</th>\n",
       "      <th>ATE</th>\n",
       "      <th>lower_error</th>\n",
       "      <th>upper_error</th>\n",
       "      <th>matched_pairs_of_situations</th>\n",
       "      <th>SHOP</th>\n",
       "      <th>RTE</th>\n",
       "    </tr>\n",
       "  </thead>\n",
       "  <tbody>\n",
       "    <tr>\n",
       "      <th>0</th>\n",
       "      <td>0.413158</td>\n",
       "      <td>0.331100</td>\n",
       "      <td>0.082057</td>\n",
       "      <td>0.062189</td>\n",
       "      <td>0.101681</td>\n",
       "      <td>4180.0</td>\n",
       "      <td>Cafeteria ELA</td>\n",
       "      <td>1.247832</td>\n",
       "    </tr>\n",
       "    <tr>\n",
       "      <th>2</th>\n",
       "      <td>0.311339</td>\n",
       "      <td>0.238025</td>\n",
       "      <td>0.073314</td>\n",
       "      <td>0.047886</td>\n",
       "      <td>0.101173</td>\n",
       "      <td>2046.0</td>\n",
       "      <td>Atlantide</td>\n",
       "      <td>1.308008</td>\n",
       "    </tr>\n",
       "    <tr>\n",
       "      <th>10</th>\n",
       "      <td>0.316875</td>\n",
       "      <td>0.182347</td>\n",
       "      <td>0.134529</td>\n",
       "      <td>0.124124</td>\n",
       "      <td>0.145419</td>\n",
       "      <td>12213.0</td>\n",
       "      <td>Vinci</td>\n",
       "      <td>1.737764</td>\n",
       "    </tr>\n",
       "    <tr>\n",
       "      <th>7</th>\n",
       "      <td>0.402564</td>\n",
       "      <td>0.230769</td>\n",
       "      <td>0.171795</td>\n",
       "      <td>0.107692</td>\n",
       "      <td>0.235897</td>\n",
       "      <td>390.0</td>\n",
       "      <td>Le Klee by Takinoa</td>\n",
       "      <td>1.744444</td>\n",
       "    </tr>\n",
       "    <tr>\n",
       "      <th>9</th>\n",
       "      <td>0.302707</td>\n",
       "      <td>0.157682</td>\n",
       "      <td>0.145025</td>\n",
       "      <td>0.134579</td>\n",
       "      <td>0.154634</td>\n",
       "      <td>13115.0</td>\n",
       "      <td>Parmentier</td>\n",
       "      <td>1.919729</td>\n",
       "    </tr>\n",
       "    <tr>\n",
       "      <th>1</th>\n",
       "      <td>0.378022</td>\n",
       "      <td>0.192308</td>\n",
       "      <td>0.185714</td>\n",
       "      <td>0.157679</td>\n",
       "      <td>0.212637</td>\n",
       "      <td>1820.0</td>\n",
       "      <td>Arcadie</td>\n",
       "      <td>1.965714</td>\n",
       "    </tr>\n",
       "    <tr>\n",
       "      <th>8</th>\n",
       "      <td>0.268868</td>\n",
       "      <td>0.125786</td>\n",
       "      <td>0.143082</td>\n",
       "      <td>0.103734</td>\n",
       "      <td>0.184002</td>\n",
       "      <td>636.0</td>\n",
       "      <td>Puur</td>\n",
       "      <td>2.137500</td>\n",
       "    </tr>\n",
       "    <tr>\n",
       "      <th>6</th>\n",
       "      <td>0.358930</td>\n",
       "      <td>0.153869</td>\n",
       "      <td>0.205061</td>\n",
       "      <td>0.185566</td>\n",
       "      <td>0.225131</td>\n",
       "      <td>3438.0</td>\n",
       "      <td>Esplanade</td>\n",
       "      <td>2.332703</td>\n",
       "    </tr>\n",
       "    <tr>\n",
       "      <th>4</th>\n",
       "      <td>0.217169</td>\n",
       "      <td>0.092771</td>\n",
       "      <td>0.124398</td>\n",
       "      <td>0.107530</td>\n",
       "      <td>0.143072</td>\n",
       "      <td>3320.0</td>\n",
       "      <td>Cafeteria BC</td>\n",
       "      <td>2.340909</td>\n",
       "    </tr>\n",
       "    <tr>\n",
       "      <th>3</th>\n",
       "      <td>0.226626</td>\n",
       "      <td>0.096108</td>\n",
       "      <td>0.130517</td>\n",
       "      <td>0.115312</td>\n",
       "      <td>0.145467</td>\n",
       "      <td>4214.0</td>\n",
       "      <td>Ornithorynque</td>\n",
       "      <td>2.358025</td>\n",
       "    </tr>\n",
       "    <tr>\n",
       "      <th>5</th>\n",
       "      <td>0.332346</td>\n",
       "      <td>0.104969</td>\n",
       "      <td>0.227377</td>\n",
       "      <td>0.209279</td>\n",
       "      <td>0.248108</td>\n",
       "      <td>3039.0</td>\n",
       "      <td>Corbusier</td>\n",
       "      <td>3.166144</td>\n",
       "    </tr>\n",
       "  </tbody>\n",
       "</table>\n",
       "</div>"
      ],
      "text/plain": [
       "    treated_p  control_p       ATE  lower_error  upper_error  \\\n",
       "0    0.413158   0.331100  0.082057     0.062189     0.101681   \n",
       "2    0.311339   0.238025  0.073314     0.047886     0.101173   \n",
       "10   0.316875   0.182347  0.134529     0.124124     0.145419   \n",
       "7    0.402564   0.230769  0.171795     0.107692     0.235897   \n",
       "9    0.302707   0.157682  0.145025     0.134579     0.154634   \n",
       "1    0.378022   0.192308  0.185714     0.157679     0.212637   \n",
       "8    0.268868   0.125786  0.143082     0.103734     0.184002   \n",
       "6    0.358930   0.153869  0.205061     0.185566     0.225131   \n",
       "4    0.217169   0.092771  0.124398     0.107530     0.143072   \n",
       "3    0.226626   0.096108  0.130517     0.115312     0.145467   \n",
       "5    0.332346   0.104969  0.227377     0.209279     0.248108   \n",
       "\n",
       "    matched_pairs_of_situations                SHOP       RTE  \n",
       "0                        4180.0       Cafeteria ELA  1.247832  \n",
       "2                        2046.0           Atlantide  1.308008  \n",
       "10                      12213.0               Vinci  1.737764  \n",
       "7                         390.0  Le Klee by Takinoa  1.744444  \n",
       "9                       13115.0          Parmentier  1.919729  \n",
       "1                        1820.0             Arcadie  1.965714  \n",
       "8                         636.0                Puur  2.137500  \n",
       "6                        3438.0           Esplanade  2.332703  \n",
       "4                        3320.0        Cafeteria BC  2.340909  \n",
       "3                        4214.0       Ornithorynque  2.358025  \n",
       "5                        3039.0           Corbusier  3.166144  "
      ]
     },
     "execution_count": 56,
     "metadata": {},
     "output_type": "execute_result"
    }
   ],
   "source": [
    "df_plot.sort_values(by = 'RTE')"
   ]
  },
  {
   "cell_type": "code",
   "execution_count": 57,
   "metadata": {},
   "outputs": [],
   "source": [
    "randomized = pd.read_pickle('shops_randomized')"
   ]
  },
  {
   "cell_type": "code",
   "execution_count": 58,
   "metadata": {},
   "outputs": [
    {
     "data": {
      "text/html": [
       "<div>\n",
       "<style scoped>\n",
       "    .dataframe tbody tr th:only-of-type {\n",
       "        vertical-align: middle;\n",
       "    }\n",
       "\n",
       "    .dataframe tbody tr th {\n",
       "        vertical-align: top;\n",
       "    }\n",
       "\n",
       "    .dataframe thead th {\n",
       "        text-align: right;\n",
       "    }\n",
       "</style>\n",
       "<table border=\"1\" class=\"dataframe\">\n",
       "  <thead>\n",
       "    <tr style=\"text-align: right;\">\n",
       "      <th></th>\n",
       "      <th>treated_p</th>\n",
       "      <th>control_p</th>\n",
       "      <th>ATE</th>\n",
       "      <th>lower_error</th>\n",
       "      <th>upper_error</th>\n",
       "      <th>matched_pairs_of_situations</th>\n",
       "      <th>SHOP</th>\n",
       "    </tr>\n",
       "  </thead>\n",
       "  <tbody>\n",
       "    <tr>\n",
       "      <th>0</th>\n",
       "      <td>0.336455</td>\n",
       "      <td>0.323899</td>\n",
       "      <td>0.012556</td>\n",
       "      <td>-0.006187</td>\n",
       "      <td>0.031922</td>\n",
       "      <td>4699.0</td>\n",
       "      <td>Cafeteria ELA</td>\n",
       "    </tr>\n",
       "    <tr>\n",
       "      <th>1</th>\n",
       "      <td>0.201121</td>\n",
       "      <td>0.172390</td>\n",
       "      <td>0.028732</td>\n",
       "      <td>0.000666</td>\n",
       "      <td>0.058865</td>\n",
       "      <td>1427.0</td>\n",
       "      <td>Atlantide</td>\n",
       "    </tr>\n",
       "    <tr>\n",
       "      <th>2</th>\n",
       "      <td>0.219664</td>\n",
       "      <td>0.214063</td>\n",
       "      <td>0.005600</td>\n",
       "      <td>-0.021780</td>\n",
       "      <td>0.034225</td>\n",
       "      <td>1607.0</td>\n",
       "      <td>Arcadie</td>\n",
       "    </tr>\n",
       "    <tr>\n",
       "      <th>3</th>\n",
       "      <td>0.054987</td>\n",
       "      <td>0.054586</td>\n",
       "      <td>0.000401</td>\n",
       "      <td>-0.008027</td>\n",
       "      <td>0.008634</td>\n",
       "      <td>4983.0</td>\n",
       "      <td>Ornithorynque</td>\n",
       "    </tr>\n",
       "    <tr>\n",
       "      <th>4</th>\n",
       "      <td>0.056344</td>\n",
       "      <td>0.051613</td>\n",
       "      <td>0.004731</td>\n",
       "      <td>-0.007323</td>\n",
       "      <td>0.018925</td>\n",
       "      <td>2325.0</td>\n",
       "      <td>Cafeteria BC</td>\n",
       "    </tr>\n",
       "    <tr>\n",
       "      <th>5</th>\n",
       "      <td>0.114890</td>\n",
       "      <td>0.080882</td>\n",
       "      <td>0.034007</td>\n",
       "      <td>0.019914</td>\n",
       "      <td>0.048100</td>\n",
       "      <td>3264.0</td>\n",
       "      <td>Corbusier</td>\n",
       "    </tr>\n",
       "    <tr>\n",
       "      <th>6</th>\n",
       "      <td>0.193404</td>\n",
       "      <td>0.190050</td>\n",
       "      <td>0.003354</td>\n",
       "      <td>-0.021828</td>\n",
       "      <td>0.027949</td>\n",
       "      <td>1789.0</td>\n",
       "      <td>Esplanade</td>\n",
       "    </tr>\n",
       "    <tr>\n",
       "      <th>7</th>\n",
       "      <td>0.285714</td>\n",
       "      <td>0.246499</td>\n",
       "      <td>0.039216</td>\n",
       "      <td>-0.022549</td>\n",
       "      <td>0.100840</td>\n",
       "      <td>357.0</td>\n",
       "      <td>Le Klee by Takinoa</td>\n",
       "    </tr>\n",
       "    <tr>\n",
       "      <th>8</th>\n",
       "      <td>0.095613</td>\n",
       "      <td>0.077615</td>\n",
       "      <td>0.017998</td>\n",
       "      <td>-0.008999</td>\n",
       "      <td>0.045022</td>\n",
       "      <td>889.0</td>\n",
       "      <td>Puur</td>\n",
       "    </tr>\n",
       "    <tr>\n",
       "      <th>9</th>\n",
       "      <td>0.150865</td>\n",
       "      <td>0.141515</td>\n",
       "      <td>0.009350</td>\n",
       "      <td>0.002802</td>\n",
       "      <td>0.016039</td>\n",
       "      <td>21390.0</td>\n",
       "      <td>Vinci</td>\n",
       "    </tr>\n",
       "    <tr>\n",
       "      <th>10</th>\n",
       "      <td>0.144387</td>\n",
       "      <td>0.134237</td>\n",
       "      <td>0.010150</td>\n",
       "      <td>0.004094</td>\n",
       "      <td>0.016344</td>\n",
       "      <td>21477.0</td>\n",
       "      <td>Parmentier</td>\n",
       "    </tr>\n",
       "  </tbody>\n",
       "</table>\n",
       "</div>"
      ],
      "text/plain": [
       "    treated_p  control_p       ATE  lower_error  upper_error  \\\n",
       "0    0.336455   0.323899  0.012556    -0.006187     0.031922   \n",
       "1    0.201121   0.172390  0.028732     0.000666     0.058865   \n",
       "2    0.219664   0.214063  0.005600    -0.021780     0.034225   \n",
       "3    0.054987   0.054586  0.000401    -0.008027     0.008634   \n",
       "4    0.056344   0.051613  0.004731    -0.007323     0.018925   \n",
       "5    0.114890   0.080882  0.034007     0.019914     0.048100   \n",
       "6    0.193404   0.190050  0.003354    -0.021828     0.027949   \n",
       "7    0.285714   0.246499  0.039216    -0.022549     0.100840   \n",
       "8    0.095613   0.077615  0.017998    -0.008999     0.045022   \n",
       "9    0.150865   0.141515  0.009350     0.002802     0.016039   \n",
       "10   0.144387   0.134237  0.010150     0.004094     0.016344   \n",
       "\n",
       "    matched_pairs_of_situations                SHOP  \n",
       "0                        4699.0       Cafeteria ELA  \n",
       "1                        1427.0           Atlantide  \n",
       "2                        1607.0             Arcadie  \n",
       "3                        4983.0       Ornithorynque  \n",
       "4                        2325.0        Cafeteria BC  \n",
       "5                        3264.0           Corbusier  \n",
       "6                        1789.0           Esplanade  \n",
       "7                         357.0  Le Klee by Takinoa  \n",
       "8                         889.0                Puur  \n",
       "9                       21390.0               Vinci  \n",
       "10                      21477.0          Parmentier  "
      ]
     },
     "execution_count": 58,
     "metadata": {},
     "output_type": "execute_result"
    }
   ],
   "source": [
    "randomized"
   ]
  },
  {
   "cell_type": "code",
   "execution_count": 59,
   "metadata": {},
   "outputs": [
    {
     "data": {
      "text/plain": [
       "ATE                   0.000999001\n",
       "RR                        1.00612\n",
       "lower_error            -0.0214785\n",
       "upper_error             0.0234765\n",
       "lower_error_rr           0.878945\n",
       "upper_error_rr            1.15625\n",
       "meal              AFTERNOON SNACK\n",
       "addition                   pastry\n",
       "Name: 12, dtype: object"
      ]
     },
     "execution_count": 59,
     "metadata": {},
     "output_type": "execute_result"
    }
   ],
   "source": [
    "baseline"
   ]
  },
  {
   "cell_type": "code",
   "execution_count": 60,
   "metadata": {},
   "outputs": [
    {
     "data": {
      "image/png": "[encoded data removed]",
      "text/plain": [
       "<Figure size 288x576 with 1 Axes>"
      ]
     },
     "metadata": {
      "needs_background": "light"
     },
     "output_type": "display_data"
    }
   ],
   "source": [
    "fix, axes = plt.subplots(1,1, figsize = (4,8))\n",
    "\n",
    "types = []\n",
    "\n",
    "c = 0\n",
    "for cnt,row in df_plot.sort_values(by = 'ATE', ascending = False).iterrows():\n",
    "    plt.hlines(14-cnt, -1,4, color = 'gray', linestyle = '--')\n",
    "    plt.errorbar([row['ATE']],[14-c], xerr = (np.array([row['ATE'] - row['lower_error']]), np.array([row['upper_error']- row['ATE']])),\n",
    "                 fmt = '|', markersize= 8,color = 'tab:blue', linewidth = 3)\n",
    "    \n",
    "    baseline = randomized.loc[(randomized['SHOP']==row['SHOP'])].iloc[0]\n",
    "        \n",
    "    if c==0:\n",
    "        plt.errorbar([baseline['ATE']],[14-c-0.1], xerr = (np.array([baseline['ATE'] - baseline['lower_error']]), \n",
    "                 np.array([baseline['upper_error']- baseline['ATE']])),\n",
    "                 fmt = '|', markersize= 8,color = 'black', linewidth = 3, label = 'Randomized\\n queues')\n",
    "        plt.legend(loc = 'upper right')\n",
    "    else:\n",
    "        plt.errorbar([baseline['ATE']],[14-c-0.1], xerr = (np.array([baseline['ATE'] - baseline['lower_error']]), \n",
    "                 np.array([baseline['upper_error']- baseline['ATE']])),\n",
    "                 fmt = '|', markersize= 8,color = 'black', linewidth = 3)\n",
    "            \n",
    "    types.append(row['SHOP'])\n",
    "    \n",
    "    c+=1\n",
    "    \n",
    "plt.yticks(14-np.array(range(len(df['shop'].unique()))), ['Shop '+str(i+1) for i in range (11)]);\n",
    "\n",
    "plt.xlim([-0.1,0.5])\n",
    "\n",
    "plt.vlines(0,3.5,14.5, linestyle = '--')\n",
    "\n",
    "plt.xlabel('RD', fontsize =12)\n",
    "plt.ylabel('Shop')\n",
    "\n",
    "plt.savefig('figures/fig7.pdf', bbox_inches='tight')"
   ]
  },
  {
   "cell_type": "code",
   "execution_count": 61,
   "metadata": {},
   "outputs": [],
   "source": [
    "df['shop'].unique()\n",
    "\n",
    "shops = ['Parmentier',\n",
    "    'Arcadie',\n",
    "    'Puur',\n",
    "    'Vinci',\n",
    "    'Corbusier',\n",
    "    'Le Klee by Takinoa',\n",
    "    'Esplanade',\n",
    "    'Ornithorynque',\n",
    "    'Cafeteria BC',\n",
    "    'Atlantide']"
   ]
  },
  {
   "cell_type": "code",
   "execution_count": 62,
   "metadata": {},
   "outputs": [],
   "source": [
    "# multiple registries\n",
    "# is the queue for choosing queue for paying"
   ]
  },
  {
   "cell_type": "code",
   "execution_count": 63,
   "metadata": {},
   "outputs": [],
   "source": [
    "shops = ['Arcadie',\n",
    " 'Atlantide',\n",
    " 'Cafeteria BC',\n",
    " 'Corbusier',\n",
    " 'Esplanade',\n",
    " 'Le Klee by Takinoa',\n",
    " 'Ornithorynque',\n",
    " 'Parmentier',\n",
    " 'Puur',\n",
    " 'Vinci']\n",
    "\n",
    "cash_registry = ['single',\n",
    " 'single',\n",
    " 'single',\n",
    " 'multiple',\n",
    " 'single',              \n",
    " 'single',\n",
    " 'multiple',\n",
    " 'single',\n",
    " 'multiple',\n",
    " 'single',\n",
    "]\n",
    "\n",
    "layout = ['directional',\n",
    " 'directional',\n",
    " 'directional',\n",
    " 'directional',\n",
    " 'directional',\n",
    " 'directional',\n",
    " 'mixed',\n",
    " 'directional',\n",
    " 'mixed',\n",
    " 'directional']"
   ]
  },
  {
   "cell_type": "code",
   "execution_count": 64,
   "metadata": {},
   "outputs": [],
   "source": [
    "df_shops = pd.DataFrame()\n",
    "df_shops['name'] = shops\n",
    "df_shops['registries'] = cash_registry\n",
    "df_shops['layout'] = layout"
   ]
  },
  {
   "cell_type": "code",
   "execution_count": null,
   "metadata": {},
   "outputs": [],
   "source": []
  },
  {
   "cell_type": "code",
   "execution_count": null,
   "metadata": {},
   "outputs": [],
   "source": []
  },
  {
   "cell_type": "code",
   "execution_count": 65,
   "metadata": {},
   "outputs": [],
   "source": [
    "df_shops['group'] = ((df_shops['registries']=='single') & (df_shops['layout']=='directional'))"
   ]
  },
  {
   "cell_type": "code",
   "execution_count": 66,
   "metadata": {},
   "outputs": [
    {
     "data": {
      "text/plain": [
       "array(['Corbusier', 'Ornithorynque', 'Puur'], dtype=object)"
      ]
     },
     "execution_count": 66,
     "metadata": {},
     "output_type": "execute_result"
    }
   ],
   "source": [
    "df_shops.loc[~df_shops['group']]['name'].values"
   ]
  },
  {
   "cell_type": "code",
   "execution_count": 67,
   "metadata": {},
   "outputs": [
    {
     "name": "stdout",
     "output_type": "stream",
     "text": [
      "ATE = 16.88 %\n",
      "ATE = 13.72 %\n"
     ]
    }
   ],
   "source": [
    "list_viz = []\n",
    "\n",
    "for i in range(2):\n",
    "    \n",
    "    if i==0:\n",
    "        df_tmp = df.loc[df['shop'].isin(['Corbusier', 'Ornithorynque', 'Puur'])]\n",
    "    else:\n",
    "        df_tmp = df.loc[~(df['shop'].isin(['Corbusier', 'Ornithorynque', 'Puur']))]\n",
    "    i+=1\n",
    "    try:\n",
    "        treated_p = df_tmp.loc[df_tmp['exposure']==1]['outcome'].value_counts(normalize = True)[1]\n",
    "        control_p = df_tmp.loc[df_tmp['exposure']==0]['outcome'].value_counts(normalize = True)[1]\n",
    "    except KeyError as e:\n",
    "        continue\n",
    "        print('skipping', shop, ', no instances')\n",
    "        \n",
    "    print('ATE =', round(100*(treated_p - control_p),2),'%')\n",
    "    \n",
    "    entry = {}\n",
    "\n",
    "    entry['treated_p'] = treated_p\n",
    "    entry['control_p'] = control_p\n",
    "\n",
    "    entry['ATE'] = (treated_p)/control_p\n",
    "    \n",
    "    ys = []\n",
    "    for iteration in range(1000):\n",
    "        try:\n",
    "            pos_tmp = df_tmp.loc[df_tmp['exposure']==1].sample(len(df_tmp.loc[df_tmp['exposure']==1]), replace = True)['outcome'].value_counts(normalize = True)[1]   \n",
    "        except KeyError as e:\n",
    "            pos_tmp = 0\n",
    "        \n",
    "        try:\n",
    "            neg_tmp = df_tmp.loc[df_tmp['exposure']==0].sample(len(df_tmp.loc[df_tmp['exposure']==1]), replace = True)['outcome'].value_counts(normalize = True)[1]\n",
    "        except KeyError as e:\n",
    "            neg_tmp = 0\n",
    "       \n",
    "        y_tmp = (pos_tmp)/neg_tmp\n",
    "\n",
    "        ys.append(y_tmp)\n",
    "\n",
    "    entry['lower_error'] = (np.percentile(np.array(ys), 2.5))\n",
    "    entry['upper_error'] = (np.percentile(np.array(ys),97.5))\n",
    "\n",
    "    entry['matched_pairs_of_situations'] = len(df_tmp)/2\n",
    "    entry['group'] = i\n",
    "    \n",
    "    list_viz.append(entry)"
   ]
  },
  {
   "cell_type": "code",
   "execution_count": 68,
   "metadata": {},
   "outputs": [
    {
     "data": {
      "text/plain": [
       "Text(0, 0.5, 'Shop')"
      ]
     },
     "execution_count": 68,
     "metadata": {},
     "output_type": "execute_result"
    },
    {
     "data": {
      "image/png": "[encoded data removed]",
      "text/plain": [
       "<Figure size 288x576 with 1 Axes>"
      ]
     },
     "metadata": {
      "needs_background": "light"
     },
     "output_type": "display_data"
    }
   ],
   "source": [
    "fix, axes = plt.subplots(1,1, figsize = (4,8))\n",
    "\n",
    "types = []\n",
    "\n",
    "c = 0\n",
    "for cnt,row in df_plot.sort_values(by = 'ATE', ascending = False).iterrows():\n",
    "    plt.hlines(14-cnt, -1,4, color = 'gray', linestyle = '--')\n",
    "    plt.errorbar([row['ATE']],[14-c], xerr = (np.array([row['ATE'] - row['lower_error']]), np.array([row['upper_error']- row['ATE']])),\n",
    "                 fmt = '|', markersize= 8,color = 'tab:blue', linewidth = 3)\n",
    "    \n",
    "    if row['SHOP'] in ['Ornithorynque', 'Puur']:\n",
    "        types.append(row['SHOP']+'*')\n",
    "    else: \n",
    "        types.append(row['SHOP'])\n",
    "    c+=1\n",
    "    \n",
    "    \n",
    "plt.yticks(14-np.array(range(len(df['shop'].unique()))), types);\n",
    "\n",
    "plt.xlim([-0.1,0.5])\n",
    "\n",
    "plt.vlines(0,3.5,14.5, linestyle = '--')\n",
    "\n",
    "plt.xlabel('RD', fontsize =12)\n",
    "plt.ylabel('Shop')"
   ]
  },
  {
   "cell_type": "code",
   "execution_count": 69,
   "metadata": {},
   "outputs": [],
   "source": [
    "## different shops have different options; we don't have ideal data to anser this question (small number of shops)\n",
    "## use as robustness argument, main findings not about this\n",
    "## I don't feel condindent making strong conclusions about the shop layout\n",
    "## different people go to different shops"
   ]
  },
  {
   "cell_type": "markdown",
   "metadata": {},
   "source": [
    "### From here on, all additions and lunch + breakfast + afternoon snack are pulled together"
   ]
  },
  {
   "cell_type": "markdown",
   "metadata": {},
   "source": [
    "### d) Delay"
   ]
  },
  {
   "cell_type": "code",
   "execution_count": 70,
   "metadata": {},
   "outputs": [],
   "source": [
    "df = pd.read_pickle('3_meals_matched_situations')"
   ]
  },
  {
   "cell_type": "code",
   "execution_count": 71,
   "metadata": {},
   "outputs": [],
   "source": [
    "df = df.reset_index()"
   ]
  },
  {
   "cell_type": "code",
   "execution_count": 72,
   "metadata": {},
   "outputs": [],
   "source": [
    "df_pos = df.loc[df['exposure'] == 1].reset_index()\n",
    "df_neg = df.loc[df['exposure'] == 0].reset_index()"
   ]
  },
  {
   "cell_type": "code",
   "execution_count": 73,
   "metadata": {},
   "outputs": [
    {
     "data": {
      "text/plain": [
       "48411"
      ]
     },
     "execution_count": 73,
     "metadata": {},
     "output_type": "execute_result"
    }
   ],
   "source": [
    "len(df_pos)"
   ]
  },
  {
   "cell_type": "code",
   "execution_count": 74,
   "metadata": {},
   "outputs": [
    {
     "data": {
      "text/plain": [
       "48411"
      ]
     },
     "execution_count": 74,
     "metadata": {},
     "output_type": "execute_result"
    }
   ],
   "source": [
    "len(df_neg)"
   ]
  },
  {
   "cell_type": "code",
   "execution_count": 75,
   "metadata": {},
   "outputs": [
    {
     "data": {
      "image/png": "[encoded data removed]",
      "text/plain": [
       "<Figure size 432x576 with 1 Axes>"
      ]
     },
     "metadata": {
      "needs_background": "light"
     },
     "output_type": "display_data"
    }
   ],
   "source": [
    "plt.subplots(1,1,figsize= (6,8))\n",
    "\n",
    "df['delay'].hist(range = [4,34], bins = 10, width = 2.8, density = True, alpha = 0.5)\n",
    "\n",
    "plt.grid(False)\n",
    "\n",
    "plt.xticks(np.array(range(4,43,3)),range(4,43,3))\n",
    "plt.xlim([3.8,34.2])\n",
    "\n",
    "plt.xlabel('Delay in the purchasing queue \\nbetween parter and focal person (seconds)')\n",
    "plt.ylabel('Frequency')\n",
    "\n",
    "plt.savefig('figures/fig8.pdf', bbox_inches='tight')"
   ]
  },
  {
   "cell_type": "code",
   "execution_count": 76,
   "metadata": {},
   "outputs": [
    {
     "data": {
      "text/plain": [
       "array([  5. ,   6.5,   8. ,   9.5,  11. ,  12.5,  14. ,  15.5,  17. ,\n",
       "        18.5,  20. ,  21.5,  23. ,  24.5,  26. ,  27.5,  29. ,  30.5,\n",
       "        32. ,  33.5, 200. ])"
      ]
     },
     "execution_count": 76,
     "metadata": {},
     "output_type": "execute_result"
    }
   ],
   "source": [
    "np.concatenate((np.arange(5,35,1.5),np.array([200])))"
   ]
  },
  {
   "cell_type": "code",
   "execution_count": 77,
   "metadata": {},
   "outputs": [],
   "source": [
    "bins = np.concatenate((np.arange(3.5,35,1.5),np.array([200])))\n",
    "#bins = np.concatenate((np.arange(3,42,2),np.array([200])))\n",
    "list_viz_overall = []\n",
    "\n",
    "for i in range(len(bins)-1):\n",
    "    t = df.loc[((df['delay'] > bins[i]) & ( df['delay'] <= bins[i+1]))]\n",
    "\n",
    "    try:\n",
    "        treated_p = t.loc[t['exposure']==1]['outcome'].value_counts(normalize = True)[1]\n",
    "    except:\n",
    "        treated_p = 0\n",
    "\n",
    "    try:\n",
    "        control_p = t.loc[t['exposure']==0]['outcome'].value_counts(normalize = True)[1]\n",
    "    except:\n",
    "        control_p = 0\n",
    "\n",
    "    entry = {}\n",
    "\n",
    "    entry['treated_p'] = treated_p\n",
    "    entry['control_p'] = control_p\n",
    "\n",
    "    entry['ATE'] = treated_p - control_p\n",
    "    entry['RTE'] = treated_p/control_p\n",
    "\n",
    "    ys = []\n",
    "    ys_r = []\n",
    "    for iteration in range(1000):\n",
    "        try:\n",
    "            pos_tmp = t.loc[t['exposure']==1].sample(len(t.loc[t['exposure']==1]), replace = True)['outcome'].value_counts(normalize = True)[1]   \n",
    "        except KeyError as e:\n",
    "            pos_tmp = 0\n",
    "\n",
    "        try:\n",
    "            neg_tmp = t.loc[t['exposure']==0].sample(len(t.loc[t['exposure']==1]), replace = True)['outcome'].value_counts(normalize = True)[1]\n",
    "        except KeyError as e:\n",
    "            neg_tmp = 0\n",
    "\n",
    "        y_tmp = pos_tmp - neg_tmp\n",
    "\n",
    "        ys.append(y_tmp)\n",
    "        ys_r.append(pos_tmp/neg_tmp)\n",
    "\n",
    "    entry['lower_error'] = (np.percentile(np.array(ys), 2.5))\n",
    "    entry['upper_error'] = (np.percentile(np.array(ys),97.5))\n",
    "\n",
    "    entry['lower_error_r'] = (np.percentile(np.array(ys_r), 2.5))\n",
    "    entry['upper_error_r'] = (np.percentile(np.array(ys_r),97.5))\n",
    "    entry['bin'] = i\n",
    "\n",
    "    list_viz_overall.append(entry)"
   ]
  },
  {
   "cell_type": "code",
   "execution_count": 78,
   "metadata": {},
   "outputs": [
    {
     "data": {
      "image/png": "[encoded data removed]",
      "text/plain": [
       "<Figure size 432x576 with 1 Axes>"
      ]
     },
     "metadata": {
      "needs_background": "light"
     },
     "output_type": "display_data"
    }
   ],
   "source": [
    "plt.subplots(1,1,figsize= (6,8))\n",
    "\n",
    "\n",
    "gr = pd.DataFrame(list_viz_overall)\n",
    "\n",
    "plt.plot(gr['bin'],gr['ATE'], linestyle = '-.', marker = 'o', markersize= 3)\n",
    "plt.fill_between(gr['bin'], gr['lower_error'], gr['upper_error'], alpha = 0.3)\n",
    "\n",
    "plt.xticks(gr['bin'], bins[:-1]);\n",
    "\n",
    "plt.xlabel('Delay in the purchasing queue \\nbetween parter and focal person (seconds)');\n",
    "#plt.ylim([0,0.5])\n",
    "\n",
    "slope, intercept, r, p, se = linregress(gr['bin'], gr['ATE'],\n",
    "                                        alternative='two-sided')\n",
    "\n",
    "if p<0.05:\n",
    "    plt.plot(gr['bin'], intercept + slope*(gr['bin']),\n",
    "               color = 'gray', linewidth = 3, alpha = 0.8)\n",
    "\n",
    "else:\n",
    "    plt.plot(gr['bin'], intercept + slope*(gr['bin']),\n",
    "           color = 'gray',alpha = 0.3, linewidth = 3)\n",
    "\n",
    "\n",
    "plt.xticks(gr['bin'][::2], [str(round(float(i+0.5))) for i in bins[:-1][::2]]);\n",
    "\n",
    "plt.xlim(gr['bin'][::2][0]-0.3, gr['bin'].values[-1]+0.3)\n",
    "plt.ylabel('RD')\n",
    "\n",
    "plt.ylim([-0.025,0.23])\n",
    "\n",
    "plt.hlines(0, gr['bin'][::2][0]-0.3, gr['bin'].values[-1]+0.3, linestyle = '--', color = 'gray')\n",
    "\n",
    "plt.savefig('figures/fig9.pdf', bbox_inches='tight')"
   ]
  },
  {
   "cell_type": "code",
   "execution_count": 79,
   "metadata": {},
   "outputs": [
    {
     "data": {
      "text/plain": [
       "(-0.0019588146699238244, 0.00011052125227704772)"
      ]
     },
     "execution_count": 79,
     "metadata": {},
     "output_type": "execute_result"
    }
   ],
   "source": [
    "slope, p"
   ]
  },
  {
   "cell_type": "code",
   "execution_count": 80,
   "metadata": {},
   "outputs": [
    {
     "data": {
      "image/png": "[encoded data removed]",
      "text/plain": [
       "<Figure size 432x576 with 1 Axes>"
      ]
     },
     "metadata": {
      "needs_background": "light"
     },
     "output_type": "display_data"
    }
   ],
   "source": [
    "plt.subplots(1,1,figsize= (6,8))\n",
    "\n",
    "\n",
    "gr = pd.DataFrame(list_viz_overall)\n",
    "\n",
    "plt.plot(gr['bin'],gr['RTE'], linestyle = '-.', marker = 'o', markersize= 3)\n",
    "plt.fill_between(gr['bin'], gr['lower_error_r'], gr['upper_error_r'], alpha = 0.3)\n",
    "\n",
    "plt.xticks(gr['bin'], bins[:-1]);\n",
    "\n",
    "plt.xlabel('Delay in the purchasing queue \\nbetween parter and focal person (seconds)');\n",
    "#plt.ylim([0,0.5])\n",
    "\n",
    "slope, intercept, r, p, se = linregress(gr['bin'], gr['RTE'],\n",
    "                                        alternative='two-sided')\n",
    "\n",
    "if p<0.05:\n",
    "    plt.plot(gr['bin'], intercept + slope*(gr['bin']),\n",
    "               color = 'gray', linewidth = 3, alpha = 0.8)\n",
    "\n",
    "else:\n",
    "    plt.plot(gr['bin'], intercept + slope*(gr['bin']),\n",
    "           color = 'gray',alpha = 0.3, linewidth = 3)\n",
    "\n",
    "\n",
    "plt.xticks(gr['bin'][::2], [str(round(float(i+0.5))) for i in bins[:-1][::2]]);\n",
    "\n",
    "plt.xlim(gr['bin'][::2][0]-0.3, gr['bin'].values[-1]+0.3)\n",
    "plt.ylabel('RR')\n",
    "\n",
    "plt.ylim([0.8,2.7])\n",
    "\n",
    "plt.hlines(1, gr['bin'][::2][0]-0.3, gr['bin'].values[-1]+0.3, linestyle = '--', color = 'gray')\n",
    "\n",
    "plt.savefig('figures/fig9_1.pdf', bbox_inches='tight')"
   ]
  },
  {
   "cell_type": "code",
   "execution_count": 81,
   "metadata": {},
   "outputs": [
    {
     "data": {
      "text/plain": [
       "(-0.03304382754057767, 2.5551000049768157e-06)"
      ]
     },
     "execution_count": 81,
     "metadata": {},
     "output_type": "execute_result"
    }
   ],
   "source": [
    "slope, p"
   ]
  },
  {
   "cell_type": "code",
   "execution_count": 82,
   "metadata": {},
   "outputs": [],
   "source": [
    "bins = np.concatenate((np.arange(5,35,1.5),np.array([200])))\n",
    "#bins = np.concatenate((np.arange(3,42,2),np.array([200])))\n",
    "list_viz_overall = []\n",
    "\n",
    "for i in range(len(bins)-1):\n",
    "    tmp_pos = df_pos.loc[((df_pos['delay'] > bins[i]) & ( df_pos['delay'] <= bins[i+1]))]\n",
    "    tmp_neg = df_neg.loc[((df_pos['delay'] > bins[i]) & ( df_pos['delay'] <= bins[i+1]))]\n",
    "    \n",
    "    try:\n",
    "        treated_p = tmp_pos['outcome'].value_counts(normalize = True)[1]\n",
    "    except:\n",
    "        treated_p = 0\n",
    "\n",
    "    try:\n",
    "        control_p = tmp_neg['outcome'].value_counts(normalize = True)[1]\n",
    "    except:\n",
    "        control_p = 0\n",
    "\n",
    "    entry = {}\n",
    "\n",
    "    entry['treated_p'] = treated_p\n",
    "    entry['control_p'] = control_p\n",
    "\n",
    "    entry['ATE'] = treated_p - control_p\n",
    "\n",
    "    ys = []\n",
    "    for iteration in range(1000):\n",
    "        try:\n",
    "            pos_tmp = tmp_pos.sample(len(tmp_pos), replace = True)['outcome'].value_counts(normalize = True)[1]   \n",
    "        except KeyError as e:\n",
    "            pos_tmp = 0\n",
    "\n",
    "        try:\n",
    "            neg_tmp = tmp_neg.sample(len(tmp_neg), replace = True)['outcome'].value_counts(normalize = True)[1]\n",
    "        except KeyError as e:\n",
    "            neg_tmp = 0\n",
    "\n",
    "        y_tmp = pos_tmp - neg_tmp\n",
    "\n",
    "        ys.append(y_tmp)\n",
    "\n",
    "    entry['lower_error'] = (np.percentile(np.array(ys), 2.5))\n",
    "    entry['upper_error'] = (np.percentile(np.array(ys),97.5))\n",
    "\n",
    "    entry['bin'] = i\n",
    "\n",
    "    list_viz_overall.append(entry)"
   ]
  },
  {
   "cell_type": "code",
   "execution_count": 83,
   "metadata": {},
   "outputs": [
    {
     "data": {
      "text/plain": [
       "Text(0, 0.5, 'RD')"
      ]
     },
     "execution_count": 83,
     "metadata": {},
     "output_type": "execute_result"
    },
    {
     "data": {
      "image/png": "[encoded data removed]",
      "text/plain": [
       "<Figure size 432x576 with 1 Axes>"
      ]
     },
     "metadata": {
      "needs_background": "light"
     },
     "output_type": "display_data"
    }
   ],
   "source": [
    "plt.subplots(1,1,figsize= (6,8))\n",
    "\n",
    "\n",
    "gr = pd.DataFrame(list_viz_overall)\n",
    "\n",
    "plt.plot(gr['bin'],gr['ATE'], linestyle = '-.', marker = 'o', markersize= 3)\n",
    "plt.fill_between(gr['bin'], gr['lower_error'], gr['upper_error'], alpha = 0.3)\n",
    "\n",
    "plt.xticks(gr['bin'], bins[:-1]);\n",
    "\n",
    "plt.xlabel('Delay in the purchasing queue \\nbetween parter and focal person (seconds)');\n",
    "#plt.ylim([0,0.5])\n",
    "\n",
    "slope, intercept, r, p, se = linregress(gr['bin'], gr['ATE'],\n",
    "                                        alternative='two-sided')\n",
    "\n",
    "if p<0.05:\n",
    "    plt.plot(gr['bin'], intercept + slope*(gr['bin']),\n",
    "               color = 'gray', linewidth = 3, alpha = 0.8)\n",
    "\n",
    "else:\n",
    "    plt.plot(gr['bin'], intercept + slope*(gr['bin']),\n",
    "           color = 'gray',alpha = 0.3, linewidth = 3)\n",
    "\n",
    "\n",
    "#plt.xticks(gr['bin'][::2], [str(round(float(i+0.5))) for i in bins[:-1][::2]]);\n",
    "\n",
    "#plt.xlim(gr['bin'][::2][0]-0.3, gr['bin'].values[-1]+0.3)\n",
    "plt.ylabel('RD')"
   ]
  },
  {
   "cell_type": "code",
   "execution_count": 84,
   "metadata": {},
   "outputs": [
    {
     "data": {
      "text/plain": [
       "(-0.001352742975766926, 0.17538724231885375)"
      ]
     },
     "execution_count": 84,
     "metadata": {},
     "output_type": "execute_result"
    }
   ],
   "source": [
    "slope, p"
   ]
  },
  {
   "cell_type": "code",
   "execution_count": null,
   "metadata": {},
   "outputs": [],
   "source": []
  },
  {
   "cell_type": "code",
   "execution_count": 85,
   "metadata": {},
   "outputs": [],
   "source": [
    "'''\n",
    "list_viz = []\n",
    "\n",
    "for addition in additions['LUNCH']:\n",
    "    print(addition)\n",
    "    for i in range(len(bins)-1):\n",
    "        t = df.loc[((df['delay'] > bins[i]) & ( df['delay'] <= bins[i+1]))]\n",
    "        t = t.loc[t['addition'] ==addition]\n",
    "        try:\n",
    "            treated_p = t.loc[t['exposure']==1]['outcome'].value_counts(normalize = True)[1]\n",
    "        except:\n",
    "            treated_p = 0\n",
    "            \n",
    "        try:\n",
    "            control_p = t.loc[t['exposure']==0]['outcome'].value_counts(normalize = True)[1]\n",
    "        except:\n",
    "            control_p = 0\n",
    "   \n",
    "        entry = {}\n",
    "\n",
    "        entry['treated_p'] = treated_p\n",
    "        entry['control_p'] = control_p\n",
    "\n",
    "        entry['ATE'] = treated_p - control_p\n",
    "\n",
    "        ys = []\n",
    "        for iteration in range(1000):\n",
    "            try:\n",
    "                pos_tmp = t.loc[t['exposure']==1].sample(len(t.loc[t['exposure']==1]), replace = True)['outcome'].value_counts(normalize = True)[1]   \n",
    "            except KeyError as e:\n",
    "                pos_tmp = 0\n",
    "\n",
    "            try:\n",
    "                neg_tmp = t.loc[t['exposure']==0].sample(len(t.loc[t['exposure']==1]), replace = True)['outcome'].value_counts(normalize = True)[1]\n",
    "            except KeyError as e:\n",
    "                neg_tmp = 0\n",
    "\n",
    "            y_tmp = pos_tmp - neg_tmp\n",
    "\n",
    "            ys.append(y_tmp)\n",
    "\n",
    "        entry['lower_error'] = (np.percentile(np.array(ys), 2.5))\n",
    "        entry['upper_error'] = (np.percentile(np.array(ys),97.5))\n",
    "\n",
    "        entry['bin'] = i\n",
    "        entry['addition'] = addition\n",
    "\n",
    "        list_viz.append(entry)\n",
    "        \n",
    "''';"
   ]
  },
  {
   "cell_type": "code",
   "execution_count": 86,
   "metadata": {},
   "outputs": [],
   "source": [
    "'''\n",
    "for name,gr in pd.DataFrame(list_viz).groupby('addition'):\n",
    "    plt.figure()\n",
    "    plt.plot(gr['bin'],gr['ATE'])\n",
    "    plt.fill_between(gr['bin'], gr['lower_error'], gr['upper_error'])\n",
    "    plt.title(name.capitalize())\n",
    "    plt.xticks(gr['bin'], bins[:-1])\n",
    "    plt.ylim([0,0.5])\n",
    "''';"
   ]
  },
  {
   "cell_type": "markdown",
   "metadata": {},
   "source": [
    "## e) Status"
   ]
  },
  {
   "cell_type": "markdown",
   "metadata": {},
   "source": [
    "### e.1 partner"
   ]
  },
  {
   "cell_type": "code",
   "execution_count": 87,
   "metadata": {},
   "outputs": [],
   "source": [
    "df['partner_student'] = df['partner_p_student'].apply(lambda x: 'student' if x>=0.5 else \"staff\")\n",
    "df['focal_student'] = df['focal_p_student'].apply(lambda x: 'student' if x>=0.5 else \"staff\")"
   ]
  },
  {
   "cell_type": "code",
   "execution_count": 88,
   "metadata": {},
   "outputs": [
    {
     "name": "stdout",
     "output_type": "stream",
     "text": [
      "student ATE = 16.79 %\n",
      "staff ATE = 10.26 %\n"
     ]
    }
   ],
   "source": [
    "list_viz = []\n",
    "\n",
    "for status in ['student', 'staff']:\n",
    "    df_tmp = df.loc[df['partner_student'] == status]\n",
    "    \n",
    "    treated_p = df_tmp.loc[df_tmp['exposure']==1]['outcome'].value_counts(normalize = True)[1]\n",
    "    control_p = df_tmp.loc[df_tmp['exposure']==0]['outcome'].value_counts(normalize = True)[1]\n",
    "\n",
    "    print(status, 'ATE =', round(100*(treated_p - control_p),2),'%')\n",
    "    \n",
    "    entry = {}\n",
    "\n",
    "    entry['treated_p'] = treated_p\n",
    "    entry['control_p'] = control_p\n",
    "\n",
    "    entry['ATE'] = treated_p - control_p\n",
    "    \n",
    "    ys = []\n",
    "    for iteration in range(1000):\n",
    "        pos_tmp = df_tmp.loc[df_tmp['exposure']==1].sample(len(df_tmp.loc[df_tmp['exposure']==1]), replace = True)['outcome'].value_counts(normalize = True)[1]\n",
    "        neg_tmp = df_tmp.loc[df_tmp['exposure']==0].sample(len(df_tmp.loc[df_tmp['exposure']==1]), replace = True)['outcome'].value_counts(normalize = True)[1]   \n",
    "\n",
    "        y_tmp = pos_tmp - neg_tmp\n",
    "\n",
    "        ys.append(y_tmp)\n",
    "\n",
    "    entry['lower_error'] = (np.percentile(np.array(ys), 2.5))\n",
    "    entry['upper_error'] = (np.percentile(np.array(ys),97.5))\n",
    "    \n",
    "    entry['status'] = status\n",
    "    list_viz.append(entry)"
   ]
  },
  {
   "cell_type": "code",
   "execution_count": 89,
   "metadata": {},
   "outputs": [
    {
     "data": {
      "text/html": [
       "<div>\n",
       "<style scoped>\n",
       "    .dataframe tbody tr th:only-of-type {\n",
       "        vertical-align: middle;\n",
       "    }\n",
       "\n",
       "    .dataframe tbody tr th {\n",
       "        vertical-align: top;\n",
       "    }\n",
       "\n",
       "    .dataframe thead th {\n",
       "        text-align: right;\n",
       "    }\n",
       "</style>\n",
       "<table border=\"1\" class=\"dataframe\">\n",
       "  <thead>\n",
       "    <tr style=\"text-align: right;\">\n",
       "      <th></th>\n",
       "      <th>treated_p</th>\n",
       "      <th>control_p</th>\n",
       "      <th>ATE</th>\n",
       "      <th>lower_error</th>\n",
       "      <th>upper_error</th>\n",
       "      <th>status</th>\n",
       "    </tr>\n",
       "  </thead>\n",
       "  <tbody>\n",
       "    <tr>\n",
       "      <th>0</th>\n",
       "      <td>0.319000</td>\n",
       "      <td>0.151107</td>\n",
       "      <td>0.167893</td>\n",
       "      <td>0.161344</td>\n",
       "      <td>0.174677</td>\n",
       "      <td>student</td>\n",
       "    </tr>\n",
       "    <tr>\n",
       "      <th>1</th>\n",
       "      <td>0.302981</td>\n",
       "      <td>0.200349</td>\n",
       "      <td>0.102632</td>\n",
       "      <td>0.094387</td>\n",
       "      <td>0.111193</td>\n",
       "      <td>staff</td>\n",
       "    </tr>\n",
       "  </tbody>\n",
       "</table>\n",
       "</div>"
      ],
      "text/plain": [
       "   treated_p  control_p       ATE  lower_error  upper_error   status\n",
       "0   0.319000   0.151107  0.167893     0.161344     0.174677  student\n",
       "1   0.302981   0.200349  0.102632     0.094387     0.111193    staff"
      ]
     },
     "execution_count": 89,
     "metadata": {},
     "output_type": "execute_result"
    }
   ],
   "source": [
    "df_plot = pd.DataFrame(list_viz)\n",
    "\n",
    "df_plot"
   ]
  },
  {
   "cell_type": "code",
   "execution_count": 90,
   "metadata": {},
   "outputs": [],
   "source": [
    "randomized = pd.read_pickle('student_partner_randomized')"
   ]
  },
  {
   "cell_type": "code",
   "execution_count": 91,
   "metadata": {},
   "outputs": [
    {
     "data": {
      "text/html": [
       "<div>\n",
       "<style scoped>\n",
       "    .dataframe tbody tr th:only-of-type {\n",
       "        vertical-align: middle;\n",
       "    }\n",
       "\n",
       "    .dataframe tbody tr th {\n",
       "        vertical-align: top;\n",
       "    }\n",
       "\n",
       "    .dataframe thead th {\n",
       "        text-align: right;\n",
       "    }\n",
       "</style>\n",
       "<table border=\"1\" class=\"dataframe\">\n",
       "  <thead>\n",
       "    <tr style=\"text-align: right;\">\n",
       "      <th></th>\n",
       "      <th>treated_p</th>\n",
       "      <th>control_p</th>\n",
       "      <th>ATE</th>\n",
       "      <th>lower_error</th>\n",
       "      <th>upper_error</th>\n",
       "      <th>status</th>\n",
       "    </tr>\n",
       "  </thead>\n",
       "  <tbody>\n",
       "    <tr>\n",
       "      <th>0</th>\n",
       "      <td>0.134973</td>\n",
       "      <td>0.123215</td>\n",
       "      <td>0.011758</td>\n",
       "      <td>0.006792</td>\n",
       "      <td>0.016466</td>\n",
       "      <td>student</td>\n",
       "    </tr>\n",
       "    <tr>\n",
       "      <th>1</th>\n",
       "      <td>0.182163</td>\n",
       "      <td>0.173086</td>\n",
       "      <td>0.009077</td>\n",
       "      <td>0.002365</td>\n",
       "      <td>0.015944</td>\n",
       "      <td>staff</td>\n",
       "    </tr>\n",
       "  </tbody>\n",
       "</table>\n",
       "</div>"
      ],
      "text/plain": [
       "   treated_p  control_p       ATE  lower_error  upper_error   status\n",
       "0   0.134973   0.123215  0.011758     0.006792     0.016466  student\n",
       "1   0.182163   0.173086  0.009077     0.002365     0.015944    staff"
      ]
     },
     "execution_count": 91,
     "metadata": {},
     "output_type": "execute_result"
    }
   ],
   "source": [
    "randomized"
   ]
  },
  {
   "cell_type": "code",
   "execution_count": 92,
   "metadata": {},
   "outputs": [
    {
     "data": {
      "image/png": "[encoded data removed]",
      "text/plain": [
       "<Figure size 288x144 with 1 Axes>"
      ]
     },
     "metadata": {
      "needs_background": "light"
     },
     "output_type": "display_data"
    }
   ],
   "source": [
    "\n",
    "\n",
    "fix, axes = plt.subplots(1,1, figsize = (4,2))\n",
    "\n",
    "types = []\n",
    "\n",
    "c = 0\n",
    "for cnt,row in df_plot.sort_values(by = 'ATE', ascending = False).iterrows():\n",
    "    plt.hlines(2-cnt, -1,4, color = 'gray', linestyle = '--')\n",
    "    plt.errorbar([row['ATE']],[2-c], xerr = (np.array([row['ATE'] - row['lower_error']]), np.array([row['upper_error']- row['ATE']])),\n",
    "                 fmt = '|', markersize= 8,color = 'tab:blue', linewidth = 3)\n",
    "    types.append(row['status'])\n",
    "    \n",
    "    baseline = randomized.loc[(randomized['status']==row['status'])].iloc[0]\n",
    "    \n",
    "    if c==0:\n",
    "        plt.errorbar([baseline['ATE']],[2-c], xerr = (np.array([baseline['ATE'] - baseline['lower_error']]), \n",
    "                                                  np.array([baseline['upper_error']- baseline['ATE']])),\n",
    "                 fmt = '|', markersize= 8,color = 'black', linewidth = 3, label = 'Randomized\\n queues')\n",
    "    else:\n",
    "        plt.errorbar([baseline['ATE']],[2-c], xerr = (np.array([baseline['ATE'] - baseline['lower_error']]), \n",
    "                                                  np.array([baseline['upper_error']- baseline['ATE']])),\n",
    "                 fmt = '|', markersize= 8,color = 'black', linewidth = 3)\n",
    "    c+=1\n",
    "plt.yticks(2-np.array(range(len(additions['LUNCH']))), [i.replace('_',' ').capitalize() for i in types]);\n",
    "\n",
    "plt.xlim([-0.1,0.3])\n",
    "\n",
    "plt.vlines(0,0.5,2.5, linestyle = '--')\n",
    "\n",
    "plt.xlabel('RD', fontsize =12)\n",
    "plt.ylabel('Partner status, \\nestimated')\n",
    "plt.legend()\n",
    "\n",
    "\n",
    "plt.savefig('figures/fig10.pdf', bbox_inches='tight')\n"
   ]
  },
  {
   "cell_type": "markdown",
   "metadata": {},
   "source": [
    "### e.2 focal"
   ]
  },
  {
   "cell_type": "code",
   "execution_count": 93,
   "metadata": {},
   "outputs": [
    {
     "name": "stdout",
     "output_type": "stream",
     "text": [
      "student ATE = 17.01 %\n",
      "staff ATE = 10.02 %\n"
     ]
    }
   ],
   "source": [
    "list_viz = []\n",
    "\n",
    "for status in ['student', 'staff']:\n",
    "    df_tmp = df.loc[df['focal_student'] == status]\n",
    "    \n",
    "    treated_p = df_tmp.loc[df_tmp['exposure']==1]['outcome'].value_counts(normalize = True)[1]\n",
    "    control_p = df_tmp.loc[df_tmp['exposure']==0]['outcome'].value_counts(normalize = True)[1]\n",
    "\n",
    "    print(status, 'ATE =', round(100*(treated_p - control_p),2),'%')\n",
    "    \n",
    "    entry = {}\n",
    "\n",
    "    entry['treated_p'] = treated_p\n",
    "    entry['control_p'] = control_p\n",
    "\n",
    "    entry['ATE'] = treated_p - control_p\n",
    "    \n",
    "    ys = []\n",
    "    for iteration in range(1000):\n",
    "        pos_tmp = df_tmp.loc[df_tmp['exposure']==1].sample(len(df_tmp.loc[df_tmp['exposure']==1]), replace = True)['outcome'].value_counts(normalize = True)[1]\n",
    "        neg_tmp = df_tmp.loc[df_tmp['exposure']==0].sample(len(df_tmp.loc[df_tmp['exposure']==1]), replace = True)['outcome'].value_counts(normalize = True)[1]   \n",
    "\n",
    "        y_tmp = pos_tmp - neg_tmp\n",
    "\n",
    "        ys.append(y_tmp)\n",
    "\n",
    "    entry['lower_error'] = (np.percentile(np.array(ys), 2.5))\n",
    "    entry['upper_error'] = (np.percentile(np.array(ys),97.5))\n",
    "    \n",
    "    entry['status'] = status\n",
    "    list_viz.append(entry)"
   ]
  },
  {
   "cell_type": "code",
   "execution_count": 94,
   "metadata": {},
   "outputs": [
    {
     "data": {
      "text/html": [
       "<div>\n",
       "<style scoped>\n",
       "    .dataframe tbody tr th:only-of-type {\n",
       "        vertical-align: middle;\n",
       "    }\n",
       "\n",
       "    .dataframe tbody tr th {\n",
       "        vertical-align: top;\n",
       "    }\n",
       "\n",
       "    .dataframe thead th {\n",
       "        text-align: right;\n",
       "    }\n",
       "</style>\n",
       "<table border=\"1\" class=\"dataframe\">\n",
       "  <thead>\n",
       "    <tr style=\"text-align: right;\">\n",
       "      <th></th>\n",
       "      <th>treated_p</th>\n",
       "      <th>control_p</th>\n",
       "      <th>ATE</th>\n",
       "      <th>lower_error</th>\n",
       "      <th>upper_error</th>\n",
       "      <th>status</th>\n",
       "    </tr>\n",
       "  </thead>\n",
       "  <tbody>\n",
       "    <tr>\n",
       "      <th>0</th>\n",
       "      <td>0.323749</td>\n",
       "      <td>0.153667</td>\n",
       "      <td>0.170081</td>\n",
       "      <td>0.163191</td>\n",
       "      <td>0.176359</td>\n",
       "      <td>student</td>\n",
       "    </tr>\n",
       "    <tr>\n",
       "      <th>1</th>\n",
       "      <td>0.295935</td>\n",
       "      <td>0.195759</td>\n",
       "      <td>0.100176</td>\n",
       "      <td>0.091686</td>\n",
       "      <td>0.109327</td>\n",
       "      <td>staff</td>\n",
       "    </tr>\n",
       "  </tbody>\n",
       "</table>\n",
       "</div>"
      ],
      "text/plain": [
       "   treated_p  control_p       ATE  lower_error  upper_error   status\n",
       "0   0.323749   0.153667  0.170081     0.163191     0.176359  student\n",
       "1   0.295935   0.195759  0.100176     0.091686     0.109327    staff"
      ]
     },
     "execution_count": 94,
     "metadata": {},
     "output_type": "execute_result"
    }
   ],
   "source": [
    "df_plot = pd.DataFrame(list_viz)\n",
    "\n",
    "df_plot"
   ]
  },
  {
   "cell_type": "code",
   "execution_count": 95,
   "metadata": {},
   "outputs": [],
   "source": [
    "randomized = pd.read_pickle('student_focal_randomized')"
   ]
  },
  {
   "cell_type": "code",
   "execution_count": 96,
   "metadata": {},
   "outputs": [
    {
     "data": {
      "image/png": "[encoded data removed]",
      "text/plain": [
       "<Figure size 288x144 with 1 Axes>"
      ]
     },
     "metadata": {
      "needs_background": "light"
     },
     "output_type": "display_data"
    }
   ],
   "source": [
    "fix, axes = plt.subplots(1,1, figsize = (4,2))\n",
    "\n",
    "types = []\n",
    "\n",
    "c = 0\n",
    "for cnt,row in df_plot.sort_values(by = 'ATE', ascending = False).iterrows():\n",
    "    plt.hlines(2-cnt, -1,4, color = 'gray', linestyle = '--')\n",
    "    plt.errorbar([row['ATE']],[2-c], xerr = (np.array([row['ATE'] - row['lower_error']]), np.array([row['upper_error']- row['ATE']])),\n",
    "                 fmt = '|', markersize= 8,color = 'tab:blue', linewidth = 3)\n",
    "    types.append(row['status'])\n",
    "    \n",
    "    baseline = randomized.loc[(randomized['status']==row['status'])].iloc[0]\n",
    "    \n",
    "    if c==0:\n",
    "        plt.errorbar([baseline['ATE']],[2-c], xerr = (np.array([baseline['ATE'] - baseline['lower_error']]), \n",
    "                                                  np.array([baseline['upper_error']- baseline['ATE']])),\n",
    "                 fmt = '|', markersize= 8,color = 'black', linewidth = 3, label = 'Randomized\\n queues')\n",
    "    else:\n",
    "        plt.errorbar([baseline['ATE']],[2-c], xerr = (np.array([baseline['ATE'] - baseline['lower_error']]), \n",
    "                                                  np.array([baseline['upper_error']- baseline['ATE']])),\n",
    "                 fmt = '|', markersize= 8,color = 'black', linewidth = 3)\n",
    "    c+=1\n",
    "plt.yticks(2-np.array(range(len(additions['LUNCH']))), [i.replace('_',' ').capitalize() for i in types]);\n",
    "\n",
    "plt.xlim([-0.1,0.3])\n",
    "\n",
    "plt.vlines(0,0.5,2.5, linestyle = '--')\n",
    "\n",
    "plt.xlabel('RD', fontsize =12)\n",
    "plt.ylabel('Focal status, \\nestimated')\n",
    "plt.legend()\n",
    "\n",
    "\n",
    "plt.savefig('figures/fig11.pdf', bbox_inches='tight')"
   ]
  },
  {
   "cell_type": "markdown",
   "metadata": {},
   "source": [
    "### e.3 cross"
   ]
  },
  {
   "cell_type": "code",
   "execution_count": 97,
   "metadata": {},
   "outputs": [
    {
     "name": "stdout",
     "output_type": "stream",
     "text": [
      "staff ATE = 17.89 %\n",
      "staff ATE = 12.15 %\n",
      "staff ATE = 11.05 %\n",
      "staff ATE = 9.68 %\n"
     ]
    }
   ],
   "source": [
    "list_viz = []\n",
    "\n",
    "for status1 in ['student', 'staff']:\n",
    "    for status2 in ['student', 'staff']:\n",
    "        df_tmp = df.loc[(df['focal_student'] == status1) & (df['partner_student'] == status2)]\n",
    "\n",
    "        treated_p = df_tmp.loc[df_tmp['exposure']==1]['outcome'].value_counts(normalize = True)[1]\n",
    "        control_p = df_tmp.loc[df_tmp['exposure']==0]['outcome'].value_counts(normalize = True)[1]\n",
    "\n",
    "        print(status, 'ATE =', round(100*(treated_p - control_p),2),'%')\n",
    "\n",
    "        entry = {}\n",
    "\n",
    "        entry['treated_p'] = treated_p\n",
    "        entry['control_p'] = control_p\n",
    "\n",
    "        entry['ATE'] = treated_p - control_p\n",
    "\n",
    "        ys = []\n",
    "        for iteration in range(1000):\n",
    "            pos_tmp = df_tmp.loc[df_tmp['exposure']==1].sample(len(df_tmp.loc[df_tmp['exposure']==1]), replace = True)['outcome'].value_counts(normalize = True)[1]\n",
    "            neg_tmp = df_tmp.loc[df_tmp['exposure']==0].sample(len(df_tmp.loc[df_tmp['exposure']==1]), replace = True)['outcome'].value_counts(normalize = True)[1]   \n",
    "\n",
    "            y_tmp = pos_tmp - neg_tmp\n",
    "\n",
    "            ys.append(y_tmp)\n",
    "\n",
    "        entry['lower_error'] = (np.percentile(np.array(ys), 2.5))\n",
    "        entry['upper_error'] = (np.percentile(np.array(ys),97.5))\n",
    "\n",
    "        entry['status'] = status1 + 'X' + status2\n",
    "        list_viz.append(entry)"
   ]
  },
  {
   "cell_type": "code",
   "execution_count": 98,
   "metadata": {},
   "outputs": [
    {
     "data": {
      "text/html": [
       "<div>\n",
       "<style scoped>\n",
       "    .dataframe tbody tr th:only-of-type {\n",
       "        vertical-align: middle;\n",
       "    }\n",
       "\n",
       "    .dataframe tbody tr th {\n",
       "        vertical-align: top;\n",
       "    }\n",
       "\n",
       "    .dataframe thead th {\n",
       "        text-align: right;\n",
       "    }\n",
       "</style>\n",
       "<table border=\"1\" class=\"dataframe\">\n",
       "  <thead>\n",
       "    <tr style=\"text-align: right;\">\n",
       "      <th></th>\n",
       "      <th>treated_p</th>\n",
       "      <th>control_p</th>\n",
       "      <th>ATE</th>\n",
       "      <th>lower_error</th>\n",
       "      <th>upper_error</th>\n",
       "      <th>status</th>\n",
       "    </tr>\n",
       "  </thead>\n",
       "  <tbody>\n",
       "    <tr>\n",
       "      <th>0</th>\n",
       "      <td>0.328670</td>\n",
       "      <td>0.149739</td>\n",
       "      <td>0.178931</td>\n",
       "      <td>0.171426</td>\n",
       "      <td>0.186229</td>\n",
       "      <td>studentXstudent</td>\n",
       "    </tr>\n",
       "    <tr>\n",
       "      <th>1</th>\n",
       "      <td>0.296788</td>\n",
       "      <td>0.175267</td>\n",
       "      <td>0.121522</td>\n",
       "      <td>0.102547</td>\n",
       "      <td>0.139319</td>\n",
       "      <td>studentXstaff</td>\n",
       "    </tr>\n",
       "    <tr>\n",
       "      <th>2</th>\n",
       "      <td>0.268713</td>\n",
       "      <td>0.158204</td>\n",
       "      <td>0.110509</td>\n",
       "      <td>0.094407</td>\n",
       "      <td>0.126582</td>\n",
       "      <td>staffXstudent</td>\n",
       "    </tr>\n",
       "    <tr>\n",
       "      <th>3</th>\n",
       "      <td>0.304921</td>\n",
       "      <td>0.208166</td>\n",
       "      <td>0.096755</td>\n",
       "      <td>0.086616</td>\n",
       "      <td>0.106962</td>\n",
       "      <td>staffXstaff</td>\n",
       "    </tr>\n",
       "  </tbody>\n",
       "</table>\n",
       "</div>"
      ],
      "text/plain": [
       "   treated_p  control_p       ATE  lower_error  upper_error           status\n",
       "0   0.328670   0.149739  0.178931     0.171426     0.186229  studentXstudent\n",
       "1   0.296788   0.175267  0.121522     0.102547     0.139319    studentXstaff\n",
       "2   0.268713   0.158204  0.110509     0.094407     0.126582    staffXstudent\n",
       "3   0.304921   0.208166  0.096755     0.086616     0.106962      staffXstaff"
      ]
     },
     "execution_count": 98,
     "metadata": {},
     "output_type": "execute_result"
    }
   ],
   "source": [
    "df_plot = pd.DataFrame(list_viz)\n",
    "\n",
    "df_plot"
   ]
  },
  {
   "cell_type": "code",
   "execution_count": 99,
   "metadata": {},
   "outputs": [],
   "source": [
    "randomized = pd.read_pickle('student_coss_randomized')"
   ]
  },
  {
   "cell_type": "code",
   "execution_count": 100,
   "metadata": {},
   "outputs": [
    {
     "data": {
      "text/html": [
       "<div>\n",
       "<style scoped>\n",
       "    .dataframe tbody tr th:only-of-type {\n",
       "        vertical-align: middle;\n",
       "    }\n",
       "\n",
       "    .dataframe tbody tr th {\n",
       "        vertical-align: top;\n",
       "    }\n",
       "\n",
       "    .dataframe thead th {\n",
       "        text-align: right;\n",
       "    }\n",
       "</style>\n",
       "<table border=\"1\" class=\"dataframe\">\n",
       "  <thead>\n",
       "    <tr style=\"text-align: right;\">\n",
       "      <th></th>\n",
       "      <th>treated_p</th>\n",
       "      <th>control_p</th>\n",
       "      <th>ATE</th>\n",
       "      <th>lower_error</th>\n",
       "      <th>upper_error</th>\n",
       "      <th>status</th>\n",
       "    </tr>\n",
       "  </thead>\n",
       "  <tbody>\n",
       "    <tr>\n",
       "      <th>0</th>\n",
       "      <td>0.131196</td>\n",
       "      <td>0.118391</td>\n",
       "      <td>0.012805</td>\n",
       "      <td>0.008020</td>\n",
       "      <td>0.018150</td>\n",
       "      <td>studentXstudent</td>\n",
       "    </tr>\n",
       "    <tr>\n",
       "      <th>1</th>\n",
       "      <td>0.166190</td>\n",
       "      <td>0.154802</td>\n",
       "      <td>0.011387</td>\n",
       "      <td>-0.001117</td>\n",
       "      <td>0.024809</td>\n",
       "      <td>studentXstaff</td>\n",
       "    </tr>\n",
       "    <tr>\n",
       "      <th>2</th>\n",
       "      <td>0.155325</td>\n",
       "      <td>0.148988</td>\n",
       "      <td>0.006337</td>\n",
       "      <td>-0.006086</td>\n",
       "      <td>0.018409</td>\n",
       "      <td>staffXstudent</td>\n",
       "    </tr>\n",
       "    <tr>\n",
       "      <th>3</th>\n",
       "      <td>0.187434</td>\n",
       "      <td>0.179002</td>\n",
       "      <td>0.008432</td>\n",
       "      <td>0.000735</td>\n",
       "      <td>0.015800</td>\n",
       "      <td>staffXstaff</td>\n",
       "    </tr>\n",
       "  </tbody>\n",
       "</table>\n",
       "</div>"
      ],
      "text/plain": [
       "   treated_p  control_p       ATE  lower_error  upper_error           status\n",
       "0   0.131196   0.118391  0.012805     0.008020     0.018150  studentXstudent\n",
       "1   0.166190   0.154802  0.011387    -0.001117     0.024809    studentXstaff\n",
       "2   0.155325   0.148988  0.006337    -0.006086     0.018409    staffXstudent\n",
       "3   0.187434   0.179002  0.008432     0.000735     0.015800      staffXstaff"
      ]
     },
     "execution_count": 100,
     "metadata": {},
     "output_type": "execute_result"
    }
   ],
   "source": [
    "randomized"
   ]
  },
  {
   "cell_type": "code",
   "execution_count": 101,
   "metadata": {},
   "outputs": [
    {
     "data": {
      "image/png": "[encoded data removed]",
      "text/plain": [
       "<Figure size 288x288 with 1 Axes>"
      ]
     },
     "metadata": {
      "needs_background": "light"
     },
     "output_type": "display_data"
    }
   ],
   "source": [
    "fix, axes = plt.subplots(1,1, figsize = (4,4))\n",
    "\n",
    "types = []\n",
    "\n",
    "c = 0\n",
    "for cnt,row in df_plot.sort_values(by = 'ATE', ascending = False).iterrows():\n",
    "    plt.hlines(4-cnt, -1,4, color = 'gray', linestyle = '--')\n",
    "    plt.errorbar([row['ATE']],[4-c], xerr = (np.array([row['ATE'] - row['lower_error']]), np.array([row['upper_error']- row['ATE']])),\n",
    "                 fmt = '|', markersize= 8,color = 'tab:blue', linewidth = 3)\n",
    "    \n",
    "    baseline = randomized.loc[(randomized['status']==row['status'])].iloc[0]\n",
    "    if c==0:\n",
    "        plt.errorbar([baseline['ATE']],[4-c], xerr = (np.array([baseline['ATE'] - baseline['lower_error']]), \n",
    "                                                  np.array([baseline['upper_error']- baseline['ATE']])),\n",
    "                 fmt = '|', markersize= 8,color = 'black', linewidth = 3, label = 'Randomized\\n queues')\n",
    "    else:\n",
    "        plt.errorbar([baseline['ATE']],[4-c], xerr = (np.array([baseline['ATE'] - baseline['lower_error']]), \n",
    "                                                  np.array([baseline['upper_error']- baseline['ATE']])),\n",
    "                 fmt = '|', markersize= 8,color = 'black', linewidth = 3)\n",
    "    \n",
    "    types.append(row['status'])\n",
    "    c+=1\n",
    "plt.yticks(4-np.array(range(len(additions['LUNCH']))), [i.replace('X',' X ').capitalize() for i in types]);\n",
    "\n",
    "plt.xlim([-0.1,0.3])\n",
    "\n",
    "plt.vlines(0,0.5,4.5, linestyle = '--')\n",
    "\n",
    "plt.xlabel('RD', fontsize =12)\n",
    "plt.ylabel('Focal X partner status, \\nestimated')\n",
    "plt.legend()\n",
    "\n",
    "plt.savefig('figures/fig12.pdf', bbox_inches='tight')"
   ]
  },
  {
   "cell_type": "markdown",
   "metadata": {},
   "source": [
    "### Only a4c"
   ]
  },
  {
   "cell_type": "code",
   "execution_count": 102,
   "metadata": {},
   "outputs": [],
   "source": [
    "def status_a4c_staff(x):\n",
    "    if x==1:\n",
    "        return 'student'\n",
    "    if x==0:\n",
    "        return 'staff'\n",
    "    else:\n",
    "        return 'unknown'"
   ]
  },
  {
   "cell_type": "code",
   "execution_count": 103,
   "metadata": {},
   "outputs": [],
   "source": [
    "df['partner_student'] = df['partner_p_student'].apply(lambda x: 'student' if x>=0.5 else \"staff\")\n",
    "df['focal_student'] = df['focal_p_student'].apply(lambda x: 'student' if x>=0.5 else \"staff\")"
   ]
  },
  {
   "cell_type": "code",
   "execution_count": 104,
   "metadata": {},
   "outputs": [],
   "source": [
    "df['a4c_partner_student'] = df['partner_p_student'].apply(lambda x: status_a4c_staff(x))\n",
    "df['a4c_focal_student'] = df['focal_p_student'].apply(lambda x: status_a4c_staff(x))"
   ]
  },
  {
   "cell_type": "code",
   "execution_count": 105,
   "metadata": {},
   "outputs": [
    {
     "name": "stdout",
     "output_type": "stream",
     "text": [
      "student ATE = 10.75 %\n",
      "staff ATE = 5.71 %\n"
     ]
    }
   ],
   "source": [
    "list_viz = []\n",
    "\n",
    "for status in ['student', 'staff']:\n",
    "    df_tmp = df.loc[df['a4c_partner_student'] == status]\n",
    "    \n",
    "    treated_p = df_tmp.loc[df_tmp['exposure']==1]['outcome'].value_counts(normalize = True)[1]\n",
    "    control_p = df_tmp.loc[df_tmp['exposure']==0]['outcome'].value_counts(normalize = True)[1]\n",
    "\n",
    "    print(status, 'ATE =', round(100*(treated_p - control_p),2),'%')\n",
    "    \n",
    "    entry = {}\n",
    "\n",
    "    entry['treated_p'] = treated_p\n",
    "    entry['control_p'] = control_p\n",
    "\n",
    "    entry['ATE'] = treated_p - control_p\n",
    "    \n",
    "    ys = []\n",
    "    for iteration in range(1000):\n",
    "        pos_tmp = df_tmp.loc[df_tmp['exposure']==1].sample(len(df_tmp.loc[df_tmp['exposure']==1]), replace = True)['outcome'].value_counts(normalize = True)[1]\n",
    "        neg_tmp = df_tmp.loc[df_tmp['exposure']==0].sample(len(df_tmp.loc[df_tmp['exposure']==1]), replace = True)['outcome'].value_counts(normalize = True)[1]   \n",
    "\n",
    "        y_tmp = pos_tmp - neg_tmp\n",
    "\n",
    "        ys.append(y_tmp)\n",
    "\n",
    "    entry['lower_error'] = (np.percentile(np.array(ys), 2.5))\n",
    "    entry['upper_error'] = (np.percentile(np.array(ys),97.5))\n",
    "    \n",
    "    entry['status'] = status\n",
    "    list_viz.append(entry)"
   ]
  },
  {
   "cell_type": "code",
   "execution_count": 106,
   "metadata": {},
   "outputs": [
    {
     "data": {
      "text/html": [
       "<div>\n",
       "<style scoped>\n",
       "    .dataframe tbody tr th:only-of-type {\n",
       "        vertical-align: middle;\n",
       "    }\n",
       "\n",
       "    .dataframe tbody tr th {\n",
       "        vertical-align: top;\n",
       "    }\n",
       "\n",
       "    .dataframe thead th {\n",
       "        text-align: right;\n",
       "    }\n",
       "</style>\n",
       "<table border=\"1\" class=\"dataframe\">\n",
       "  <thead>\n",
       "    <tr style=\"text-align: right;\">\n",
       "      <th></th>\n",
       "      <th>treated_p</th>\n",
       "      <th>control_p</th>\n",
       "      <th>ATE</th>\n",
       "      <th>lower_error</th>\n",
       "      <th>upper_error</th>\n",
       "      <th>status</th>\n",
       "    </tr>\n",
       "  </thead>\n",
       "  <tbody>\n",
       "    <tr>\n",
       "      <th>0</th>\n",
       "      <td>0.267748</td>\n",
       "      <td>0.160243</td>\n",
       "      <td>0.107505</td>\n",
       "      <td>0.054767</td>\n",
       "      <td>0.156187</td>\n",
       "      <td>student</td>\n",
       "    </tr>\n",
       "    <tr>\n",
       "      <th>1</th>\n",
       "      <td>0.223602</td>\n",
       "      <td>0.166460</td>\n",
       "      <td>0.057143</td>\n",
       "      <td>0.017360</td>\n",
       "      <td>0.095683</td>\n",
       "      <td>staff</td>\n",
       "    </tr>\n",
       "  </tbody>\n",
       "</table>\n",
       "</div>"
      ],
      "text/plain": [
       "   treated_p  control_p       ATE  lower_error  upper_error   status\n",
       "0   0.267748   0.160243  0.107505     0.054767     0.156187  student\n",
       "1   0.223602   0.166460  0.057143     0.017360     0.095683    staff"
      ]
     },
     "execution_count": 106,
     "metadata": {},
     "output_type": "execute_result"
    }
   ],
   "source": [
    "df_plot = pd.DataFrame(list_viz)\n",
    "\n",
    "df_plot"
   ]
  },
  {
   "cell_type": "code",
   "execution_count": 107,
   "metadata": {},
   "outputs": [],
   "source": [
    "randomized = pd.read_pickle('a4c_student_partner_randomized')"
   ]
  },
  {
   "cell_type": "code",
   "execution_count": 108,
   "metadata": {},
   "outputs": [
    {
     "data": {
      "image/png": "[encoded data removed]",
      "text/plain": [
       "<Figure size 288x144 with 1 Axes>"
      ]
     },
     "metadata": {
      "needs_background": "light"
     },
     "output_type": "display_data"
    }
   ],
   "source": [
    "\n",
    "fix, axes = plt.subplots(1,1, figsize = (4,2))\n",
    "\n",
    "types = []\n",
    "\n",
    "c = 0\n",
    "for cnt,row in df_plot.sort_values(by = 'ATE', ascending = False).iterrows():\n",
    "    plt.hlines(2-cnt, -1,4, color = 'gray', linestyle = '--')\n",
    "    plt.errorbar([row['ATE']],[2-c+0.05], xerr = (np.array([row['ATE'] - row['lower_error']]), np.array([row['upper_error']- row['ATE']])),\n",
    "                 fmt = '|', markersize= 8,color = 'tab:blue', linewidth = 3)\n",
    "    types.append(row['status'])\n",
    "    \n",
    "    baseline = randomized.loc[(randomized['status']==row['status'])].iloc[0]\n",
    "    \n",
    "    if c==0:\n",
    "        plt.errorbar([baseline['ATE']],[2-c-0.05], xerr = (np.array([baseline['ATE'] - baseline['lower_error']]), \n",
    "                                                  np.array([baseline['upper_error']- baseline['ATE']])),\n",
    "                 fmt = '|', markersize= 8,color = 'black', linewidth = 3, label = 'Randomized\\n queues')\n",
    "    else:\n",
    "        plt.errorbar([baseline['ATE']],[2-c-0.05], xerr = (np.array([baseline['ATE'] - baseline['lower_error']]), \n",
    "                                                  np.array([baseline['upper_error']- baseline['ATE']])),\n",
    "                 fmt = '|', markersize= 8,color = 'black', linewidth = 3)\n",
    "    c+=1\n",
    "plt.yticks(2-np.array(range(len(additions['LUNCH']))), [i.replace('_',' ').capitalize() for i in types]);\n",
    "\n",
    "plt.xlim([-0.1,0.3])\n",
    "\n",
    "plt.vlines(0,0.5,2.5, linestyle = '--')\n",
    "\n",
    "plt.xlabel('RD', fontsize =12)\n",
    "plt.ylabel('Partner status')\n",
    "plt.legend(loc = 'lower right')\n",
    "\n",
    "plt.savefig('figures/fig13.pdf', bbox_inches='tight')"
   ]
  },
  {
   "cell_type": "code",
   "execution_count": 109,
   "metadata": {},
   "outputs": [
    {
     "name": "stdout",
     "output_type": "stream",
     "text": [
      "student ATE = 14.17 %\n",
      "staff ATE = 7.15 %\n"
     ]
    }
   ],
   "source": [
    "list_viz = []\n",
    "\n",
    "for status in ['student', 'staff']:\n",
    "    df_tmp = df.loc[df['a4c_focal_student'] == status]\n",
    "    \n",
    "    treated_p = df_tmp.loc[df_tmp['exposure']==1]['outcome'].value_counts(normalize = True)[1]\n",
    "    control_p = df_tmp.loc[df_tmp['exposure']==0]['outcome'].value_counts(normalize = True)[1]\n",
    "\n",
    "    print(status, 'ATE =', round(100*(treated_p - control_p),2),'%')\n",
    "    \n",
    "    entry = {}\n",
    "\n",
    "    entry['treated_p'] = treated_p\n",
    "    entry['control_p'] = control_p\n",
    "\n",
    "    entry['ATE'] = treated_p - control_p\n",
    "    \n",
    "    ys = []\n",
    "    for iteration in range(1000):\n",
    "        pos_tmp = df_tmp.loc[df_tmp['exposure']==1].sample(len(df_tmp.loc[df_tmp['exposure']==1]), replace = True)['outcome'].value_counts(normalize = True)[1]\n",
    "        neg_tmp = df_tmp.loc[df_tmp['exposure']==0].sample(len(df_tmp.loc[df_tmp['exposure']==1]), replace = True)['outcome'].value_counts(normalize = True)[1]   \n",
    "\n",
    "        y_tmp = pos_tmp - neg_tmp\n",
    "\n",
    "        ys.append(y_tmp)\n",
    "\n",
    "    entry['lower_error'] = (np.percentile(np.array(ys), 2.5))\n",
    "    entry['upper_error'] = (np.percentile(np.array(ys),97.5))\n",
    "    \n",
    "    entry['status'] = status\n",
    "    list_viz.append(entry)"
   ]
  },
  {
   "cell_type": "code",
   "execution_count": 110,
   "metadata": {},
   "outputs": [
    {
     "data": {
      "text/html": [
       "<div>\n",
       "<style scoped>\n",
       "    .dataframe tbody tr th:only-of-type {\n",
       "        vertical-align: middle;\n",
       "    }\n",
       "\n",
       "    .dataframe tbody tr th {\n",
       "        vertical-align: top;\n",
       "    }\n",
       "\n",
       "    .dataframe thead th {\n",
       "        text-align: right;\n",
       "    }\n",
       "</style>\n",
       "<table border=\"1\" class=\"dataframe\">\n",
       "  <thead>\n",
       "    <tr style=\"text-align: right;\">\n",
       "      <th></th>\n",
       "      <th>treated_p</th>\n",
       "      <th>control_p</th>\n",
       "      <th>ATE</th>\n",
       "      <th>lower_error</th>\n",
       "      <th>upper_error</th>\n",
       "      <th>status</th>\n",
       "    </tr>\n",
       "  </thead>\n",
       "  <tbody>\n",
       "    <tr>\n",
       "      <th>0</th>\n",
       "      <td>0.253546</td>\n",
       "      <td>0.111811</td>\n",
       "      <td>0.141735</td>\n",
       "      <td>0.097473</td>\n",
       "      <td>0.187943</td>\n",
       "      <td>student</td>\n",
       "    </tr>\n",
       "    <tr>\n",
       "      <th>1</th>\n",
       "      <td>0.211475</td>\n",
       "      <td>0.139932</td>\n",
       "      <td>0.071544</td>\n",
       "      <td>0.029508</td>\n",
       "      <td>0.113156</td>\n",
       "      <td>staff</td>\n",
       "    </tr>\n",
       "  </tbody>\n",
       "</table>\n",
       "</div>"
      ],
      "text/plain": [
       "   treated_p  control_p       ATE  lower_error  upper_error   status\n",
       "0   0.253546   0.111811  0.141735     0.097473     0.187943  student\n",
       "1   0.211475   0.139932  0.071544     0.029508     0.113156    staff"
      ]
     },
     "execution_count": 110,
     "metadata": {},
     "output_type": "execute_result"
    }
   ],
   "source": [
    "df_plot = pd.DataFrame(list_viz)\n",
    "\n",
    "df_plot"
   ]
  },
  {
   "cell_type": "code",
   "execution_count": 111,
   "metadata": {},
   "outputs": [],
   "source": [
    "randomized = pd.read_pickle('a4c_student_focal_randomized')"
   ]
  },
  {
   "cell_type": "code",
   "execution_count": 112,
   "metadata": {},
   "outputs": [
    {
     "data": {
      "image/png": "[encoded data removed]",
      "text/plain": [
       "<Figure size 288x144 with 1 Axes>"
      ]
     },
     "metadata": {
      "needs_background": "light"
     },
     "output_type": "display_data"
    }
   ],
   "source": [
    "fix, axes = plt.subplots(1,1, figsize = (4,2))\n",
    "\n",
    "types = []\n",
    "\n",
    "c = 0\n",
    "for cnt,row in df_plot.sort_values(by = 'ATE', ascending = False).iterrows():\n",
    "    plt.hlines(2-cnt, -1,4, color = 'gray', linestyle = '--')\n",
    "    plt.errorbar([row['ATE']],[2-c+0.05], xerr = (np.array([row['ATE'] - row['lower_error']]), np.array([row['upper_error']- row['ATE']])),\n",
    "                 fmt = '|', markersize= 8,color = 'tab:blue', linewidth = 3)\n",
    "    types.append(row['status'])\n",
    "    \n",
    "    baseline = randomized.loc[(randomized['status']==row['status'])].iloc[0]\n",
    "    \n",
    "    if c==0:\n",
    "        plt.errorbar([baseline['ATE']],[2-c-0.05], xerr = (np.array([baseline['ATE'] - baseline['lower_error']]), \n",
    "                                                  np.array([baseline['upper_error']- baseline['ATE']])),\n",
    "                 fmt = '|', markersize= 8,color = 'black', linewidth = 3, label = 'Randomized\\n queues')\n",
    "    else:\n",
    "        plt.errorbar([baseline['ATE']],[2-c-0.05], xerr = (np.array([baseline['ATE'] - baseline['lower_error']]), \n",
    "                                                  np.array([baseline['upper_error']- baseline['ATE']])),\n",
    "                 fmt = '|', markersize= 8,color = 'black', linewidth = 3)\n",
    "    c+=1\n",
    "plt.yticks(2-np.array(range(len(additions['LUNCH']))), [i.replace('_',' ').capitalize() for i in types]);\n",
    "\n",
    "plt.xlim([-0.1,0.3])\n",
    "\n",
    "plt.vlines(0,0.5,2.5, linestyle = '--')\n",
    "\n",
    "plt.xlabel('RD', fontsize =12)\n",
    "plt.ylabel('Focal status')\n",
    "plt.legend()\n",
    "\n",
    "\n",
    "plt.savefig('figures/fig14.pdf', bbox_inches='tight')"
   ]
  },
  {
   "cell_type": "code",
   "execution_count": null,
   "metadata": {},
   "outputs": [],
   "source": []
  },
  {
   "cell_type": "markdown",
   "metadata": {},
   "source": [
    "## d) Gender"
   ]
  },
  {
   "cell_type": "markdown",
   "metadata": {},
   "source": [
    "### d.1 partner"
   ]
  },
  {
   "cell_type": "code",
   "execution_count": 113,
   "metadata": {},
   "outputs": [
    {
     "data": {
      "text/plain": [
       "unknown    94206\n",
       "female      1312\n",
       "male        1304\n",
       "Name: partner_gender, dtype: int64"
      ]
     },
     "execution_count": 113,
     "metadata": {},
     "output_type": "execute_result"
    }
   ],
   "source": [
    "df['partner_gender'].value_counts()"
   ]
  },
  {
   "cell_type": "code",
   "execution_count": 114,
   "metadata": {},
   "outputs": [
    {
     "data": {
      "text/plain": [
       "unknown    94411\n",
       "male        1314\n",
       "female      1097\n",
       "Name: focal_gender, dtype: int64"
      ]
     },
     "execution_count": 114,
     "metadata": {},
     "output_type": "execute_result"
    }
   ],
   "source": [
    "df['focal_gender'].value_counts()"
   ]
  },
  {
   "cell_type": "code",
   "execution_count": 115,
   "metadata": {},
   "outputs": [
    {
     "name": "stdout",
     "output_type": "stream",
     "text": [
      "male ATE = 7.52 %\n",
      "female ATE = 7.47 %\n"
     ]
    }
   ],
   "source": [
    "list_viz = []\n",
    "\n",
    "for gender in ['male', 'female']:\n",
    "    df_tmp = df.loc[df['partner_gender'] == gender]\n",
    "    \n",
    "    treated_p = df_tmp.loc[df_tmp['exposure']==1]['outcome'].value_counts(normalize = True)[1]\n",
    "    control_p = df_tmp.loc[df_tmp['exposure']==0]['outcome'].value_counts(normalize = True)[1]\n",
    "\n",
    "    print(gender, 'ATE =', round(100*(treated_p - control_p),2),'%')\n",
    "    \n",
    "    entry = {}\n",
    "\n",
    "    entry['treated_p'] = treated_p\n",
    "    entry['control_p'] = control_p\n",
    "\n",
    "    entry['ATE'] = treated_p - control_p\n",
    "    \n",
    "    ys = []\n",
    "    for iteration in range(1000):\n",
    "        pos_tmp = df_tmp.loc[df_tmp['exposure']==1].sample(len(df_tmp.loc[df_tmp['exposure']==1]), replace = True)['outcome'].value_counts(normalize = True)[1]\n",
    "        neg_tmp = df_tmp.loc[df_tmp['exposure']==0].sample(len(df_tmp.loc[df_tmp['exposure']==1]), replace = True)['outcome'].value_counts(normalize = True)[1]   \n",
    "\n",
    "        y_tmp = pos_tmp - neg_tmp\n",
    "\n",
    "        ys.append(y_tmp)\n",
    "\n",
    "    entry['lower_error'] = (np.percentile(np.array(ys), 2.5))\n",
    "    entry['upper_error'] = (np.percentile(np.array(ys),97.5))\n",
    "    \n",
    "    entry['gender'] = gender\n",
    "    list_viz.append(entry)"
   ]
  },
  {
   "cell_type": "code",
   "execution_count": 116,
   "metadata": {},
   "outputs": [
    {
     "data": {
      "text/html": [
       "<div>\n",
       "<style scoped>\n",
       "    .dataframe tbody tr th:only-of-type {\n",
       "        vertical-align: middle;\n",
       "    }\n",
       "\n",
       "    .dataframe tbody tr th {\n",
       "        vertical-align: top;\n",
       "    }\n",
       "\n",
       "    .dataframe thead th {\n",
       "        text-align: right;\n",
       "    }\n",
       "</style>\n",
       "<table border=\"1\" class=\"dataframe\">\n",
       "  <thead>\n",
       "    <tr style=\"text-align: right;\">\n",
       "      <th></th>\n",
       "      <th>treated_p</th>\n",
       "      <th>control_p</th>\n",
       "      <th>ATE</th>\n",
       "      <th>lower_error</th>\n",
       "      <th>upper_error</th>\n",
       "      <th>gender</th>\n",
       "    </tr>\n",
       "  </thead>\n",
       "  <tbody>\n",
       "    <tr>\n",
       "      <th>0</th>\n",
       "      <td>0.292945</td>\n",
       "      <td>0.217791</td>\n",
       "      <td>0.075153</td>\n",
       "      <td>0.029141</td>\n",
       "      <td>0.121166</td>\n",
       "      <td>male</td>\n",
       "    </tr>\n",
       "    <tr>\n",
       "      <th>1</th>\n",
       "      <td>0.185976</td>\n",
       "      <td>0.111280</td>\n",
       "      <td>0.074695</td>\n",
       "      <td>0.033537</td>\n",
       "      <td>0.114367</td>\n",
       "      <td>female</td>\n",
       "    </tr>\n",
       "  </tbody>\n",
       "</table>\n",
       "</div>"
      ],
      "text/plain": [
       "   treated_p  control_p       ATE  lower_error  upper_error  gender\n",
       "0   0.292945   0.217791  0.075153     0.029141     0.121166    male\n",
       "1   0.185976   0.111280  0.074695     0.033537     0.114367  female"
      ]
     },
     "execution_count": 116,
     "metadata": {},
     "output_type": "execute_result"
    }
   ],
   "source": [
    "df_plot = pd.DataFrame(list_viz)\n",
    "\n",
    "df_plot"
   ]
  },
  {
   "cell_type": "code",
   "execution_count": 117,
   "metadata": {},
   "outputs": [],
   "source": [
    "randomized = pd.read_pickle('gender_partner_randomized')"
   ]
  },
  {
   "cell_type": "code",
   "execution_count": 118,
   "metadata": {},
   "outputs": [
    {
     "data": {
      "image/png": "[encoded data removed]",
      "text/plain": [
       "<Figure size 288x144 with 1 Axes>"
      ]
     },
     "metadata": {
      "needs_background": "light"
     },
     "output_type": "display_data"
    }
   ],
   "source": [
    "\n",
    "fix, axes = plt.subplots(1,1, figsize = (4,2))\n",
    "\n",
    "types = []\n",
    "\n",
    "c = 0\n",
    "for cnt,row in df_plot.sort_values(by = 'ATE', ascending = False).iterrows():\n",
    "    plt.hlines(2-cnt, -1,4, color = 'gray', linestyle = '--')\n",
    "    plt.errorbar([row['ATE']],[2-c], xerr = (np.array([row['ATE'] - row['lower_error']]), np.array([row['upper_error']- row['ATE']])),\n",
    "                 fmt = '|', markersize= 8,color = 'tab:blue', linewidth = 3)\n",
    "    \n",
    "    baseline = randomized.loc[(randomized['gender']==row['gender'])].iloc[0]\n",
    "    \n",
    "    if c==0:\n",
    "        plt.errorbar([baseline['ATE']],[2-c-.1], xerr = (np.array([baseline['ATE'] - baseline['lower_error']]), \n",
    "                                                  np.array([baseline['upper_error']- baseline['ATE']])),\n",
    "                 fmt = '|', markersize= 8,color = 'black', linewidth = 3, label = 'Randomized\\n queues')\n",
    "    else:\n",
    "        plt.errorbar([baseline['ATE']],[2-c-.1], xerr = (np.array([baseline['ATE'] - baseline['lower_error']]), \n",
    "                                                  np.array([baseline['upper_error']- baseline['ATE']])),\n",
    "                 fmt = '|', markersize= 8,color = 'black', linewidth = 3)\n",
    "        \n",
    "        \n",
    "    types.append(row['gender'])\n",
    "    c+=1\n",
    "plt.yticks(2-np.array(range(len(additions['LUNCH']))), [i.replace('_',' ').capitalize() for i in types]);\n",
    "\n",
    "plt.xlim([-0.1,0.3])\n",
    "\n",
    "plt.vlines(0,0.5,2.5, linestyle = '--')\n",
    "\n",
    "plt.xlabel('RD', fontsize =12)\n",
    "plt.ylabel('Partner gender')\n",
    "plt.legend()\n",
    "\n",
    "plt.savefig('figures/fig15.pdf', bbox_inches='tight')"
   ]
  },
  {
   "cell_type": "markdown",
   "metadata": {},
   "source": [
    "### d.2 focal gender"
   ]
  },
  {
   "cell_type": "code",
   "execution_count": 119,
   "metadata": {},
   "outputs": [
    {
     "name": "stdout",
     "output_type": "stream",
     "text": [
      "male ATE = 9.35 %\n",
      "female ATE = 11.91 %\n"
     ]
    }
   ],
   "source": [
    "list_viz = []\n",
    "\n",
    "for gender in ['male', 'female']:\n",
    "    df_tmp = df.loc[df['focal_gender'] == gender]\n",
    "    \n",
    "    treated_p = df_tmp.loc[df_tmp['exposure']==1]['outcome'].value_counts(normalize = True)[1]\n",
    "    control_p = df_tmp.loc[df_tmp['exposure']==0]['outcome'].value_counts(normalize = True)[1]\n",
    "\n",
    "    print(gender, 'ATE =', round(100*(treated_p - control_p),2),'%')\n",
    "    \n",
    "    entry = {}\n",
    "\n",
    "    entry['treated_p'] = treated_p\n",
    "    entry['control_p'] = control_p\n",
    "\n",
    "    entry['ATE'] = treated_p - control_p\n",
    "    \n",
    "    ys = []\n",
    "    for iteration in range(1000):\n",
    "        pos_tmp = df_tmp.loc[df_tmp['exposure']==1].sample(len(df_tmp.loc[df_tmp['exposure']==1]), replace = True)['outcome'].value_counts(normalize = True)[1]\n",
    "        neg_tmp = df_tmp.loc[df_tmp['exposure']==0].sample(len(df_tmp.loc[df_tmp['exposure']==1]), replace = True)['outcome'].value_counts(normalize = True)[1]   \n",
    "\n",
    "        y_tmp = pos_tmp - neg_tmp\n",
    "\n",
    "        ys.append(y_tmp)\n",
    "\n",
    "    entry['lower_error'] = (np.percentile(np.array(ys), 2.5))\n",
    "    entry['upper_error'] = (np.percentile(np.array(ys),97.5))\n",
    "    \n",
    "    entry['gender'] = gender\n",
    "    list_viz.append(entry)"
   ]
  },
  {
   "cell_type": "code",
   "execution_count": 120,
   "metadata": {},
   "outputs": [
    {
     "data": {
      "text/html": [
       "<div>\n",
       "<style scoped>\n",
       "    .dataframe tbody tr th:only-of-type {\n",
       "        vertical-align: middle;\n",
       "    }\n",
       "\n",
       "    .dataframe tbody tr th {\n",
       "        vertical-align: top;\n",
       "    }\n",
       "\n",
       "    .dataframe thead th {\n",
       "        text-align: right;\n",
       "    }\n",
       "</style>\n",
       "<table border=\"1\" class=\"dataframe\">\n",
       "  <thead>\n",
       "    <tr style=\"text-align: right;\">\n",
       "      <th></th>\n",
       "      <th>treated_p</th>\n",
       "      <th>control_p</th>\n",
       "      <th>ATE</th>\n",
       "      <th>lower_error</th>\n",
       "      <th>upper_error</th>\n",
       "      <th>gender</th>\n",
       "    </tr>\n",
       "  </thead>\n",
       "  <tbody>\n",
       "    <tr>\n",
       "      <th>0</th>\n",
       "      <td>0.250384</td>\n",
       "      <td>0.156863</td>\n",
       "      <td>0.093521</td>\n",
       "      <td>0.049155</td>\n",
       "      <td>0.136713</td>\n",
       "      <td>male</td>\n",
       "    </tr>\n",
       "    <tr>\n",
       "      <th>1</th>\n",
       "      <td>0.207865</td>\n",
       "      <td>0.088810</td>\n",
       "      <td>0.119055</td>\n",
       "      <td>0.074906</td>\n",
       "      <td>0.161049</td>\n",
       "      <td>female</td>\n",
       "    </tr>\n",
       "  </tbody>\n",
       "</table>\n",
       "</div>"
      ],
      "text/plain": [
       "   treated_p  control_p       ATE  lower_error  upper_error  gender\n",
       "0   0.250384   0.156863  0.093521     0.049155     0.136713    male\n",
       "1   0.207865   0.088810  0.119055     0.074906     0.161049  female"
      ]
     },
     "execution_count": 120,
     "metadata": {},
     "output_type": "execute_result"
    }
   ],
   "source": [
    "df_plot = pd.DataFrame(list_viz)\n",
    "\n",
    "df_plot"
   ]
  },
  {
   "cell_type": "code",
   "execution_count": 121,
   "metadata": {},
   "outputs": [],
   "source": [
    "randomized = pd.read_pickle('gender_focal_randomized')"
   ]
  },
  {
   "cell_type": "code",
   "execution_count": 122,
   "metadata": {},
   "outputs": [
    {
     "data": {
      "image/png": "[encoded data removed]",
      "text/plain": [
       "<Figure size 288x144 with 1 Axes>"
      ]
     },
     "metadata": {
      "needs_background": "light"
     },
     "output_type": "display_data"
    }
   ],
   "source": [
    "fix, axes = plt.subplots(1,1, figsize = (4,2))\n",
    "\n",
    "types = []\n",
    "\n",
    "c = 0\n",
    "for cnt,row in df_plot.sort_values(by = 'ATE', ascending = False).iterrows():\n",
    "    plt.hlines(2-cnt, -1,4, color = 'gray', linestyle = '--')\n",
    "    plt.errorbar([row['ATE']],[2-c], xerr = (np.array([row['ATE'] - row['lower_error']]), np.array([row['upper_error']- row['ATE']])),\n",
    "                 fmt = '|', markersize= 8,color = 'tab:blue', linewidth = 3)\n",
    "    \n",
    "    baseline = randomized.loc[(randomized['gender']==row['gender'])].iloc[0]\n",
    "    \n",
    "    if c==0:\n",
    "        plt.errorbar([baseline['ATE']],[2-c-.1], xerr = (np.array([baseline['ATE'] - baseline['lower_error']]), \n",
    "                                                  np.array([baseline['upper_error']- baseline['ATE']])),\n",
    "                 fmt = '|', markersize= 8,color = 'black', linewidth = 3, label = 'Randomized\\n queues')\n",
    "    else:\n",
    "        plt.errorbar([baseline['ATE']],[2-c-.1], xerr = (np.array([baseline['ATE'] - baseline['lower_error']]), \n",
    "                                                  np.array([baseline['upper_error']- baseline['ATE']])),\n",
    "                 fmt = '|', markersize= 8,color = 'black', linewidth = 3)\n",
    "        \n",
    "        \n",
    "    types.append(row['gender'])\n",
    "    c+=1\n",
    "plt.yticks(2-np.array(range(len(additions['LUNCH']))), [i.replace('_',' ').capitalize() for i in types]);\n",
    "\n",
    "plt.xlim([-0.1,0.3])\n",
    "\n",
    "plt.vlines(0,0.5,2.5, linestyle = '--')\n",
    "\n",
    "plt.xlabel('RD', fontsize =12)\n",
    "plt.ylabel('Focal gender')\n",
    "plt.legend()\n",
    "\n",
    "plt.savefig('figures/fig16.pdf', bbox_inches='tight')"
   ]
  },
  {
   "cell_type": "markdown",
   "metadata": {},
   "source": [
    "### d.3 cross"
   ]
  },
  {
   "cell_type": "code",
   "execution_count": 123,
   "metadata": {},
   "outputs": [
    {
     "name": "stdout",
     "output_type": "stream",
     "text": [
      "male male ATE = 11.73 %\n",
      "male female ATE = 5.85 %\n",
      "female male ATE = 1.72 %\n",
      "female female ATE = 7.39 %\n"
     ]
    }
   ],
   "source": [
    "list_viz = []\n",
    "\n",
    "for gender1 in ['male', 'female']:\n",
    "    for gender2 in ['male', 'female']:\n",
    "        df_tmp = df.loc[(df['focal_gender'] == gender1) & (df['partner_gender'] == gender2)]\n",
    "\n",
    "        try:\n",
    "            treated_p = df_tmp.loc[df_tmp['exposure']==1]['outcome'].value_counts(normalize = True)[1]\n",
    "        except KeyError as e:\n",
    "            treated_p = 0\n",
    "        \n",
    "        try:\n",
    "            control_p = df_tmp.loc[df_tmp['exposure']==0]['outcome'].value_counts(normalize = True)[1]\n",
    "        except KeyError as e:\n",
    "            control_p = 0\n",
    "        print(gender1, gender2, 'ATE =', round(100*(treated_p - control_p),2),'%')\n",
    "\n",
    "        entry = {}\n",
    "\n",
    "        entry['treated_p'] = treated_p\n",
    "        entry['control_p'] = control_p\n",
    "\n",
    "        entry['ATE'] = treated_p - control_p\n",
    "\n",
    "        ys = []\n",
    "        for iteration in range(1000):\n",
    "            try:\n",
    "                pos_tmp = df_tmp.loc[df_tmp['exposure']==1].sample(len(df_tmp.loc[df_tmp['exposure']==1]), replace = True)['outcome'].value_counts(normalize = True)[1]\n",
    "            except KeyError as e:\n",
    "                pos_tmp = 0\n",
    "                \n",
    "            try:\n",
    "                neg_tmp = df_tmp.loc[df_tmp['exposure']==0].sample(len(df_tmp.loc[df_tmp['exposure']==1]), replace = True)['outcome'].value_counts(normalize = True)[1]   \n",
    "            except KeyError as e:\n",
    "                neg_tmp = 0\n",
    "                \n",
    "            y_tmp = pos_tmp - neg_tmp\n",
    "\n",
    "            ys.append(y_tmp)\n",
    "\n",
    "        entry['lower_error'] = (np.percentile(np.array(ys), 2.5))\n",
    "        entry['upper_error'] = (np.percentile(np.array(ys),97.5))\n",
    "\n",
    "        entry['gender'] = gender1 + 'X' + gender2\n",
    "        list_viz.append(entry)"
   ]
  },
  {
   "cell_type": "code",
   "execution_count": 124,
   "metadata": {},
   "outputs": [
    {
     "data": {
      "text/html": [
       "<div>\n",
       "<style scoped>\n",
       "    .dataframe tbody tr th:only-of-type {\n",
       "        vertical-align: middle;\n",
       "    }\n",
       "\n",
       "    .dataframe tbody tr th {\n",
       "        vertical-align: top;\n",
       "    }\n",
       "\n",
       "    .dataframe thead th {\n",
       "        text-align: right;\n",
       "    }\n",
       "</style>\n",
       "<table border=\"1\" class=\"dataframe\">\n",
       "  <thead>\n",
       "    <tr style=\"text-align: right;\">\n",
       "      <th></th>\n",
       "      <th>treated_p</th>\n",
       "      <th>control_p</th>\n",
       "      <th>ATE</th>\n",
       "      <th>lower_error</th>\n",
       "      <th>upper_error</th>\n",
       "      <th>gender</th>\n",
       "    </tr>\n",
       "  </thead>\n",
       "  <tbody>\n",
       "    <tr>\n",
       "      <th>0</th>\n",
       "      <td>0.323810</td>\n",
       "      <td>0.206522</td>\n",
       "      <td>0.117288</td>\n",
       "      <td>0.000000</td>\n",
       "      <td>0.238095</td>\n",
       "      <td>maleXmale</td>\n",
       "    </tr>\n",
       "    <tr>\n",
       "      <th>1</th>\n",
       "      <td>0.095238</td>\n",
       "      <td>0.036697</td>\n",
       "      <td>0.058541</td>\n",
       "      <td>-0.031746</td>\n",
       "      <td>0.142857</td>\n",
       "      <td>maleXfemale</td>\n",
       "    </tr>\n",
       "    <tr>\n",
       "      <th>2</th>\n",
       "      <td>0.043478</td>\n",
       "      <td>0.026316</td>\n",
       "      <td>0.017162</td>\n",
       "      <td>-0.086957</td>\n",
       "      <td>0.130435</td>\n",
       "      <td>femaleXmale</td>\n",
       "    </tr>\n",
       "    <tr>\n",
       "      <th>3</th>\n",
       "      <td>0.137725</td>\n",
       "      <td>0.063830</td>\n",
       "      <td>0.073895</td>\n",
       "      <td>0.011976</td>\n",
       "      <td>0.137725</td>\n",
       "      <td>femaleXfemale</td>\n",
       "    </tr>\n",
       "  </tbody>\n",
       "</table>\n",
       "</div>"
      ],
      "text/plain": [
       "   treated_p  control_p       ATE  lower_error  upper_error         gender\n",
       "0   0.323810   0.206522  0.117288     0.000000     0.238095      maleXmale\n",
       "1   0.095238   0.036697  0.058541    -0.031746     0.142857    maleXfemale\n",
       "2   0.043478   0.026316  0.017162    -0.086957     0.130435    femaleXmale\n",
       "3   0.137725   0.063830  0.073895     0.011976     0.137725  femaleXfemale"
      ]
     },
     "execution_count": 124,
     "metadata": {},
     "output_type": "execute_result"
    }
   ],
   "source": [
    "df_plot = pd.DataFrame(list_viz)\n",
    "\n",
    "df_plot"
   ]
  },
  {
   "cell_type": "code",
   "execution_count": 125,
   "metadata": {},
   "outputs": [
    {
     "data": {
      "text/plain": [
       "Text(0, 0.5, 'Focal X partner gender')"
      ]
     },
     "execution_count": 125,
     "metadata": {},
     "output_type": "execute_result"
    },
    {
     "data": {
      "image/png": "[encoded data removed]",
      "text/plain": [
       "<Figure size 288x288 with 1 Axes>"
      ]
     },
     "metadata": {
      "needs_background": "light"
     },
     "output_type": "display_data"
    }
   ],
   "source": [
    "fix, axes = plt.subplots(1,1, figsize = (4,4))\n",
    "\n",
    "types = []\n",
    "\n",
    "c = 0\n",
    "for cnt,row in df_plot.sort_values(by = 'ATE', ascending = False).iterrows():\n",
    "    plt.hlines(4-cnt, -1,4, color = 'gray', linestyle = '--')\n",
    "    plt.errorbar([row['ATE']],[4-c], xerr = (np.array([row['ATE'] - row['lower_error']]), np.array([row['upper_error']- row['ATE']])),\n",
    "                 fmt = '|', markersize= 8,color = 'tab:blue', linewidth = 3)\n",
    "    types.append(row['gender'])\n",
    "    c+=1\n",
    "plt.yticks(4-np.array(range(len(additions['LUNCH']))), [i.replace('X',' X ').capitalize() for i in types]);\n",
    "\n",
    "plt.xlim([-0.1,0.3])\n",
    "\n",
    "plt.vlines(0,0.5,4.5, linestyle = '--')\n",
    "\n",
    "plt.xlabel('RD', fontsize =12)\n",
    "plt.ylabel('Focal X partner gender')"
   ]
  },
  {
   "cell_type": "markdown",
   "metadata": {},
   "source": [
    "## e) Age"
   ]
  },
  {
   "cell_type": "code",
   "execution_count": 126,
   "metadata": {},
   "outputs": [],
   "source": [
    "df = pd.read_pickle('3_meals_matched_situations')"
   ]
  },
  {
   "cell_type": "code",
   "execution_count": 127,
   "metadata": {},
   "outputs": [],
   "source": [
    "df['partner_age'] = df['partner_age'].replace('unknown',np.nan).astype(float)\n",
    "df['focal_age'] = df['focal_age'].replace('unknown',np.nan).astype(float)"
   ]
  },
  {
   "cell_type": "code",
   "execution_count": null,
   "metadata": {},
   "outputs": [],
   "source": []
  },
  {
   "cell_type": "code",
   "execution_count": 128,
   "metadata": {},
   "outputs": [],
   "source": [
    "# four parts: Q1, Q2, Q3 = 21, 26, 36\n",
    "\n",
    "# three parts: 22, 32\n",
    "\n",
    "def bin_age_quarters(x):\n",
    "    if x<=21:\n",
    "        return \"<=21\"\n",
    "    elif x<=26:\n",
    "        return \"22-26\"\n",
    "    elif x<=36:\n",
    "        return \"27-36\"\n",
    "    elif x>36:\n",
    "        return \">36\"\n",
    "    else:\n",
    "        return np.nan\n",
    "\n",
    "\n",
    "def bin_age_thirds(x):\n",
    "    if x<=22:\n",
    "        return \"<=22\"\n",
    "    elif x<=32:\n",
    "        return \"23-32\"\n",
    "    elif x>32:\n",
    "        return \">32\"\n",
    "    else:\n",
    "        return np.nan\n",
    "    \n",
    "def bin_age_half(x):\n",
    "    if x<=26:\n",
    "        return \"<=26\"\n",
    "    elif x>26:\n",
    "        return \">26\"\n",
    "    else:\n",
    "        return np.nan"
   ]
  },
  {
   "cell_type": "code",
   "execution_count": 129,
   "metadata": {},
   "outputs": [],
   "source": [
    "df['focal_age_binned'] = (df['timestamp'].apply(lambda x: x.year) - \\\n",
    "        df['focal_age']).apply(bin_age_thirds)\n",
    "df['partner_age_binned'] = (df['timestamp'].apply(lambda x: x.year) - \\\n",
    "        df['partner_age']).apply(bin_age_thirds)"
   ]
  },
  {
   "cell_type": "code",
   "execution_count": 130,
   "metadata": {},
   "outputs": [
    {
     "data": {
      "text/plain": [
       "Index(['>32', '23-32', '<=22'], dtype='object')"
      ]
     },
     "execution_count": 130,
     "metadata": {},
     "output_type": "execute_result"
    }
   ],
   "source": [
    "df['focal_age_binned'].value_counts().index"
   ]
  },
  {
   "cell_type": "markdown",
   "metadata": {},
   "source": [
    "### e.1 partner age"
   ]
  },
  {
   "cell_type": "code",
   "execution_count": 131,
   "metadata": {},
   "outputs": [
    {
     "name": "stdout",
     "output_type": "stream",
     "text": [
      "<=22 ATE = 12.12 %\n",
      "23-32 ATE = 8.08 %\n",
      ">32 ATE = 5.01 %\n"
     ]
    }
   ],
   "source": [
    "list_viz = []\n",
    "\n",
    "for age in ['<=22', '23-32', '>32']:\n",
    "    df_tmp = df.loc[df['partner_age_binned'] == age]\n",
    "    \n",
    "    treated_p = df_tmp.loc[df_tmp['exposure']==1]['outcome'].value_counts(normalize = True)[1]\n",
    "    control_p = df_tmp.loc[df_tmp['exposure']==0]['outcome'].value_counts(normalize = True)[1]\n",
    "\n",
    "    print(age, 'ATE =', round(100*(treated_p - control_p),2),'%')\n",
    "    \n",
    "    entry = {}\n",
    "\n",
    "    entry['treated_p'] = treated_p\n",
    "    entry['control_p'] = control_p\n",
    "\n",
    "    entry['ATE'] = treated_p - control_p\n",
    "    \n",
    "    ys = []\n",
    "    for iteration in range(1000):\n",
    "        pos_tmp = df_tmp.loc[df_tmp['exposure']==1].sample(len(df_tmp.loc[df_tmp['exposure']==1]), replace = True)['outcome'].value_counts(normalize = True)[1]\n",
    "        neg_tmp = df_tmp.loc[df_tmp['exposure']==0].sample(len(df_tmp.loc[df_tmp['exposure']==1]), replace = True)['outcome'].value_counts(normalize = True)[1]   \n",
    "\n",
    "        y_tmp = pos_tmp - neg_tmp\n",
    "\n",
    "        ys.append(y_tmp)\n",
    "\n",
    "    entry['lower_error'] = (np.percentile(np.array(ys), 2.5))\n",
    "    entry['upper_error'] = (np.percentile(np.array(ys),97.5))\n",
    "    \n",
    "    entry['age'] = age\n",
    "    list_viz.append(entry)"
   ]
  },
  {
   "cell_type": "code",
   "execution_count": 132,
   "metadata": {},
   "outputs": [],
   "source": [
    "df_plot = pd.DataFrame(list_viz)"
   ]
  },
  {
   "cell_type": "code",
   "execution_count": 133,
   "metadata": {},
   "outputs": [],
   "source": [
    "randomized = pd.read_pickle('partner_age_randomized')"
   ]
  },
  {
   "cell_type": "code",
   "execution_count": 134,
   "metadata": {},
   "outputs": [
    {
     "data": {
      "text/html": [
       "<div>\n",
       "<style scoped>\n",
       "    .dataframe tbody tr th:only-of-type {\n",
       "        vertical-align: middle;\n",
       "    }\n",
       "\n",
       "    .dataframe tbody tr th {\n",
       "        vertical-align: top;\n",
       "    }\n",
       "\n",
       "    .dataframe thead th {\n",
       "        text-align: right;\n",
       "    }\n",
       "</style>\n",
       "<table border=\"1\" class=\"dataframe\">\n",
       "  <thead>\n",
       "    <tr style=\"text-align: right;\">\n",
       "      <th></th>\n",
       "      <th>treated_p</th>\n",
       "      <th>control_p</th>\n",
       "      <th>ATE</th>\n",
       "      <th>lower_error</th>\n",
       "      <th>upper_error</th>\n",
       "      <th>age</th>\n",
       "    </tr>\n",
       "  </thead>\n",
       "  <tbody>\n",
       "    <tr>\n",
       "      <th>0</th>\n",
       "      <td>0.081470</td>\n",
       "      <td>0.083333</td>\n",
       "      <td>-0.001864</td>\n",
       "      <td>-0.031949</td>\n",
       "      <td>0.027157</td>\n",
       "      <td>&lt;=22</td>\n",
       "    </tr>\n",
       "    <tr>\n",
       "      <th>1</th>\n",
       "      <td>0.137405</td>\n",
       "      <td>0.146026</td>\n",
       "      <td>-0.008621</td>\n",
       "      <td>-0.047758</td>\n",
       "      <td>0.032538</td>\n",
       "      <td>23-32</td>\n",
       "    </tr>\n",
       "    <tr>\n",
       "      <th>2</th>\n",
       "      <td>0.121622</td>\n",
       "      <td>0.101377</td>\n",
       "      <td>0.020245</td>\n",
       "      <td>-0.013514</td>\n",
       "      <td>0.051597</td>\n",
       "      <td>&gt;32</td>\n",
       "    </tr>\n",
       "  </tbody>\n",
       "</table>\n",
       "</div>"
      ],
      "text/plain": [
       "   treated_p  control_p       ATE  lower_error  upper_error    age\n",
       "0   0.081470   0.083333 -0.001864    -0.031949     0.027157   <=22\n",
       "1   0.137405   0.146026 -0.008621    -0.047758     0.032538  23-32\n",
       "2   0.121622   0.101377  0.020245    -0.013514     0.051597    >32"
      ]
     },
     "execution_count": 134,
     "metadata": {},
     "output_type": "execute_result"
    }
   ],
   "source": [
    "randomized"
   ]
  },
  {
   "cell_type": "code",
   "execution_count": 135,
   "metadata": {},
   "outputs": [
    {
     "data": {
      "image/png": "[encoded data removed]",
      "text/plain": [
       "<Figure size 288x216 with 1 Axes>"
      ]
     },
     "metadata": {
      "needs_background": "light"
     },
     "output_type": "display_data"
    }
   ],
   "source": [
    "\n",
    "fix, axes = plt.subplots(1,1, figsize = (4,3))\n",
    "\n",
    "types = []\n",
    "\n",
    "c = 0\n",
    "for cnt,row in df_plot.iterrows():\n",
    "    plt.hlines(3-cnt, -1,4, color = 'gray', linestyle = '--')\n",
    "    plt.errorbar([row['ATE']],[3-c], xerr = (np.array([row['ATE'] - row['lower_error']]), np.array([row['upper_error']- row['ATE']])),\n",
    "                 fmt = '|', markersize= 8,color = 'tab:blue', linewidth = 3)\n",
    "    \n",
    "    baseline = randomized.loc[(randomized['age']==row['age'])].iloc[0]\n",
    "    \n",
    "    if c==0:\n",
    "        plt.errorbar([baseline['ATE']],[3-c-.1], xerr = (np.array([baseline['ATE'] - baseline['lower_error']]), \n",
    "                                                  np.array([baseline['upper_error']- baseline['ATE']])),\n",
    "                 fmt = '|', markersize= 8,color = 'black', linewidth = 3, label = 'Randomized\\n queues')\n",
    "    else:\n",
    "        plt.errorbar([baseline['ATE']],[3-c-.1], xerr = (np.array([baseline['ATE'] - baseline['lower_error']]), \n",
    "                                                  np.array([baseline['upper_error']- baseline['ATE']])),\n",
    "                 fmt = '|', markersize= 8,color = 'black', linewidth = 3)\n",
    "        \n",
    "        \n",
    "    types.append(row['age'])\n",
    "    c+=1\n",
    "plt.yticks(3-np.array(range(len(additions['LUNCH']))), [i.replace('_',' ').capitalize() for i in types]);\n",
    "\n",
    "plt.xlim([-0.1,0.3])\n",
    "\n",
    "plt.vlines(0,0.5,3.5, linestyle = '--')\n",
    "\n",
    "plt.legend(loc = 'lower right')\n",
    "plt.xlabel('RD', fontsize =12)\n",
    "plt.ylabel('Partner age')\n",
    "\n",
    "plt.savefig('figures/fig17.pdf', bbox_inches='tight')"
   ]
  },
  {
   "cell_type": "markdown",
   "metadata": {},
   "source": [
    "### e.2 focal age"
   ]
  },
  {
   "cell_type": "code",
   "execution_count": 136,
   "metadata": {},
   "outputs": [
    {
     "name": "stdout",
     "output_type": "stream",
     "text": [
      "<=22 ATE = 17.78 %\n",
      "23-32 ATE = 13.21 %\n",
      ">32 ATE = 3.93 %\n"
     ]
    }
   ],
   "source": [
    "list_viz = []\n",
    "\n",
    "for age in ['<=22', '23-32', '>32']:\n",
    "    df_tmp = df.loc[df['focal_age_binned'] == age]\n",
    "    \n",
    "    treated_p = df_tmp.loc[df_tmp['exposure']==1]['outcome'].value_counts(normalize = True)[1]\n",
    "    control_p = df_tmp.loc[df_tmp['exposure']==0]['outcome'].value_counts(normalize = True)[1]\n",
    "\n",
    "    print(age, 'ATE =', round(100*(treated_p - control_p),2),'%')\n",
    "    \n",
    "    entry = {}\n",
    "\n",
    "    entry['treated_p'] = treated_p\n",
    "    entry['control_p'] = control_p\n",
    "\n",
    "    entry['ATE'] = treated_p - control_p\n",
    "    \n",
    "    ys = []\n",
    "    for iteration in range(1000):\n",
    "        pos_tmp = df_tmp.loc[df_tmp['exposure']==1].sample(len(df_tmp.loc[df_tmp['exposure']==1]), replace = True)['outcome'].value_counts(normalize = True)[1]\n",
    "        neg_tmp = df_tmp.loc[df_tmp['exposure']==0].sample(len(df_tmp.loc[df_tmp['exposure']==1]), replace = True)['outcome'].value_counts(normalize = True)[1]   \n",
    "\n",
    "        y_tmp = pos_tmp - neg_tmp\n",
    "\n",
    "        ys.append(y_tmp)\n",
    "\n",
    "    entry['lower_error'] = (np.percentile(np.array(ys), 2.5))\n",
    "    entry['upper_error'] = (np.percentile(np.array(ys),97.5))\n",
    "    \n",
    "    entry['age'] = age\n",
    "    list_viz.append(entry)"
   ]
  },
  {
   "cell_type": "code",
   "execution_count": 137,
   "metadata": {},
   "outputs": [],
   "source": [
    "df_plot = pd.DataFrame(list_viz)"
   ]
  },
  {
   "cell_type": "code",
   "execution_count": 138,
   "metadata": {},
   "outputs": [],
   "source": [
    "randomized = pd.read_pickle('focal_age_randomized')"
   ]
  },
  {
   "cell_type": "code",
   "execution_count": 139,
   "metadata": {},
   "outputs": [
    {
     "data": {
      "image/png": "[encoded data removed]",
      "text/plain": [
       "<Figure size 288x216 with 1 Axes>"
      ]
     },
     "metadata": {
      "needs_background": "light"
     },
     "output_type": "display_data"
    }
   ],
   "source": [
    "fix, axes = plt.subplots(1,1, figsize = (4,3))\n",
    "\n",
    "types = []\n",
    "\n",
    "c = 0\n",
    "for cnt,row in df_plot.iterrows():\n",
    "    plt.hlines(3-cnt, -1,4, color = 'gray', linestyle = '--')\n",
    "    plt.errorbar([row['ATE']],[3-c], xerr = (np.array([row['ATE'] - row['lower_error']]), np.array([row['upper_error']- row['ATE']])),\n",
    "                 fmt = '|', markersize= 8,color = 'tab:blue', linewidth = 3)\n",
    "    \n",
    "    baseline = randomized.loc[(randomized['age']==row['age'])].iloc[0]\n",
    "    \n",
    "    if c==0:\n",
    "        plt.errorbar([baseline['ATE']],[3-c-.1], xerr = (np.array([baseline['ATE'] - baseline['lower_error']]), \n",
    "                                                  np.array([baseline['upper_error']- baseline['ATE']])),\n",
    "                 fmt = '|', markersize= 8,color = 'black', linewidth = 3, label = 'Randomized\\n queues')\n",
    "    else:\n",
    "        plt.errorbar([baseline['ATE']],[3-c-.1], xerr = (np.array([baseline['ATE'] - baseline['lower_error']]), \n",
    "                                                  np.array([baseline['upper_error']- baseline['ATE']])),\n",
    "                 fmt = '|', markersize= 8,color = 'black', linewidth = 3)\n",
    "        \n",
    "        \n",
    "    types.append(row['age'])\n",
    "    c+=1\n",
    "plt.yticks(3-np.array(range(len(additions['LUNCH']))), [i.replace('_',' ').capitalize() for i in types]);\n",
    "\n",
    "plt.xlim([-0.1,0.3])\n",
    "\n",
    "plt.vlines(0,0.5,3.5, linestyle = '--')\n",
    "\n",
    "plt.legend(loc = 'lower right')\n",
    "plt.xlabel('RD', fontsize =12)\n",
    "plt.ylabel('Focal age')\n",
    "\n",
    "plt.savefig('figures/fig18.pdf', bbox_inches='tight')"
   ]
  },
  {
   "cell_type": "markdown",
   "metadata": {},
   "source": [
    "### e.3 cross"
   ]
  },
  {
   "cell_type": "code",
   "execution_count": 140,
   "metadata": {},
   "outputs": [],
   "source": [
    "df['focal_age_binned'] = (df['timestamp'].apply(lambda x: x.year) - \\\n",
    "        df['focal_age']).apply(bin_age_half)\n",
    "df['partner_age_binned'] = (df['timestamp'].apply(lambda x: x.year) - \\\n",
    "        df['partner_age']).apply(bin_age_half)"
   ]
  },
  {
   "cell_type": "code",
   "execution_count": 141,
   "metadata": {},
   "outputs": [
    {
     "name": "stdout",
     "output_type": "stream",
     "text": [
      "<=26 <=26 ATE = 8.62 %\n",
      "<=26 >26 ATE = -0.74 %\n",
      ">26 <=26 ATE = 11.23 %\n",
      ">26 >26 ATE = 9.27 %\n"
     ]
    }
   ],
   "source": [
    "list_viz = []\n",
    "\n",
    "for age1 in ['<=26', '>26']:\n",
    "    for age2 in ['<=26', '>26']:\n",
    "        df_tmp = df.loc[(df['focal_age_binned'] == age1) & (df['partner_age_binned'] == age2)]\n",
    "\n",
    "        try:\n",
    "            treated_p = df_tmp.loc[df_tmp['exposure']==1]['outcome'].value_counts(normalize = True)[1]\n",
    "        except:\n",
    "            continue\n",
    "            treated_p = 0\n",
    "        \n",
    "        try:\n",
    "            control_p = df_tmp.loc[df_tmp['exposure']==0]['outcome'].value_counts(normalize = True)[1]\n",
    "        except:\n",
    "            continue\n",
    "            control_p = 0\n",
    "        print(age1, age2, 'ATE =', round(100*(treated_p - control_p),2),'%')\n",
    "\n",
    "        entry = {}\n",
    "\n",
    "        entry['treated_p'] = treated_p\n",
    "        entry['control_p'] = control_p\n",
    "\n",
    "        entry['ATE'] = treated_p - control_p\n",
    "\n",
    "        ys = []\n",
    "        for iteration in range(1000):\n",
    "            try:\n",
    "                pos_tmp = df_tmp.loc[df_tmp['exposure']==1].sample(len(df_tmp.loc[df_tmp['exposure']==1]), replace = True)['outcome'].value_counts(normalize = True)[1]\n",
    "            except KeyError as e:\n",
    "                pos_tmp = 0\n",
    "                \n",
    "            try:\n",
    "                neg_tmp = df_tmp.loc[df_tmp['exposure']==0].sample(len(df_tmp.loc[df_tmp['exposure']==1]), replace = True)['outcome'].value_counts(normalize = True)[1]   \n",
    "            except KeyError as e:\n",
    "                neg_tmp = 0\n",
    "                \n",
    "            y_tmp = pos_tmp - neg_tmp\n",
    "\n",
    "            ys.append(y_tmp)\n",
    "\n",
    "        entry['lower_error'] = (np.percentile(np.array(ys), 2.5))\n",
    "        entry['upper_error'] = (np.percentile(np.array(ys),97.5))\n",
    "\n",
    "        entry['age'] = age1 + 'X' + age2\n",
    "        list_viz.append(entry)"
   ]
  },
  {
   "cell_type": "code",
   "execution_count": 142,
   "metadata": {},
   "outputs": [],
   "source": [
    "df_plot = pd.DataFrame(list_viz)"
   ]
  },
  {
   "cell_type": "code",
   "execution_count": 143,
   "metadata": {},
   "outputs": [
    {
     "data": {
      "text/plain": [
       "Text(0, 0.5, 'Focal X partner age')"
      ]
     },
     "execution_count": 143,
     "metadata": {},
     "output_type": "execute_result"
    },
    {
     "data": {
      "image/png": "[encoded data removed]",
      "text/plain": [
       "<Figure size 288x288 with 1 Axes>"
      ]
     },
     "metadata": {
      "needs_background": "light"
     },
     "output_type": "display_data"
    }
   ],
   "source": [
    "\n",
    "fix, axes = plt.subplots(1,1, figsize = (4,4))\n",
    "\n",
    "types = []\n",
    "\n",
    "c = 0\n",
    "for cnt,row in df_plot.iterrows():\n",
    "    plt.hlines(4-cnt, -1,4, color = 'gray', linestyle = '--')\n",
    "    plt.errorbar([row['ATE']],[4-c], xerr = (np.array([row['ATE'] - row['lower_error']]), np.array([row['upper_error']- row['ATE']])),\n",
    "                 fmt = '|', markersize= 8,color = 'tab:blue', linewidth = 3)\n",
    "    types.append(row['age'])\n",
    "    c+=1\n",
    "plt.yticks(4-np.array(range(len(additions['LUNCH']))), [i.replace('_',' ').capitalize() for i in types]);\n",
    "\n",
    "plt.xlim([-0.1,0.3])\n",
    "\n",
    "plt.vlines(0,0.5,4.5, linestyle = '--')\n",
    "\n",
    "plt.xlabel('RD', fontsize =12)\n",
    "plt.ylabel('Focal X partner age')"
   ]
  },
  {
   "cell_type": "markdown",
   "metadata": {},
   "source": [
    "### f) student x foods"
   ]
  },
  {
   "cell_type": "code",
   "execution_count": 144,
   "metadata": {},
   "outputs": [],
   "source": [
    "df = pd.read_pickle('3_meals_matched_situations')"
   ]
  },
  {
   "cell_type": "code",
   "execution_count": 145,
   "metadata": {},
   "outputs": [],
   "source": [
    "df['partner_student'] = df['partner_p_student'].apply(lambda x: 'student' if x>=0.5 else \"staff\")\n",
    "df['focal_student'] = df['focal_p_student'].apply(lambda x: 'student' if x>=0.5 else \"staff\")"
   ]
  },
  {
   "cell_type": "code",
   "execution_count": 146,
   "metadata": {},
   "outputs": [
    {
     "name": "stdout",
     "output_type": "stream",
     "text": [
      "49456\n",
      "47366\n"
     ]
    }
   ],
   "source": [
    "list_viz = []\n",
    "\n",
    "for c in [True, False]:\n",
    "    df_tmp = df.loc[((df['focal_student'] == 'student') & (df['partner_student'] == 'student'))==c]\n",
    "    print(len(df_tmp))"
   ]
  },
  {
   "cell_type": "code",
   "execution_count": null,
   "metadata": {},
   "outputs": [],
   "source": []
  },
  {
   "cell_type": "code",
   "execution_count": 147,
   "metadata": {},
   "outputs": [
    {
     "name": "stdout",
     "output_type": "stream",
     "text": [
      "True BREAKFAST dessert ATE = 9.96 %\n",
      "True BREAKFAST fruit ATE = 9.23 %\n",
      "True BREAKFAST pastry ATE = 18.19 %\n",
      "True LUNCH condiment ATE = 26.59 %\n",
      "True LUNCH dessert ATE = 15.22 %\n",
      "True LUNCH fruit ATE = 15.33 %\n",
      "True LUNCH pastry ATE = 15.49 %\n",
      "True LUNCH salad ATE = 17.18 %\n",
      "True LUNCH soft drink ATE = 14.03 %\n",
      "True LUNCH soup ATE = 20.91 %\n",
      "True AFTERNOON SNACK dessert ATE = 8.13 %\n",
      "True AFTERNOON SNACK fruit ATE = 10.32 %\n",
      "True AFTERNOON SNACK pastry ATE = 27.35 %\n",
      "False BREAKFAST dessert ATE = 4.05 %\n",
      "False BREAKFAST fruit ATE = 6.71 %\n",
      "False BREAKFAST pastry ATE = 7.23 %\n",
      "False LUNCH condiment ATE = 17.74 %\n",
      "False LUNCH dessert ATE = 11.76 %\n",
      "False LUNCH fruit ATE = 13.85 %\n",
      "False LUNCH pastry ATE = 6.91 %\n",
      "False LUNCH salad ATE = 8.83 %\n",
      "False LUNCH soft drink ATE = 5.08 %\n",
      "False LUNCH soup ATE = 15.37 %\n",
      "False AFTERNOON SNACK dessert ATE = 7.44 %\n",
      "False AFTERNOON SNACK fruit ATE = 7.35 %\n",
      "False AFTERNOON SNACK pastry ATE = 13.54 %\n"
     ]
    }
   ],
   "source": [
    "list_viz = []\n",
    "\n",
    "for c in [True, False]:\n",
    "    df_t = df.loc[((df['focal_student'] == 'student') & (df['partner_student'] == 'student'))==c]\n",
    "        \n",
    "    for meal in ['BREAKFAST', 'LUNCH', 'AFTERNOON SNACK']:\n",
    "        for addition in additions[meal]:\n",
    "            df_tmp = df_t.loc[(df_t['MEAL']==meal) & (df_t['addition']==addition)]\n",
    "\n",
    "            try:\n",
    "                treated_p = df_tmp.loc[df_tmp['exposure']==1]['outcome'].value_counts(normalize = True)[1]\n",
    "                control_p = df_tmp.loc[df_tmp['exposure']==0]['outcome'].value_counts(normalize = True)[1]\n",
    "            except:\n",
    "                print('no data:',meal, addition)\n",
    "                continue\n",
    "\n",
    "            print(c, meal, addition,  'ATE =', round(100*(treated_p - control_p),2),'%')\n",
    "\n",
    "            entry = {}\n",
    "            \n",
    "            entry['contingency'] = pd.crosstab(df_tmp['exposure'],df_tmp['outcome'], margins = False)\n",
    "            entry['ATE'] = treated_p - control_p\n",
    "\n",
    "            entry['RR'] = treated_p/control_p\n",
    "\n",
    "            ys = []\n",
    "            ys_rr = []\n",
    "            for iteration in range(1000):\n",
    "                try:\n",
    "                    pos_tmp = df_tmp.loc[df_tmp['exposure']==1].sample(len(df_tmp.loc[df_tmp['exposure']==1]), replace = True)['outcome'].value_counts(normalize = True)[1]\n",
    "                    neg_tmp = df_tmp.loc[df_tmp['exposure']==0].sample(len(df_tmp.loc[df_tmp['exposure']==1]), replace = True)['outcome'].value_counts(normalize = True)[1]   \n",
    "                except:\n",
    "                    continue\n",
    "                y_tmp = pos_tmp - neg_tmp\n",
    "\n",
    "                ys.append(y_tmp)\n",
    "                ys_rr.append(pos_tmp/neg_tmp)\n",
    "\n",
    "            entry['lower_error'] = (np.percentile(np.array(ys), 2.5))\n",
    "            entry['upper_error'] = (np.percentile(np.array(ys),97.5))\n",
    "\n",
    "            entry['lower_error_rr'] = (np.percentile(np.array(ys_rr), 2.5))\n",
    "            entry['upper_error_rr'] = (np.percentile(np.array(ys_rr),97.5))\n",
    "\n",
    "            entry['meal'] = meal\n",
    "            entry['addition'] = addition\n",
    "            entry['type'] = c\n",
    "\n",
    "            list_viz.append(entry)   \n"
   ]
  },
  {
   "cell_type": "code",
   "execution_count": 148,
   "metadata": {},
   "outputs": [],
   "source": [
    "df_plot = pd.DataFrame(list_viz)"
   ]
  },
  {
   "cell_type": "code",
   "execution_count": 149,
   "metadata": {},
   "outputs": [
    {
     "data": {
      "text/html": [
       "<div>\n",
       "<style scoped>\n",
       "    .dataframe tbody tr th:only-of-type {\n",
       "        vertical-align: middle;\n",
       "    }\n",
       "\n",
       "    .dataframe tbody tr th {\n",
       "        vertical-align: top;\n",
       "    }\n",
       "\n",
       "    .dataframe thead th {\n",
       "        text-align: right;\n",
       "    }\n",
       "</style>\n",
       "<table border=\"1\" class=\"dataframe\">\n",
       "  <thead>\n",
       "    <tr style=\"text-align: right;\">\n",
       "      <th>outcome</th>\n",
       "      <th>0</th>\n",
       "      <th>1</th>\n",
       "    </tr>\n",
       "    <tr>\n",
       "      <th>exposure</th>\n",
       "      <th></th>\n",
       "      <th></th>\n",
       "    </tr>\n",
       "  </thead>\n",
       "  <tbody>\n",
       "    <tr>\n",
       "      <th>0</th>\n",
       "      <td>6018</td>\n",
       "      <td>1425</td>\n",
       "    </tr>\n",
       "    <tr>\n",
       "      <th>1</th>\n",
       "      <td>4889</td>\n",
       "      <td>2572</td>\n",
       "    </tr>\n",
       "  </tbody>\n",
       "</table>\n",
       "</div>"
      ],
      "text/plain": [
       "outcome      0     1\n",
       "exposure            \n",
       "0         6018  1425\n",
       "1         4889  2572"
      ]
     },
     "execution_count": 149,
     "metadata": {},
     "output_type": "execute_result"
    }
   ],
   "source": [
    "df_plot.iloc[5]['contingency']"
   ]
  },
  {
   "cell_type": "code",
   "execution_count": 150,
   "metadata": {},
   "outputs": [
    {
     "name": "stdout",
     "output_type": "stream",
     "text": [
      "0.0007728039910219753\n"
     ]
    }
   ],
   "source": [
    "corrected_alpha = 1 - math.pow((1 - 0.01),(1/13))\n",
    "print(corrected_alpha)"
   ]
  },
  {
   "cell_type": "code",
   "execution_count": 151,
   "metadata": {},
   "outputs": [],
   "source": [
    "randomized = pd.read_pickle('randomized_estimates_status_x_foods')"
   ]
  },
  {
   "cell_type": "code",
   "execution_count": 152,
   "metadata": {},
   "outputs": [
    {
     "name": "stdout",
     "output_type": "stream",
     "text": [
      "LUNCH\n",
      "condiment 639.0155453606226 5.563857082767445e-137 4\n",
      "dessert 150.74176082750762 1.4117907671168999e-31 4\n",
      "fruit 633.5342258504626 8.548693695710986e-136 4\n",
      "pastry 291.0939768889245 9.030732100858918e-62 4\n",
      "salad 224.05094384540894 2.5184425042266436e-47 4\n",
      "soft drink 228.01019489742123 3.5394221098885515e-48 4\n",
      "soup 824.7446088407316 3.352162600530067e-177 4\n",
      "\n",
      "\n",
      "BREAKFAST\n",
      "dessert 31.563087525867807 2.3496032685549077e-06 4\n",
      "fruit 31.719782510090567 2.1826872596834467e-06 4\n",
      "pastry 207.77159373496505 8.011029932193099e-44 4\n",
      "\n",
      "\n",
      "AFTERNOON SNACK\n",
      "dessert 23.659113588291895 9.347606342366942e-05 4\n",
      "fruit 11.269771094010022 0.023693746432759306 4\n",
      "pastry 290.3625310651274 1.2985815280053112e-61 4\n",
      "\n",
      "\n"
     ]
    },
    {
     "data": {
      "image/png": "[encoded data removed]",
      "text/plain": [
       "<Figure size 720x432 with 3 Axes>"
      ]
     },
     "metadata": {
      "needs_background": "light"
     },
     "output_type": "display_data"
    }
   ],
   "source": [
    "plt.figure(figsize = (10,6))\n",
    "\n",
    "for cnt,meal in enumerate(['LUNCH', 'BREAKFAST','AFTERNOON SNACK']):\n",
    "    if cnt==0:\n",
    "        sbplt = plt.subplot(2,2,(1,3))\n",
    "        sbplt.set_ylim([-0.5,6.5])\n",
    "    if cnt==1:\n",
    "        sbplt = plt.subplot(2,2,2)\n",
    "        sbplt.set_ylim([-0.5,2.5])\n",
    "    if cnt==2:\n",
    "        sbplt = plt.subplot(2,2,4)\n",
    "        sbplt.set_ylim([-0.5,2.5])\n",
    "        \n",
    "    types = []\n",
    "\n",
    "    c = 0\n",
    "    \n",
    "    tables_1 = []\n",
    "    for cnt,row in (df_plot.loc[(df_plot['meal']==meal) & (df_plot['type'])].reset_index().iterrows()):\n",
    "        sbplt.hlines(cnt, -1,4, color = 'gray', linestyle = '--')\n",
    "    \n",
    "        baseline = randomized.loc[(randomized['type']) & (randomized['meal']==meal) & (randomized['addition']==row['addition'])].iloc[0]\n",
    "        \n",
    "        if meal=='BREAKFAST' and cnt==0:\n",
    "            sbplt.errorbar([row['ATE']],[c+0.2], xerr = (np.array([row['ATE'] - row['lower_error']]), \n",
    "                     np.array([row['upper_error']- row['ATE']])),\n",
    "                     fmt = '|', markersize= 8,color = '#f781bf', linewidth = 3, label = 'Student-student\\ndyads')\n",
    "            \n",
    "            sbplt.errorbar([baseline['ATE']],[c+0.15], xerr = (np.array([baseline['ATE'] - baseline['lower_error']]), \n",
    "                     np.array([baseline['upper_error']- baseline['ATE']])),\n",
    "                     fmt = 'x', markersize= 8,color = '#f781bf',alpha = 0.5, linewidth = 3, label = 'Randomized\\n queues')\n",
    "            \n",
    "        else:\n",
    "            sbplt.errorbar([row['ATE']],[c+0.2], xerr = (np.array([row['ATE'] - row['lower_error']]), \n",
    "                     np.array([row['upper_error']- row['ATE']])),\n",
    "                     fmt = '|', markersize= 8,color = '#f781bf', linewidth = 3)\n",
    "            \n",
    "            sbplt.errorbar([baseline['ATE']],[c+0.15], xerr = (np.array([baseline['ATE'] - baseline['lower_error']]), \n",
    "                     np.array([baseline['upper_error']- baseline['ATE']])),\n",
    "                     fmt = 'x', markersize= 8,color = '#f781bf',alpha = 0.5,  linewidth = 3)\n",
    "        \n",
    "        types.append(row['addition'])\n",
    "        tables_1.append(row['contingency'])\n",
    "        c+=1\n",
    "        \n",
    "    types = []\n",
    "\n",
    "    c = 0\n",
    "    \n",
    "    tables_2 = []\n",
    "    for cnt,row in df_plot.loc[(~randomized['type']) & ((df_plot['meal']==meal)) & (~(df_plot['type']))].reset_index().iterrows():\n",
    "\n",
    "        if meal=='BREAKFAST' and cnt==0:\n",
    "            sbplt.errorbar([row['ATE']],[c-0.15], xerr = (np.array([row['ATE'] - row['lower_error']]), \n",
    "                     np.array([row['upper_error']- row['ATE']])),\n",
    "                     fmt = '|', markersize= 8,color = '#4daf4a', linewidth = 3, label = 'Non-student-student\\ndyads')\n",
    "            \n",
    "            sbplt.errorbar([baseline['ATE']],[c-0.2], xerr = (np.array([baseline['ATE'] - baseline['lower_error']]), \n",
    "                     np.array([baseline['upper_error']- baseline['ATE']])),\n",
    "                     fmt = 'x', markersize= 8,color = '#4daf4a', alpha = 0.5,linewidth = 3, label = 'Randomized\\n queues')\n",
    "            \n",
    "            sbplt.legend( bbox_to_anchor = (1,1))\n",
    "        else: \n",
    "            sbplt.errorbar([row['ATE']],[c-0.15], xerr = (np.array([row['ATE'] - row['lower_error']]), \n",
    "                     np.array([row['upper_error']- row['ATE']])),\n",
    "                     fmt = '|', markersize= 8,color = '#4daf4a', linewidth = 3)\n",
    "            sbplt.errorbar([baseline['ATE']],[c-0.2], xerr = (np.array([baseline['ATE'] - baseline['lower_error']]), \n",
    "                     np.array([baseline['upper_error']- baseline['ATE']])),\n",
    "                     fmt = 'x', markersize= 8,color = '#4daf4a', alpha = 0.5, linewidth = 3)\n",
    "\n",
    "        types.append(row['addition'])\n",
    "        tables_2.append(row['contingency'])\n",
    "        c+=1\n",
    "        \n",
    "    \n",
    "        \n",
    "    sbplt.set_yticks(np.array(range(len(additions[meal]))))\n",
    "    sbplt.set_yticklabels([i.replace('_',' ').capitalize() for i in types])\n",
    "\n",
    "    sbplt.set_xlim([-0.1,0.3])\n",
    "    \n",
    "\n",
    "    sbplt.vlines(0,-1,7, linestyle = '--')\n",
    "\n",
    "    if meal!='BREAKFAST':\n",
    "        sbplt.set_xlabel('Risk diference (RD)', fontsize =12)\n",
    "    \n",
    "\n",
    "        \n",
    "    if meal =='AFTERNOON SNACK':\n",
    "        sbplt.set_title('AFTERNOON/EVENING SNACK'.lower().capitalize()+'\\n('+times[meal]+')')\n",
    "    else:\n",
    "        sbplt.set_title(meal.lower().capitalize()+'\\n('+times[meal]+')')\n",
    "    \n",
    "    if meal == 'LUNCH':\n",
    "        sbplt.set_ylabel('Food item')\n",
    "        \n",
    "    print(meal)\n",
    "    p_values = []\n",
    "    for i in range(len(tables_1)):\n",
    "        g, p, dof, expctd = chi2_contingency(np.array(((tables_1[i].values), (tables_2[i].values))), correction = True)\n",
    "        print(types[i],g,p, dof)\n",
    "        if p<corrected_alpha:\n",
    "            p_values.append('')\n",
    "        else:\n",
    "            p_values.append('')\n",
    "    print('\\n')\n",
    "   \n",
    "    sbplt.set_yticklabels([i.replace('_',' ').capitalize()+p_values[counter] for counter,i in enumerate(types)])\n",
    "    \n",
    "plt.tight_layout()\n",
    "\n",
    "plt.text(x = -0.53, y = -1.7, s='Anchor: meal', fontsize= 14, color = 'tab:blue') \n",
    "plt.text(x = -0.04, y = -1.7, s='Anchor: coffee or tea', fontsize= 14, color = 'tab:orange') \n",
    "\n",
    "\n",
    "plt.savefig('figures/fig19.pdf', bbox_inches='tight')"
   ]
  },
  {
   "cell_type": "code",
   "execution_count": 153,
   "metadata": {},
   "outputs": [],
   "source": [
    "## not confounded by students eating different things that are more likely to be copied; consistent across foods"
   ]
  },
  {
   "cell_type": "code",
   "execution_count": 154,
   "metadata": {},
   "outputs": [
    {
     "data": {
      "text/html": [
       "<div>\n",
       "<style scoped>\n",
       "    .dataframe tbody tr th:only-of-type {\n",
       "        vertical-align: middle;\n",
       "    }\n",
       "\n",
       "    .dataframe tbody tr th {\n",
       "        vertical-align: top;\n",
       "    }\n",
       "\n",
       "    .dataframe thead th {\n",
       "        text-align: right;\n",
       "    }\n",
       "</style>\n",
       "<table border=\"1\" class=\"dataframe\">\n",
       "  <thead>\n",
       "    <tr style=\"text-align: right;\">\n",
       "      <th></th>\n",
       "      <th>contingency</th>\n",
       "      <th>ATE</th>\n",
       "      <th>RR</th>\n",
       "      <th>lower_error</th>\n",
       "      <th>upper_error</th>\n",
       "      <th>lower_error_rr</th>\n",
       "      <th>upper_error_rr</th>\n",
       "      <th>meal</th>\n",
       "      <th>addition</th>\n",
       "      <th>type</th>\n",
       "    </tr>\n",
       "  </thead>\n",
       "  <tbody>\n",
       "    <tr>\n",
       "      <th>0</th>\n",
       "      <td>outcome     0   1\n",
       "exposure         \n",
       "0         ...</td>\n",
       "      <td>0.099638</td>\n",
       "      <td>12.458333</td>\n",
       "      <td>0.041667</td>\n",
       "      <td>0.158333</td>\n",
       "      <td>3.000000</td>\n",
       "      <td>19.150000</td>\n",
       "      <td>BREAKFAST</td>\n",
       "      <td>dessert</td>\n",
       "      <td>True</td>\n",
       "    </tr>\n",
       "    <tr>\n",
       "      <th>1</th>\n",
       "      <td>outcome     0   1\n",
       "exposure         \n",
       "0         ...</td>\n",
       "      <td>0.092282</td>\n",
       "      <td>5.152672</td>\n",
       "      <td>0.030534</td>\n",
       "      <td>0.152672</td>\n",
       "      <td>2.000000</td>\n",
       "      <td>19.000000</td>\n",
       "      <td>BREAKFAST</td>\n",
       "      <td>fruit</td>\n",
       "      <td>True</td>\n",
       "    </tr>\n",
       "    <tr>\n",
       "      <th>2</th>\n",
       "      <td>outcome      0    1\n",
       "exposure           \n",
       "0     ...</td>\n",
       "      <td>0.181850</td>\n",
       "      <td>1.585405</td>\n",
       "      <td>0.149133</td>\n",
       "      <td>0.214410</td>\n",
       "      <td>1.457232</td>\n",
       "      <td>1.723013</td>\n",
       "      <td>BREAKFAST</td>\n",
       "      <td>pastry</td>\n",
       "      <td>True</td>\n",
       "    </tr>\n",
       "    <tr>\n",
       "      <th>3</th>\n",
       "      <td>outcome      0    1\n",
       "exposure           \n",
       "0     ...</td>\n",
       "      <td>0.265902</td>\n",
       "      <td>7.560026</td>\n",
       "      <td>0.242594</td>\n",
       "      <td>0.289070</td>\n",
       "      <td>6.075092</td>\n",
       "      <td>9.666923</td>\n",
       "      <td>LUNCH</td>\n",
       "      <td>condiment</td>\n",
       "      <td>True</td>\n",
       "    </tr>\n",
       "    <tr>\n",
       "      <th>4</th>\n",
       "      <td>outcome     0    1\n",
       "exposure          \n",
       "0       ...</td>\n",
       "      <td>0.152168</td>\n",
       "      <td>5.053765</td>\n",
       "      <td>0.120588</td>\n",
       "      <td>0.182353</td>\n",
       "      <td>3.575426</td>\n",
       "      <td>7.823529</td>\n",
       "      <td>LUNCH</td>\n",
       "      <td>dessert</td>\n",
       "      <td>True</td>\n",
       "    </tr>\n",
       "    <tr>\n",
       "      <th>5</th>\n",
       "      <td>outcome      0     1\n",
       "exposure            \n",
       "0   ...</td>\n",
       "      <td>0.153271</td>\n",
       "      <td>1.800558</td>\n",
       "      <td>0.138986</td>\n",
       "      <td>0.165930</td>\n",
       "      <td>1.705877</td>\n",
       "      <td>1.893148</td>\n",
       "      <td>LUNCH</td>\n",
       "      <td>fruit</td>\n",
       "      <td>True</td>\n",
       "    </tr>\n",
       "    <tr>\n",
       "      <th>6</th>\n",
       "      <td>outcome      0    1\n",
       "exposure           \n",
       "0     ...</td>\n",
       "      <td>0.154938</td>\n",
       "      <td>4.079201</td>\n",
       "      <td>0.135833</td>\n",
       "      <td>0.176004</td>\n",
       "      <td>3.317029</td>\n",
       "      <td>5.154809</td>\n",
       "      <td>LUNCH</td>\n",
       "      <td>pastry</td>\n",
       "      <td>True</td>\n",
       "    </tr>\n",
       "    <tr>\n",
       "      <th>7</th>\n",
       "      <td>outcome      0    1\n",
       "exposure           \n",
       "0     ...</td>\n",
       "      <td>0.171823</td>\n",
       "      <td>5.339385</td>\n",
       "      <td>0.148148</td>\n",
       "      <td>0.196759</td>\n",
       "      <td>4.116528</td>\n",
       "      <td>7.158114</td>\n",
       "      <td>LUNCH</td>\n",
       "      <td>salad</td>\n",
       "      <td>True</td>\n",
       "    </tr>\n",
       "    <tr>\n",
       "      <th>8</th>\n",
       "      <td>outcome      0    1\n",
       "exposure           \n",
       "0     ...</td>\n",
       "      <td>0.140256</td>\n",
       "      <td>2.919126</td>\n",
       "      <td>0.120932</td>\n",
       "      <td>0.158718</td>\n",
       "      <td>2.504935</td>\n",
       "      <td>3.503347</td>\n",
       "      <td>LUNCH</td>\n",
       "      <td>soft drink</td>\n",
       "      <td>True</td>\n",
       "    </tr>\n",
       "    <tr>\n",
       "      <th>9</th>\n",
       "      <td>outcome      0     1\n",
       "exposure            \n",
       "0   ...</td>\n",
       "      <td>0.209125</td>\n",
       "      <td>2.090889</td>\n",
       "      <td>0.191213</td>\n",
       "      <td>0.226689</td>\n",
       "      <td>1.961067</td>\n",
       "      <td>2.231142</td>\n",
       "      <td>LUNCH</td>\n",
       "      <td>soup</td>\n",
       "      <td>True</td>\n",
       "    </tr>\n",
       "    <tr>\n",
       "      <th>10</th>\n",
       "      <td>outcome     0   1\n",
       "exposure         \n",
       "0         ...</td>\n",
       "      <td>0.081307</td>\n",
       "      <td>2.174432</td>\n",
       "      <td>0.032258</td>\n",
       "      <td>0.132616</td>\n",
       "      <td>1.333333</td>\n",
       "      <td>3.727273</td>\n",
       "      <td>AFTERNOON SNACK</td>\n",
       "      <td>dessert</td>\n",
       "      <td>True</td>\n",
       "    </tr>\n",
       "    <tr>\n",
       "      <th>11</th>\n",
       "      <td>outcome    0   1\n",
       "exposure        \n",
       "0         86...</td>\n",
       "      <td>0.103204</td>\n",
       "      <td>2.582456</td>\n",
       "      <td>0.010526</td>\n",
       "      <td>0.189474</td>\n",
       "      <td>1.140476</td>\n",
       "      <td>8.500000</td>\n",
       "      <td>AFTERNOON SNACK</td>\n",
       "      <td>fruit</td>\n",
       "      <td>True</td>\n",
       "    </tr>\n",
       "    <tr>\n",
       "      <th>12</th>\n",
       "      <td>outcome     0    1\n",
       "exposure          \n",
       "0       ...</td>\n",
       "      <td>0.273516</td>\n",
       "      <td>2.463551</td>\n",
       "      <td>0.235480</td>\n",
       "      <td>0.315734</td>\n",
       "      <td>2.138448</td>\n",
       "      <td>2.881366</td>\n",
       "      <td>AFTERNOON SNACK</td>\n",
       "      <td>pastry</td>\n",
       "      <td>True</td>\n",
       "    </tr>\n",
       "  </tbody>\n",
       "</table>\n",
       "</div>"
      ],
      "text/plain": [
       "                                          contingency       ATE         RR  \\\n",
       "0   outcome     0   1\n",
       "exposure         \n",
       "0         ...  0.099638  12.458333   \n",
       "1   outcome     0   1\n",
       "exposure         \n",
       "0         ...  0.092282   5.152672   \n",
       "2   outcome      0    1\n",
       "exposure           \n",
       "0     ...  0.181850   1.585405   \n",
       "3   outcome      0    1\n",
       "exposure           \n",
       "0     ...  0.265902   7.560026   \n",
       "4   outcome     0    1\n",
       "exposure          \n",
       "0       ...  0.152168   5.053765   \n",
       "5   outcome      0     1\n",
       "exposure            \n",
       "0   ...  0.153271   1.800558   \n",
       "6   outcome      0    1\n",
       "exposure           \n",
       "0     ...  0.154938   4.079201   \n",
       "7   outcome      0    1\n",
       "exposure           \n",
       "0     ...  0.171823   5.339385   \n",
       "8   outcome      0    1\n",
       "exposure           \n",
       "0     ...  0.140256   2.919126   \n",
       "9   outcome      0     1\n",
       "exposure            \n",
       "0   ...  0.209125   2.090889   \n",
       "10  outcome     0   1\n",
       "exposure         \n",
       "0         ...  0.081307   2.174432   \n",
       "11  outcome    0   1\n",
       "exposure        \n",
       "0         86...  0.103204   2.582456   \n",
       "12  outcome     0    1\n",
       "exposure          \n",
       "0       ...  0.273516   2.463551   \n",
       "\n",
       "    lower_error  upper_error  lower_error_rr  upper_error_rr             meal  \\\n",
       "0      0.041667     0.158333        3.000000       19.150000        BREAKFAST   \n",
       "1      0.030534     0.152672        2.000000       19.000000        BREAKFAST   \n",
       "2      0.149133     0.214410        1.457232        1.723013        BREAKFAST   \n",
       "3      0.242594     0.289070        6.075092        9.666923            LUNCH   \n",
       "4      0.120588     0.182353        3.575426        7.823529            LUNCH   \n",
       "5      0.138986     0.165930        1.705877        1.893148            LUNCH   \n",
       "6      0.135833     0.176004        3.317029        5.154809            LUNCH   \n",
       "7      0.148148     0.196759        4.116528        7.158114            LUNCH   \n",
       "8      0.120932     0.158718        2.504935        3.503347            LUNCH   \n",
       "9      0.191213     0.226689        1.961067        2.231142            LUNCH   \n",
       "10     0.032258     0.132616        1.333333        3.727273  AFTERNOON SNACK   \n",
       "11     0.010526     0.189474        1.140476        8.500000  AFTERNOON SNACK   \n",
       "12     0.235480     0.315734        2.138448        2.881366  AFTERNOON SNACK   \n",
       "\n",
       "      addition  type  \n",
       "0      dessert  True  \n",
       "1        fruit  True  \n",
       "2       pastry  True  \n",
       "3    condiment  True  \n",
       "4      dessert  True  \n",
       "5        fruit  True  \n",
       "6       pastry  True  \n",
       "7        salad  True  \n",
       "8   soft drink  True  \n",
       "9         soup  True  \n",
       "10     dessert  True  \n",
       "11       fruit  True  \n",
       "12      pastry  True  "
      ]
     },
     "execution_count": 154,
     "metadata": {},
     "output_type": "execute_result"
    }
   ],
   "source": [
    "df_plot.loc[df_plot['type']]"
   ]
  },
  {
   "cell_type": "code",
   "execution_count": 155,
   "metadata": {},
   "outputs": [
    {
     "data": {
      "text/plain": [
       "0.08130686517783292"
      ]
     },
     "execution_count": 155,
     "metadata": {},
     "output_type": "execute_result"
    }
   ],
   "source": [
    "tables_1[-3].values[1,1]/(tables_1[-3].values[1,0] + tables_1[-3].values[1,1]) - \\\n",
    "tables_1[-3].values[0,1]/(tables_1[-3].values[0,0] + tables_1[-3].values[0,1])"
   ]
  },
  {
   "cell_type": "code",
   "execution_count": 156,
   "metadata": {},
   "outputs": [
    {
     "data": {
      "text/plain": [
       "0.07442687860442429"
      ]
     },
     "execution_count": 156,
     "metadata": {},
     "output_type": "execute_result"
    }
   ],
   "source": [
    "tables_2[-3].values[1,1]/(tables_2[-3].values[1,0] + tables_2[-3].values[1,1]) - \\\n",
    "tables_2[-3].values[0,1]/(tables_2[-3].values[0,0] + tables_2[-3].values[0,1])"
   ]
  },
  {
   "cell_type": "code",
   "execution_count": 157,
   "metadata": {},
   "outputs": [
    {
     "data": {
      "text/plain": [
       "array([[361,  22],\n",
       "       [316,  48]])"
      ]
     },
     "execution_count": 157,
     "metadata": {},
     "output_type": "execute_result"
    }
   ],
   "source": [
    "tables_2[-3].values"
   ]
  },
  {
   "cell_type": "code",
   "execution_count": 158,
   "metadata": {},
   "outputs": [
    {
     "data": {
      "text/plain": [
       "array([[242,  18],\n",
       "       [237,  42]])"
      ]
     },
     "execution_count": 158,
     "metadata": {},
     "output_type": "execute_result"
    }
   ],
   "source": [
    "tables_1[-3].values"
   ]
  },
  {
   "cell_type": "code",
   "execution_count": 159,
   "metadata": {},
   "outputs": [
    {
     "data": {
      "text/plain": [
       "0.18688524590163935"
      ]
     },
     "execution_count": 159,
     "metadata": {},
     "output_type": "execute_result"
    }
   ],
   "source": [
    "tables_1[-1].values[0,1] / (tables_1[-1].values[0,0] + tables_1[-1].values[0,1])"
   ]
  },
  {
   "cell_type": "markdown",
   "metadata": {},
   "source": [
    "## Vegetarian meal vs regular meal"
   ]
  },
  {
   "cell_type": "code",
   "execution_count": 160,
   "metadata": {},
   "outputs": [
    {
     "name": "stdout",
     "output_type": "stream",
     "text": [
      "\n",
      "\n",
      "LUNCH\n",
      "veg_meal\n"
     ]
    },
    {
     "data": {
      "application/vnd.jupyter.widget-view+json": {
       "model_id": "d683b24a9b2c456d88793997290ce670",
       "version_major": 2,
       "version_minor": 0
      },
      "text/plain": [
       "HBox(children=(FloatProgress(value=0.0, max=24381.0), HTML(value='')))"
      ]
     },
     "metadata": {},
     "output_type": "display_data"
    },
    {
     "name": "stdout",
     "output_type": "stream",
     "text": [
      "\n",
      "17208\n"
     ]
    }
   ],
   "source": [
    "#for different additions\n",
    "\n",
    "list_viz = []\n",
    "\n",
    "for meal in ['LUNCH']:\n",
    "    for addition in ['veg_meal']:\n",
    "\n",
    "        # covariates to match on:\n",
    "        covariates_categorical = ['partner_ID', 'shop', 'MEAL']\n",
    "        covariates_continuous = 'popularity_'+addition\n",
    "\n",
    "        #additional covariates: N, 'focal_ID' \n",
    "        \n",
    "        print('\\n')\n",
    "        print(meal)\n",
    "        print(addition)\n",
    "\n",
    "        outcome = 'focal_'+addition\n",
    "        exposure = 'partner_'+addition\n",
    "\n",
    "        \n",
    "\n",
    "        treated = df_choices.loc[(df_choices['MEAL']==meal) & \\\n",
    "                                     (df_choices['partner_meal']) &\\\n",
    "                                     (df_choices['focal_meal'])].reset_index()\n",
    "\n",
    "        treated['focal_'+addition] = treated['focal_'+addition].astype(int)\n",
    "        treated['partner_'+addition] = treated['partner_'+addition].astype(int)\n",
    "\n",
    "        matching = set()\n",
    "\n",
    "        #control for categorical covariates\n",
    "        for partner,gr in tqdm(treated.groupby(covariates_categorical)):\n",
    "            treatment_df = gr[gr[exposure] == 1]\n",
    "            control_df = gr[gr[exposure] == 0]\n",
    "\n",
    "\n",
    "            if len(treatment_df)==0 or len(control_df)==0:\n",
    "                continue\n",
    "            else:\n",
    "                G = nx.Graph()\n",
    "                for treatment_id, treated_row in treatment_df.iterrows():\n",
    "                    for control_id, control_row in control_df.iterrows():\n",
    "                        # add an edge only if continuous covariates match\n",
    "                        if np.abs(control_row['popularity_'+addition] - treated_row['popularity_'+addition]) < 0.1:\n",
    "                            # adds an edge\n",
    "                            G.add_weighted_edges_from([(control_id, treatment_id, 1)])\n",
    "\n",
    "                #find optimal matching of situations\n",
    "                matching.update(nx.max_weight_matching(G))\n",
    "\n",
    "        matched = [i[0] for i in list(matching)] + [i[1] for i in list(matching)]\n",
    "        balanced_df_all = treated.loc[treated.index.isin(matched)]\n",
    "\n",
    "\n",
    "        pos = balanced_df_all.loc[balanced_df_all[exposure] == 1] #treated\n",
    "        neg = balanced_df_all.loc[balanced_df_all[exposure] == 0] #control\n",
    "\n",
    "        print(len(pos))\n",
    "        pos['addition'] = addition\n",
    "        neg['addition'] = addition\n",
    "\n",
    "        pos[['MEAL','addition',exposure, outcome, 'delay', 'shop', 'timestamp',\n",
    "           'focal_p_student', 'partner_p_student', 'focal_gender',\n",
    "           'partner_gender', 'focal_age', 'partner_age', 'popularity_'+addition]].rename(columns = {exposure: 'exposure', outcome: 'outcome',\n",
    "                                                                                                   'popularity_'+addition: 'popularity'}).to_pickle('tmp/veg_pos_' + addition +'_' +meal+ '.pkl')\n",
    "\n",
    "        neg[['MEAL','addition',exposure, outcome, 'delay', 'shop', 'timestamp',\n",
    "           'focal_p_student', 'partner_p_student', 'focal_gender',\n",
    "           'partner_gender', 'focal_age', 'partner_age', 'popularity_'+addition]].rename(columns = {exposure: 'exposure', outcome: 'outcome',\n",
    "                                                                                                   'popularity_'+addition: 'popularity'},).to_pickle('tmp/veg_neg_' + addition +'_' +meal+'.pkl')\n",
    "\n"
   ]
  },
  {
   "cell_type": "code",
   "execution_count": 161,
   "metadata": {},
   "outputs": [],
   "source": [
    "cnt = 0\n",
    "\n",
    "check = 0\n",
    "\n",
    "for meal in ['LUNCH']:\n",
    "    for addition in ['veg_meal']:\n",
    "        pos = pd.read_pickle('tmp/veg_pos_' + addition +'_' +meal+'.pkl')\n",
    "        if cnt==0:\n",
    "            df = pos.copy(deep = True)\n",
    "        else:\n",
    "            df = pd.concat([df,pos])\n",
    "        cnt+=1\n",
    "        neg = pd.read_pickle('tmp/veg_neg_' + addition +'_' +meal+'.pkl')\n",
    "        df = pd.concat([df,neg])\n",
    "\n",
    "        check+=len(pos) + len(neg)"
   ]
  },
  {
   "cell_type": "code",
   "execution_count": 162,
   "metadata": {},
   "outputs": [],
   "source": [
    "df.to_pickle('veg_meal_matched_situations')"
   ]
  },
  {
   "cell_type": "code",
   "execution_count": 163,
   "metadata": {},
   "outputs": [],
   "source": [
    "df = pd.read_pickle('veg_meal_matched_situations')"
   ]
  },
  {
   "cell_type": "code",
   "execution_count": 164,
   "metadata": {},
   "outputs": [],
   "source": [
    "list_viz = []"
   ]
  },
  {
   "cell_type": "code",
   "execution_count": 165,
   "metadata": {},
   "outputs": [
    {
     "name": "stdout",
     "output_type": "stream",
     "text": [
      "ATE = 32.28 %\n",
      "ATE NOT = -32.28 %\n",
      "lower_error =  31.32 %\n",
      "upper_error =  33.14 %\n"
     ]
    }
   ],
   "source": [
    "treated_p = df.loc[df['exposure']==1]['outcome'].value_counts(normalize = True)[1]\n",
    "control_p = df.loc[df['exposure']==0]['outcome'].value_counts(normalize = True)[1]\n",
    "\n",
    "print('ATE =', round(100*(treated_p - control_p),2),'%')\n",
    "\n",
    "\n",
    "treated_p_not = df.loc[df['exposure']==1]['outcome'].value_counts(normalize = True)[0]\n",
    "control_p_not = df.loc[df['exposure']==0]['outcome'].value_counts(normalize = True)[0]\n",
    "\n",
    "print('ATE NOT =', round(100*(treated_p_not - control_p_not),2),'%')\n",
    "\n",
    "\n",
    "\n",
    "ys = []\n",
    "\n",
    "for iteration in range(1000):\n",
    "    pos_tmp = df.loc[df['exposure']==1].sample(round(len(df)/2), replace = True)['outcome'].value_counts(normalize = True)[1]\n",
    "    neg_tmp = df.loc[df['exposure']==0].sample(round(len(df)/2), replace = True)['outcome'].value_counts(normalize = True)[1]   \n",
    "\n",
    "    y_tmp = pos_tmp - neg_tmp\n",
    "\n",
    "    ys.append(y_tmp)\n",
    "    \n",
    "    \n",
    "\n",
    "print('lower_error = ', round(100*np.percentile(np.array(ys), 2.5),2),'%')\n",
    "print('upper_error = ', round(100*np.percentile(np.array(ys),97.5),2),'%')\n",
    "\n",
    "\n",
    "entry = {}\n",
    "\n",
    "\n",
    "entry['ATE'] = treated_p - control_p\n",
    "\n",
    "\n",
    "entry['lower_error'] = (np.percentile(np.array(ys), 2.5))\n",
    "entry['upper_error'] = (np.percentile(np.array(ys),97.5))\n",
    "\n",
    "entry['type'] = 'veg_meal'\n",
    "list_viz.append(entry)\n"
   ]
  },
  {
   "cell_type": "markdown",
   "metadata": {},
   "source": [
    "## Coffee vs tea"
   ]
  },
  {
   "cell_type": "code",
   "execution_count": 166,
   "metadata": {},
   "outputs": [],
   "source": [
    "if RUN_MODE_MATCHED:\n",
    "    pass\n",
    "else:\n",
    "    #for different additions\n",
    "\n",
    "    list_viz = []\n",
    "\n",
    "    for meal in ['BREAKFAST', 'AFTERNOON SNACK']:\n",
    "        for addition in ['coffee']:\n",
    "\n",
    "            # covariates to match on:\n",
    "            covariates_categorical = ['partner_ID', 'shop', 'MEAL']\n",
    "            covariates_continuous = 'popularity_'+addition\n",
    "\n",
    "            #additional covariates: N, 'focal_ID' \n",
    "\n",
    "            print('\\n')\n",
    "            print(meal)\n",
    "            print(addition)\n",
    "\n",
    "            outcome = 'focal_'+addition\n",
    "            exposure = 'partner_'+addition\n",
    "\n",
    "\n",
    "\n",
    "            treated = df_choices.loc[((df_choices['MEAL']==meal)) & \n",
    "                                        (df_choices['partner_coffee'] | df_choices['partner_tea']) & \n",
    "                                        (df_choices['focal_coffee'] | df_choices['focal_tea'] )].reset_index()\n",
    "\n",
    "            treated['focal_'+addition] = treated['focal_'+addition].astype(int)\n",
    "            treated['partner_'+addition] = treated['partner_'+addition].astype(int)\n",
    "\n",
    "            matching = set()\n",
    "\n",
    "            #control for categorical covariates\n",
    "            for partner,gr in tqdm(treated.groupby(covariates_categorical)):\n",
    "                treatment_df = gr[gr[exposure] == 1]\n",
    "                control_df = gr[gr[exposure] == 0]\n",
    "\n",
    "\n",
    "                if len(treatment_df)==0 or len(control_df)==0:\n",
    "                    continue\n",
    "                else:\n",
    "                    G = nx.Graph()\n",
    "                    for treatment_id, treated_row in treatment_df.iterrows():\n",
    "                        for control_id, control_row in control_df.iterrows():\n",
    "                            # add an edge only if continuous covariates match\n",
    "                            if np.abs(control_row['popularity_'+addition] - treated_row['popularity_'+addition]) < 0.1:\n",
    "                                # adds an edge\n",
    "                                G.add_weighted_edges_from([(control_id, treatment_id, 1)])\n",
    "\n",
    "                    #find optimal matching of situations\n",
    "                    matching.update(nx.max_weight_matching(G))\n",
    "\n",
    "            matched = [i[0] for i in list(matching)] + [i[1] for i in list(matching)]\n",
    "            balanced_df_all = treated.loc[treated.index.isin(matched)]\n",
    "\n",
    "\n",
    "            pos = balanced_df_all.loc[balanced_df_all[exposure] == 1] #treated\n",
    "            neg = balanced_df_all.loc[balanced_df_all[exposure] == 0] #control\n",
    "\n",
    "            print(len(pos))\n",
    "            pos['addition'] = addition\n",
    "            neg['addition'] = addition\n",
    "\n",
    "            pos[['MEAL','addition',exposure, outcome, 'delay', 'shop', 'timestamp',\n",
    "               'focal_p_student', 'partner_p_student', 'focal_gender',\n",
    "               'partner_gender', 'focal_age', 'partner_age', 'popularity_'+addition]].rename(columns = {exposure: 'exposure', outcome: 'outcome',\n",
    "                                                                                                       'popularity_'+addition: 'popularity'}).to_pickle('tmp/coffee_pos_' + addition +'_' +meal+ '.pkl')\n",
    "\n",
    "            neg[['MEAL','addition',exposure, outcome, 'delay', 'shop', 'timestamp',\n",
    "               'focal_p_student', 'partner_p_student', 'focal_gender',\n",
    "               'partner_gender', 'focal_age', 'partner_age', 'popularity_'+addition]].rename(columns = {exposure: 'exposure', outcome: 'outcome',\n",
    "                                                                                                       'popularity_'+addition: 'popularity'},).to_pickle('tmp/coffee_neg_' + addition +'_' +meal+'.pkl')\n",
    "\n",
    "    cnt = 0\n",
    "\n",
    "    check = 0\n",
    "\n",
    "    for meal in ['BREAKFAST', 'AFTERNOON SNACK']:\n",
    "        for addition in ['coffee']:\n",
    "            pos = pd.read_pickle('tmp/coffee_pos_' + addition +'_' +meal+'.pkl')\n",
    "            if cnt==0:\n",
    "                df = pos.copy(deep = True)\n",
    "            else:\n",
    "                df = pd.concat([df,pos])\n",
    "            cnt+=1\n",
    "            neg = pd.read_pickle('tmp/coffee_neg_' + addition +'_' +meal+'.pkl')\n",
    "            df = pd.concat([df,neg])\n",
    "\n",
    "            check+=len(pos) + len(neg)\n",
    "            \n",
    "    df.to_pickle('coffee_meal_matched_situations')"
   ]
  },
  {
   "cell_type": "code",
   "execution_count": 167,
   "metadata": {},
   "outputs": [],
   "source": [
    "df = pd.read_pickle('coffee_meal_matched_situations')"
   ]
  },
  {
   "cell_type": "code",
   "execution_count": 168,
   "metadata": {},
   "outputs": [
    {
     "name": "stdout",
     "output_type": "stream",
     "text": [
      "ATE = 11.71 %\n",
      "ATE NOT = -11.71 %\n",
      "lower_error =  9.74 %\n",
      "upper_error =  13.7 %\n"
     ]
    }
   ],
   "source": [
    "treated_p = df.loc[df['exposure']==1]['outcome'].value_counts(normalize = True)[1]\n",
    "control_p = df.loc[df['exposure']==0]['outcome'].value_counts(normalize = True)[1]\n",
    "\n",
    "print('ATE =', round(100*(treated_p - control_p),2),'%')\n",
    "\n",
    "\n",
    "treated_p_not = df.loc[df['exposure']==1]['outcome'].value_counts(normalize = True)[0]\n",
    "control_p_not = df.loc[df['exposure']==0]['outcome'].value_counts(normalize = True)[0]\n",
    "\n",
    "print('ATE NOT =', round(100*(treated_p_not - control_p_not),2),'%')\n",
    "\n",
    "\n",
    "\n",
    "ys = []\n",
    "\n",
    "for iteration in range(1000):\n",
    "    pos_tmp = df.loc[df['exposure']==1].sample(round(len(df)/2), replace = True)['outcome'].value_counts(normalize = True)[1]\n",
    "    neg_tmp = df.loc[df['exposure']==0].sample(round(len(df)/2), replace = True)['outcome'].value_counts(normalize = True)[1]   \n",
    "\n",
    "    y_tmp = pos_tmp - neg_tmp\n",
    "\n",
    "    ys.append(y_tmp)\n",
    "    \n",
    "    \n",
    "\n",
    "print('lower_error = ', round(100*np.percentile(np.array(ys), 2.5),2),'%')\n",
    "print('upper_error = ', round(100*np.percentile(np.array(ys),97.5),2),'%')\n",
    "\n",
    "\n",
    "\n",
    "entry = {}\n",
    "\n",
    "\n",
    "entry['ATE'] = treated_p - control_p\n",
    "\n",
    "\n",
    "entry['lower_error'] = (np.percentile(np.array(ys), 2.5))\n",
    "entry['upper_error'] = (np.percentile(np.array(ys),97.5))\n",
    "\n",
    "entry['type'] = 'coffee'\n",
    "list_viz.append(entry)"
   ]
  },
  {
   "cell_type": "code",
   "execution_count": 169,
   "metadata": {},
   "outputs": [],
   "source": [
    "df_plot = pd.DataFrame(list_viz)"
   ]
  },
  {
   "cell_type": "code",
   "execution_count": 170,
   "metadata": {},
   "outputs": [
    {
     "data": {
      "text/html": [
       "<div>\n",
       "<style scoped>\n",
       "    .dataframe tbody tr th:only-of-type {\n",
       "        vertical-align: middle;\n",
       "    }\n",
       "\n",
       "    .dataframe tbody tr th {\n",
       "        vertical-align: top;\n",
       "    }\n",
       "\n",
       "    .dataframe thead th {\n",
       "        text-align: right;\n",
       "    }\n",
       "</style>\n",
       "<table border=\"1\" class=\"dataframe\">\n",
       "  <thead>\n",
       "    <tr style=\"text-align: right;\">\n",
       "      <th></th>\n",
       "      <th>ATE</th>\n",
       "      <th>lower_error</th>\n",
       "      <th>upper_error</th>\n",
       "      <th>type</th>\n",
       "    </tr>\n",
       "  </thead>\n",
       "  <tbody>\n",
       "    <tr>\n",
       "      <th>0</th>\n",
       "      <td>0.322757</td>\n",
       "      <td>0.313226</td>\n",
       "      <td>0.331423</td>\n",
       "      <td>veg_meal</td>\n",
       "    </tr>\n",
       "    <tr>\n",
       "      <th>1</th>\n",
       "      <td>0.117060</td>\n",
       "      <td>0.097365</td>\n",
       "      <td>0.137039</td>\n",
       "      <td>coffee</td>\n",
       "    </tr>\n",
       "  </tbody>\n",
       "</table>\n",
       "</div>"
      ],
      "text/plain": [
       "        ATE  lower_error  upper_error      type\n",
       "0  0.322757     0.313226     0.331423  veg_meal\n",
       "1  0.117060     0.097365     0.137039    coffee"
      ]
     },
     "execution_count": 170,
     "metadata": {},
     "output_type": "execute_result"
    }
   ],
   "source": [
    "df_plot"
   ]
  },
  {
   "cell_type": "code",
   "execution_count": 171,
   "metadata": {},
   "outputs": [],
   "source": [
    "randomized = pd.read_pickle('anchors_randomized')"
   ]
  },
  {
   "cell_type": "code",
   "execution_count": 172,
   "metadata": {},
   "outputs": [
    {
     "data": {
      "text/html": [
       "<div>\n",
       "<style scoped>\n",
       "    .dataframe tbody tr th:only-of-type {\n",
       "        vertical-align: middle;\n",
       "    }\n",
       "\n",
       "    .dataframe tbody tr th {\n",
       "        vertical-align: top;\n",
       "    }\n",
       "\n",
       "    .dataframe thead th {\n",
       "        text-align: right;\n",
       "    }\n",
       "</style>\n",
       "<table border=\"1\" class=\"dataframe\">\n",
       "  <thead>\n",
       "    <tr style=\"text-align: right;\">\n",
       "      <th></th>\n",
       "      <th>ATE</th>\n",
       "      <th>lower_error</th>\n",
       "      <th>upper_error</th>\n",
       "      <th>type</th>\n",
       "    </tr>\n",
       "  </thead>\n",
       "  <tbody>\n",
       "    <tr>\n",
       "      <th>0</th>\n",
       "      <td>0.041389</td>\n",
       "      <td>0.033074</td>\n",
       "      <td>0.049821</td>\n",
       "      <td>veg_meal</td>\n",
       "    </tr>\n",
       "    <tr>\n",
       "      <th>1</th>\n",
       "      <td>-0.001017</td>\n",
       "      <td>-0.017046</td>\n",
       "      <td>0.017040</td>\n",
       "      <td>coffee</td>\n",
       "    </tr>\n",
       "  </tbody>\n",
       "</table>\n",
       "</div>"
      ],
      "text/plain": [
       "        ATE  lower_error  upper_error      type\n",
       "0  0.041389     0.033074     0.049821  veg_meal\n",
       "1 -0.001017    -0.017046     0.017040    coffee"
      ]
     },
     "execution_count": 172,
     "metadata": {},
     "output_type": "execute_result"
    }
   ],
   "source": [
    "randomized"
   ]
  },
  {
   "cell_type": "code",
   "execution_count": 173,
   "metadata": {},
   "outputs": [
    {
     "data": {
      "image/png": "[encoded data removed]",
      "text/plain": [
       "<Figure size 288x144 with 1 Axes>"
      ]
     },
     "metadata": {
      "needs_background": "light"
     },
     "output_type": "display_data"
    }
   ],
   "source": [
    "fix, axes = plt.subplots(1,1, figsize = (4,2))\n",
    "\n",
    "types = []\n",
    "\n",
    "c = 0\n",
    "for cnt,row in df_plot.sort_values(by = 'type', ascending = False).iterrows():\n",
    "    plt.hlines(2-cnt, -1,4, color = 'gray', linestyle = '--')\n",
    "    plt.errorbar([row['ATE']],[2-c], xerr = (np.array([row['ATE'] - row['lower_error']]), np.array([row['upper_error']- row['ATE']])),\n",
    "                 fmt = '|', markersize= 8,color = 'tab:blue', linewidth = 3)\n",
    "    \n",
    "    baseline = randomized.loc[(randomized['type']==row['type'])].iloc[0]\n",
    "    \n",
    "    if c==0:\n",
    "        plt.errorbar([baseline['ATE']],[2-c-.1], xerr = (np.array([baseline['ATE'] - baseline['lower_error']]), \n",
    "                                                  np.array([baseline['upper_error']- baseline['ATE']])),\n",
    "                 fmt = '|', markersize= 8,color = 'black', linewidth = 3, label = 'Randomized\\n queues')\n",
    "    else:\n",
    "        plt.errorbar([baseline['ATE']],[2-c-.1], xerr = (np.array([baseline['ATE'] - baseline['lower_error']]), \n",
    "                                                  np.array([baseline['upper_error']- baseline['ATE']])),\n",
    "                 fmt = '|', markersize= 8,color = 'black', linewidth = 3)\n",
    "        \n",
    "        \n",
    "    types.append(row['type'])\n",
    "    c+=1\n",
    "plt.yticks(2-np.array(range(len(additions['LUNCH']))), [i.replace('_',' ').capitalize() for i in types]);\n",
    "\n",
    "plt.xlim([-0.1,0.4])\n",
    "\n",
    "plt.vlines(0,0.5,2.5, linestyle = '--')\n",
    "\n",
    "plt.xlabel('RD', fontsize =12)\n",
    "plt.ylabel('Anchor type')\n",
    "plt.legend()\n",
    "\n",
    "plt.savefig('figures/fig20.pdf', bbox_inches='tight')"
   ]
  },
  {
   "cell_type": "code",
   "execution_count": null,
   "metadata": {},
   "outputs": [],
   "source": []
  }
 ],
 "metadata": {
  "kernelspec": {
   "display_name": "Python 3",
   "language": "python",
   "name": "python3"
  },
  "language_info": {
   "codemirror_mode": {
    "name": "ipython",
    "version": 3
   },
   "file_extension": ".py",
   "mimetype": "text/x-python",
   "name": "python",
   "nbconvert_exporter": "python",
   "pygments_lexer": "ipython3",
   "version": "3.7.7"
  }
 },
 "nbformat": 4,
 "nbformat_minor": 4
}
